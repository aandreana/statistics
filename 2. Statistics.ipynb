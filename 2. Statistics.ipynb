{
 "cells": [
  {
   "cell_type": "code",
   "execution_count": 480,
   "metadata": {},
   "outputs": [],
   "source": [
    "import numpy as np\n",
    "import pandas as pd\n",
    "import math\n",
    "import matplotlib.pyplot as plt\n",
    "import seaborn as sns\n",
    "import plotly.express as px\n",
    "\n",
    "from scipy.stats import binom, poisson, norm, ttest_ind, t, f, f_oneway, chisquare, chi2\n",
    "\n",
    "sns.set_style(\"whitegrid\")"
   ]
  },
  {
   "cell_type": "markdown",
   "metadata": {},
   "source": [
    "# Statistics\n",
    "### Central Limit Theorem\n",
    "The CLT states that the mean values from a group of samples will be normally distributed about the population mean, even if the population itself is not normally distributed.\n",
    "- That is 95% of all sample means should fall within 2$\\sigma$ of th population mean\n",
    "\n",
    "### Standard Error\n",
    "Let's say we have a population of voters it is unrealistic to poll the entire population, so we poll a sample.  We can calculate a statistic from that sample that lets us estimate a parameter of the population.\n",
    "\n",
    "__example__\n",
    "Population of 10,000\n",
    "\n",
    "$N$ = # of population members <br/>\n",
    "$P$ = population parameter <br/>\n",
    "$\\sigma$ = pop. standard deviation<br/>\n",
    "\n",
    "$n$ = # sample members<br/>\n",
    "$\\hat{p}$ = sample statistic<br/>\n",
    "$SE_{\\hat{p}}$ = standard error of the sample\n",
    "\n",
    "Where the population standard deviation describes how wide individual values stray from the population mean, the Standard Error of the Mean describes how far a sample mean may stray from the population mean.\n",
    "\n",
    "If the population standard deviation $\\sigma$ is known, then the sample standard error of the mean can be calculated as:\n",
    "\n",
    "$$SE_{\\bar{x}} = \\frac{\\sigma}{\\sqrt{n}}$$\n",
    "\n",
    "__Exercise__\n",
    "\n",
    "- An IQ test is designed to have a mean score of 100 with a standard deviation of 15 points\n",
    "- If a sample of 10 scores has a mean of 104, can we assume they come from the general population.\n",
    "\n",
    "- Sample of 10 IQ Test Scores\n",
    "$$n = 10, \\bar{x}=104, \\sigma=15$$\n",
    "\n",
    "$$SE_\\bar{x} = \\frac{\\sigma}{\\sqrt{n}} = \\frac{15}{10} = 4.743$$\n",
    "\n",
    "- 68% of 10-item sample means are expected to fall between 95.257 and 104.743 (+- 4.743)\n",
    "\n",
    "We can say with a 95% confidence level that the population parameter lies within a __confidence interval__ of plus or minus __2__ standard errors of the sample statistic"
   ]
  },
  {
   "cell_type": "markdown",
   "metadata": {},
   "source": [
    "### Confidence Intervals"
   ]
  },
  {
   "cell_type": "code",
   "execution_count": 35,
   "metadata": {
    "code_folding": [
     0
    ]
   },
   "outputs": [
    {
     "data": {
      "image/png": "[encoded data removed]",
      "text/plain": [
       "<Figure size 432x288 with 1 Axes>"
      ]
     },
     "metadata": {
      "needs_background": "light"
     },
     "output_type": "display_data"
    }
   ],
   "source": [
    "# Confidence Intervals\n",
    "fig, ax = plt.subplots(figsize=(6,4))\n",
    "\n",
    "mu = 0\n",
    "sigma = 1\n",
    "\n",
    "x = np.linspace(-5, 5, 1000)\n",
    "\n",
    "y = norm.pdf(x, mu, sigma)\n",
    "\n",
    "ax.plot(x, y)\n",
    "ax.fill_between(x,y, alpha=.3)\n",
    "\n",
    "ax.vlines(mu - (1*sigma), 0,.4, colors='red')\n",
    "ax.vlines(mu + (1*sigma), 0,.4, colors='red')\n",
    "\n",
    "ax.vlines(mu - (2*sigma), 0,.4, colors='blue')\n",
    "ax.vlines(mu + (2*sigma), 0,.4, colors='blue')\n",
    "\n",
    "plt.show()"
   ]
  },
  {
   "cell_type": "markdown",
   "metadata": {},
   "source": [
    "## Hypothesis Testing\n",
    "- Hypothesis testing is the application of statistical methods to real-world questions. \n",
    "- We start with an assumption, called the null hypothesis\n",
    "- We run an experiment to test this null hypothesis\n",
    "- Based on the results of the experiement we either reject or fail to reject the null hypothesis\n",
    "- If the null hypothesis is rejected, then we say the data supports another, mutually exclusive alternate hypothesis\n",
    "- We never prove a hypothesis!\n",
    "\n",
    "#### Framing the Hypothesis\n",
    "- At the start of the experiment the null hypothesis is assumed to be true.\n",
    "- If the data fails to support the null hypothesis, only then can we look to an alternative hypothesis\n",
    "If testing something assumed to be true, the null hypothesis can reflect the assumption:\n",
    "\n",
    "_Claim:  \"Our product has an average shipping weight of 3.5kg\"_\n",
    "\n",
    "Null hypothesis: average weight = 3.5kg\n",
    "Alternative Hypothesis is average weight is not 3.5kg\n",
    "\n",
    "If testing a claim we want to be true, but can't assume, we test it's opposite.\n",
    "\n",
    "_Claim:  \"This prep course improves test scores\"_\n",
    "\n",
    "Null Hypothesis: old scores $\\ge$ new scores\n",
    "\n",
    "Alternate Hypothesis: old scores $\\le$ new scores\n",
    "\n",
    "average shipping weight = 3.5kg $H_0: \\mu = 3.5$\n",
    "\n",
    "average shipping weight not equal 3.5 $H_1: \\mu \\ne 3.5$\n",
    "\n"
   ]
  },
  {
   "cell_type": "markdown",
   "metadata": {},
   "source": [
    "### Testing\n",
    "Assuming the null hypothesis is valid, if the probability of observing these results in very small then we reject the null hypothesis.  Here 0.05 is our level of significance.\n",
    "\n",
    "$$\\alpha = 0.05$$\n",
    "\n",
    "- The level of significance $\\alpha$ is the area inside the tail(s) of our null hypothesis.\n",
    "- If $\\alpha = 0.05$ and the alterntive hypothesis is less than the null, then the left-tail of our probability curve has an area of 0.05.\n",
    "- if $\\alpha=0.05$ and the alterntive hypothesis is more than the null, then the right-tail of our probability curve has an area of 0.05\n",
    "- if $\\alpha=0.05$ and the alterntive hypothesis is not equal to the null, then the two-tails of our probability curve share an area of 0.05\n",
    "\n",
    "- These areas establish our critical values or Z-scores.\n",
    "\n",
    "### Test of Mean vs. Proportion\n",
    "Two main types of tests.\n",
    "\n",
    "__Mean__: When we look to find an average or specific value in a population we are dealing with means.<br/>\n",
    "__Proportion__: Whenever we say something like \"35%\" or \"most\" we are dealing with proportions.\n",
    "\n",
    "When working with means:\n",
    "\n",
    "$$Z = \\frac{\\bar{x}-\\mu}{\\sigma/\\sqrt{n}}$$\n",
    "\n",
    "assumes we know the population standard deviation - (use T-test when we don't know)\n",
    "\n",
    "When working with __proportions__:\n",
    "\n",
    "$$Z = \\frac{\\hat{p}-p}{\\sqrt{\\frac{p*q}{n}}} = \\frac{\\hat{p}-p}{\\sqrt{\\frac{p*(1-p)}{n}}}$$\n",
    "\n",
    "In a traditional test:\n",
    "- take the level of significance $\\alpha$\n",
    "- use it to determine the critical value\n",
    "- compare the test statistic to the critical value\n",
    "\n",
    "In a P-value test:\n",
    "- take the test statistic\n",
    "- use it to determine the P-value\n",
    "- compare the P-value to the level of significance $\\alpha$\n",
    "\n",
    "\"If the P-value is low the null must go\"\n",
    "\n",
    "reject $H_0$\n",
    "\n",
    "\"If the P-value is high the null must fly\"\n",
    "\n",
    "fail to reject the $H_0$"
   ]
  },
  {
   "cell_type": "markdown",
   "metadata": {},
   "source": [
    "### Hypothesis Test Examples\n",
    "#### Example Excercise #1 - Mean\n",
    "\n",
    "- A company is looking to improve their website performance\n",
    "- Currently pages have a mean load time of 3.125 seconds, with a standard deviation of 0.700 seconds.\n",
    "\n",
    "- They hire a consulting firm to improve load times\n",
    "- Management wants a 99% confidence level\n",
    "- A sample run of 40 of the new pages has a mean load time of 2.875 seconds\n",
    "\n",
    "\n",
    "$$\\mu = 3.5$$\n",
    "$$\\sigma = 0.700$$\n",
    "$$\\alpha = 0.01$$\n",
    "$$n=40$$\n",
    "$$\\bar{x} = 2.875$$\n",
    "\n",
    "- Are these results statistically faster than before?\n",
    "\n",
    "__Solution: Mean__\n",
    "1. State the null hypothesis: $H_0: \\mu \\ge 3.125$\n",
    "2. State the alternative hypothesis: $H_1: \\mu \\lt 3.125$\n",
    "3. Set a level of significance: $\\alpha = 0.01$\n",
    "4. Determine the test type: left-tail or less than\n",
    "\n",
    "_Traditional Method_\n",
    "\n",
    "5. Test Statistic:\n",
    "$$Z=\\frac{\\bar{x}-\\mu}{\\sigma/\\sqrt{n}}=\\frac{2.875-3.125}{0.7\\sqrt{40}} = -2.259$$\n",
    "\n",
    "6. Critical Value<br/>\n",
    "z-table lookup on 0.01 $z=-2.325$\n",
    "\n",
    "7. Fail to reject the null hypothesis.<br/>\n",
    "Since -2.259 > -2.325, the test statistic falls outside the rejection region\n",
    "\n",
    "So we can't say that the new web pages are statistically faster\n",
    "\n",
    "```python\n",
    "stats.norm.ppf(0.01)\n",
    "-2.32634\n",
    "```"
   ]
  },
  {
   "cell_type": "markdown",
   "metadata": {},
   "source": [
    "_P-Value Method_\n",
    "\n",
    "5. Test Statistic:\n",
    "$$Z=\\frac{\\bar{x}-\\mu}{\\sigma/\\sqrt{n}}=\\frac{2.875-3.125}{0.7\\sqrt{40}} = -2.259$$\n",
    "\n",
    "6. Critical Value<br/>\n",
    "z-table lookup on -2.26 $P=0.0119$\n",
    "\n",
    "7. Fail to reject the null hypothesis.<br/>\n",
    "Since 0.0119 > 0.01, the test statistic falls outside the rejection region\n",
    "\n",
    "So we can't say that the new web pages are statistically faster\n",
    "\n",
    "__Python__\n",
    "```python\n",
    "x_bar = 2.875\n",
    "mu = 3.125\n",
    "sigma = 0.7\n",
    "n = 40\n",
    "\n",
    "mean = (x_bar-mu)/(sigma/np.sqrt(n))\n",
    "mean\n",
    "-2.2587697572631282\n",
    "\n",
    "stats.norm.cdf(-2.26)\n",
    "0.0119106\n",
    "```"
   ]
  },
  {
   "cell_type": "markdown",
   "metadata": {},
   "source": [
    "#### Example Exercise #2 - Proportion\n",
    "\n",
    "- A video game company surveys 400 of their customers and finds that 58% of the sample are teenagers\n",
    "- Is it fair to say that most of the company's customers are teenagers?\n",
    "\n",
    "1. Set the null hypothesis: $H_0: P \\le 0.50$\n",
    "2. Set the alternative hypothesis: $H_1: P\\gt 0.50$\n",
    "3. Calculate the test statistic:<br/>\n",
    "$$Z = \\frac{\\hat{p}-p}{\\sqrt{\\frac{p*q}{n}}}=\\frac{0.58-0.50}{\\sqrt{\\frac{0.50(1-0.50)}{400}}}= \\frac{0.08}{0.025}=3.2$$\n",
    "4. Set a significance level: $\\alpha=0.05$\n",
    "5. Decide what type of tail is involved: right-tailed test (greater than)\n",
    "6. Look up the critical value: $Z= 1.645$\n",
    "7. Based on the sample we can reject the null hypothesis and support the claim that most customers are teenagers.\n",
    "$3.2>1.645$\n",
    "\n",
    "__Python__\n",
    "```python\n",
    "p = 0.5\n",
    "p_hat = 0.58\n",
    "n = 400\n",
    "q = (1-p)\n",
    "\n",
    "proportion = (p_hat-p)/(np.sqrt((p*q)/n))\n",
    "3.1999999999999984\n",
    "\n",
    "stats.norm.ppf(0.95)\n",
    "1.6448536269514722\n",
    "```\n",
    "\n",
    "##### Important\n",
    "The size of the sample matters!  If we started with a sample size of 40 instead of 400, our test statistic would have been only 1.01, and we would fail to reject the null hypothesis"
   ]
  },
  {
   "cell_type": "markdown",
   "metadata": {},
   "source": [
    "### Type I and Type II Errors\n",
    "- Often in medical fields (and other scientific fields) hypothesis testing isused to test against results where the \"truth\" is already known.\n",
    "- For example, testing a new diagnostic test for cancer for patients you have already successfully diagnosed by other means\n",
    "- In this situation you already know if the null hypothesis is True or False\n",
    "- In these situations where you already know the \"truth\", then you would know its possible to commit an error with your results.\n",
    "- This type of analysis is common enough that these errors already have specific names:<br/>\n",
    "1. Type I Error\n",
    "2. Type II Error\n",
    "\n",
    "__Type I Error__: Reject a null hypothesis that should have been supported. i.e. pulling the fire alarm when there is no fire<br/>\n",
    "__Type II Error__: If we fail to reject a null hypothesis that should have been rejected we've committed a Type II error."
   ]
  },
  {
   "cell_type": "markdown",
   "metadata": {},
   "source": [
    "## Student's T Distribution\n",
    "- Recall that when we used Z scores with a normal distribution, we had to know the population's standard deviation $\\sigma$ in order to calculate Z\n",
    "- But what if in the real world we don't know the population standard deviation?\n",
    "- Developed by William Gossett while he was working at Guinness Brewery\n",
    "- Published under the pseudonym \"Student\" as Guinness wouldn't let him use his name.\n",
    "\n",
    "\n",
    "- Goal was to select the best barley from small samples, when the population standard deviation was unknown!\n",
    "- Using a t-table the Student's t-test determines if there is a significant difference between two sets of data\n",
    "- Due to variance and outliers, it's not enough jut to compare mean values\n",
    "- A t-test also considers sample variances\n",
    "\n",
    "#### One-sample t-test\n",
    "Test the null hypothesis that the population mean is equal to a specified value $\\mu$ based on a sample mean $\\bar{x}$\n",
    "\n",
    "__Example__: Want to check if sample of students have the same mean test scores as population of students.\n",
    "\n",
    "#### Independent Two-sample t-test\n",
    "Test the null hypothesis that two sample means $\\bar{X_1}$ and $\\bar{X_2}$ are equal.\n",
    "\n",
    "__Example__: Want to check if the mean test scores of two separate samples of students have a statistically significant difference.\n",
    "\n",
    "#### Dependent Two-sample t-test\n",
    "Used when the samples are dependent:\n",
    "- one sample has been tested twice (repeated measurements)\n",
    "- two samples have been matched or paired together\n",
    "\n",
    "__Example__: Want to check if the same group of students has improved results on test scores before prep course and after prep course\n",
    "\n",
    "_Note_ how the same sample of students is used thus dependent\n",
    "\n",
    "- Just like a Z statistic we calculate the t statistic"
   ]
  },
  {
   "cell_type": "markdown",
   "metadata": {},
   "source": [
    "### Calculate the T-Statistic\n",
    "\n",
    "Calculate the t-statistic\n",
    "$$t = \\frac{\\bar{x}-\\mu}{s/\\sqrt{n}}$$\n",
    "$$\\bar{x}=sample mean$$\n",
    "$$\\mu = population mean$$\n",
    "$$s = sample standard error$$\n",
    "$$n = sample size$$\n",
    "\n",
    "Main differerence between z and t-statistic is we don't know the population standard deviation so we base it off of $s$ sample standard error instead.\n",
    "\n",
    "These scores depend on:\n",
    "- degrees of freedom (based on sample size $n$)\n",
    "- chosen significance level (default 0.05)\n",
    "\n",
    "__Compare to a t-score__\n",
    "$$t \\gt\\lt t_{n-1}, a$$\n",
    "$$t=t-statistic$$\n",
    "$$t_n-1,a=t-critical$$\n",
    "$$n-1=degrees of freedom$$"
   ]
  },
  {
   "cell_type": "markdown",
   "metadata": {},
   "source": [
    "#### Independent Two-Sample T-Test\n",
    "The calculation of the t-statistic differs slightly for the following scenarios:\n",
    "- equal sample sizes equal variance\n",
    "- unequal sample sizes, equal variance\n",
    "- __equal or unequal samples sizes, unequal variance__(most common)\n",
    "\n",
    "When working with two samples and trying to compare them to each other with a t-test, its often useful to think of the t-test as a ratio of signal(sample means) to noise (sample variability)\n",
    "\n",
    "__Calculate the t-statistic__\n",
    "$$t=\\frac{signal}{noise}=\\frac{difference in means}{sample variabillity}=\\frac{\\bar{x_1}-\\bar{x_1}}{\\sqrt{\\frac{s_1^2}{n_1}+\\frac{s_2^2}{n_2}}}$$\n",
    "\n",
    "$\\bar{x_1},\\bar{x_2}$= sample means\n",
    "\n",
    "$x_1^2, s_2^2$= sample variances\n",
    "\n",
    "$n_1, n_2$= sample sizes\n",
    "\n",
    "__Compare to a t-score__\n",
    "\n",
    "$$t ^\\lt_\\gt t_{df}, a$$\n",
    "\n",
    "$t$ = t-statistic\n",
    "\n",
    "$t_{df},a$ = t-critical\n",
    "\n",
    "$df$ = degrees of freedom\n",
    "\n",
    "$\\alpha$ = significance level\n",
    "\n",
    "Since we have two potentially unequal sized samples with different variances, determining the degrees of freedom is a little more complicated.\n",
    "\n",
    "Welch-Satterthwaite Formula for DF\n",
    "$$df = \\frac{(\\frac{s_1^2}{n_1}+\\frac{s_1^2}{n_2})^2}{\\frac{1}{n_1-1}\\frac{s_1^2}{n_1}^2+{\\frac{1}{n_2-1}\\frac{s_2^2}{n_2}^2}}$$\n",
    "\n",
    "The general formula:\n",
    "\n",
    "$$df = n_1 + n_2 - 2$$\n",
    "\n",
    "t-distributions have fatter tails than normal z-distributions\n",
    "\n",
    "a generalization is an $n$ = 30 you can consider this a normal distribution"
   ]
  },
  {
   "cell_type": "markdown",
   "metadata": {},
   "source": [
    "#### Example Student's T-Distribution\n",
    "- An auto manufacturer has two plants that produce the same car.\n",
    "- However due to budget constraints they must close one of them.\n",
    "- The company wants to know if there is a significant difference in production between the two plants\n",
    "\n",
    "- Daily production over the same 10 days is as follows:"
   ]
  },
  {
   "cell_type": "code",
   "execution_count": 70,
   "metadata": {
    "code_folding": []
   },
   "outputs": [
    {
     "data": {
      "text/html": [
       "<div>\n",
       "<style scoped>\n",
       "    .dataframe tbody tr th:only-of-type {\n",
       "        vertical-align: middle;\n",
       "    }\n",
       "\n",
       "    .dataframe tbody tr th {\n",
       "        vertical-align: top;\n",
       "    }\n",
       "\n",
       "    .dataframe thead th {\n",
       "        text-align: right;\n",
       "    }\n",
       "</style>\n",
       "<table border=\"1\" class=\"dataframe\">\n",
       "  <thead>\n",
       "    <tr style=\"text-align: right;\">\n",
       "      <th></th>\n",
       "      <th>Plant A</th>\n",
       "      <th>Plant B</th>\n",
       "    </tr>\n",
       "  </thead>\n",
       "  <tbody>\n",
       "    <tr>\n",
       "      <th>0</th>\n",
       "      <td>1184</td>\n",
       "      <td>1136</td>\n",
       "    </tr>\n",
       "    <tr>\n",
       "      <th>1</th>\n",
       "      <td>1203</td>\n",
       "      <td>1178</td>\n",
       "    </tr>\n",
       "    <tr>\n",
       "      <th>2</th>\n",
       "      <td>1219</td>\n",
       "      <td>1212</td>\n",
       "    </tr>\n",
       "    <tr>\n",
       "      <th>3</th>\n",
       "      <td>1238</td>\n",
       "      <td>1193</td>\n",
       "    </tr>\n",
       "    <tr>\n",
       "      <th>4</th>\n",
       "      <td>1243</td>\n",
       "      <td>1226</td>\n",
       "    </tr>\n",
       "    <tr>\n",
       "      <th>5</th>\n",
       "      <td>1204</td>\n",
       "      <td>1154</td>\n",
       "    </tr>\n",
       "    <tr>\n",
       "      <th>6</th>\n",
       "      <td>1269</td>\n",
       "      <td>1230</td>\n",
       "    </tr>\n",
       "    <tr>\n",
       "      <th>7</th>\n",
       "      <td>1256</td>\n",
       "      <td>1222</td>\n",
       "    </tr>\n",
       "    <tr>\n",
       "      <th>8</th>\n",
       "      <td>1156</td>\n",
       "      <td>1161</td>\n",
       "    </tr>\n",
       "    <tr>\n",
       "      <th>9</th>\n",
       "      <td>1248</td>\n",
       "      <td>1148</td>\n",
       "    </tr>\n",
       "  </tbody>\n",
       "</table>\n",
       "</div>"
      ],
      "text/plain": [
       "   Plant A  Plant B\n",
       "0     1184     1136\n",
       "1     1203     1178\n",
       "2     1219     1212\n",
       "3     1238     1193\n",
       "4     1243     1226\n",
       "5     1204     1154\n",
       "6     1269     1230\n",
       "7     1256     1222\n",
       "8     1156     1161\n",
       "9     1248     1148"
      ]
     },
     "execution_count": 70,
     "metadata": {},
     "output_type": "execute_result"
    }
   ],
   "source": [
    "plants = pd.DataFrame({'Plant A':[1184,1203,1219,1238,1243,1204,1269,1256,1156,1248],\n",
    "                       'Plant B':[1136,1178,1212,1193,1226,1154,1230,1222,1161,1148]})\n",
    "plants"
   ]
  },
  {
   "cell_type": "markdown",
   "metadata": {
    "variables": {
     "plants['Plant A'].mean()": "1222.0",
     "plants['Plant A'].mean()-plants['Plant B'].mean()": "36.0",
     "plants['Plant B'].mean()": "1186.0"
    }
   },
   "source": [
    "__1. First compare the sample means__\n",
    "\n",
    "$\\bar{x}_A$={{plants['Plant A'].mean()}}\n",
    "\n",
    "$\\bar{x}_B$={{plants['Plant B'].mean()}}\n",
    "\n",
    "$\\bar{x}_A-\\bar{x}_A$={{plants['Plant A'].mean()}} - {{plants['Plant B'].mean()}} = {{plants['Plant A'].mean()-plants['Plant B'].mean()}}\n",
    "\n",
    "From this sample, it looks like Plant A produces 36 more cars per day than Plant B\n",
    "\n",
    "However, the question is.  Is 36 more cars enough to say that the plants are different?\n",
    "\n",
    "$H_0: X_A \\le X_B$\n",
    "\n",
    "$H_1: X_A \\gt X_B$\n",
    "\n",
    "__one-tailed test__\n",
    "\n",
    "(10 + 10 - 2) = 18 degrees of freedom"
   ]
  },
  {
   "cell_type": "markdown",
   "metadata": {},
   "source": [
    "__2. Compute the Variance__\n",
    "\n",
    "$$s^2=\\frac{\\sum(x-\\bar{x})^2}{n-1}$$\n",
    "\n",
    "```python\n",
    "# Caclulate the variance\n",
    "var_1 = plants.iloc[:,0].var()\n",
    "1248.0\n",
    "var_2 = plants.iloc[:,1].var()\n",
    "1246.0\n",
    "```\n",
    "\n",
    "__3. Compute the t-value__\n",
    "\n",
    "$$=\\frac{\\bar{x_1}-\\bar{x_2}}{\\sqrt{\\frac{s_1^2}{n_1}+\\frac{s_2^2}{n_2}}}$$\n",
    "\n",
    "$$=\\frac{36}{\\sqrt{\\frac{1248}{10}+\\frac{1246}{10}}} = \\frac{36}{15.792}$$\n",
    "\n",
    "$$= 2.28$$\n",
    "\n",
    "```python\n",
    "# Calculate the t-statistic\n",
    "ttest = stats.ttest_ind(plants.iloc[:,0],plants.iloc[:,1])\n",
    "Ttest_indResult(statistic=2.2795770510504845, pvalue=0.03504505626727664)\n",
    "ttest[0]\n",
    "2.2795770510504845\n",
    "\n",
    "# For a two-tailed test\n",
    "ttest = stats.ttest_ind(plants.iloc[:,0],plants.iloc[:,1])/2\n",
    "0.017522528133638322\n",
    "\n",
    "# Look up critical value\n",
    "a = 0.95\n",
    "df = 18\n",
    "stats = t.ppf(a,df)\n",
    "1.7340636066175354\n",
    "```\n",
    "\n",
    "__Compare the statistic__: Since 2.28 $\\gt$ 1.734 we reject the null hypothesis.\n",
    "\n",
    "Therefore, we believe with 95% confidence that Plant A produces more cars per day than Plant B."
   ]
  },
  {
   "cell_type": "markdown",
   "metadata": {},
   "source": [
    "## ANOVA\n",
    "Analysis of Variance.  \n",
    "\n",
    "What if we had 3 or more samples the experiment would look like this.\n",
    "$$H_0=\\mu_A = \\mu_B = \\mu_C$$\n",
    "\n",
    "or we could test each pair\n",
    "\n",
    "$$H_0: \\mu_A = \\mu_B, \\alpha = 0.05$$\n",
    "$$H_0: \\mu_A = \\mu_C, \\alpha = 0.05$$\n",
    "$$H_0: \\mu_B = \\mu_C, \\alpha = 0.05$$\n",
    "\n",
    "The problem with this would reduce the overall confidence:\n",
    "\n",
    "0.95 x 0.95 x 0.95 = 0.857\n",
    "\n",
    "- This is where ANOVA comes in\n",
    "- We compute an __F Value__, and compare it to a critical value determined by our __degrees of freedom__ (the number of groups, and the number of items in each group)"
   ]
  },
  {
   "cell_type": "code",
   "execution_count": 155,
   "metadata": {},
   "outputs": [
    {
     "data": {
      "text/html": [
       "<div>\n",
       "<style scoped>\n",
       "    .dataframe tbody tr th:only-of-type {\n",
       "        vertical-align: middle;\n",
       "    }\n",
       "\n",
       "    .dataframe tbody tr th {\n",
       "        vertical-align: top;\n",
       "    }\n",
       "\n",
       "    .dataframe thead th {\n",
       "        text-align: right;\n",
       "    }\n",
       "</style>\n",
       "<table border=\"1\" class=\"dataframe\">\n",
       "  <thead>\n",
       "    <tr style=\"text-align: right;\">\n",
       "      <th></th>\n",
       "      <th>Group A</th>\n",
       "      <th>Group B</th>\n",
       "      <th>Group C</th>\n",
       "    </tr>\n",
       "  </thead>\n",
       "  <tbody>\n",
       "    <tr>\n",
       "      <th>0</th>\n",
       "      <td>37</td>\n",
       "      <td>62</td>\n",
       "      <td>50</td>\n",
       "    </tr>\n",
       "    <tr>\n",
       "      <th>1</th>\n",
       "      <td>60</td>\n",
       "      <td>27</td>\n",
       "      <td>63</td>\n",
       "    </tr>\n",
       "    <tr>\n",
       "      <th>2</th>\n",
       "      <td>52</td>\n",
       "      <td>69</td>\n",
       "      <td>58</td>\n",
       "    </tr>\n",
       "    <tr>\n",
       "      <th>3</th>\n",
       "      <td>43</td>\n",
       "      <td>64</td>\n",
       "      <td>54</td>\n",
       "    </tr>\n",
       "    <tr>\n",
       "      <th>4</th>\n",
       "      <td>40</td>\n",
       "      <td>43</td>\n",
       "      <td>49</td>\n",
       "    </tr>\n",
       "    <tr>\n",
       "      <th>5</th>\n",
       "      <td>52</td>\n",
       "      <td>54</td>\n",
       "      <td>52</td>\n",
       "    </tr>\n",
       "    <tr>\n",
       "      <th>6</th>\n",
       "      <td>55</td>\n",
       "      <td>44</td>\n",
       "      <td>53</td>\n",
       "    </tr>\n",
       "    <tr>\n",
       "      <th>7</th>\n",
       "      <td>39</td>\n",
       "      <td>31</td>\n",
       "      <td>43</td>\n",
       "    </tr>\n",
       "    <tr>\n",
       "      <th>8</th>\n",
       "      <td>39</td>\n",
       "      <td>49</td>\n",
       "      <td>65</td>\n",
       "    </tr>\n",
       "    <tr>\n",
       "      <th>9</th>\n",
       "      <td>23</td>\n",
       "      <td>57</td>\n",
       "      <td>43</td>\n",
       "    </tr>\n",
       "  </tbody>\n",
       "</table>\n",
       "</div>"
      ],
      "text/plain": [
       "   Group A  Group B  Group C\n",
       "0       37       62       50\n",
       "1       60       27       63\n",
       "2       52       69       58\n",
       "3       43       64       54\n",
       "4       40       43       49\n",
       "5       52       54       52\n",
       "6       55       44       53\n",
       "7       39       31       43\n",
       "8       39       49       65\n",
       "9       23       57       43"
      ]
     },
     "execution_count": 155,
     "metadata": {},
     "output_type": "execute_result"
    }
   ],
   "source": [
    "# prepare some data\n",
    "data = pd.DataFrame({'Group A':[37,60,52,43,40,52,55,39,39,23],\n",
    "                     'Group B':[62,27,69,64,43,54,44,31,49,57],\n",
    "                     'Group C':[50,63,58,54,49,52,53,43,65,43]})\n",
    "data"
   ]
  },
  {
   "cell_type": "markdown",
   "metadata": {},
   "source": [
    "##### 1. First calculate the sample means"
   ]
  },
  {
   "cell_type": "code",
   "execution_count": 127,
   "metadata": {},
   "outputs": [
    {
     "data": {
      "text/plain": [
       "Group A    44.0\n",
       "Group B    50.0\n",
       "Group C    53.0\n",
       "dtype: float64"
      ]
     },
     "execution_count": 127,
     "metadata": {},
     "output_type": "execute_result"
    }
   ],
   "source": [
    "data.mean()"
   ]
  },
  {
   "cell_type": "markdown",
   "metadata": {},
   "source": [
    "##### 2. Next calculate the overall mean"
   ]
  },
  {
   "cell_type": "code",
   "execution_count": 132,
   "metadata": {},
   "outputs": [
    {
     "data": {
      "text/plain": [
       "49.0"
      ]
     },
     "execution_count": 132,
     "metadata": {},
     "output_type": "execute_result"
    }
   ],
   "source": [
    "sample_means = data.mean()\n",
    "mu_tot = sample_means.mean()\n",
    "mu_tot"
   ]
  },
  {
   "cell_type": "markdown",
   "metadata": {},
   "source": [
    "ANOVA considers two types of variance:\n",
    "- __Between Groups__: how far group means stray from total mean\n",
    "- __Within Groups__: how far individual values stray form their respective group mean\n",
    "\n",
    "The F Value we're trying to calculate is simply the ration between these two variances\n",
    "\n",
    "$$F = \\frac{VarianceBetweenGroups}{VarianceWithinGroups}$$\n",
    "\n",
    "Recall the equation for variance:\n",
    "$$s^2 = \\frac{\\sum(x-\\bar{x})^2}{n-1}$$\n",
    "\n",
    "Here $\\sum(x-\\bar{x})^2$ is the \"sum of squares\" $SS$\n",
    "\n",
    "and $n-1$ is the \"degrees of freedom\" $df$\n",
    "\n",
    "So the formula for the __F Value__ becomes:\n",
    "\n",
    "$$F = \\frac{VarianceBetweenGroups}{VarianceWithinGroups}=\\frac{\\frac{SSG}{^{df}groups}}{\\frac{SSE}{^{df}error}}$$\n",
    "\n",
    "$SSG$= Sum of Squares Groups<br/>\n",
    "$SSE$= Sum of Squares Error<br/>\n",
    "$^{df}groups$= degrees of freedom (groups)<br/>\n",
    "$^{df}error$= degrees of freedom (error)<br/>\n",
    "\n"
   ]
  },
  {
   "cell_type": "markdown",
   "metadata": {},
   "source": [
    "##### 3. Let's begin calculating\n",
    "\n",
    "Sum of Squares Groups\n",
    "\n",
    "$(\\mu_A - \\mu_TOT)^2=(44-49)^2=25$"
   ]
  },
  {
   "cell_type": "code",
   "execution_count": 149,
   "metadata": {},
   "outputs": [
    {
     "name": "stdout",
     "output_type": "stream",
     "text": [
      "25.0 1.0 16.0\n",
      "The SSG Total is 42.0\n"
     ]
    }
   ],
   "source": [
    "ssg_a = (sample_means[0]-mu_tot)**2\n",
    "ssg_b = (sample_means[1]-mu_tot)**2\n",
    "ssg_c = (sample_means[2]-mu_tot)**2\n",
    "print(ssg_a, ssg_b, ssg_c)\n",
    "ssg_tot = np.sum([ssg_a, ssg_b, ssg_c])\n",
    "print(f\"The SSG Total is {ssg_tot}\")"
   ]
  },
  {
   "cell_type": "markdown",
   "metadata": {},
   "source": [
    "Multiply by the number of items in each group"
   ]
  },
  {
   "cell_type": "code",
   "execution_count": 190,
   "metadata": {},
   "outputs": [
    {
     "name": "stdout",
     "output_type": "stream",
     "text": [
      "SSG = 420.0\n",
      "dfgroups = 2\n",
      "\n",
      "\n",
      "Sum of Square Error\n",
      "SSE: 3300.0\n",
      "Degrees of Freedom (df_error) = 27\n"
     ]
    }
   ],
   "source": [
    "# Calculate Sum of Squares Group (SSG)\n",
    "n_g = data.shape[0]\n",
    "ssg = ssg_tot*n_g\n",
    "print(f\"SSG = {ssg}\")\n",
    "\n",
    "# Calculate Degrees of Freedom Groups (dfgroups)\n",
    "ngroups = len(data.columns)\n",
    "df_groups = ngroups-1\n",
    "print(f\"dfgroups = {df_groups}\")\n",
    "\n",
    "# Calculate the Sum of Squares Error (SSE)\n",
    "sse_a = sum((data['Group A']-data['Group A'].mean())**2)\n",
    "sse_b = sum((data['Group B']-data['Group B'].mean())**2)\n",
    "sse_c = sum((data['Group C']-data['Group C'].mean())**2)\n",
    "sse = sum([sse_a, sse_b, sse_c])\n",
    "print(\"\\n\")\n",
    "print(\"Sum of Square Error\")\n",
    "print(f\"SSE: {sse}\")\n",
    "\n",
    "# Degrees of freedom error\n",
    "df_error = (data.shape[0]-1)*ngroups\n",
    "print(f\"Degrees of Freedom (df_error) = {df_error}\")"
   ]
  },
  {
   "cell_type": "markdown",
   "metadata": {},
   "source": [
    "##### 4. Plug in to final formula\n",
    "Continued once F-Distribution determined"
   ]
  },
  {
   "cell_type": "code",
   "execution_count": 185,
   "metadata": {},
   "outputs": [
    {
     "name": "stdout",
     "output_type": "stream",
     "text": [
      "The F-Value is: 1.72\n"
     ]
    }
   ],
   "source": [
    "# Plug it into the formula\n",
    "F = (ssg/df_groups)/(sse/df_error)\n",
    "print(f\"The F-Value is: {F:.2f}\")"
   ]
  },
  {
   "cell_type": "markdown",
   "metadata": {},
   "source": [
    "### F-Distribution\n",
    "Shaded area is considered the alpha.\n",
    "\n",
    "__In Excel__\n",
    "\n",
    "a = 0.05 | df1 = 2 | df2 = 27 | Formula = FINV(A2, B2, C2)| Output Value = 3.35413\n",
    "\n",
    "__Python__\n",
    "\n",
    "```python\n",
    "f.ppf(1-.05, dfn=2, dfd=27)\n",
    "3.3541308285\n",
    "```"
   ]
  },
  {
   "cell_type": "code",
   "execution_count": 193,
   "metadata": {},
   "outputs": [
    {
     "data": {
      "text/plain": [
       "3.3541308285291986"
      ]
     },
     "execution_count": 193,
     "metadata": {},
     "output_type": "execute_result"
    }
   ],
   "source": [
    "# Calculate F-Score\n",
    "a = 0.05\n",
    "F_score = f.ppf(1-a, dfn=df_groups, dfd=df_error)\n",
    "F_score"
   ]
  },
  {
   "cell_type": "markdown",
   "metadata": {
    "variables": {
     "round(F, 3)": "1.718",
     "round(F_score, 3)": "3.354"
    }
   },
   "source": [
    "Recall our null hypothesis:\n",
    "\n",
    "$H_0: \\mu_A = \\mu_B = \\mu_C$\n",
    "\n",
    "Since F is less than F$_{critical}$\n",
    "\n",
    "{{round(F, 3)}} < {{round(F_score, 3)}}\n",
    "\n",
    "We fail to reject the null hypothesis."
   ]
  },
  {
   "cell_type": "markdown",
   "metadata": {},
   "source": [
    "#### Example - 1\n",
    "- In an effort to receive faster payment of invoices, a company introduces two discount plans\n",
    "- One set of customers is given a 2% discount if they pay their invoice early\n",
    "- Another set of customers is offered a 1% discount\n",
    "- A third set if not offered any incentive\n",
    "\n",
    "Using ANOVA can we say that the offers result in faster payments?"
   ]
  },
  {
   "cell_type": "code",
   "execution_count": 194,
   "metadata": {},
   "outputs": [
    {
     "data": {
      "text/html": [
       "<div>\n",
       "<style scoped>\n",
       "    .dataframe tbody tr th:only-of-type {\n",
       "        vertical-align: middle;\n",
       "    }\n",
       "\n",
       "    .dataframe tbody tr th {\n",
       "        vertical-align: top;\n",
       "    }\n",
       "\n",
       "    .dataframe thead th {\n",
       "        text-align: right;\n",
       "    }\n",
       "</style>\n",
       "<table border=\"1\" class=\"dataframe\">\n",
       "  <thead>\n",
       "    <tr style=\"text-align: right;\">\n",
       "      <th></th>\n",
       "      <th>2% disc</th>\n",
       "      <th>1% disc</th>\n",
       "      <th>no disc</th>\n",
       "    </tr>\n",
       "  </thead>\n",
       "  <tbody>\n",
       "    <tr>\n",
       "      <th>0</th>\n",
       "      <td>11</td>\n",
       "      <td>21</td>\n",
       "      <td>14</td>\n",
       "    </tr>\n",
       "    <tr>\n",
       "      <th>1</th>\n",
       "      <td>16</td>\n",
       "      <td>15</td>\n",
       "      <td>11</td>\n",
       "    </tr>\n",
       "    <tr>\n",
       "      <th>2</th>\n",
       "      <td>9</td>\n",
       "      <td>23</td>\n",
       "      <td>18</td>\n",
       "    </tr>\n",
       "    <tr>\n",
       "      <th>3</th>\n",
       "      <td>14</td>\n",
       "      <td>10</td>\n",
       "      <td>16</td>\n",
       "    </tr>\n",
       "    <tr>\n",
       "      <th>4</th>\n",
       "      <td>10</td>\n",
       "      <td>16</td>\n",
       "      <td>21</td>\n",
       "    </tr>\n",
       "  </tbody>\n",
       "</table>\n",
       "</div>"
      ],
      "text/plain": [
       "   2% disc  1% disc  no disc\n",
       "0       11       21       14\n",
       "1       16       15       11\n",
       "2        9       23       18\n",
       "3       14       10       16\n",
       "4       10       16       21"
      ]
     },
     "execution_count": 194,
     "metadata": {},
     "output_type": "execute_result"
    }
   ],
   "source": [
    "# discounts_df\n",
    "discounts_df = pd.DataFrame({'2% disc':[11,16,9,14,10],\n",
    "                             '1% disc':[21,15,23,10,16],\n",
    "                             'no disc':[14,11,18,16,21]})\n",
    "discounts_df"
   ]
  },
  {
   "cell_type": "code",
   "execution_count": 212,
   "metadata": {},
   "outputs": [
    {
     "name": "stdout",
     "output_type": "stream",
     "text": [
      "9.0 4.0 1.0\n",
      "The SSG Total is 14.0\n",
      "SSG = 70.0\n",
      "dfgroups = 2\n",
      "\n",
      "\n",
      "Sum of Square Error\n",
      "SSE: 198.0\n",
      "Degrees of Freedom (df_error) = 12\n",
      "\n",
      "\n",
      "The F-Value is: 2.12\n"
     ]
    },
    {
     "data": {
      "text/plain": [
       "3.8852938346523933"
      ]
     },
     "execution_count": 212,
     "metadata": {},
     "output_type": "execute_result"
    }
   ],
   "source": [
    "#1. Calculate the means\n",
    "sample_means = discounts_df.mean()\n",
    "mu_tot = sample_means.mean()\n",
    "\n",
    "ssg_a = (sample_means[0]-mu_tot)**2\n",
    "ssg_b = (sample_means[1]-mu_tot)**2\n",
    "ssg_c = (sample_means[2]-mu_tot)**2\n",
    "print(ssg_a, ssg_b, ssg_c)\n",
    "ssg_tot = np.sum([ssg_a, ssg_b, ssg_c])\n",
    "print(f\"The SSG Total is {ssg_tot}\")\n",
    "\n",
    "# Calculate Sum of Squares Group (SSG)\n",
    "n_g = discounts_df.shape[0]\n",
    "ssg = ssg_tot*n_g\n",
    "print(f\"SSG = {ssg}\")\n",
    "\n",
    "# Calculate Degrees of Freedom Groups (dfgroups)\n",
    "ngroups = len(data.columns)\n",
    "df_groups = ngroups-1\n",
    "print(f\"dfgroups = {df_groups}\")\n",
    "\n",
    "# Calculate the Sum of Squares Error (SSE)\n",
    "sse_a = sum((discounts_df['2% disc'] - discounts_df['2% disc'].mean())**2)\n",
    "sse_b = sum((discounts_df['1% disc'] - discounts_df['1% disc'].mean())**2)\n",
    "sse_c = sum((discounts_df['no disc'] - discounts_df['no disc'].mean())**2)\n",
    "sse = sum([sse_a, sse_b, sse_c])\n",
    "print(\"\\n\")\n",
    "print(\"Sum of Square Error\")\n",
    "print(f\"SSE: {sse}\")\n",
    "\n",
    "# Degrees of freedom error\n",
    "df_error = (discounts_df.shape[0]-1)*ngroups\n",
    "print(f\"Degrees of Freedom (df_error) = {df_error}\")\n",
    "\n",
    "# Calcuate F Value\n",
    "F = (ssg/df_groups)/(sse/df_error)\n",
    "print(\"\\n\")\n",
    "print(f\"The F-Value is: {F:.2f}\")\n",
    "\n",
    "# Look up F critical\n",
    "a = 0.05\n",
    "F_score = f.ppf(1-a, dfn=df_groups, dfd=df_error)\n",
    "F_score"
   ]
  },
  {
   "cell_type": "code",
   "execution_count": 214,
   "metadata": {},
   "outputs": [
    {
     "name": "stdout",
     "output_type": "stream",
     "text": [
      "Since F:2.121 falls to left of F critical: 3.885\n",
      "\n",
      "We fail to reject the null hypothesis\n"
     ]
    }
   ],
   "source": [
    "print(f\"Since F:{F:.3f} falls to left of F critical: {F_score:.3f}\\n\")\n",
    "print(\"We fail to reject the null hypothesis\")"
   ]
  },
  {
   "cell_type": "markdown",
   "metadata": {},
   "source": [
    "We don't have enough to support the idea that our offers changed the average number of days that customer took to pay their invoices."
   ]
  },
  {
   "cell_type": "markdown",
   "metadata": {},
   "source": [
    "### Two-way ANOVA\n",
    "- In the previous examples we used one-way ANOVA to test one independent variable. \n",
    "- For the invoice problem, the independent variable was the incentive offered.\n",
    "- Two-way ANOVA lets us test two independent variables at the same time\n",
    "- For the invoice example, we might also consider the amount due\n",
    "- We would have 3 invoices for 50 dollars, 3 for $100 etc and offer different incentives at each dollar amount\n",
    "- The resulting data may look like this"
   ]
  },
  {
   "cell_type": "code",
   "execution_count": 218,
   "metadata": {
    "code_folding": [
     0
    ]
   },
   "outputs": [
    {
     "data": {
      "text/html": [
       "<div>\n",
       "<style scoped>\n",
       "    .dataframe tbody tr th:only-of-type {\n",
       "        vertical-align: middle;\n",
       "    }\n",
       "\n",
       "    .dataframe tbody tr th {\n",
       "        vertical-align: top;\n",
       "    }\n",
       "\n",
       "    .dataframe thead th {\n",
       "        text-align: right;\n",
       "    }\n",
       "</style>\n",
       "<table border=\"1\" class=\"dataframe\">\n",
       "  <thead>\n",
       "    <tr style=\"text-align: right;\">\n",
       "      <th></th>\n",
       "      <th>2% disc</th>\n",
       "      <th>1% disc</th>\n",
       "      <th>no disc</th>\n",
       "    </tr>\n",
       "  </thead>\n",
       "  <tbody>\n",
       "    <tr>\n",
       "      <th>$50</th>\n",
       "      <td>16</td>\n",
       "      <td>23</td>\n",
       "      <td>21</td>\n",
       "    </tr>\n",
       "    <tr>\n",
       "      <th>$100</th>\n",
       "      <td>14</td>\n",
       "      <td>21</td>\n",
       "      <td>16</td>\n",
       "    </tr>\n",
       "    <tr>\n",
       "      <th>$150</th>\n",
       "      <td>11</td>\n",
       "      <td>16</td>\n",
       "      <td>18</td>\n",
       "    </tr>\n",
       "    <tr>\n",
       "      <th>$200</th>\n",
       "      <td>10</td>\n",
       "      <td>15</td>\n",
       "      <td>14</td>\n",
       "    </tr>\n",
       "    <tr>\n",
       "      <th>$250</th>\n",
       "      <td>9</td>\n",
       "      <td>10</td>\n",
       "      <td>11</td>\n",
       "    </tr>\n",
       "  </tbody>\n",
       "</table>\n",
       "</div>"
      ],
      "text/plain": [
       "      2% disc  1% disc  no disc\n",
       "$50        16       23       21\n",
       "$100       14       21       16\n",
       "$150       11       16       18\n",
       "$200       10       15       14\n",
       "$250        9       10       11"
      ]
     },
     "execution_count": 218,
     "metadata": {},
     "output_type": "execute_result"
    }
   ],
   "source": [
    "# Two way dataframe example\n",
    "discounts_2 = pd.DataFrame({'2% disc':[16,14,11,10,9],\n",
    "                            '1% disc':[23,21,16,15,10],\n",
    "                            'no disc':[21,16,18,14,11]},\n",
    "                           index=['$50', '$100', '$150', '$200', '$250'])\n",
    "\n",
    "discounts_2"
   ]
  },
  {
   "cell_type": "markdown",
   "metadata": {},
   "source": [
    "- each row or dollar amount is called a block\n",
    "- essentially, we want to isolate and remove any variance contributed by the blocks, to better understand the variance in the groups.\n",
    "- so how do we do that?\n",
    "- in the previous examples we had only:\n",
    "- the Sum of Squares Groups (SSG)\n",
    "- the Sum of Squares Errors (SSE)\n",
    "- These two variances SSG and SSE add up to our total variance Sum of Squares Total (SST)\n",
    "- Now we'll look at variance between rows, blocks\n",
    "- Calculate Sum of Square Blocks (SSB)\n",
    "\n",
    "ANOVA still consider the relationship between the SSG and the SSE\n",
    "- by calcuating the SSB, we remove the SSG and SSE\n",
    "\n",
    "SSE = SST - SSG- SSB\n",
    "\n",
    "$$df_{groups} = n_{groups}-1$$\n",
    "$$df_{error} = (n_{blocks}-1)*(n_{groups}-1)$$\n",
    "\n",
    "$$F = \\frac{\\frac{SSG}{df_{groups}}}{\\frac{SSE}{df_{error}}}$$\n",
    "\n",
    "In a two-way ANOVA F$_{critical}$ is found for groups and blocks separately\n",
    "\n",
    "For groups with a 1 df in the numerator and 2 df in the denominator"
   ]
  },
  {
   "cell_type": "markdown",
   "metadata": {},
   "source": [
    "#### Example 2 - Two-way ANOVA without Replication"
   ]
  },
  {
   "cell_type": "code",
   "execution_count": 221,
   "metadata": {},
   "outputs": [
    {
     "data": {
      "text/html": [
       "<div>\n",
       "<style scoped>\n",
       "    .dataframe tbody tr th:only-of-type {\n",
       "        vertical-align: middle;\n",
       "    }\n",
       "\n",
       "    .dataframe tbody tr th {\n",
       "        vertical-align: top;\n",
       "    }\n",
       "\n",
       "    .dataframe thead th {\n",
       "        text-align: right;\n",
       "    }\n",
       "</style>\n",
       "<table border=\"1\" class=\"dataframe\">\n",
       "  <thead>\n",
       "    <tr style=\"text-align: right;\">\n",
       "      <th></th>\n",
       "      <th>2% disc</th>\n",
       "      <th>1% disc</th>\n",
       "      <th>no disc</th>\n",
       "    </tr>\n",
       "  </thead>\n",
       "  <tbody>\n",
       "    <tr>\n",
       "      <th>$50</th>\n",
       "      <td>16</td>\n",
       "      <td>23</td>\n",
       "      <td>21</td>\n",
       "    </tr>\n",
       "    <tr>\n",
       "      <th>$100</th>\n",
       "      <td>14</td>\n",
       "      <td>21</td>\n",
       "      <td>16</td>\n",
       "    </tr>\n",
       "    <tr>\n",
       "      <th>$150</th>\n",
       "      <td>11</td>\n",
       "      <td>16</td>\n",
       "      <td>18</td>\n",
       "    </tr>\n",
       "    <tr>\n",
       "      <th>$200</th>\n",
       "      <td>10</td>\n",
       "      <td>15</td>\n",
       "      <td>14</td>\n",
       "    </tr>\n",
       "    <tr>\n",
       "      <th>$250</th>\n",
       "      <td>9</td>\n",
       "      <td>10</td>\n",
       "      <td>11</td>\n",
       "    </tr>\n",
       "  </tbody>\n",
       "</table>\n",
       "</div>"
      ],
      "text/plain": [
       "      2% disc  1% disc  no disc\n",
       "$50        16       23       21\n",
       "$100       14       21       16\n",
       "$150       11       16       18\n",
       "$200       10       15       14\n",
       "$250        9       10       11"
      ]
     },
     "execution_count": 221,
     "metadata": {},
     "output_type": "execute_result"
    }
   ],
   "source": [
    "df = discounts_2\n",
    "df"
   ]
  },
  {
   "cell_type": "code",
   "execution_count": 288,
   "metadata": {
    "code_folding": []
   },
   "outputs": [
    {
     "name": "stdout",
     "output_type": "stream",
     "text": [
      "Sum of Squares Groups (SSG) = 70.0\n",
      "Degrees of Freedom Groups (df groups) = 2\n",
      "Sum of Squares Blocks (SSB): 174.0\n",
      "Sum of Squares Error (SSE): 24.0\n",
      "Sum of Squares Total (SST): 268.0\n",
      "Degrees of Freedom Error (df error): 8\n",
      "F: 11.667\n",
      "F critical: 4.458970107524511\n"
     ]
    }
   ],
   "source": [
    "# Calculate Two-Way ANOVA without Replication\n",
    "\n",
    "# Each block (index) represents and invoice amount\n",
    "#1. Calculate the group means\n",
    "grp_a = df.iloc[:,0].mean()\n",
    "grp_b = df.iloc[:,1].mean()\n",
    "grp_c = df.iloc[:,2].mean()\n",
    "\n",
    "# Calculate the block means\n",
    "blk_a = df.iloc[0,:].mean()\n",
    "blk_b = df.iloc[1,:].mean()\n",
    "blk_c = df.iloc[2,:].mean()\n",
    "blk_d = df.iloc[3,:].mean()\n",
    "blk_e = df.iloc[4,:].mean()\n",
    "\n",
    "# Total mean\n",
    "total_mean = np.mean([blk_a, blk_b, blk_c, blk_d, blk_e])\n",
    "\n",
    "# 2. Calculate the Sum of Square Groups (SSG)\n",
    "ssg_a = (grp_a - total_mean)**2\n",
    "ssg_b = (grp_b - total_mean)**2\n",
    "ssg_c = (grp_c - total_mean)**2\n",
    "\n",
    "sum_ssg = sum([ssg_a, ssg_b, ssg_c])\n",
    "ssg = df.shape[0] * sum_ssg\n",
    "print(f\"Sum of Squares Groups (SSG) = {ssg}\")\n",
    "\n",
    "# 3. Degrees of Freedom Groups\n",
    "n_groups = df.shape[1]\n",
    "df_groups = n_groups - 1\n",
    "print(f\"Degrees of Freedom Groups (df groups) = {df_groups}\")\n",
    "\n",
    "# 4. Sum of Square Blocks (SSB)\n",
    "ssb_a = (blk_a - total_mean)**2\n",
    "ssb_b = (blk_b - total_mean)**2\n",
    "ssb_c = (blk_c - total_mean)**2\n",
    "ssb_d = (blk_d - total_mean)**2\n",
    "ssb_e = (blk_e - total_mean)**2\n",
    "\n",
    "ssb_sum = sum([ssb_a, ssb_b, ssb_c, ssb_d, ssb_e])\n",
    "ssb = ssb_sum * n_groups\n",
    "print(f\"Sum of Squares Blocks (SSB): {ssb}\")\n",
    "\n",
    "# 6. Sum of Square Errors (SSE)\n",
    "sse = sst - ssg - ssb\n",
    "print(f\"Sum of Squares Error (SSE): {sse}\")\n",
    "\n",
    "sst = sse + ssg + ssb #268 # figure out where this came from\n",
    "print(f\"Sum of Squares Total (SST): {sst}\")\n",
    "\n",
    "# Degrees of Freedom Error (df_error)\n",
    "n_blocks = df.shape[0]\n",
    "df_error = (n_blocks-1)*(n_groups-1)\n",
    "print(f\"Degrees of Freedom Error (df error): {df_error}\")\n",
    "\n",
    "# 8. Calculate F\n",
    "F = (ssg/df_groups)/(sse/df_error)\n",
    "print(f\"F: {F:.3f}\")\n",
    "\n",
    "# 9. Find F Critical (f critical)\n",
    "a = 0.05\n",
    "f_critical = f.ppf(1-a, dfn=df_groups, dfd=df_error)\n",
    "print(f\"F critical: {f_critical}\")"
   ]
  },
  {
   "cell_type": "markdown",
   "metadata": {},
   "source": [
    "Since F falls to the right of F$_{critical}$ we reject the null hypothesis, which means now that we have added the blocks is a statistically significant days of receiving invoices. This was without replications as no replication of the blocks."
   ]
  },
  {
   "cell_type": "markdown",
   "metadata": {},
   "source": [
    "#### Example 3 - Two-way ANOVA with Replication\n",
    "- introduces the concept of sample means and sample variance\n",
    "- introduce the concept of interactions\n",
    "- As with our previous 2-way ANOVA, we consider two independent variables organized into groups and blocks\n",
    "- We sample every block/group combination\n",
    "- With replication, block/group samples have multiple measurements\n",
    "\n",
    "Consider an experiment that measures the heights of plants.\n",
    "- We are going to apply three types of fertilizer A, B & C - these are the groups\n",
    "- Plants are kept at two temperatures (warm & cold) - these are our blocks\n",
    "- We assign 3 plants to each sample"
   ]
  },
  {
   "cell_type": "code",
   "execution_count": 363,
   "metadata": {
    "code_folding": [
     0
    ]
   },
   "outputs": [
    {
     "data": {
      "text/html": [
       "<div>\n",
       "<style scoped>\n",
       "    .dataframe tbody tr th:only-of-type {\n",
       "        vertical-align: middle;\n",
       "    }\n",
       "\n",
       "    .dataframe tbody tr th {\n",
       "        vertical-align: top;\n",
       "    }\n",
       "\n",
       "    .dataframe thead th {\n",
       "        text-align: right;\n",
       "    }\n",
       "</style>\n",
       "<table border=\"1\" class=\"dataframe\">\n",
       "  <thead>\n",
       "    <tr style=\"text-align: right;\">\n",
       "      <th></th>\n",
       "      <th>A</th>\n",
       "      <th>B</th>\n",
       "      <th>C</th>\n",
       "    </tr>\n",
       "  </thead>\n",
       "  <tbody>\n",
       "    <tr>\n",
       "      <th>Warm</th>\n",
       "      <td>13</td>\n",
       "      <td>21</td>\n",
       "      <td>18</td>\n",
       "    </tr>\n",
       "    <tr>\n",
       "      <th>Warm</th>\n",
       "      <td>14</td>\n",
       "      <td>19</td>\n",
       "      <td>15</td>\n",
       "    </tr>\n",
       "    <tr>\n",
       "      <th>Warm</th>\n",
       "      <td>12</td>\n",
       "      <td>17</td>\n",
       "      <td>15</td>\n",
       "    </tr>\n",
       "    <tr>\n",
       "      <th>Cold</th>\n",
       "      <td>16</td>\n",
       "      <td>14</td>\n",
       "      <td>15</td>\n",
       "    </tr>\n",
       "    <tr>\n",
       "      <th>Cold</th>\n",
       "      <td>18</td>\n",
       "      <td>11</td>\n",
       "      <td>13</td>\n",
       "    </tr>\n",
       "    <tr>\n",
       "      <th>Cold</th>\n",
       "      <td>17</td>\n",
       "      <td>14</td>\n",
       "      <td>8</td>\n",
       "    </tr>\n",
       "  </tbody>\n",
       "</table>\n",
       "</div>"
      ],
      "text/plain": [
       "       A   B   C\n",
       "Warm  13  21  18\n",
       "Warm  14  19  15\n",
       "Warm  12  17  15\n",
       "Cold  16  14  15\n",
       "Cold  18  11  13\n",
       "Cold  17  14   8"
      ]
     },
     "execution_count": 363,
     "metadata": {},
     "output_type": "execute_result"
    }
   ],
   "source": [
    "# Two-way ANOVA with replication - multiple figures in block\n",
    "df = pd.DataFrame({'A': [13,14,12,16,18,17],\n",
    "                   'B': [21,19,17,14,11,14],\n",
    "                   'C': [18,15,15,15,13,8]},\n",
    "                  index = ['Warm', 'Warm', 'Warm', 'Cold', 'Cold', 'Cold'])\n",
    "\n",
    "df"
   ]
  },
  {
   "cell_type": "code",
   "execution_count": 404,
   "metadata": {
    "code_folding": []
   },
   "outputs": [
    {
     "name": "stdout",
     "output_type": "stream",
     "text": [
      "Total Mean: 15.0\n",
      "Sum of Square Blocks (SSB): 18.0\n",
      "Sum of Square Columns (SSC): 12.0\n",
      "Degrees of Freedom Columns (df columns): 2\n",
      "Sum of Squares Interaction (SSI): 84.0\n",
      "Sum of Squares Total (SST): 164.0\n",
      "Sum of Squares Error (SSE): 50.0\n",
      "Degrees of Freedom Error (df error): 12\n",
      "F : 1.44\n",
      "F critical: 3.8852938346523933\n"
     ]
    }
   ],
   "source": [
    "# 1. First calculate the mean for each 3-item sample\n",
    "mean_warm_A = df.loc['Warm']['A'].mean()\n",
    "mean_warm_B = df.loc['Warm']['B'].mean()\n",
    "mean_warm_C = df.loc['Warm']['C'].mean()\n",
    "mean_cold_A = df.loc['Cold']['A'].mean()\n",
    "mean_cold_B = df.loc['Cold']['B'].mean()\n",
    "mean_cold_C = df.loc['Cold']['C'].mean()\n",
    "\n",
    "# Calculate the Column means\n",
    "col_A = df['A'].mean()\n",
    "col_B = df['B'].mean()\n",
    "col_C = df['C'].mean()\n",
    "\n",
    "# Calculate the Block means\n",
    "blk_warm = df.loc['Warm'].values.mean()\n",
    "blk_cold = df.loc['Cold'].values.mean()\n",
    "\n",
    "# Calculate overall mean\n",
    "total_mean = np.mean([col_A, col_B, col_C])\n",
    "print(f\"Total Mean: {total_mean}\")\n",
    "\n",
    "# 2. Calculate Sum of Square Blocks (SSB)\n",
    "n_block_items = df.loc['Warm'].count().sum()\n",
    "sb = ((blk_warm - total_mean)**2) + ((blk_cold - total_mean)**2)\n",
    "ssb = sb * n_block_items\n",
    "print(f\"Sum of Square Blocks (SSB): {ssb}\")\n",
    "\n",
    "# Sum of Squares Columns (SSC)\n",
    "n_col_items = df.shape[0]\n",
    "sc = ((col_A - total_mean)**2) + ((col_B - total_mean)**2) + ((col_C - total_mean)**2)\n",
    "ssc = n_col_items * sc\n",
    "print(f\"Sum of Square Columns (SSC): {ssc}\")\n",
    "\n",
    "# Calculate the Degrees of Freedom columns (dfcolumns)\n",
    "n_cols = df.shape[1]\n",
    "df_columns = n_cols - 1\n",
    "print(f\"Degrees of Freedom Columns (df columns): {df_columns}\")\n",
    "\n",
    "# 3. Calculate the Sum of Squares Interactions (SSI)\n",
    "\"\"\"\n",
    "For each sample mean, subtract matching block and column means,\n",
    "add back the overall mean, square the result\n",
    "\"\"\"\n",
    "n_items_per_sample = df.loc['Warm']['A'].count()\n",
    "si = ((mean_warm_A - blk_warm - col_A + total_mean)**2 +\n",
    "      (mean_warm_B - blk_warm - col_B + total_mean)**2 +\n",
    "      (mean_warm_C - blk_warm - col_C + total_mean)**2 +\n",
    "      (mean_cold_A - blk_cold - col_A + total_mean)**2 +\n",
    "      (mean_cold_B - blk_cold - col_B + total_mean)**2 +\n",
    "      (mean_cold_C - blk_cold - col_C + total_mean)**2)\n",
    "\n",
    "ssi = si * n_items_per_sample\n",
    "print(f\"Sum of Squares Interaction (SSI): {ssi}\")\n",
    "\n",
    "# Calculate the Sum of Squares Total (SST)\n",
    "st = df.apply(lambda x: (x - total_mean)**2) # All values - total mean ** 2\n",
    "sst = st.sum().sum()\n",
    "print(f\"Sum of Squares Total (SST): {sst}\")\n",
    "\n",
    "# 4. Calculate the Sum of Squares Error (SSE)\n",
    "sse = sst - ssb - ssc - ssi\n",
    "print(f\"Sum of Squares Error (SSE): {sse}\")\n",
    "\n",
    "# Calculate Degrees of Freedom Error (df error)\n",
    "n_blocks = len(df.index.unique())\n",
    "\n",
    "df_error = n_blocks * n_cols * (n_items_per_sample-1)\n",
    "print(f\"Degrees of Freedom Error (df error): {df_error}\")\n",
    "\n",
    "# 5. Calculate F\n",
    "F = (ssc/df_columns)/(sse/df_error)\n",
    "print(f\"F : {F}\")\n",
    "\n",
    "# 9. Find F Critical (f critical)\n",
    "a = 0.05\n",
    "f_critical = f.ppf(1-a, dfn=df_columns, dfd=df_error)\n",
    "print(f\"F critical: {f_critical}\")"
   ]
  },
  {
   "cell_type": "markdown",
   "metadata": {},
   "source": [
    "Since F is less than F Critical we fail to reject the null hypothesis and confirm that there is no statistically significant differences."
   ]
  },
  {
   "cell_type": "code",
   "execution_count": 436,
   "metadata": {
    "code_folding": [
     0
    ]
   },
   "outputs": [
    {
     "data": {
      "image/png": "[encoded data removed]",
      "text/plain": [
       "<Figure size 720x288 with 1 Axes>"
      ]
     },
     "metadata": {},
     "output_type": "display_data"
    }
   ],
   "source": [
    "# Plot the interactions\n",
    "plt.figure(figsize=(10,4))\n",
    "warm = [mean_warm_A, mean_warm_B, mean_warm_C]\n",
    "cold = [mean_cold_A, mean_cold_B, mean_cold_C]\n",
    "fertilizer = ['Fertilizer A', 'Fertilizer B', 'Fertilizer C']\n",
    "\n",
    "plt.plot(fertilizer ,warm, color='red', label='Warm')\n",
    "plt.plot(cold, color='blue', label='Cold')\n",
    "\n",
    "plt.ylim([12,20])\n",
    "plt.legend()\n",
    "plt.title(\"2 Way ANOVA with Replication - Interaction\")\n",
    "plt.show()"
   ]
  },
  {
   "cell_type": "markdown",
   "metadata": {},
   "source": [
    "## Linear Regression\n",
    "- The goal of regression is to develop an equation or formula that best describes the relationship between variables.\n",
    "\n",
    "- Recall the equation of a line follows the form $y = mx + b$ where\n",
    "\n",
    "$m$ is the slope (rise over run)\n",
    "\n",
    "$b$ is where the line crosses the y-axis\n",
    "\n",
    "In a linear regression, where we try to formulate the relationship between variables, $y = mx + b$ becomes:\n",
    "$$\\hat{y} = b_0 + b_1 x$$\n",
    "\n",
    "Our goal is to predict the value of a dependent variable (y) based on that of an independent variable (x)\n",
    "\n",
    "How to derive $b_1$ and $b_0$:\n",
    "\n",
    "$$b_1 = Px,y \\frac{\\sigma_y}{\\sigma_x}$$\n",
    "\n",
    "$Px,y$ = Pearson Correlation Coefficient\n",
    "\n",
    "$\\sigma_x, \\sigma_y$ = Standard Deviations"
   ]
  },
  {
   "cell_type": "markdown",
   "metadata": {},
   "source": [
    "#### Limitations of Linear Regression\n",
    "Always visualize the data as it may not look accurate and follow the shape\n",
    "\n",
    "#### Example 1\n",
    "- A manager wants to find out the relationshiop between the number of hours that a plant is operations in a week and weekly production\n",
    "- The independent variable is x is hours, y = production\n",
    "\n",
    "__Calculations__\n",
    "\n",
    "$$\\hat{y} = b_0 + b_1x$$\n",
    "\n",
    "$$b_1 = \\frac{\\sum{(x_1-\\bar{x})(y_i - \\bar{y})}}{\\sum{(x_i-\\bar{x})^2}}$$\n",
    "\n",
    "$$b_0 = \\bar{y}-b_1\\bar{x}$$"
   ]
  },
  {
   "cell_type": "code",
   "execution_count": 458,
   "metadata": {},
   "outputs": [
    {
     "name": "stdout",
     "output_type": "stream",
     "text": [
      "558.0 124.0\n",
      "b0 = -46.0, b1 = 4.5\n",
      "\n",
      "\n",
      "Therefore the regression fit = yhat = -46.0+4.5x\n"
     ]
    }
   ],
   "source": [
    "df = pd.DataFrame({'Production Hours (x)':[34,35,39,42,43,47],\n",
    "                   'Production Volume (y)':[102,109,137,148,150,158]})\n",
    "# Subtract means from data points\n",
    "xbar = df['Production Hours (x)'].mean()\n",
    "ybar = df['Production Volume (y)'].mean()\n",
    "\n",
    "df[\"(x-xbar)\"] = df['Production Hours (x)'] - xbar\n",
    "df[\"(y-ybar)\"] = df['Production Volume (y)'] - ybar\n",
    "\n",
    "# Multiply together\n",
    "df['(x-xbar)(y-ybar)'] = df[\"(x-xbar)\"] * df[\"(y-ybar)\"]\n",
    "\n",
    "# Square it\n",
    "df['(x-xbar)2'] = df[\"(x-xbar)\"]**2\n",
    "\n",
    "# Get sum of last items\n",
    "sum_xy = df['(x-xbar)(y-ybar)'].sum()\n",
    "sum_xy2 = df['(x-xbar)2'].sum()\n",
    "\n",
    "print(sum_xy, sum_xy2)\n",
    "\n",
    "# Now divide them\n",
    "b1 = sum_xy/sum_xy2\n",
    "b0 = ybar - (b1*xbar)\n",
    "print(f\"b0 = {b0}, b1 = {b1}\")\n",
    "print(\"\\n\")\n",
    "print(f\"Therefore the regression fit = yhat = {b0}+{b1}x\")"
   ]
  },
  {
   "cell_type": "markdown",
   "metadata": {},
   "source": [
    "Based on this formula the manager wants to produce 125 untis per week, the plant should run for:\n",
    "\n",
    "$$\\bar{y} = b_0+b_1x$$\n",
    "\n",
    "$$125 = -46+4.5x$$\n",
    "\n",
    "$$x = \\frac{171}{4.5} = 38 HrsPerWeek$$\n",
    "\n",
    "__Python__\n",
    "```python\n",
    "from scipy.stats import linregress\n",
    "x = [34,35,39,42,43,47]\n",
    "y = [102,109,137,148,150,158]\n",
    "\n",
    "slope = round(linregress(x,y).slope, 1)\n",
    "intercept = round(linregress(x,y).intercept, 1)\n",
    "\n",
    "print(f\"y = {intercept} + {slope}x\")\n",
    "y = -46 + 4.5x\n",
    "```"
   ]
  },
  {
   "cell_type": "markdown",
   "metadata": {},
   "source": [
    "## Multiple Regression\n",
    "In real world this will be done electronically.\n",
    "- in linear regression we have one independent valirable that may relate to a dependent variable with the formula\n",
    "- Multiple regress lets us compare several independent variables to one dependent variable at the same time\n",
    "- Each independent variable is assigned a subscript $x_1, x_2, x_3$\n",
    "\n",
    "- The general formula is expanded\n",
    "\n",
    "__linear regression__\n",
    "$$\\hat{y} = b_0 + b_1x$$\n",
    "\n",
    "__multiple regression__\n",
    "$$\\hat{y} = b_0 + b_1x_1 + b_2x_2 +...$$\n",
    "\n",
    "$b_1$ is the coefficient on $x_1$\n",
    "\n",
    "$b_1$ reflects the change in $\\hat{y}$ for a given change in $x_1$, all else remaining constant\n",
    "\n",
    "The formulas for coefficients also expand.\n",
    "\n",
    "#### Example 2\n",
    "- For example, a used car lot may want to know what variables affect net profits\n",
    "- They could create a list of predictors that might correlate with profit: age, brand\n",
    "- They want to measure the correlation between each variable to net profit\n",
    "- However, some predictors might correlate with each other: age, price\n",
    "- The age of a car would have a direct impact on its sale price - Multicolinearity\n",
    "\n",
    "```python\n",
    "from sklearn.linear_model import LinearRegression\n",
    "\n",
    "x1, x2 = [1,3,2,3,1],[8,4,9,6,3]\n",
    "y = [29,31,36,35,19]\n",
    "reg = LinearRegression()\n",
    "reg.fit(list(zip(x1,x2)),y)\n",
    "b1,b2 = reg.coef_[0], reg.coef_[1]\n",
    "b0 = reg.intercept_\n",
    "print(f\"y = {b0:.3} + {b1:.3} + {b2:.23}x2\")\n",
    "y = 8.0 + 5.0x1 + 2.0x2\n",
    "```"
   ]
  },
  {
   "cell_type": "markdown",
   "metadata": {},
   "source": [
    "## Chi-Square Analysis\n",
    "__Chi-Square Test__: The key concept is \"goodness of fit\".  Are the observed results straying too far away from the expected results.\n",
    "\n",
    "The __Chi-square test__ (also written $x^2$) is used to determine the probability of an observed frequency of events given an expected frequency\n",
    "\n",
    "- For example if we flip a coin 18 times and observe that it comes up heads 12 times, can we say that this is due to chance, or do we assume that our coin is biased?\n",
    "- The chi-square formula consider the sum of square distances between observed value O and expected values E, divided by each expected value \n",
    "\n",
    "$$x^2 = \\sum{\\frac{(O-E)^2}{E}}$$\n",
    "\n",
    "- For our coin example, we had heads come up 12 times out of 18 flips, with an expected frequency of 9 heads (half of 18)\n",
    "- This means that tails came up 6 times, with an expected frequency of 9 tails.\n",
    "\n",
    "- first group heads then tails\n",
    "\n",
    "$$x^2 = \\sum{\\frac{(O-E)^2}{E}=\\frac{(12-9)^2}{9}+\\frac{(6-9)^2}{9}=2.0}$$\n",
    "\n",
    "What does 2.0 represent?  We have to look at the chi-square distribution\n",
    "\n",
    "Our coin example had a $x^2$ value of 2.0\n",
    "- degrees of freedom was (2-1) or 1 - two outcomes minus 1\n",
    "- our critical value with 95% confidence is: 3.841\n",
    "\n",
    "```python\n",
    "# Find the x2\n",
    "x2 = chisquare(12,18)\n",
    "x2 = x2.statistic\n",
    "2.0\n",
    "\n",
    "x_critical = chi2.ppf(0.95, 1)\n",
    "3.841458820\n",
    "```\n",
    "\n",
    "- Our null hypothesis that 12 heads in 18 flips was statistically reasonable for a fair coin with 95% probability\n",
    "- Since x2 = 2.0 and x_critical is 3.841 we fail to reject the null hypothesis so it is reasonable to get 12 heads in 18 flips"
   ]
  },
  {
   "cell_type": "code",
   "execution_count": 517,
   "metadata": {},
   "outputs": [
    {
     "data": {
      "text/plain": [
       "Power_divergenceResult(statistic=5.444444444444445, pvalue=nan)"
      ]
     },
     "execution_count": 517,
     "metadata": {},
     "output_type": "execute_result"
    }
   ],
   "source": [
    "x = chisquare(f_obs=16, f_exp=9, ddof=1)\n",
    "x"
   ]
  },
  {
   "cell_type": "markdown",
   "metadata": {},
   "source": [
    "#### Example 1\n",
    "- A company runs six identical servers to suppport its IT infrastructure\n",
    "- Logically, the failure rate should be the same across all servers\n",
    "- Based on the following data can we assumed that the servers fail at the same rate?\n",
    "\n",
    "First let's state some assumptions:\n",
    "1. if a server fails, it does NOT affect the probability of that server failing again, or of other server failing\n",
    "2. a server either fails or it doesn't there are no degrees of failure - discrete outcomes\n",
    "\n",
    "__Excel__\n",
    "=CHISQ.INV.RT(0.05,5)"
   ]
  },
  {
   "cell_type": "code",
   "execution_count": 522,
   "metadata": {
    "code_folding": []
   },
   "outputs": [
    {
     "data": {
      "text/html": [
       "<div>\n",
       "<style scoped>\n",
       "    .dataframe tbody tr th:only-of-type {\n",
       "        vertical-align: middle;\n",
       "    }\n",
       "\n",
       "    .dataframe tbody tr th {\n",
       "        vertical-align: top;\n",
       "    }\n",
       "\n",
       "    .dataframe thead th {\n",
       "        text-align: right;\n",
       "    }\n",
       "</style>\n",
       "<table border=\"1\" class=\"dataframe\">\n",
       "  <thead>\n",
       "    <tr style=\"text-align: right;\">\n",
       "      <th></th>\n",
       "      <th>Server</th>\n",
       "      <th>Observed</th>\n",
       "      <th>Expected</th>\n",
       "    </tr>\n",
       "  </thead>\n",
       "  <tbody>\n",
       "    <tr>\n",
       "      <th>0</th>\n",
       "      <td>A</td>\n",
       "      <td>46</td>\n",
       "      <td>40.0</td>\n",
       "    </tr>\n",
       "    <tr>\n",
       "      <th>1</th>\n",
       "      <td>B</td>\n",
       "      <td>36</td>\n",
       "      <td>40.0</td>\n",
       "    </tr>\n",
       "    <tr>\n",
       "      <th>2</th>\n",
       "      <td>C</td>\n",
       "      <td>52</td>\n",
       "      <td>40.0</td>\n",
       "    </tr>\n",
       "    <tr>\n",
       "      <th>3</th>\n",
       "      <td>D</td>\n",
       "      <td>26</td>\n",
       "      <td>40.0</td>\n",
       "    </tr>\n",
       "    <tr>\n",
       "      <th>4</th>\n",
       "      <td>E</td>\n",
       "      <td>42</td>\n",
       "      <td>40.0</td>\n",
       "    </tr>\n",
       "    <tr>\n",
       "      <th>5</th>\n",
       "      <td>F</td>\n",
       "      <td>38</td>\n",
       "      <td>40.0</td>\n",
       "    </tr>\n",
       "  </tbody>\n",
       "</table>\n",
       "</div>"
      ],
      "text/plain": [
       "  Server  Observed  Expected\n",
       "0      A        46      40.0\n",
       "1      B        36      40.0\n",
       "2      C        52      40.0\n",
       "3      D        26      40.0\n",
       "4      E        42      40.0\n",
       "5      F        38      40.0"
      ]
     },
     "execution_count": 522,
     "metadata": {},
     "output_type": "execute_result"
    }
   ],
   "source": [
    "# Chi-square\n",
    "df = pd.DataFrame({'Server':['A', 'B', 'C', 'D', 'E', 'F'],\n",
    "                   'Observed':[46,36,52,26,42,38]})\n",
    "\n",
    "# 1. Add up the observations\n",
    "sum_obs = df['Observed'].sum()\n",
    "sum_obs\n",
    "\n",
    "# 2. With an equal failure rate (inferred from the question) we expect each server to fail\n",
    "df['Expected'] = sum_obs/df.shape[0]\n",
    "df"
   ]
  },
  {
   "cell_type": "markdown",
   "metadata": {},
   "source": [
    "Since we expect each server to have the same probability of failure, divide the number of observations by the number of servers to get an expected failure rate of 240 / 6 = 40 for each server"
   ]
  },
  {
   "cell_type": "code",
   "execution_count": 527,
   "metadata": {},
   "outputs": [
    {
     "name": "stdout",
     "output_type": "stream",
     "text": [
      "x2 = 10.0\n",
      "x critical = 11.070497693516351\n"
     ]
    },
    {
     "data": {
      "text/html": [
       "<div>\n",
       "<style scoped>\n",
       "    .dataframe tbody tr th:only-of-type {\n",
       "        vertical-align: middle;\n",
       "    }\n",
       "\n",
       "    .dataframe tbody tr th {\n",
       "        vertical-align: top;\n",
       "    }\n",
       "\n",
       "    .dataframe thead th {\n",
       "        text-align: right;\n",
       "    }\n",
       "</style>\n",
       "<table border=\"1\" class=\"dataframe\">\n",
       "  <thead>\n",
       "    <tr style=\"text-align: right;\">\n",
       "      <th></th>\n",
       "      <th>Server</th>\n",
       "      <th>Observed</th>\n",
       "      <th>Expected</th>\n",
       "      <th>(O-E)</th>\n",
       "      <th>(O-E)2</th>\n",
       "      <th>(O-E)2/E</th>\n",
       "    </tr>\n",
       "  </thead>\n",
       "  <tbody>\n",
       "    <tr>\n",
       "      <th>0</th>\n",
       "      <td>A</td>\n",
       "      <td>46</td>\n",
       "      <td>40.0</td>\n",
       "      <td>6.0</td>\n",
       "      <td>36.0</td>\n",
       "      <td>0.9</td>\n",
       "    </tr>\n",
       "    <tr>\n",
       "      <th>1</th>\n",
       "      <td>B</td>\n",
       "      <td>36</td>\n",
       "      <td>40.0</td>\n",
       "      <td>-4.0</td>\n",
       "      <td>16.0</td>\n",
       "      <td>0.4</td>\n",
       "    </tr>\n",
       "    <tr>\n",
       "      <th>2</th>\n",
       "      <td>C</td>\n",
       "      <td>52</td>\n",
       "      <td>40.0</td>\n",
       "      <td>12.0</td>\n",
       "      <td>144.0</td>\n",
       "      <td>3.6</td>\n",
       "    </tr>\n",
       "    <tr>\n",
       "      <th>3</th>\n",
       "      <td>D</td>\n",
       "      <td>26</td>\n",
       "      <td>40.0</td>\n",
       "      <td>-14.0</td>\n",
       "      <td>196.0</td>\n",
       "      <td>4.9</td>\n",
       "    </tr>\n",
       "    <tr>\n",
       "      <th>4</th>\n",
       "      <td>E</td>\n",
       "      <td>42</td>\n",
       "      <td>40.0</td>\n",
       "      <td>2.0</td>\n",
       "      <td>4.0</td>\n",
       "      <td>0.1</td>\n",
       "    </tr>\n",
       "    <tr>\n",
       "      <th>5</th>\n",
       "      <td>F</td>\n",
       "      <td>38</td>\n",
       "      <td>40.0</td>\n",
       "      <td>-2.0</td>\n",
       "      <td>4.0</td>\n",
       "      <td>0.1</td>\n",
       "    </tr>\n",
       "  </tbody>\n",
       "</table>\n",
       "</div>"
      ],
      "text/plain": [
       "  Server  Observed  Expected  (O-E)  (O-E)2  (O-E)2/E\n",
       "0      A        46      40.0    6.0    36.0       0.9\n",
       "1      B        36      40.0   -4.0    16.0       0.4\n",
       "2      C        52      40.0   12.0   144.0       3.6\n",
       "3      D        26      40.0  -14.0   196.0       4.9\n",
       "4      E        42      40.0    2.0     4.0       0.1\n",
       "5      F        38      40.0   -2.0     4.0       0.1"
      ]
     },
     "execution_count": 527,
     "metadata": {},
     "output_type": "execute_result"
    }
   ],
   "source": [
    "# 3. Consider the Chi-square formula\n",
    "\n",
    "# subtract (O-E)\n",
    "df['(O-E)'] = df['Observed'] - df['Expected']\n",
    "\n",
    "# square (O-E)2\n",
    "df['(O-E)2'] = df['(O-E)']**2\n",
    "\n",
    "# divide (O-E)2/E\n",
    "df['(O-E)2/E'] = df['(O-E)2']/df['Expected']\n",
    "\n",
    "# Sum last column (x2)\n",
    "x2 = df['(O-E)2/E'].sum()\n",
    "\n",
    "print(f\"x2 = {x2}\")\n",
    "\n",
    "# X Critical\n",
    "n = df.shape[0]\n",
    "ddof = n-1\n",
    "x_critical = chi2.ppf(0.95, ddof)\n",
    "\n",
    "print(f\"x critical = {x_critical}\")\n",
    "\n",
    "df"
   ]
  },
  {
   "cell_type": "markdown",
   "metadata": {},
   "source": [
    "- Since x2 < x critical, we fail to reject the null hypothesis.\n",
    "- Even though server C failed twice as many times as server D, the results show that this can happen at least 5% of the time (p-value)"
   ]
  },
  {
   "cell_type": "code",
   "execution_count": null,
   "metadata": {},
   "outputs": [],
   "source": []
  }
 ],
 "metadata": {
  "hide_input": false,
  "kernelspec": {
   "display_name": "Python 3",
   "language": "python",
   "name": "python3"
  },
  "language_info": {
   "codemirror_mode": {
    "name": "ipython",
    "version": 3
   },
   "file_extension": ".py",
   "mimetype": "text/x-python",
   "name": "python",
   "nbconvert_exporter": "python",
   "pygments_lexer": "ipython3",
   "version": "3.6.8"
  },
  "toc": {
   "nav_menu": {},
   "number_sections": true,
   "sideBar": true,
   "skip_h1_title": false,
   "toc_cell": false,
   "toc_position": {
    "height": "814.716px",
    "left": "0px",
    "right": "1591.29px",
    "top": "110.284px",
    "width": "270.526px"
   },
   "toc_section_display": "block",
   "toc_window_display": true
  }
 },
 "nbformat": 4,
 "nbformat_minor": 2
}
