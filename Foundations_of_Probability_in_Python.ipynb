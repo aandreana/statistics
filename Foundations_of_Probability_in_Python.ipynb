{
  "nbformat": 4,
  "nbformat_minor": 0,
  "metadata": {
    "kernelspec": {
      "display_name": "Python 3",
      "language": "python",
      "name": "python3"
    },
    "language_info": {
      "codemirror_mode": {
        "name": "ipython",
        "version": 3
      },
      "file_extension": ".py",
      "mimetype": "text/x-python",
      "name": "python",
      "nbconvert_exporter": "python",
      "pygments_lexer": "ipython3",
      "version": "3.7.7"
    },
    "colab": {
      "name": "Foundations of Probability in Python.ipynb",
      "provenance": [],
      "include_colab_link": true
    }
  },
  "cells": [
    {
      "cell_type": "markdown",
      "metadata": {
        "id": "view-in-github",
        "colab_type": "text"
      },
      "source": [
        "<a href=\"https://colab.research.google.com/github/aandreana/statistics/blob/master/Foundations_of_Probability_in_Python.ipynb\" target=\"_parent\"><img src=\"https://colab.research.google.com/assets/colab-badge.svg\" alt=\"Open In Colab\"/></a>"
      ]
    },
    {
      "cell_type": "markdown",
      "metadata": {
        "id": "jzmKuVji_HwJ"
      },
      "source": [
        "# Foundations of Probability in Python"
      ]
    },
    {
      "cell_type": "code",
      "metadata": {
        "id": "YlRFTDMY_HwL"
      },
      "source": [
        "########################### STANDARD IMPORTS ##################################\n",
        "# Standard Imports\n",
        "\n",
        "import pandas as pd\n",
        "import numpy as np\n",
        "import matplotlib.pyplot as plt\n",
        "import seaborn as sns\n",
        "\n",
        "from matplotlib.ticker import ScalarFormatter\n",
        "import matplotlib.pyplot as plt\n",
        "import matplotlib.ticker as ticker\n",
        "from matplotlib.ticker import FuncFormatter\n",
        "\n",
        "from pathlib import Path\n",
        "from IPython.display import display, HTML\n",
        "\n",
        "import plotly.express as px\n",
        "import plotly.graph_objects as go\n",
        "from plotly.subplots import make_subplots\n",
        "\n",
        "from datetime import datetime as dt\n",
        "\n",
        "import scipy.stats as st\n",
        "\n",
        "import warnings\n",
        "\n",
        "warnings.filterwarnings('ignore')\n",
        "sns.set_style(\"whitegrid\")"
      ],
      "execution_count": null,
      "outputs": []
    },
    {
      "cell_type": "markdown",
      "metadata": {
        "id": "qVEHfATS_HwO"
      },
      "source": [
        "# Chapter 1\n",
        "## Flipping Coins"
      ]
    },
    {
      "cell_type": "markdown",
      "metadata": {
        "id": "NgR9VllD_HwO"
      },
      "source": [
        "Simulate 1 flip, with a 35% chance of heads."
      ]
    },
    {
      "cell_type": "code",
      "metadata": {
        "id": "_iaC9x9i_HwP",
        "outputId": "0511d14c-8671-413c-c68a-a78d64b584f7"
      },
      "source": [
        "# Simulate one coin flip with 35% chance of getting heads\n",
        "coin_flip = st.bernoulli.rvs(p=0.35, size=1)\n",
        "print(coin_flip)"
      ],
      "execution_count": null,
      "outputs": [
        {
          "name": "stdout",
          "output_type": "stream",
          "text": [
            "[1]\n"
          ]
        }
      ]
    },
    {
      "cell_type": "markdown",
      "metadata": {
        "id": "TUXv-BbW_HwQ"
      },
      "source": [
        "Simulate 20 trials of 10 coin flips with a 35% chance of getting heads."
      ]
    },
    {
      "cell_type": "code",
      "metadata": {
        "id": "bx5rzSEk_HwQ",
        "outputId": "0618b46c-90c8-4dcc-c855-1daa131b45fb"
      },
      "source": [
        "# Simulate 20 trials of 10 coin flips \n",
        "draws = st.binom.rvs(n=10, p=0.35, size=20)\n",
        "print(draws)"
      ],
      "execution_count": null,
      "outputs": [
        {
          "name": "stdout",
          "output_type": "stream",
          "text": [
            "[6 2 5 4 4 5 3 4 3 2 3 2 4 4 5 5 4 5 3 3]\n"
          ]
        }
      ]
    },
    {
      "cell_type": "markdown",
      "metadata": {
        "id": "oygD8ZX2_HwR"
      },
      "source": [
        "## Probability Mass and Distribution Functions"
      ]
    },
    {
      "cell_type": "markdown",
      "metadata": {
        "id": "TcCcp_Pg_HwS"
      },
      "source": [
        "### Predicting the probability of defects\n",
        "\n",
        "Any situation with exactly two possible outcomes can be modeled with binomial random variables. For example, you could model if someone likes or dislikes a product, or if they voted or not.\n",
        "\n",
        "Let's model whether or not a component from a supplier comes with a defect. From the thousands of components that we got from a supplier, we are going to take a sample of 50, selected randomly. The agreed and accepted defect rate is 2%."
      ]
    },
    {
      "cell_type": "code",
      "metadata": {
        "id": "nJY6qN7k_HwS",
        "outputId": "64b4c59b-8627-47bf-f91a-beb237c6e3f5"
      },
      "source": [
        "# What is the probability of getting more than 20 heads from a fair coin after 30 coin flips?\n",
        "st.binom.sf(k=20, n=30, p=0.5)"
      ],
      "execution_count": null,
      "outputs": [
        {
          "data": {
            "text/plain": [
              "0.02138697262853384"
            ]
          },
          "execution_count": 13,
          "metadata": {},
          "output_type": "execute_result"
        }
      ]
    },
    {
      "cell_type": "markdown",
      "metadata": {
        "id": "2T0lMXm-_HwT"
      },
      "source": [
        "### Predicting employment status\n",
        "\n",
        "Consider a survey about employment that contains the question \"Are you employed?\" It is known that 65% of respondents will answer \"yes.\" Eight survey responses have been collected."
      ]
    },
    {
      "cell_type": "code",
      "metadata": {
        "id": "RWwmpoD6_HwT",
        "outputId": "ec55f04e-aea5-4206-8884-04b0c37df8d5"
      },
      "source": [
        "# Calculate the probability of getting exactly 5 yes responses\n",
        "prob_five_yes = st.binom.pmf(k=5, n=8, p=0.65)\n",
        "print(prob_five_yes)"
      ],
      "execution_count": null,
      "outputs": [
        {
          "name": "stdout",
          "output_type": "stream",
          "text": [
            "0.27858577906250004\n"
          ]
        }
      ]
    },
    {
      "cell_type": "code",
      "metadata": {
        "id": "PDjh7-40_HwU",
        "outputId": "2b22d797-5138-48ce-b02b-1fe07464468c"
      },
      "source": [
        "# Calculate the probability of getting 3 or less no responses\n",
        "prob_three_or_less_no = 1-st.binom.cdf(k=3, n=8, p=0.65)\n",
        "print(prob_three_or_less_no)"
      ],
      "execution_count": null,
      "outputs": [
        {
          "name": "stdout",
          "output_type": "stream",
          "text": [
            "0.8939090951171875\n"
          ]
        }
      ]
    },
    {
      "cell_type": "code",
      "metadata": {
        "id": "oWAedEge_HwV",
        "outputId": "5500b4b6-9586-4223-ea84-077c884be61a"
      },
      "source": [
        "# Calculate the probability of getting more than 3 yes responses\n",
        "prob_more_than_three_yes = st.binom.sf(k=3, n=8, p=0.65)\n",
        "print(prob_more_than_three_yes)"
      ],
      "execution_count": null,
      "outputs": [
        {
          "name": "stdout",
          "output_type": "stream",
          "text": [
            "0.8939090951171875\n"
          ]
        }
      ]
    },
    {
      "cell_type": "markdown",
      "metadata": {
        "id": "AMdQJA0J_HwW"
      },
      "source": [
        "### Predicting burglary conviction rate\n",
        "\n",
        "There are many situations that can be modeled with only two outcomes: success or failure. This exercise presents a situation that can be modeled with a binomial distribution and gives you the opportunity to calculate probabilities using binom.pmf(), binom.cdf(), and binom.sf().\n",
        "\n",
        "The binom object from scipy.stats has been loaded for your convenience.\n",
        "\n",
        "Imagine that in your town there are many crimes, including burglaries, but only 20% of them get solved. Last week, there were 9 burglaries. Answer the following questions."
      ]
    },
    {
      "cell_type": "code",
      "metadata": {
        "id": "HdlOrflq_HwW",
        "outputId": "6cc758f9-a162-403f-827f-efe02274ec41"
      },
      "source": [
        "# What is the probability of solving 4 burglaries?\n",
        "four_solved = st.binom.pmf(k=4, n=9, p=0.2)\n",
        "print(four_solved)"
      ],
      "execution_count": null,
      "outputs": [
        {
          "name": "stdout",
          "output_type": "stream",
          "text": [
            "0.06606028799999995\n"
          ]
        }
      ]
    },
    {
      "cell_type": "code",
      "metadata": {
        "id": "S4OPMMcn_HwX",
        "outputId": "dfa3f534-8050-4537-9f76-23f5ab73964e"
      },
      "source": [
        "# What is the probability of solving more than 3 burglaries?\n",
        "more_than_three_solved = st.binom.sf(k=3, n=9, p=0.2)\n",
        "print(more_than_three_solved)"
      ],
      "execution_count": null,
      "outputs": [
        {
          "name": "stdout",
          "output_type": "stream",
          "text": [
            "0.08564172800000006\n"
          ]
        }
      ]
    },
    {
      "cell_type": "code",
      "metadata": {
        "id": "EwG4-Avq_HwY",
        "outputId": "74345d5e-8e3a-475f-8acf-303bf18b6338"
      },
      "source": [
        "# What is the probability of solving 2 or 3 burglaries?\n",
        "two_or_three_solved = st.binom.pmf(k=2, n=9, p=0.2) + st.binom.pmf(k=3, n=9, p=0.2)\n",
        "print(two_or_three_solved)"
      ],
      "execution_count": null,
      "outputs": [
        {
          "name": "stdout",
          "output_type": "stream",
          "text": [
            "0.4781506559999997\n"
          ]
        }
      ]
    },
    {
      "cell_type": "code",
      "metadata": {
        "id": "0gOeC6Mg_HwZ",
        "outputId": "2b8b910f-b437-4d28-b711-edc0d625acb0"
      },
      "source": [
        "# What is the probability of solving 1 or fewer or more than 7 burglaries?\n",
        "tail_probabilities = st.binom.cdf(k=1, n=9, p=0.2) + st.binom.sf(k=7, n=9, p=0.2)\n",
        "print(tail_probabilities)"
      ],
      "execution_count": null,
      "outputs": [
        {
          "name": "stdout",
          "output_type": "stream",
          "text": [
            "0.43622655999999993\n"
          ]
        }
      ]
    },
    {
      "cell_type": "markdown",
      "metadata": {
        "id": "iMra0mns_HwZ"
      },
      "source": [
        "## Expected Value, Mean and Variance"
      ]
    },
    {
      "cell_type": "code",
      "metadata": {
        "id": "viNoZebn_Hwa",
        "outputId": "b0cd997e-da61-4b0c-d12b-c1dae6b2fe88"
      },
      "source": [
        "# How do you calculate the expected value and the variance from a binomial distribution with parameters n=10 and p=0.25?\n",
        "st.binom.stats(n=10, p=0.25)"
      ],
      "execution_count": null,
      "outputs": [
        {
          "data": {
            "text/plain": [
              "(array(2.5), array(1.875))"
            ]
          },
          "execution_count": 25,
          "metadata": {},
          "output_type": "execute_result"
        }
      ]
    },
    {
      "cell_type": "markdown",
      "metadata": {
        "id": "qg8av2_q_Hwa"
      },
      "source": [
        "### Calculating the sample mean\n",
        "Simulation involves generating samples and then measuring. In this exercise, we'll generate some samples and calculate the sample mean with the describe() method. See what you observe about the sample mean as the number of samples increases."
      ]
    },
    {
      "cell_type": "code",
      "metadata": {
        "id": "_cloggSk_Hwb",
        "outputId": "06ec6a8d-64c7-462d-93a7-9890108f419e"
      },
      "source": [
        "# Sample mean from a generated sample of 100 fair coin flips\n",
        "sample_of_100_flips = st.binom.rvs(n=1, p=0.5, size=100)\n",
        "sample_mean_100_flips = st.describe(sample_of_100_flips).mean\n",
        "print(sample_mean_100_flips)"
      ],
      "execution_count": null,
      "outputs": [
        {
          "name": "stdout",
          "output_type": "stream",
          "text": [
            "0.54\n"
          ]
        }
      ]
    },
    {
      "cell_type": "code",
      "metadata": {
        "id": "XvfJep0P_Hwb",
        "outputId": "9480a49c-1687-4050-b9ab-96ca7b149faf"
      },
      "source": [
        "# Sample mean from a generated sample of 1,000 fair coin flips\n",
        "sample_mean_1000_flips = st.describe(st.binom.rvs(n=1, p=0.5, size=1000)).mean\n",
        "print(sample_mean_1000_flips)"
      ],
      "execution_count": null,
      "outputs": [
        {
          "name": "stdout",
          "output_type": "stream",
          "text": [
            "0.515\n"
          ]
        }
      ]
    },
    {
      "cell_type": "code",
      "metadata": {
        "id": "VXejnghk_Hwb",
        "outputId": "3203eb39-98da-4618-be4f-d2412c715d3b"
      },
      "source": [
        "# Sample mean from a generated sample of 2,000 fair coin flips\n",
        "sample_mean_2000_flips = st.describe(st.binom.rvs(n=1, p=0.5, size=2000)).mean\n",
        "print(sample_mean_2000_flips)"
      ],
      "execution_count": null,
      "outputs": [
        {
          "name": "stdout",
          "output_type": "stream",
          "text": [
            "0.5115\n"
          ]
        }
      ]
    },
    {
      "cell_type": "markdown",
      "metadata": {
        "id": "WTIZFPW-_Hwc"
      },
      "source": [
        "#### Checking the result\n",
        "\n",
        "Now try generating some samples and calculating the expected value and variance yourself, then using the method provided by binom to check if the sample values match the theoretical values."
      ]
    },
    {
      "cell_type": "code",
      "metadata": {
        "id": "leJyl4vJ_Hwd",
        "outputId": "1b9b859a-e905-4de9-b29f-da35397d9b7c"
      },
      "source": [
        "sample = st.binom.rvs(n=10, p=0.3, size=2000)\n",
        "\n",
        "# Calculate the sample mean and variance from the sample variable\n",
        "sample_describe = st.describe(sample)\n",
        "\n",
        "# Calculate the sample mean using the values of n and p\n",
        "mean = 10*0.3\n",
        "\n",
        "# Calculate the sample variance using the value of 1-p\n",
        "variance = mean*0.7\n",
        "\n",
        "# Calculate the sample mean and variance for 10 coin flips with p=0.3\n",
        "binom_stats = st.binom.stats(n=10, p=0.3)\n",
        "\n",
        "print(sample_describe.mean, sample_describe.variance, mean, variance, binom_stats)"
      ],
      "execution_count": null,
      "outputs": [
        {
          "name": "stdout",
          "output_type": "stream",
          "text": [
            "3.0075 2.1044959979989994 3.0 2.0999999999999996 (array(3.), array(2.1))\n"
          ]
        }
      ]
    },
    {
      "cell_type": "markdown",
      "metadata": {
        "id": "PGjqkNTJ_Hwd"
      },
      "source": [
        "### Calculating the mean and variance of a sample\n",
        "\n",
        "Now that you're familiar with working with coin flips using the binom object and calculating the mean and variance, let's try simulating a larger number of coin flips and calculating the sample mean and variance. Comparing this with the theoretical mean and variance will allow you to check if your simulated data follows the distribution you want."
      ]
    },
    {
      "cell_type": "code",
      "metadata": {
        "id": "ZXVLuIRS_Hwe",
        "outputId": "94e34939-0739-49d2-efc5-790b29e3a9db"
      },
      "source": [
        "averages = []\n",
        "variances = []\n",
        "\n",
        "for i in range(0, 1500):\n",
        "    # 10 trials of 10 coin flips with 25% probability of heads\n",
        "    sample = st.binom.rvs(n=10, p=0.25, size=10)\n",
        "    # Mean and variance of the values in the sample variable\n",
        "    averages.append(st.describe(sample).mean)\n",
        "    variances.append(st.describe(sample).variance)\n",
        "    \n",
        "\n",
        "# Plot the averages and variances   \n",
        "plt.figure(figsize=(6,6))\n",
        "sns.scatterplot(x=averages, y=variances)\n",
        "plt.ylabel(\"Variances\")\n",
        "plt.xlabel(\"Averages\")\n",
        "plt.title(\"Averages vs. Variances\")\n",
        "plt.show()"
      ],
      "execution_count": null,
      "outputs": [
        {
          "data": {
            "image/png": "[encoded data removed]",
            "text/plain": [
              "<Figure size 432x432 with 1 Axes>"
            ]
          },
          "metadata": {},
          "output_type": "display_data"
        }
      ]
    },
    {
      "cell_type": "markdown",
      "metadata": {
        "id": "U7zrDK4R_Hwe"
      },
      "source": [
        "# Chapter 2\n",
        "## Calculating the Probability of Two Events"
      ]
    },
    {
      "cell_type": "markdown",
      "metadata": {
        "id": "YTd9jAow_Hwe"
      },
      "source": [
        "Any overlap?\n",
        "When you calculate probabilities for multiple events the most important thing to notice is the relation between the events, in particular, if there is any overlap between any two events.\n",
        "\n",
        "What would be the formula to calculate the probability of A or B, given that A and B are not mutually exclusive?\n",
        "\n",
        "Answer = $$P(A and B) = P(A) + P(B)$$"
      ]
    },
    {
      "cell_type": "markdown",
      "metadata": {
        "id": "3cEjRYy8_Hwe"
      },
      "source": [
        "### Measuring a sample\n",
        "\n",
        "Let's work with a sample of coin flips to calculate some probabilities. You will calculate absolute and relative frequency and check the theoretical value from the distribution of the sample data.\n",
        "\n",
        "The array sample_of_two_coin_flips has 1,000 experiments, each consisting of two fair coin flips. For each experiment, we record the number of heads out of the two coin flips: 0, 1, or 2."
      ]
    },
    {
      "cell_type": "code",
      "metadata": {
        "id": "yAce1DUd_Hwf"
      },
      "source": [
        "sample_of_two_coin_flips = np.array([1, 2, 1, 1, 0, 0, 0, 2, 1, 1, 0, 2, 2, 0, 0, 0, 1, 1, 1, 1, 1, 0,\n",
        "       1, 1, 1, 2, 0, 1, 1, 0, 1, 0, 0, 2, 2, 2, 1, 0, 1, 1, 0, 1, 0, 2,\n",
        "       1, 1, 1, 1, 1, 0, 2, 2, 2, 2, 1, 2, 0, 0, 0, 1, 1, 1, 2, 1, 1, 1,\n",
        "       0, 2, 0, 2, 2, 0, 0, 2, 1, 1, 2, 0, 1, 0, 2, 1, 1, 0, 1, 1, 1, 1,\n",
        "       2, 1, 0, 1, 2, 1, 2, 1, 1, 1, 0, 0, 0, 1, 1, 1, 2, 0, 1, 2, 0, 0,\n",
        "       1, 0, 2, 2, 1, 2, 2, 0, 2, 1, 2, 2, 1, 0, 0, 1, 2, 2, 0, 1, 1, 0,\n",
        "       0, 1, 2, 1, 1, 1, 1, 2, 2, 1, 1, 1, 1, 0, 1, 1, 0, 1, 2, 0, 0, 1,\n",
        "       2, 0, 1, 2, 0, 1, 1, 1, 1, 1, 0, 2, 1, 0, 0, 1, 1, 0, 1, 0, 1, 0,\n",
        "       1, 1, 2, 0, 1, 0, 2, 2, 1, 1, 2, 1, 1, 0, 0, 2, 2, 1, 1, 1, 1, 2,\n",
        "       2, 2, 1, 0, 0, 2, 1, 0, 0, 1, 0, 0, 1, 1, 1, 0, 1, 0, 1, 1, 1, 2,\n",
        "       1, 1, 0, 1, 1, 0, 2, 1, 2, 1, 2, 1, 1, 1, 0, 1, 1, 0, 1, 0, 2, 2,\n",
        "       2, 1, 0, 2, 1, 2, 2, 2, 1, 1, 2, 1, 0, 1, 2, 1, 1, 0, 1, 2, 0, 1,\n",
        "       2, 1, 1, 1, 1, 1, 2, 2, 2, 2, 1, 1, 2, 1, 1, 2, 2, 1, 1, 0, 1, 0,\n",
        "       1, 1, 1, 1, 0, 0, 2, 1, 0, 1, 2, 0, 1, 0, 0, 1, 1, 1, 1, 2, 1, 1,\n",
        "       2, 1, 1, 0, 0, 2, 2, 1, 1, 0, 0, 1, 1, 1, 1, 1, 2, 1, 1, 1, 1, 0,\n",
        "       1, 2, 0, 0, 0, 0, 2, 1, 1, 0, 1, 1, 0, 1, 1, 1, 1, 0, 1, 1, 1, 2,\n",
        "       1, 0, 0, 1, 0, 1, 2, 1, 1, 1, 1, 1, 2, 1, 2, 2, 0, 0, 0, 0, 0, 1,\n",
        "       0, 1, 2, 0, 2, 1, 0, 1, 1, 2, 1, 2, 1, 0, 2, 2, 2, 1, 1, 2, 1, 2,\n",
        "       2, 1, 2, 2, 0, 2, 1, 2, 1, 2, 1, 0, 2, 0, 1, 2, 2, 1, 1, 1, 1, 1,\n",
        "       1, 2, 2, 2, 0, 1, 0, 1, 1, 2, 1, 0, 0, 2, 1, 0, 0, 1, 0, 2, 1, 0,\n",
        "       0, 2, 1, 1, 2, 2, 2, 2, 1, 0, 2, 1, 1, 2, 0, 1, 0, 1, 0, 0, 0, 1,\n",
        "       1, 1, 2, 1, 1, 2, 0, 2, 0, 2, 0, 2, 1, 2, 0, 1, 2, 1, 1, 1, 1, 1,\n",
        "       1, 2, 0, 1, 2, 2, 1, 1, 1, 0, 1, 1, 1, 0, 2, 2, 1, 1, 1, 2, 1, 0,\n",
        "       2, 2, 2, 1, 1, 1, 2, 2, 0, 0, 1, 2, 2, 0, 1, 1, 2, 2, 2, 1, 1, 1,\n",
        "       0, 2, 2, 2, 2, 1, 2, 2, 2, 0, 1, 0, 2, 1, 0, 1, 1, 1, 0, 1, 1, 2,\n",
        "       1, 2, 1, 1, 2, 1, 0, 0, 2, 1, 1, 0, 0, 0, 1, 1, 1, 1, 2, 1, 1, 2,\n",
        "       1, 1, 2, 2, 0, 2, 1, 1, 1, 2, 1, 1, 1, 0, 0, 0, 0, 0, 0, 1, 0, 1,\n",
        "       2, 1, 1, 0, 0, 0, 0, 1, 0, 0, 0, 1, 0, 1, 1, 1, 0, 2, 1, 0, 2, 2,\n",
        "       0, 1, 2, 1, 0, 0, 1, 1, 1, 1, 1, 1, 0, 1, 1, 2, 1, 1, 0, 1, 1, 0,\n",
        "       1, 1, 0, 1, 0, 1, 0, 2, 1, 1, 2, 1, 0, 1, 1, 1, 1, 0, 1, 1, 1, 1,\n",
        "       1, 2, 1, 0, 0, 0, 0, 0, 0, 1, 0, 2, 0, 1, 1, 2, 0, 1, 2, 2, 2, 1,\n",
        "       0, 1, 2, 1, 1, 1, 2, 0, 1, 1, 1, 0, 0, 1, 1, 1, 0, 1, 1, 0, 1, 0,\n",
        "       0, 2, 1, 2, 1, 1, 2, 1, 1, 1, 1, 2, 2, 2, 0, 1, 2, 0, 0, 1, 1, 2,\n",
        "       0, 2, 0, 0, 0, 2, 1, 1, 1, 2, 1, 2, 1, 1, 1, 1, 1, 1, 0, 2, 1, 1,\n",
        "       2, 1, 0, 2, 1, 1, 0, 2, 1, 1, 2, 2, 0, 1, 0, 1, 0, 1, 2, 2, 1, 2,\n",
        "       0, 2, 0, 1, 2, 0, 0, 1, 1, 1, 1, 1, 1, 1, 0, 2, 1, 1, 1, 2, 0, 1,\n",
        "       1, 1, 0, 2, 2, 1, 1, 2, 1, 0, 1, 1, 1, 1, 2, 2, 1, 0, 2, 2, 0, 2,\n",
        "       2, 1, 1, 1, 0, 1, 2, 0, 1, 1, 1, 2, 1, 1, 1, 1, 0, 1, 0, 0, 1, 1,\n",
        "       2, 1, 1, 1, 0, 1, 0, 2, 0, 1, 0, 2, 1, 1, 0, 1, 0, 2, 0, 0, 0, 1,\n",
        "       1, 0, 2, 1, 1, 1, 1, 1, 0, 0, 2, 2, 1, 1, 1, 1, 0, 0, 1, 1, 0, 0,\n",
        "       0, 1, 0, 0, 2, 0, 1, 0, 0, 0, 1, 2, 2, 1, 1, 0, 1, 2, 0, 0, 0, 0,\n",
        "       0, 1, 1, 2, 2, 1, 1, 1, 1, 1, 1, 1, 1, 1, 1, 2, 2, 0, 2, 1, 2, 2,\n",
        "       1, 0, 1, 1, 1, 1, 0, 2, 2, 1, 0, 1, 0, 2, 0, 1, 1, 1, 1, 2, 0, 0,\n",
        "       0, 2, 2, 1, 1, 1, 0, 2, 1, 1, 1, 0, 0, 1, 0, 1, 0, 1, 1, 1, 1, 1,\n",
        "       1, 1, 1, 2, 1, 0, 0, 1, 1, 0, 1, 1, 1, 2, 0, 0, 1, 1, 1, 1, 0, 2,\n",
        "       2, 1, 1, 1, 1, 0, 2, 0, 2, 1])"
      ],
      "execution_count": null,
      "outputs": []
    },
    {
      "cell_type": "code",
      "metadata": {
        "id": "tT3j6Dg-_Hwh",
        "outputId": "b9fb8aca-c346-4c23-bc6f-4d9576c121d9"
      },
      "source": [
        "# Count how many times you got 2 heads from the sample data\n",
        "count_2_heads = st.find_repeats(sample_of_two_coin_flips).counts[2]\n",
        "\n",
        "# Divide the number of heads by the total number of draws\n",
        "prob_2_heads = count_2_heads / 1000\n",
        "\n",
        "# Display the result\n",
        "print(prob_2_heads)"
      ],
      "execution_count": null,
      "outputs": [
        {
          "name": "stdout",
          "output_type": "stream",
          "text": [
            "0.243\n"
          ]
        }
      ]
    },
    {
      "cell_type": "code",
      "metadata": {
        "id": "Sha8mqto_Hwk",
        "outputId": "82a4cb3b-386d-4e65-f766-80b20d7ff9d8"
      },
      "source": [
        "# Get the relative frequency from sample_of_two_coin_flips\n",
        "# Set numbins as 3\n",
        "# Extract frequency\n",
        "rel_freq = st.relfreq(sample_of_two_coin_flips, numbins=3).frequency\n",
        "print(rel_freq)"
      ],
      "execution_count": null,
      "outputs": [
        {
          "name": "stdout",
          "output_type": "stream",
          "text": [
            "[0.269 0.488 0.243]\n"
          ]
        }
      ]
    },
    {
      "cell_type": "code",
      "metadata": {
        "id": "D9eY34x2_Hwm",
        "outputId": "0c92848c-790f-4bb9-dd9a-0e584c481069"
      },
      "source": [
        "# Probability of getting 0, 1, or 2 from the distribution\n",
        "probabilities = st.binom.pmf([0,1,2], n=2, p=0.5)\n",
        "print(probabilities)"
      ],
      "execution_count": null,
      "outputs": [
        {
          "name": "stdout",
          "output_type": "stream",
          "text": [
            "[0.25 0.5  0.25]\n"
          ]
        }
      ]
    },
    {
      "cell_type": "markdown",
      "metadata": {
        "id": "8AVHIrCe_Hwp"
      },
      "source": [
        "### Joint probabilities\n",
        "\n",
        "In this exercise we're going to calculate joint probabilities using the following table:\n",
        "\n",
        "Joint probability table\n",
        "\n",
        "<table>\n",
        "    <tr><th></th>\n",
        "        <th>Engine</th>\n",
        "        <th>Gear Box</th>\n",
        "    </tr>\n",
        "    <tr><th>Fails</th>\n",
        "        <td>0.01</td>\n",
        "        <td>0.005</td>\n",
        "    </tr>\n",
        "    <tr><th>Works</th>\n",
        "        <td>0.99</td>\n",
        "        <td>0.995</td>\n",
        "    </tr>\n",
        "</table>\n",
        "\n",
        "Take the values from the table, create variables, and calculate the probability of the event in each step."
      ]
    },
    {
      "cell_type": "code",
      "metadata": {
        "id": "WlgSR2l-_Hwq",
        "outputId": "392604c5-4a99-4acf-86a8-b7ab2b38d9ab"
      },
      "source": [
        "# Calculate the probability that the engine and gear box both work.\n",
        "\n",
        "# Individual probabilities\n",
        "P_Eng_works = 0.99\n",
        "P_GearB_works = 0.995\n",
        "\n",
        "# Joint probability calculation\n",
        "P_both_works = P_Eng_works * P_GearB_works\n",
        "\n",
        "print(P_both_works)"
      ],
      "execution_count": null,
      "outputs": [
        {
          "name": "stdout",
          "output_type": "stream",
          "text": [
            "0.98505\n"
          ]
        }
      ]
    },
    {
      "cell_type": "code",
      "metadata": {
        "id": "mXjXDoYm_Hwq",
        "outputId": "0fc75d93-a5de-4a1b-99a2-a707a5d91c64"
      },
      "source": [
        "# Calculate the probability that one fails -- either engine or gear box -- but not both.\n",
        "\n",
        "# Individual probabilities\n",
        "P_Eng_fails = 0.01\n",
        "P_Eng_works = 0.99\n",
        "P_GearB_fails = 0.005\n",
        "P_GearB_works = 0.995\n",
        "\n",
        "# Joint probability calculation\n",
        "P_only_GearB_fails = P_GearB_fails * P_Eng_works\n",
        "P_only_Eng_fails = P_Eng_fails * P_GearB_works\n",
        "\n",
        "# Calculate result\n",
        "P_one_fails = P_only_GearB_fails + P_only_Eng_fails\n",
        "\n",
        "print(P_one_fails)"
      ],
      "execution_count": null,
      "outputs": [
        {
          "name": "stdout",
          "output_type": "stream",
          "text": [
            "0.0149\n"
          ]
        }
      ]
    },
    {
      "cell_type": "code",
      "metadata": {
        "id": "S-BDLtoZ_Hwr",
        "outputId": "707efbfc-1fb9-4079-a430-db8f6b16adae"
      },
      "source": [
        "# What is the probability that either both work or both fail?\n",
        "\n",
        "# Individual probabilities\n",
        "P_Eng_fails = 0.01\n",
        "P_Eng_works = 0.99\n",
        "P_GearB_fails = 0.005\n",
        "P_GearB_works = 0.995\n",
        "\n",
        "# Joint probability calculation\n",
        "P_EngW_GearBW = P_Eng_works * P_GearB_works\n",
        "P_EngF_GearBF = P_Eng_fails * P_GearB_fails\n",
        "\n",
        "# Calculate result\n",
        "P_fails_or_works = P_EngW_GearBW + P_EngF_GearBF\n",
        "\n",
        "print(P_fails_or_works)"
      ],
      "execution_count": null,
      "outputs": [
        {
          "name": "stdout",
          "output_type": "stream",
          "text": [
            "0.9851\n"
          ]
        }
      ]
    },
    {
      "cell_type": "markdown",
      "metadata": {
        "id": "ZJ0nSs4i_Hwr"
      },
      "source": [
        "### Deck of cards\n",
        "\n",
        "In this exercise, you'll use the following deck of cards to calculate some probabilities in each step:"
      ]
    },
    {
      "cell_type": "code",
      "metadata": {
        "id": "TPesOIs0_Hwr",
        "outputId": "eca48e21-7884-48cc-d7b4-09d4afae8723"
      },
      "source": [
        "# Calculate the probability of not getting an Ace.\n",
        "\n",
        "# Ace probability\n",
        "P_Ace = 4/52\n",
        "\n",
        "# Not Ace probability\n",
        "P_not_Ace = 1 - P_Ace\n",
        "\n",
        "print(P_not_Ace)"
      ],
      "execution_count": null,
      "outputs": [
        {
          "name": "stdout",
          "output_type": "stream",
          "text": [
            "0.9230769230769231\n"
          ]
        }
      ]
    },
    {
      "cell_type": "code",
      "metadata": {
        "id": "V-NQguAV_Hws",
        "outputId": "be0af5b1-555d-4bba-82da-857130697953"
      },
      "source": [
        "# Calculate the probability of getting a red card.\n",
        "\n",
        "# Figure probabilities\n",
        "P_Hearts = 13/52\n",
        "P_Diamonds = 13/52\n",
        "\n",
        "# Probability of red calculation\n",
        "P_Red = P_Hearts + P_Diamonds\n",
        "\n",
        "print(P_Red)"
      ],
      "execution_count": null,
      "outputs": [
        {
          "name": "stdout",
          "output_type": "stream",
          "text": [
            "0.5\n"
          ]
        }
      ]
    },
    {
      "cell_type": "code",
      "metadata": {
        "id": "l4TF1fHY_Hws",
        "outputId": "ce8958be-a96f-4bf3-e5c6-89be851d0bbb"
      },
      "source": [
        "# Calculate the probability of getting a Jack or a spade.\n",
        "\n",
        "# Figure probabilities\n",
        "P_Jack = 4/52\n",
        "P_Spade = 13/52\n",
        "\n",
        "# Joint probability\n",
        "P_Jack_n_Spade = 1/52\n",
        "\n",
        "# Probability of Jack or spade\n",
        "P_Jack_or_Spade = P_Jack + P_Spade - P_Jack_n_Spade\n",
        "\n",
        "print(P_Jack_or_Spade)"
      ],
      "execution_count": null,
      "outputs": [
        {
          "name": "stdout",
          "output_type": "stream",
          "text": [
            "0.3076923076923077\n"
          ]
        }
      ]
    },
    {
      "cell_type": "code",
      "metadata": {
        "id": "n05urDPP_Hwt",
        "outputId": "998f0da4-1974-4883-9397-fdb0e4e717db"
      },
      "source": [
        "# Calculate the probability of getting a King or a Queen.\n",
        "\n",
        "P_King = 4/52\n",
        "P_Queen = 4/52\n",
        "\n",
        "# Joint probability\n",
        "P_King_n_Queen = 0\n",
        "\n",
        "# Probability of King or Queen\n",
        "P_King_or_Queen = P_King + P_Queen - P_King_n_Queen\n",
        "\n",
        "print(P_King_or_Queen)"
      ],
      "execution_count": null,
      "outputs": [
        {
          "name": "stdout",
          "output_type": "stream",
          "text": [
            "0.15384615384615385\n"
          ]
        }
      ]
    },
    {
      "cell_type": "markdown",
      "metadata": {
        "id": "TmIJkx9x_Hwt"
      },
      "source": [
        "## Conditional Probabilities"
      ]
    },
    {
      "cell_type": "markdown",
      "metadata": {
        "id": "X7CO1tS8_Hwu"
      },
      "source": [
        "### Delayed flights\n",
        "\n",
        "A certain airline offers flights departing to New York on Tuesdays and Fridays, but sometimes the flights are delayed:\n",
        "\n",
        "<table>\n",
        "    <tr>\n",
        "        <th></th>\n",
        "        <th>Delayed</th>\n",
        "        <th>On Time</th>\n",
        "        <th>Total</th>\n",
        "    </tr>\n",
        "    <tr>\n",
        "        <th>Tuesday</th>\n",
        "        <td>24</td>\n",
        "        <td>114</td>\n",
        "        <td>138</td>\n",
        "    </tr>\n",
        "    <tr>\n",
        "        <th>Friday</th>\n",
        "        <td>11</td>\n",
        "        <td>127</td>\n",
        "        <td>138</td>\n",
        "    </tr>\n",
        "    <tr>\n",
        "        <th>Total</th>\n",
        "        <td>35</td>\n",
        "        <td>241</td>\n",
        "        <td>276</td>\n",
        "    </tr>\n",
        "</table>\n",
        "At the bottom of the Delayed column you have a total of 35, which means there were 35 delayed flights out of the total of 276 departures in the sample. Of these, 24 were on Tuesday and 11 on Friday."
      ]
    },
    {
      "cell_type": "code",
      "metadata": {
        "id": "zUwyT16E_Hwu",
        "outputId": "cab1d2ea-2d91-4af1-c92b-20d3f45af7c8"
      },
      "source": [
        "# What is the probability of a flight being on time?\n",
        "\n",
        "# Needed quantities\n",
        "On_time = 241\n",
        "Total_departures = 276\n",
        "\n",
        "# Probability calculation\n",
        "P_On_time = On_time / Total_departures\n",
        "\n",
        "print(P_On_time)"
      ],
      "execution_count": null,
      "outputs": [
        {
          "name": "stdout",
          "output_type": "stream",
          "text": [
            "0.8731884057971014\n"
          ]
        }
      ]
    },
    {
      "cell_type": "code",
      "metadata": {
        "id": "zwmNKa1x_Hwu",
        "outputId": "5e3cafb3-970a-4792-c3ac-dcc20226a8c4"
      },
      "source": [
        "# Every departure is on time with probability P_On_time. What is the probability of a flight being delayed?\n",
        "\n",
        "# Needed quantities\n",
        "P_On_time = 241 / 276\n",
        "\n",
        "# Probability calculation\n",
        "P_Delayed = 1 - P_On_time\n",
        "\n",
        "print(P_Delayed)"
      ],
      "execution_count": null,
      "outputs": [
        {
          "name": "stdout",
          "output_type": "stream",
          "text": [
            "0.12681159420289856\n"
          ]
        }
      ]
    },
    {
      "cell_type": "code",
      "metadata": {
        "id": "rAzUErzS_Hwu",
        "outputId": "2ee8a23e-7bd3-44a0-ee25-6e24021eb1e1"
      },
      "source": [
        "# Given that it's Tuesday, what is the probability of a flight being delayed (P(Delayed|Tuesday))?\n",
        "\n",
        "# Needed quantities\n",
        "Delayed_on_Tuesday = 24\n",
        "On_Tuesday = 138\n",
        "\n",
        "# Probability calculation\n",
        "P_Delayed_g_Tuesday = Delayed_on_Tuesday / On_Tuesday\n",
        "\n",
        "print(P_Delayed_g_Tuesday)"
      ],
      "execution_count": null,
      "outputs": [
        {
          "name": "stdout",
          "output_type": "stream",
          "text": [
            "0.17391304347826086\n"
          ]
        }
      ]
    },
    {
      "cell_type": "code",
      "metadata": {
        "id": "krscN9qA_Hwu",
        "outputId": "d9f144e4-e81d-4e37-aa59-0da157494964"
      },
      "source": [
        "# Given that it's Friday, what is the probability of a flight being delayed (P(Delayed|Friday))?\n",
        "\n",
        "# Needed quantities\n",
        "Delayed_on_Friday = 11\n",
        "On_Friday = 138\n",
        "\n",
        "# Probability calculation\n",
        "P_Delayed_g_Friday = Delayed_on_Friday / On_Friday\n",
        "\n",
        "print(P_Delayed_g_Friday)"
      ],
      "execution_count": null,
      "outputs": [
        {
          "name": "stdout",
          "output_type": "stream",
          "text": [
            "0.07971014492753623\n"
          ]
        }
      ]
    },
    {
      "cell_type": "markdown",
      "metadata": {
        "id": "YMuOeQHX_Hwv"
      },
      "source": [
        "Contingency table\n",
        "\n",
        "The following table shows the numbers of red and black cards in a deck that are Aces and non-Aces:\n",
        "\n",
        "\n",
        "<table>\n",
        "    <tr>\n",
        "        <th></th>\n",
        "        <th>Red</th>\n",
        "        <th>Black</th>\n",
        "        <th>Total</th>\n",
        "    </tr>\n",
        "    <tr>\n",
        "        <th>Ace</th>\n",
        "        <td>2</td>\n",
        "        <td>2</td>\n",
        "        <td>4</td>\n",
        "    </tr>\n",
        "    <tr>\n",
        "        <th>Non Ace</th>\n",
        "        <td>24</td>\n",
        "        <td>24</td>\n",
        "        <td>48</td>\n",
        "    </tr>\n",
        "    <tr>\n",
        "        <th>Total</th>\n",
        "        <td>26</td>\n",
        "        <td>26</td>\n",
        "        <td>52</td>\n",
        "    </tr>\n",
        "</table>\n",
        "\n",
        "The total in the Red column is 26, which means there are 26 red cards in the deck. Of these, 2 are Aces and 24 are non-Aces. There are 52 cards in a deck. Use the values in the table to calculate some conditional probabilities.\n"
      ]
    },
    {
      "cell_type": "code",
      "metadata": {
        "id": "jqiLKSch_Hwv",
        "outputId": "acd0689c-ebf7-4f39-fd9b-79132fa19f3d"
      },
      "source": [
        "# Calculate P(Ace|Red).\n",
        "\n",
        "# Individual probabilities\n",
        "P_Red = 26/52\n",
        "P_Red_n_Ace = 2/52\n",
        "\n",
        "# Conditional probability calculation\n",
        "P_Ace_given_Red = P_Red_n_Ace / P_Red\n",
        "\n",
        "print(P_Ace_given_Red)"
      ],
      "execution_count": null,
      "outputs": [
        {
          "name": "stdout",
          "output_type": "stream",
          "text": [
            "0.07692307692307693\n"
          ]
        }
      ]
    },
    {
      "cell_type": "code",
      "metadata": {
        "id": "UJKgL3iq_Hwv",
        "outputId": "39e55417-03d5-4c34-b5ff-9affef13279a"
      },
      "source": [
        "# Calculate P(Black|Ace).\n",
        "\n",
        "# Individual probabilities\n",
        "P_Ace = 4/52\n",
        "P_Ace_n_Black = 2/52\n",
        "\n",
        "# Conditional probability calculation\n",
        "P_Black_given_Ace = P_Ace_n_Black / P_Ace\n",
        "\n",
        "print(P_Black_given_Ace)"
      ],
      "execution_count": null,
      "outputs": [
        {
          "name": "stdout",
          "output_type": "stream",
          "text": [
            "0.5\n"
          ]
        }
      ]
    },
    {
      "cell_type": "code",
      "metadata": {
        "id": "S8AKLNBc_Hwv",
        "outputId": "e08f4d86-f5a4-40ae-f2b7-c4aa35047631"
      },
      "source": [
        "# Calculate P(Non Ace|Black).\n",
        "\n",
        "# Individual probabilities\n",
        "P_Black = 26/52\n",
        "P_Black_n_Non_ace = 24/52\n",
        "\n",
        "# Conditional probability calculation\n",
        "P_Non_ace_given_Black = P_Black_n_Non_ace / P_Black\n",
        "\n",
        "print(P_Non_ace_given_Black)"
      ],
      "execution_count": null,
      "outputs": [
        {
          "name": "stdout",
          "output_type": "stream",
          "text": [
            "0.9230769230769231\n"
          ]
        }
      ]
    },
    {
      "cell_type": "code",
      "metadata": {
        "id": "6xVp05Yz_Hwv",
        "outputId": "a958e171-3441-4cd5-9d22-d22e5f52773d"
      },
      "source": [
        "# Calculate P(Red|Non Ace).\n",
        "\n",
        "# Individual probabilities\n",
        "P_Non_ace = 48/52\n",
        "P_Non_ace_n_Red = 24/52\n",
        "\n",
        "# Conditional probability calculation\n",
        "P_Red_given_Non_ace = P_Non_ace_n_Red / P_Non_ace\n",
        "\n",
        "print(P_Red_given_Non_ace)"
      ],
      "execution_count": null,
      "outputs": [
        {
          "name": "stdout",
          "output_type": "stream",
          "text": [
            "0.5\n"
          ]
        }
      ]
    },
    {
      "cell_type": "markdown",
      "metadata": {
        "id": "D2VjKlRt_Hww"
      },
      "source": [
        "### More cards\n",
        "\n",
        "Now let's use the deck of cards to calculate some conditional probabilities."
      ]
    },
    {
      "cell_type": "code",
      "metadata": {
        "id": "xqVmmiQz_Hwx",
        "outputId": "efb6af40-e151-4fcf-d120-09646e0d3aba"
      },
      "source": [
        "# Calculate the probability of getting two Jacks (P(Jack and Jack)).\n",
        "\n",
        "# Needed probabilities\n",
        "P_first_Jack = 4/52\n",
        "P_Jack_given_Jack = 3/51\n",
        "\n",
        "# Joint probability calculation\n",
        "P_two_Jacks = P_first_Jack * P_Jack_given_Jack\n",
        "\n",
        "print(P_two_Jacks)"
      ],
      "execution_count": null,
      "outputs": [
        {
          "name": "stdout",
          "output_type": "stream",
          "text": [
            "0.004524886877828055\n"
          ]
        }
      ]
    },
    {
      "cell_type": "code",
      "metadata": {
        "id": "Es_NARDW_Hwx",
        "outputId": "4f9da354-1055-46a1-aeb2-f7732609f4c9"
      },
      "source": [
        "# Calculate P(Ace|Spade)\n",
        "\n",
        "# Needed probabilities\n",
        "P_Spade = 13/52\n",
        "P_Spade_n_Ace = 1/52\n",
        "\n",
        "# Conditional probability calculation\n",
        "P_Ace_given_Spade = P_Spade_n_Ace / P_Spade\n",
        "\n",
        "print(P_Ace_given_Spade)"
      ],
      "execution_count": null,
      "outputs": [
        {
          "name": "stdout",
          "output_type": "stream",
          "text": [
            "0.07692307692307693\n"
          ]
        }
      ]
    },
    {
      "cell_type": "code",
      "metadata": {
        "id": "1iBowILZ_Hwy",
        "outputId": "38967547-f74c-4e98-b965-f21eb8d460d2"
      },
      "source": [
        "# Calculate P(Queen|Face card)\n",
        "\n",
        "# Needed probabilities\n",
        "P_Face_card = 12/52\n",
        "P_Face_card_n_Queen = 4/52\n",
        "\n",
        "# Conditional probability calculation\n",
        "P_Queen_given_Face_card = P_Face_card_n_Queen / P_Face_card\n",
        "\n",
        "print(P_Queen_given_Face_card)"
      ],
      "execution_count": null,
      "outputs": [
        {
          "name": "stdout",
          "output_type": "stream",
          "text": [
            "0.3333333333333333\n"
          ]
        }
      ]
    },
    {
      "cell_type": "markdown",
      "metadata": {
        "id": "0qToBwlW_Hwy"
      },
      "source": [
        "## Total Probability Law"
      ]
    },
    {
      "cell_type": "markdown",
      "metadata": {
        "id": "lSIypIiO_Hwy"
      },
      "source": [
        "### Formula 1 engines\n",
        "\n",
        "Suppose that two manufacturers, A and B, supply the engines for Formula 1 racing cars, with the following characteristics:\n",
        "\n",
        "- 99% of the engines from factory A last more than 5,000 km.\n",
        "- Factory B manufactures engines that last more than 5,000 km with 95% probability.\n",
        "- 70% of the engines are from manufacturer A, and the rest are produced by manufacturer B.\n",
        "\n",
        "What is the chance that an engine will last more than 5,000 km?"
      ]
    },
    {
      "cell_type": "markdown",
      "metadata": {
        "id": "fogEPdYv_Hwy"
      },
      "source": [
        "Calculate the following probabilities:\n",
        "\n",
        "- The manufacturer is A (P_A).\n",
        "- The engine lasts more than 5,000 km given that manufacturer is A (P_last5000_g_A).\n",
        "- The manufacturer is B (P_B).\n",
        "- The engine lasts more than 5,000 km given that manufacturer is B (P_last5000_g_B).\n",
        "\n",
        "Use the total probability law to calculate the probability that the engine will last more than 5,000 km and store the result into P_last_5000.\n",
        "\n",
        "__Hint__\n",
        "\n",
        "Recall that the joint probability is the marginal probability times the conditional probability."
      ]
    },
    {
      "cell_type": "code",
      "metadata": {
        "id": "h4jnqpH8_Hwy",
        "outputId": "b46c86f2-17d3-4807-aa39-d6e3e88b292a"
      },
      "source": [
        "# Needed probabilities\n",
        "P_A = 0.7\n",
        "P_last5000_g_A = 0.99\n",
        "P_B = 0.3\n",
        "P_last5000_g_B = 0.95\n",
        "\n",
        "# Total probability calculation\n",
        "P_last_5000 = P_A * P_last5000_g_A + P_B * P_last5000_g_B\n",
        "\n",
        "print(P_last_5000)"
      ],
      "execution_count": null,
      "outputs": [
        {
          "name": "stdout",
          "output_type": "stream",
          "text": [
            "0.978\n"
          ]
        }
      ]
    },
    {
      "cell_type": "markdown",
      "metadata": {
        "id": "Mlmn1_9t_Hwz"
      },
      "source": [
        "### Voters\n",
        "\n",
        "Of the total population of three states X, Y, and Z, 43% are from state X, 25% are from state Y, and 32% are from state Z. A poll is taken and the result is the following:\n",
        "\n",
        "- 53% of the voters support John Doe in state X.\n",
        "- 67% of the voters support John Doe in state Y.\n",
        "- 32% of the voters support John Doe in state Z.\n",
        "\n",
        "Given that a voter supports John Doe, answer the following questions.\n",
        "\n",
        "__Hint__:\n",
        "Specify the individual probabilities and the conditional probabilities, and then use the total probability formula."
      ]
    },
    {
      "cell_type": "code",
      "metadata": {
        "id": "FeHfUV4b_Hwz",
        "outputId": "1dcb2ba3-1c97-4f67-abfc-42848cc9fa2a"
      },
      "source": [
        "# What is the probability that the voter lives in state X and supports John Doe?\n",
        "\n",
        "# Individual probabilities\n",
        "P_X = 0.43\n",
        "\n",
        "# Conditional probabilities\n",
        "P_Support_g_X = 0.53\n",
        "\n",
        "# Total probability calculation\n",
        "P_X_n_Support = P_X * P_Support_g_X\n",
        "print(P_X_n_Support)"
      ],
      "execution_count": null,
      "outputs": [
        {
          "name": "stdout",
          "output_type": "stream",
          "text": [
            "0.22790000000000002\n"
          ]
        }
      ]
    },
    {
      "cell_type": "code",
      "metadata": {
        "id": "gngSoa-Z_Hwz",
        "outputId": "315ed3cb-611f-4cc6-b8e9-9684f6d47724"
      },
      "source": [
        "# What is the probability that the voter lives in state Z and does not support John Doe?\n",
        "\n",
        "# Individual probabilities\n",
        "P_Z = 0.32\n",
        "\n",
        "# Conditional probabilities\n",
        "P_Support_g_Z = 0.32\n",
        "P_NoSupport_g_Z = 1 - P_Support_g_Z\n",
        "\n",
        "# Total probability calculation\n",
        "P_Z_n_NoSupport = P_Z * P_NoSupport_g_Z\n",
        "print(P_Z_n_NoSupport)"
      ],
      "execution_count": null,
      "outputs": [
        {
          "name": "stdout",
          "output_type": "stream",
          "text": [
            "0.2176\n"
          ]
        }
      ]
    },
    {
      "cell_type": "code",
      "metadata": {
        "id": "y70oslMV_Hwz",
        "outputId": "8505bcbf-4b18-42cc-bd25-0e77952545ec"
      },
      "source": [
        "# What is the total percentage of voters that support John Doe?\n",
        "\n",
        "# Individual probabilities\n",
        "P_X = 0.43\n",
        "P_Y = 0.25\n",
        "P_Z = 0.32\n",
        "\n",
        "# Conditional probabilities\n",
        "P_Support_g_X = 0.53\n",
        "P_Support_g_Y = 0.67\n",
        "P_Support_g_Z = 0.32\n",
        "\n",
        "# Total probability calculation\n",
        "P_Support = P_X * P_Support_g_X + P_Y * P_Support_g_Y + P_Z * P_Support_g_Z\n",
        "print(P_Support)"
      ],
      "execution_count": null,
      "outputs": [
        {
          "name": "stdout",
          "output_type": "stream",
          "text": [
            "0.4978\n"
          ]
        }
      ]
    },
    {
      "cell_type": "markdown",
      "metadata": {
        "id": "jEuz69pu_Hwz"
      },
      "source": [
        "## Bayes' Rule\n",
        "\n",
        "### Conditioning\n",
        "In many situations we find events that depend on other events, and we are interested in calculating probabilities taking into consideration such relations.\n",
        "\n",
        "On the other hand, many problems can be studied by classifying the elements in our sample space. It is easier to work with classifications that do not have elements in common -- i.e., that do not overlap. Using this context, please answer the following question:\n",
        "\n",
        "Why is Bayes' rule important?\n",
        "\n",
        "Reducing your sample space is to condition, then you calculate probabilities."
      ]
    },
    {
      "cell_type": "markdown",
      "metadata": {
        "id": "vNjHX_Gz_Hwz"
      },
      "source": [
        "### Factories and parts\n",
        "\n",
        "A certain electronic part is manufactured by three different vendors named V1, V2, and V3.\n",
        "\n",
        "Half of the parts are produced by V1, 25% by V2, and the rest by V3. The probability of a part being damaged given that it was produced by V1 is 1%, while it's 2% for V2 and 3% for V3.\n",
        "\n",
        "If a part taken at random is damaged, answer the following questions."
      ]
    },
    {
      "cell_type": "code",
      "metadata": {
        "id": "BgV70UQ5_Hwz",
        "outputId": "b9371e5b-256f-478e-d8ac-6a4cd64058c2"
      },
      "source": [
        "# What is the probability that the part was manufactured by V1?\n",
        "\n",
        "# Individual probabilities & conditional probabilities\n",
        "P_V1 = 0.5\n",
        "P_V2 = 0.25\n",
        "P_V3 = 0.25\n",
        "P_D_g_V1 = 0.01\n",
        "P_D_g_V2 = 0.02\n",
        "P_D_g_V3 = 0.03\n",
        "\n",
        "# Probability of Damaged\n",
        "P_Damaged = (P_V1 * P_D_g_V1) + (P_V2 * P_D_g_V2) + (P_V3 * P_D_g_V3)\n",
        "\n",
        "# Bayes' rule for P(V1|D)\n",
        "P_V1_g_D = (P_V1 * P_D_g_V1) / P_Damaged\n",
        "\n",
        "print(P_V1_g_D)"
      ],
      "execution_count": null,
      "outputs": [
        {
          "name": "stdout",
          "output_type": "stream",
          "text": [
            "0.2857142857142857\n"
          ]
        }
      ]
    },
    {
      "cell_type": "code",
      "metadata": {
        "id": "NILzrTBz_Hwz",
        "outputId": "784869e5-e541-4ee1-e67e-57464636c752"
      },
      "source": [
        "# What is the probability that it was manufactured by V2?\n",
        "\n",
        "# Individual probabilities & conditional probabilities\n",
        "P_V1 = 0.5\n",
        "P_V2 = 0.25\n",
        "P_V3 = 0.25\n",
        "P_D_g_V1 = 0.01\n",
        "P_D_g_V2 = 0.02\n",
        "P_D_g_V3 = 0.03\n",
        "\n",
        "# Probability of Damaged\n",
        "P_Damaged = (P_V1 * P_D_g_V1) + (P_V2 * P_D_g_V2) + (P_V3 * P_D_g_V3)\n",
        "\n",
        "# Bayes' rule for P(V2|D)\n",
        "P_V2_g_D = (P_V2 * P_D_g_V2) / P_Damaged\n",
        "\n",
        "print(P_V2_g_D)"
      ],
      "execution_count": null,
      "outputs": [
        {
          "name": "stdout",
          "output_type": "stream",
          "text": [
            "0.2857142857142857\n"
          ]
        }
      ]
    },
    {
      "cell_type": "code",
      "metadata": {
        "id": "ZbjiqSIz_Hw0",
        "outputId": "e44e400e-77e4-4f0d-e600-1d8d3b11bbda"
      },
      "source": [
        "# What is the probability that the part was manufactured by V3?\n",
        "\n",
        "# Individual probabilities & conditional probabilities\n",
        "P_V1 = 0.5\n",
        "P_V2 = 0.25\n",
        "P_V3 = 0.25\n",
        "P_D_g_V1 = 0.01\n",
        "P_D_g_V2 = 0.02\n",
        "P_D_g_V3 = 0.03\n",
        "\n",
        "# Probability of Damaged\n",
        "P_Damaged = (P_V1 * P_D_g_V1) + (P_V2 * P_D_g_V2) + (P_V3 * P_D_g_V3)\n",
        "\n",
        "# Bayes' rule for P(V3|D)\n",
        "P_V3_g_D = (P_V3 * P_D_g_V3) / P_Damaged\n",
        "\n",
        "print(P_V3_g_D)"
      ],
      "execution_count": null,
      "outputs": [
        {
          "name": "stdout",
          "output_type": "stream",
          "text": [
            "0.4285714285714285\n"
          ]
        }
      ]
    },
    {
      "cell_type": "markdown",
      "metadata": {
        "id": "VsSXf9Yf_Hw0"
      },
      "source": [
        "### Swine flu blood test\n",
        "\n",
        "You go to the doctor about a strong headache. The doctor randomly selects you for a blood test for swine flu, which is suspected to affect 1 in 9,000 people in your city. The accuracy of the test is 99%, meaning that the probability of a false positive is 1%. The probability of a false negative is zero.\n",
        "\n",
        "Given that you test positive, answer the following questions."
      ]
    },
    {
      "cell_type": "code",
      "metadata": {
        "id": "ujXiPlV8_Hw0",
        "outputId": "63d8b0b1-7abd-4ff8-ed3c-022b5415ad8e"
      },
      "source": [
        "# What is the probability that you have swine flu given that your test outcome is positive?\n",
        "\n",
        "# Probability of having Swine_flu\n",
        "P_Swine_flu = 1./9000\n",
        "\n",
        "# Probability of not having Swine_flu\n",
        "P_no_Swine_flu = 1 - P_Swine_flu\n",
        "\n",
        "# Probability of being positive given that you have Swine_flu\n",
        "P_Positive_g_Swine_flu = 1\n",
        "\n",
        "# Probability of being positive given that you do not have Swine_flu\n",
        "P_Positive_g_no_Swine_flu = 0.01\n",
        "\n",
        "# Probability of Positive\n",
        "P_Positive = (P_Swine_flu * P_Positive_g_Swine_flu) + (P_no_Swine_flu * P_Positive_g_no_Swine_flu)\n",
        "\n",
        "# Bayes' rule for P(Swine_flu|Positive)\n",
        "P_Swine_flu_g_Positive = (P_Swine_flu * P_Positive_g_Swine_flu) / P_Positive\n",
        "\n",
        "print(P_Swine_flu_g_Positive)"
      ],
      "execution_count": null,
      "outputs": [
        {
          "name": "stdout",
          "output_type": "stream",
          "text": [
            "0.010990218705352238\n"
          ]
        }
      ]
    },
    {
      "cell_type": "code",
      "metadata": {
        "id": "J4uX60xm_Hw0",
        "outputId": "d27ebbc4-8a4d-461d-8ee9-646fac70fcb9"
      },
      "source": [
        "# You went to Miami and 1 in 350 people came back with swine flu. Calculate the new probability that you'll test positive.\n",
        "\n",
        "# Individual probabilities & conditional probabilities\n",
        "P_Swine_flu = 1./350\n",
        "P_no_Swine_flu = 1 - P_Swine_flu\n",
        "P_Positive_g_Swine_flu = 1\n",
        "P_Positive_g_no_Swine_flu = 0.01\n",
        "\n",
        "# Probability of Positive\n",
        "P_Positive = (P_Swine_flu * P_Positive_g_Swine_flu) + (P_no_Swine_flu * P_Positive_g_no_Swine_flu)\n",
        "\n",
        "# Bayes' rule for P(Swine_flu|Positive)\n",
        "P_Swine_flu_g_Positive = (P_Swine_flu * P_Positive_g_Swine_flu) / P_Positive\n",
        "\n",
        "print(P_Swine_flu_g_Positive)"
      ],
      "execution_count": null,
      "outputs": [
        {
          "name": "stdout",
          "output_type": "stream",
          "text": [
            "0.22271714922048996\n"
          ]
        }
      ]
    },
    {
      "cell_type": "code",
      "metadata": {
        "id": "glq57Of9_Hw1",
        "outputId": "de1526b3-7fee-4ec1-daeb-bbbf97379537"
      },
      "source": [
        "# If the probability of a false positive is 2%, what is the new probability that you have swine flu after your vacation?\n",
        "\n",
        "# Individual probabilities & conditional probabilities\n",
        "P_Swine_flu = 1./350\n",
        "P_no_Swine_flu = 1 - P_Swine_flu\n",
        "P_Positive_g_Swine_flu = 1\n",
        "P_Positive_g_no_Swine_flu = 0.02\n",
        "\n",
        "# Probability of Positive\n",
        "P_Positive = P_Swine_flu * P_Positive_g_Swine_flu + P_no_Swine_flu * P_Positive_g_no_Swine_flu\n",
        "\n",
        "# Bayes' rule for P(Swine_flu|Positive)\n",
        "P_Swine_flu_g_Positive = (P_Swine_flu * P_Positive_g_Swine_flu) / P_Positive\n",
        "\n",
        "print(P_Swine_flu_g_Positive)"
      ],
      "execution_count": null,
      "outputs": [
        {
          "name": "stdout",
          "output_type": "stream",
          "text": [
            "0.12531328320802004\n"
          ]
        }
      ]
    },
    {
      "cell_type": "markdown",
      "metadata": {
        "id": "vtSV3W7X_Hw1"
      },
      "source": [
        "# Chapter 3\n",
        "## Important Probability Distributions"
      ]
    },
    {
      "cell_type": "markdown",
      "metadata": {
        "id": "gwZoFjgk_Hw1"
      },
      "source": [
        "### Range of values\n",
        "\n",
        "Suppose the scores on a given academic test are normally distributed, with a mean of 65 and standard deviation of 10.\n",
        "\n",
        "What would be the range of scores two standard deviations from the mean?\n",
        "\n",
        "\n",
        "45 and 85"
      ]
    },
    {
      "cell_type": "code",
      "metadata": {
        "id": "Wi-xodlM_Hw1",
        "outputId": "1c0179f1-2d8f-433f-84dd-d5f8f7c2e9a7"
      },
      "source": [
        "mn = 65\n",
        "std = 10\n",
        "\n",
        "upper = mn + (2 * std)\n",
        "lower = mn - (2 * std)\n",
        "\n",
        "print(lower, upper)"
      ],
      "execution_count": null,
      "outputs": [
        {
          "name": "stdout",
          "output_type": "stream",
          "text": [
            "45 85\n"
          ]
        }
      ]
    },
    {
      "cell_type": "markdown",
      "metadata": {
        "id": "-30NY1lm_Hw1"
      },
      "source": [
        "## Plotting normal distributions\n",
        "\n",
        "A certain restaurant chain has been collecting data about customer spending. The data shows that the spending is approximately normally distributed, with a mean of 3.15 and a standard deviation of 1.50 per customer."
      ]
    },
    {
      "cell_type": "code",
      "metadata": {
        "id": "49V0Gm0H_Hw1",
        "outputId": "9ea8fb73-1805-4e63-a21d-26e2528f6935"
      },
      "source": [
        "# Create the sample using norm.rvs()\n",
        "sample = st.norm.rvs(loc=3.15, scale=1.5, size=10000, random_state=13)\n",
        "\n",
        "# Plot the sample\n",
        "sns.distplot(sample)\n",
        "plt.ylabel(\"Probability density of x\")\n",
        "plt.xlabel(\"X\")\n",
        "plt.title(\"mean = 3.15, stddev = 1.5\")\n",
        "plt.show()"
      ],
      "execution_count": null,
      "outputs": [
        {
          "data": {
            "image/png": "[encoded data removed]",
            "text/plain": [
              "<Figure size 432x288 with 1 Axes>"
            ]
          },
          "metadata": {},
          "output_type": "display_data"
        }
      ]
    },
    {
      "cell_type": "markdown",
      "metadata": {
        "id": "H4YsMQfJ_Hw1"
      },
      "source": [
        "### Within three standard deviations\n",
        "The heights of every employee in a company have been measured, and they are distributed normally with a mean of 168 cm and a standard deviation of 12 cm.\n",
        "\n",
        "What is the probability of getting a height within three standard deviations of the mean?\n",
        "\n",
        "99.7%"
      ]
    },
    {
      "cell_type": "markdown",
      "metadata": {
        "id": "1khA18Sb_Hw1"
      },
      "source": [
        "### Restaurant spending example\n",
        "\n",
        "Let's go back to the example of the restaurant chain that has been collecting data about customer spending. Recall that the data shows that the spending is approximately normally distributed, with a mean of 3.15 and a standard deviation of 1.5 per customer, as pictured in the plot."
      ]
    },
    {
      "cell_type": "code",
      "metadata": {
        "id": "8hOoWLGw_Hw1",
        "outputId": "35f0ff38-a965-4598-eeb4-c66954960df1"
      },
      "source": [
        "# What is the probability that a customer will spend $3 or less?\n",
        "\n",
        "# Probability of spending $3 or less\n",
        "spending = st.norm.cdf(3, loc=3.15, scale=1.5)\n",
        "print(spending)"
      ],
      "execution_count": null,
      "outputs": [
        {
          "name": "stdout",
          "output_type": "stream",
          "text": [
            "0.46017216272297107\n"
          ]
        }
      ]
    },
    {
      "cell_type": "code",
      "metadata": {
        "id": "pWv_JIf-_Hw1",
        "outputId": "50eefabd-8465-489d-d58b-a19882df7082"
      },
      "source": [
        "# What is the probability that a customer will spend more than $5?\n",
        "\n",
        "# Probability of spending more than $5\n",
        "spending = st.norm.sf(5, loc=3.15, scale=1.5)\n",
        "print(spending)"
      ],
      "execution_count": null,
      "outputs": [
        {
          "name": "stdout",
          "output_type": "stream",
          "text": [
            "0.10872571321259111\n"
          ]
        }
      ]
    },
    {
      "cell_type": "code",
      "metadata": {
        "id": "B2ICzasg_Hw2",
        "outputId": "f835589d-74dc-4154-defc-7cb454b9cc34"
      },
      "source": [
        "# What is the probability that a customer will spend more than $2.15 and $4.15 or less?\n",
        "\n",
        "# Probability of spending more than $2.15 and $4.15 or less\n",
        "spending_4 = st.norm.cdf(4.15, loc=3.15, scale=1.5)\n",
        "spending_2 = st.norm.cdf(2.15, loc=3.15, scale=1.5)\n",
        "print(spending_4 - spending_2)"
      ],
      "execution_count": null,
      "outputs": [
        {
          "name": "stdout",
          "output_type": "stream",
          "text": [
            "0.4950149249061543\n"
          ]
        }
      ]
    },
    {
      "cell_type": "code",
      "metadata": {
        "id": "rga2ph4B_Hw2",
        "outputId": "ea3166b7-9608-458c-efc3-7a5a1e4c92e8"
      },
      "source": [
        "# What is the probability that a customer will spend $2.15 or less or more than $4.15?\n",
        "\n",
        "# Probability of spending $2.15 or less or more than $4.15\n",
        "spending_2 = st.norm.cdf(2.15, loc=3.15, scale=1.5)\n",
        "spending_over_4 = st.norm.sf(4.15, loc=3.15, scale=1.5) \n",
        "print(spending_2 + spending_over_4)"
      ],
      "execution_count": null,
      "outputs": [
        {
          "name": "stdout",
          "output_type": "stream",
          "text": [
            "0.5049850750938457\n"
          ]
        }
      ]
    },
    {
      "cell_type": "markdown",
      "metadata": {
        "id": "PHJIjtce_Hw2"
      },
      "source": [
        "### Smartphone battery example\n",
        "\n",
        "One of the most important things to consider when buying a smartphone is how long the battery will last.\n",
        "\n",
        "Suppose the period of time between charges can be modeled with a normal distribution with a mean of 5 hours and a standard deviation of 1.5 hours.\n",
        "\n",
        "A friend wants to buy a smartphone and is asking you the following questions."
      ]
    },
    {
      "cell_type": "code",
      "metadata": {
        "id": "dcG6Cve4_Hw2",
        "outputId": "b0501b63-7dd9-40fb-9186-6c0544b2ddb1"
      },
      "source": [
        "# What is the probability that the battery will last less than 3 hours?\n",
        "\n",
        "# Probability that battery will last less than 3 hours\n",
        "less_than_3h = st.norm.cdf(3, loc=5, scale=1.5)\n",
        "print(less_than_3h)"
      ],
      "execution_count": null,
      "outputs": [
        {
          "name": "stdout",
          "output_type": "stream",
          "text": [
            "0.09121121972586788\n"
          ]
        }
      ]
    },
    {
      "cell_type": "code",
      "metadata": {
        "id": "_eBnqStz_Hw2",
        "outputId": "46c7fab9-4023-4109-8c14-b026178937d8"
      },
      "source": [
        "# What is the probability that the battery will last more than 3 hours?\n",
        "\n",
        "# Probability that battery will last more than 3 hours\n",
        "more_than_3h = st.norm.sf(3, loc=5, scale=1.5)\n",
        "print(more_than_3h)"
      ],
      "execution_count": null,
      "outputs": [
        {
          "name": "stdout",
          "output_type": "stream",
          "text": [
            "0.9087887802741321\n"
          ]
        }
      ]
    },
    {
      "cell_type": "code",
      "metadata": {
        "id": "QtEBV3mV_Hw2",
        "outputId": "ebce24a9-94fc-4fb7-ecd6-0c4994bc3600"
      },
      "source": [
        "# What is the probability that the battery will last between 5 and 7 hours?\n",
        "\n",
        "# Probability that battery will last between 5 and 7 hours\n",
        "P_less_than_7h = st.norm.cdf(7, loc=5, scale=1.5)\n",
        "P_less_than_5h = st.norm.cdf(5, loc=5, scale=1.5)\n",
        "print(P_less_than_7h - P_less_than_5h)"
      ],
      "execution_count": null,
      "outputs": [
        {
          "name": "stdout",
          "output_type": "stream",
          "text": [
            "0.4087887802741321\n"
          ]
        }
      ]
    },
    {
      "cell_type": "markdown",
      "metadata": {
        "id": "aV6iocdf_Hw2"
      },
      "source": [
        "### Adults' heights example\n",
        "\n",
        "The heights of adults aged between 18 and 35 years are normally distributed. For males, the mean height is 70 inches with a standard deviation of 4. Adult females have a mean height of 65 inches with a standard deviation of 3.5. You can see how the heights are distributed in this plot:"
      ]
    },
    {
      "cell_type": "code",
      "metadata": {
        "id": "IuyOfFzx_Hw2",
        "outputId": "93227b75-d4cc-42e8-fa0c-a3fad9c2f7b2"
      },
      "source": [
        "females = st.norm.rvs(loc=65, scale=3.5, size=10000)\n",
        "males = st.norm.rvs(loc=70, scale=4, size=10000)\n",
        "\n",
        "fig, ax = plt.subplots(figsize=(6,6))\n",
        "\n",
        "sns.distplot(males, ax=ax, hist=False, color='Blue', label='Males')\n",
        "sns.distplot(females, ax=ax, hist=False, color='Red', label='Females')\n",
        "\n",
        "plt.ylabel(\"Probability density of x\")\n",
        "plt.xlabel(\"X\")\n",
        "plt.title(\"Normal Probability density function\")\n",
        "plt.show()"
      ],
      "execution_count": null,
      "outputs": [
        {
          "data": {
            "image/png": "[encoded data removed]",
            "text/plain": [
              "<Figure size 432x432 with 1 Axes>"
            ]
          },
          "metadata": {},
          "output_type": "display_data"
        }
      ]
    },
    {
      "cell_type": "code",
      "metadata": {
        "id": "_6EIKWeM_Hw2",
        "outputId": "7e070379-0fb4-4720-b343-54c86ff83910"
      },
      "source": [
        "# Print the range of female heights one standard deviation from the mean.\n",
        "\n",
        "# Values one standard deviation from mean height for females\n",
        "interval = st.norm.interval(0.68, loc=65, scale=3.5)\n",
        "print(interval)"
      ],
      "execution_count": null,
      "outputs": [
        {
          "name": "stdout",
          "output_type": "stream",
          "text": [
            "(61.51939740876586, 68.48060259123413)\n"
          ]
        }
      ]
    },
    {
      "cell_type": "code",
      "metadata": {
        "id": "_nwu5SHI_Hw3",
        "outputId": "7931843a-432a-4c31-d48f-b086b1d92905"
      },
      "source": [
        "# Print the value where the tallest males fall with 0.01 probability.\n",
        "\n",
        "# Value where the tallest males fall with 0.01 probability\n",
        "tallest = st.norm.ppf(.99, loc=70, scale=4)\n",
        "print(tallest)"
      ],
      "execution_count": null,
      "outputs": [
        {
          "name": "stdout",
          "output_type": "stream",
          "text": [
            "79.30539149616337\n"
          ]
        }
      ]
    },
    {
      "cell_type": "code",
      "metadata": {
        "id": "j60g-rBX_Hw3",
        "outputId": "0bfdf25e-f8ab-4826-dcb9-ef8cda60e08b"
      },
      "source": [
        "# Print the probability of being taller than 73 inches for a male and for a female.\n",
        "\n",
        "# Probability of being taller than 73 inches for males and females\n",
        "P_taller_male = st.norm.sf(73, loc=70, scale=4)\n",
        "P_taller_female = st.norm.sf(73, loc=65, scale=3.5)\n",
        "print(P_taller_male, P_taller_female)"
      ],
      "execution_count": null,
      "outputs": [
        {
          "name": "stdout",
          "output_type": "stream",
          "text": [
            "0.2266273523768682 0.011135489479616392\n"
          ]
        }
      ]
    },
    {
      "cell_type": "code",
      "metadata": {
        "id": "CiqJ2cxt_Hw3",
        "outputId": "8c8f3baa-224f-4ee4-dc1c-eab06920f0f4"
      },
      "source": [
        "# Print the probability of being shorter than 61 inches for a male and for a female.\n",
        "\n",
        "# Probability of being shorter than 61 inches for males and females\n",
        "P_shorter_male = st.norm.cdf(61, loc=70, scale=4)\n",
        "P_shorter_female = st.norm.cdf(61, loc=65, scale=3.5)\n",
        "print(P_shorter_male, P_shorter_female)"
      ],
      "execution_count": null,
      "outputs": [
        {
          "name": "stdout",
          "output_type": "stream",
          "text": [
            "0.012224472655044696 0.12654895447355774\n"
          ]
        }
      ]
    },
    {
      "cell_type": "markdown",
      "metadata": {
        "id": "9uPrhoNX_Hw3"
      },
      "source": [
        "## Poisson Distributions"
      ]
    },
    {
      "cell_type": "markdown",
      "metadata": {
        "id": "uB4sLC84_Hw3"
      },
      "source": [
        "### ATM example\n",
        "\n",
        "If you know how many specific events occurred per unit of measure, you can assume that the distribution of the random variable follows a Poisson distribution to study the phenomenon.\n",
        "\n",
        "Consider an ATM (automatic teller machine) at a very busy shopping mall. The bank wants to avoid making customers wait in line to use the ATM. It has been observed that the average number of customers making withdrawals between 10:00 a.m. and 10:05 a.m. on any given day is 1.\n",
        "\n",
        "As a data analyst at the bank, you are asked what the probability is that the bank will need to install another ATM to handle the load.\n",
        "\n",
        "To answer the question, you need to calculate the probability of getting more than one customer during that time period."
      ]
    },
    {
      "cell_type": "code",
      "metadata": {
        "id": "6YS0Rbi6_Hw3",
        "outputId": "8bb14a47-052d-431b-9bf5-7dc7d94dbf17"
      },
      "source": [
        "# Calculate the probability of having more than one customer visiting the ATM in this 5-minute period.\n",
        "\n",
        "# Probability of more than 1 customer\n",
        "probability = st.poisson.sf(k=1, mu=1)\n",
        "\n",
        "# Print the result\n",
        "print(probability)"
      ],
      "execution_count": null,
      "outputs": [
        {
          "name": "stdout",
          "output_type": "stream",
          "text": [
            "0.2642411176571153\n"
          ]
        }
      ]
    },
    {
      "cell_type": "markdown",
      "metadata": {
        "id": "w4eevMFc_Hw3"
      },
      "source": [
        "### Highway accidents example\n",
        "\n",
        "On a certain turn on a very busy highway, there are 2 accidents per day. Let's assume the number of accidents per day can be modeled as a Poisson random variable and is distributed as in the following plot:"
      ]
    },
    {
      "cell_type": "code",
      "metadata": {
        "id": "idJB91Cd_Hw3",
        "outputId": "d6a59749-388d-4273-c42a-a392a623d0c5"
      },
      "source": [
        "k = np.arange(0,8)\n",
        "\n",
        "p_dist = st.poisson.pmf(k, mu=2)\n",
        "\n",
        "plt.bar(x=k, height=p_dist)\n",
        "\n",
        "for i, k in zip(p_dist, k):\n",
        "    plt.annotate(round(i, 3), xy=[k-.25,i+0.005], )\n",
        "\n",
        "plt.ylabel(\"poisson.pmf(k, mu=2)\")\n",
        "plt.xlabel(\"k\")\n",
        "\n",
        "plt.title(\"poisson.cdf(k, mu=2)\")\n",
        "plt.show()"
      ],
      "execution_count": null,
      "outputs": [
        {
          "data": {
            "image/png": "[encoded data removed]",
            "text/plain": [
              "<Figure size 432x288 with 1 Axes>"
            ]
          },
          "metadata": {},
          "output_type": "display_data"
        }
      ]
    },
    {
      "cell_type": "code",
      "metadata": {
        "id": "9hngsv3n_Hw3",
        "outputId": "ce27d760-73bd-4749-94b7-c06f3339b0af"
      },
      "source": [
        "# Determine and print the probability of there being 5 accidents on any day.\n",
        "\n",
        "# Probability of 5 accidents any day\n",
        "P_five_accidents = st.poisson.pmf(k=5, mu=2)\n",
        "\n",
        "# Print the result\n",
        "print(P_five_accidents)"
      ],
      "execution_count": null,
      "outputs": [
        {
          "name": "stdout",
          "output_type": "stream",
          "text": [
            "0.03608940886309672\n"
          ]
        }
      ]
    },
    {
      "cell_type": "code",
      "metadata": {
        "id": "POOOlWCX_Hw4",
        "outputId": "86bd921d-37a6-4bf1-aa10-6244cab9c0c6"
      },
      "source": [
        "# Determine and print the probability of having 4 or 5 accidents on any day.\n",
        "\n",
        "# Probability of having 4 or 5 accidents on any day\n",
        "P_less_than_6 = st.poisson.cdf(k=5, mu=2)\n",
        "P_less_than_4 = st.poisson.cdf(k=3, mu=2)\n",
        "\n",
        "# Print the result\n",
        "print(P_less_than_6 - P_less_than_4)"
      ],
      "execution_count": null,
      "outputs": [
        {
          "name": "stdout",
          "output_type": "stream",
          "text": [
            "0.12631293102083851\n"
          ]
        }
      ]
    },
    {
      "cell_type": "markdown",
      "metadata": {
        "id": "iLa5zvL0_Hw4"
      },
      "source": [
        "__Hint__\n",
        "\n",
        "Use cdf(), but recall that the k value is included in the calculation. Less than 6 is 5 or less, and less than 4 is 3 or less. If you subtract cdf for 5 and cdf for 3 you will get the required range."
      ]
    },
    {
      "cell_type": "code",
      "metadata": {
        "id": "w_zKETyK_Hw4",
        "outputId": "f1bfc08c-bfb3-43a7-958f-ed37603910a3"
      },
      "source": [
        "# Determine and print the probability of having more than 3 accidents on any day.\n",
        "\n",
        "# Probability of more than 3 accidents any day\n",
        "P_more_than_3 = st.poisson.sf(k=3, mu=2)\n",
        "\n",
        "# Print the result\n",
        "print(P_more_than_3)"
      ],
      "execution_count": null,
      "outputs": [
        {
          "name": "stdout",
          "output_type": "stream",
          "text": [
            "0.14287653950145296\n"
          ]
        }
      ]
    },
    {
      "cell_type": "code",
      "metadata": {
        "id": "qlIOeW7U_Hw4",
        "outputId": "78be05e7-3cb5-4e92-d7c9-a853d300597d"
      },
      "source": [
        "# Determine and print the number of accidents that is likely to happen with 0.75 probability.\n",
        "\n",
        "# Number of accidents with 0.75 probability\n",
        "accidents = st.poisson.ppf(q=0.75, mu=2)\n",
        "\n",
        "# Print the result\n",
        "print(accidents)"
      ],
      "execution_count": null,
      "outputs": [
        {
          "name": "stdout",
          "output_type": "stream",
          "text": [
            "3.0\n"
          ]
        }
      ]
    },
    {
      "cell_type": "markdown",
      "metadata": {
        "id": "jD8xoURK_Hw4"
      },
      "source": [
        "### Generating and plotting Poisson distributions\n",
        "\n",
        "In the previous exercise, you calculated some probabilities. Now let's plot that distribution.\n",
        "\n",
        "Recall that on a certain highway turn, there are 2 accidents per day on average. Assuming the number of accidents per day can be modeled as a Poisson random variable, let's plot the distribution."
      ]
    },
    {
      "cell_type": "code",
      "metadata": {
        "id": "d5AVqToi_Hw4",
        "outputId": "519f2b29-2722-4d77-deea-a24a216afedf"
      },
      "source": [
        "# Create the sample\n",
        "sample = st.poisson.rvs(mu=2, size=10000, random_state=13)\n",
        "\n",
        "# Plot the sample\n",
        "sns.distplot(sample, kde=False)\n",
        "plt.show()"
      ],
      "execution_count": null,
      "outputs": [
        {
          "data": {
            "image/png": "[encoded data removed]",
            "text/plain": [
              "<Figure size 432x288 with 1 Axes>"
            ]
          },
          "metadata": {},
          "output_type": "display_data"
        }
      ]
    },
    {
      "cell_type": "markdown",
      "metadata": {
        "id": "VRUD2rHo_Hw4"
      },
      "source": [
        "## Geometric Distributions"
      ]
    },
    {
      "cell_type": "markdown",
      "metadata": {
        "id": "cqnPlGJE_Hw4"
      },
      "source": [
        "### Catching salmon example\n",
        "\n",
        "Every fall the salmon run occurs -- this is the time when salmon swim back upriver from the ocean to spawn. While swimming back to the upper river (usually to the place where they were spawned), the fish may encounter grizzly bears. Some of these bears can eat 18 salmon in 3 hours, and they have a 0.0333 probability of success in their attempts to catch a fish.\n",
        "\n",
        "We can model a grizzly bear catching salmon with a geometric distribution."
      ]
    },
    {
      "cell_type": "code",
      "metadata": {
        "id": "eaZSG_HY_Hw4",
        "outputId": "526acfbf-aa9a-4788-ebaf-2c94094bbfa4"
      },
      "source": [
        "# Calculate and print the probability that the bear will catch a salmon on its third attempt, after failing two times.\n",
        "\n",
        "# Getting a salmon on the third attempt\n",
        "probability = st.geom.pmf(k=3, p=0.0333)\n",
        "\n",
        "# Print the result\n",
        "print(probability)"
      ],
      "execution_count": null,
      "outputs": [
        {
          "name": "stdout",
          "output_type": "stream",
          "text": [
            "0.031119146037000004\n"
          ]
        }
      ]
    },
    {
      "cell_type": "code",
      "metadata": {
        "id": "JgHnbWJK_Hw4",
        "outputId": "2dc3649e-efb1-4387-d77d-a59e1c3df42f"
      },
      "source": [
        "# Calculate and print the probability that the bear will get a salmon in less than 5 attempts.\n",
        "\n",
        "# Probability of getting a salmon in less than 5 attempts\n",
        "probability = st.geom.cdf(k=4, p=0.0333)\n",
        "\n",
        "# Print the result\n",
        "print(probability)"
      ],
      "execution_count": null,
      "outputs": [
        {
          "name": "stdout",
          "output_type": "stream",
          "text": [
            "0.12669313451096792\n"
          ]
        }
      ]
    },
    {
      "cell_type": "code",
      "metadata": {
        "id": "RQYTajJr_Hw4",
        "outputId": "87d28d8c-c93f-4dbc-8b3e-9dea9b878d69"
      },
      "source": [
        "# Calculate and print the probability that the bear will get a salmon in less than 21 attempts.\n",
        "\n",
        "# Probability of getting a salmon in less than 21 attempts\n",
        "probability = st.geom.cdf(k=20, p=0.0333)\n",
        "\n",
        "# Print the result\n",
        "print(probability)"
      ],
      "execution_count": null,
      "outputs": [
        {
          "name": "stdout",
          "output_type": "stream",
          "text": [
            "0.49203431872528924\n"
          ]
        }
      ]
    },
    {
      "cell_type": "code",
      "metadata": {
        "id": "jaqSK7r-_Hw5",
        "outputId": "2fd74448-0281-4d98-b53a-0b4c3c7855e4"
      },
      "source": [
        "# Calculate and print how many attempts the bear has to make to have a 0.9 probability of catching a salmon.\n",
        "\n",
        "# Attempts for 0.9 probability of catching a salmon\n",
        "attempts = st.geom.ppf(q=0.9, p=0.0333)\n",
        "\n",
        "# Print the result\n",
        "print(attempts)"
      ],
      "execution_count": null,
      "outputs": [
        {
          "name": "stdout",
          "output_type": "stream",
          "text": [
            "68.0\n"
          ]
        }
      ]
    },
    {
      "cell_type": "markdown",
      "metadata": {
        "id": "6323RvmK_Hw5"
      },
      "source": [
        "### Free throws example\n",
        "\n",
        "Suppose you know that a basketball player has a 0.3 probability of scoring a free throw. What is the probability of them missing with the first throw and scoring with the second?"
      ]
    },
    {
      "cell_type": "code",
      "metadata": {
        "id": "6aO10jdM_Hw5",
        "outputId": "a615566d-4c96-4554-9e60-22814acc1b41"
      },
      "source": [
        "# Probability of missing first and scoring on second throw\n",
        "probability = st.geom.pmf(k=2, p=0.3)\n",
        "\n",
        "# Print the result\n",
        "print(probability)"
      ],
      "execution_count": null,
      "outputs": [
        {
          "name": "stdout",
          "output_type": "stream",
          "text": [
            "0.21\n"
          ]
        }
      ]
    },
    {
      "cell_type": "markdown",
      "metadata": {
        "id": "PFn21y1H_Hw5"
      },
      "source": [
        "### Generating and plotting geometric distributions\n",
        "\n",
        "In sports it is common for players to make multiple attempts to score points for themselves or their teams. Each single attempt can have two possible outcomes, scoring or not scoring. Those situations can be modeled with geometric distributions. With scipy.stats you can generate samples using the rvs() function for each distribution.\n",
        "\n",
        "Consider the previous example of a basketball player who scores free throws with a probability of 0.3. Generate a sample, and plot it."
      ]
    },
    {
      "cell_type": "code",
      "metadata": {
        "id": "EIRIK-G1_Hw5",
        "outputId": "46fdb43d-733c-453a-a605-b8c25977cfb5"
      },
      "source": [
        "# Create the sample\n",
        "sample = st.geom.rvs(p=0.3, size=10000, random_state=13)\n",
        "\n",
        "# Plot the sample\n",
        "sns.distplot(sample, bins = np.linspace(0,20,21), kde=False)\n",
        "plt.show()"
      ],
      "execution_count": null,
      "outputs": [
        {
          "data": {
            "image/png": "[encoded data removed]",
            "text/plain": [
              "<Figure size 432x288 with 1 Axes>"
            ]
          },
          "metadata": {},
          "output_type": "display_data"
        }
      ]
    },
    {
      "cell_type": "markdown",
      "metadata": {
        "id": "rajNy-76_Hw5"
      },
      "source": [
        "# Chapter 4\n",
        "## Probability Meets Statistics"
      ]
    },
    {
      "cell_type": "markdown",
      "metadata": {
        "id": "5HIDI5fL_Hw5"
      },
      "source": [
        "### Generating a sample\n",
        "\n",
        "A hospital's planning department is investigating different treatments for newborns. As a data scientist you are hired to simulate the sex of 250 newborn children, and you are told that on average 50.50% are males."
      ]
    },
    {
      "cell_type": "code",
      "metadata": {
        "id": "Db5j2DuD_Hw5",
        "outputId": "65faf80d-d4b3-4c54-f0a0-8cdc0e7d516a"
      },
      "source": [
        "# Generate a sample of 250 newborn children\n",
        "sample = st.binom.rvs(n=1, p=0.505, size=250, random_state=42)\n",
        "\n",
        "# Show the sample values\n",
        "print(sample)"
      ],
      "execution_count": null,
      "outputs": [
        {
          "name": "stdout",
          "output_type": "stream",
          "text": [
            "[1 0 0 0 1 1 1 0 0 0 1 0 0 1 1 1 1 0 1 1 0 1 1 1 1 0 1 0 0 1 0 1 1 0 0 0 1\n",
            " 1 0 1 1 1 1 0 1 0 1 0 0 1 0 0 0 0 0 0 1 1 1 1 1 1 0 1 1 0 1 0 1 0 0 1 1 0\n",
            " 0 0 0 1 1 1 0 0 1 1 1 1 0 0 0 1 1 0 0 0 0 1 0 1 1 1 1 0 1 0 0 1 1 0 1 1 1\n",
            " 1 0 0 0 0 0 1 0 0 0 0 1 1 1 1 0 0 1 0 1 1 1 1 0 1 0 0 1 0 0 1 1 1 1 1 0 1\n",
            " 1 1 0 1 1 1 0 1 0 0 1 0 1 0 0 0 1 0 1 1 1 0 0 1 0 1 0 1 0 1 0 1 1 1 0 0 1\n",
            " 0 0 0 0 1 1 0 0 0 1 1 0 0 0 0 0 1 1 0 0 1 1 0 1 1 0 0 0 1 0 1 1 0 0 0 0 0\n",
            " 1 1 1 1 0 1 0 0 0 1 0 1 1 0 1 1 0 1 0 0 0 1 1 0 1 0 0 0]\n"
          ]
        }
      ]
    },
    {
      "cell_type": "markdown",
      "metadata": {
        "id": "DdjItoPu_Hw5"
      },
      "source": [
        "### Calculating the sample mean\n",
        "\n",
        "Now you can calculate the sample mean for this generated sample by taking some elements from the sample.\n",
        "\n",
        "Using the sample variable you just created, you'll calculate the sample means of the first 10, 50, and 250 samples."
      ]
    },
    {
      "cell_type": "code",
      "metadata": {
        "id": "tOKN4evp_Hw6",
        "outputId": "b289ef32-36ac-49b6-9bb8-b046ff84f8c6"
      },
      "source": [
        "# Print the sample mean of the first 10 samples\n",
        "print(st.describe(sample[0:10]).mean)"
      ],
      "execution_count": null,
      "outputs": [
        {
          "name": "stdout",
          "output_type": "stream",
          "text": [
            "0.4\n"
          ]
        }
      ]
    },
    {
      "cell_type": "code",
      "metadata": {
        "id": "6V1HYO1N_Hw6",
        "outputId": "9653b158-be86-4485-cb07-a29d0795bc0b"
      },
      "source": [
        "# Print the sample mean of the first 50 samples\n",
        "print(st.describe(sample[0:50]).mean)"
      ],
      "execution_count": null,
      "outputs": [
        {
          "name": "stdout",
          "output_type": "stream",
          "text": [
            "0.56\n"
          ]
        }
      ]
    },
    {
      "cell_type": "code",
      "metadata": {
        "id": "yhNK6xDP_Hw6",
        "outputId": "a3f8842a-8ef1-4ecd-9b2e-0c7c3e0d9353"
      },
      "source": [
        "# Print the sample mean of the first 250 samples\n",
        "print(st.describe(sample[0:250]).mean)"
      ],
      "execution_count": null,
      "outputs": [
        {
          "name": "stdout",
          "output_type": "stream",
          "text": [
            "0.504\n"
          ]
        }
      ]
    },
    {
      "cell_type": "markdown",
      "metadata": {
        "id": "ZLw0KRlH_Hw6"
      },
      "source": [
        "### Plotting the sample mean\n",
        "\n",
        "Now let's plot the sample mean, so you can see more clearly how it evolves as more data becomes available.\n",
        "\n"
      ]
    },
    {
      "cell_type": "code",
      "metadata": {
        "id": "sptrbImj_Hw6",
        "outputId": "b375479c-c00f-4db6-ccac-f49750660bf8"
      },
      "source": [
        "# Calculate sample mean and store it on averages array\n",
        "averages = []\n",
        "for i in range(2, 251):\n",
        "    averages.append(st.describe(sample[0:i]).mean)\n",
        "    \n",
        "plt.plot(range(2, 251), averages)\n",
        "plt.show()"
      ],
      "execution_count": null,
      "outputs": [
        {
          "data": {
            "image/png": "[encoded data removed]",
            "text/plain": [
              "<Figure size 432x288 with 1 Axes>"
            ]
          },
          "metadata": {},
          "output_type": "display_data"
        }
      ]
    },
    {
      "cell_type": "markdown",
      "metadata": {
        "id": "bzPxYFYw_Hw6"
      },
      "source": [
        "### Sample means\n",
        "\n",
        "An important result in probability and statistics is that the shape of the distribution of the means of random variables tends to a normal distribution, which happens when you add random variables with any distribution with the same expected value and variance.\n",
        "\n",
        "### Sample means follow a normal distribution\n",
        "\n",
        "In the previous exercise, we generated a population that followed a binomial distribution, chose 20 random samples from the population, and calculated the sample mean. Now we're going to test some other probability distributions to see the shape of the sample means.\n",
        "\n",
        "From the scipy.stats library, we've loaded the poisson and geom objects and the describe() function. We've also imported matplotlib.pyplot as plt and numpy as np.\n",
        "\n",
        "As you'll see, the shape of the distribution of the means is the same even though the samples are generated from different distributions."
      ]
    },
    {
      "cell_type": "code",
      "metadata": {
        "id": "pEyAPpdH_Hw6",
        "outputId": "70e98ab4-cdae-4f5c-c949-b7c603ff3136"
      },
      "source": [
        "# Generate the population\n",
        "population = st.geom.rvs(p=0.5, size=1000)\n",
        "\n",
        "# Create list for sample means\n",
        "sample_means = []\n",
        "for _ in range(3000):\n",
        "\t# Take 20 values from the population\n",
        "    sample = np.random.choice(population, 20)\n",
        "    # Calculate the sample mean\n",
        "    sample_means.append(st.describe(sample).mean)\n",
        "\n",
        "# Plot the histogram\n",
        "plt.hist(sample_means)\n",
        "plt.show()"
      ],
      "execution_count": null,
      "outputs": [
        {
          "data": {
            "image/png": "[encoded data removed]",
            "text/plain": [
              "<Figure size 432x288 with 1 Axes>"
            ]
          },
          "metadata": {},
          "output_type": "display_data"
        }
      ]
    },
    {
      "cell_type": "markdown",
      "metadata": {
        "id": "2cb2jsFo_Hw6"
      },
      "source": [
        "### Adding dice rolls\n",
        "\n",
        "To illustrate the central limit theorem, we are going to work with dice rolls. We'll generate the samples and then add them to plot the outcome.\n",
        "\n",
        "You're provided with a function named roll_dice() that will generate the sample dice rolls. numpy is already imported as np for your convenience: you have to use np.add(sample1, sample2) to add samples. Also, matplotlib.pyplot is imported as plt so you can plot the histograms."
      ]
    },
    {
      "cell_type": "code",
      "metadata": {
        "id": "2Ak2vP2H_Hw6"
      },
      "source": [
        "def roll_dice(num_rolls):\n",
        "    \"\"\"Generate dice roll simulations\n",
        "    Parameters\n",
        "        num_rolls : int\n",
        "        The number of dice rolls to simulate\n",
        "    Returns\n",
        "        list a list with num_rolls simulations of dice rolls\"\"\"\n",
        "    \n",
        "    sample = []\n",
        "    \n",
        "    for i in range(num_rolls):\n",
        "        sample.append(np.random.randint(1,6))\n",
        "    \n",
        "    return(sample)"
      ],
      "execution_count": null,
      "outputs": []
    },
    {
      "cell_type": "code",
      "metadata": {
        "id": "rrUdpWrP_Hw6",
        "outputId": "5e3a0a4a-89bc-441b-8dc6-8045e8f2aebc"
      },
      "source": [
        "# Generate a sample of 2000 dice rolls using roll_dice() and plot a histogram of the sample.\n",
        "\n",
        "# Configure random generator\n",
        "np.random.seed(42)\n",
        "\n",
        "# Generate the sample\n",
        "sample1 = roll_dice(2000)\n",
        "\n",
        "# Plot the sample\n",
        "plt.hist(sample1, bins=range(1, 8), width=0.9)\n",
        "plt.show()"
      ],
      "execution_count": null,
      "outputs": [
        {
          "data": {
            "image/png": "[encoded data removed]",
            "text/plain": [
              "<Figure size 432x288 with 1 Axes>"
            ]
          },
          "metadata": {},
          "output_type": "display_data"
        }
      ]
    },
    {
      "cell_type": "code",
      "metadata": {
        "id": "5xUpcwzv_Hw6",
        "outputId": "422a2f7e-1f39-4433-df28-556dc57c339e"
      },
      "source": [
        "# Add sample1 and sample2 using np.add(), store the result in the variable sum_of_1_and_2, then plot sum_of_1_and_2.\n",
        "\n",
        "# Generate two samples of 2000 dice rolls\n",
        "sample1 = roll_dice(2000)\n",
        "sample2 = roll_dice(2000)\n",
        "\n",
        "# Add the first two samples\n",
        "sum_of_1_and_2 = np.add(sample1, sample2)\n",
        "\n",
        "# Plot the sum\n",
        "plt.hist(sum_of_1_and_2, bins=range(2, 14), width=0.9)\n",
        "plt.show()"
      ],
      "execution_count": null,
      "outputs": [
        {
          "data": {
            "image/png": "[encoded data removed]",
            "text/plain": [
              "<Figure size 432x288 with 1 Axes>"
            ]
          },
          "metadata": {},
          "output_type": "display_data"
        }
      ]
    },
    {
      "cell_type": "code",
      "metadata": {
        "id": "ane_IyZy_Hw6",
        "outputId": "eacbbc46-d5df-41a8-f8a8-4233cc44c622"
      },
      "source": [
        "# Add sum_of_1_and_2 and sample3 using np.add() and store the result in sum_of_3_samples. Then plot sum_of_3_samples.\n",
        "\n",
        "# Generate the samples\n",
        "sample1 = roll_dice(2000)\n",
        "sample2 = roll_dice(2000)\n",
        "sample3 = roll_dice(2000)\n",
        "\n",
        "# Add the first two samples\n",
        "sum_of_1_and_2 = np.add(sample1, sample2)\n",
        "\n",
        "# Add the first two with the third sample\n",
        "sum_of_3_samples = np.add(sum_of_1_and_2, sample3)\n",
        "\n",
        "# Plot the result\n",
        "plt.hist(sum_of_3_samples, bins=range(3, 20), width=0.9)\n",
        "plt.show() "
      ],
      "execution_count": null,
      "outputs": [
        {
          "data": {
            "image/png": "[encoded data removed]",
            "text/plain": [
              "<Figure size 432x288 with 1 Axes>"
            ]
          },
          "metadata": {},
          "output_type": "display_data"
        }
      ]
    },
    {
      "cell_type": "markdown",
      "metadata": {
        "id": "l2iPBDgG_Hw7"
      },
      "source": [
        "## Linear Regression"
      ]
    },
    {
      "cell_type": "markdown",
      "metadata": {
        "id": "A5wIf_2Q_Hw7"
      },
      "source": [
        "### Fitting a model\n",
        "\n",
        "A university has provided you with data that shows a relationship between the hours of study and the scores that the students get on a given test.\n",
        "\n",
        "You have access to the data through the variables hours_of_study and scores. Use a linear model to learn from the data."
      ]
    },
    {
      "cell_type": "code",
      "metadata": {
        "id": "U9hHgjgl_Hw7",
        "outputId": "ee2e7dc5-c814-4339-cf77-e05cc8457270"
      },
      "source": [
        "hours_of_study = [4, 8, 8, 12, 8, 9, 6, 11, 13, 13, 19, 16, 17, 17, 21, 21, 23, 27, 30, 24]\n",
        "scores = [52, 54, 61, 63, 63, 60, 61, 70, 75, 77, 76, 79, 81, 83, 85, 86, 88, 90, 95, 93]\n",
        "\n",
        "# Get the model parameters\n",
        "slope, intercept, r_value, p_value, std_err = st.linregress(hours_of_study, scores)\n",
        "\n",
        "# Print the linear model parameters\n",
        "print('slope:', slope)\n",
        "print('intercept:', intercept)"
      ],
      "execution_count": null,
      "outputs": [
        {
          "name": "stdout",
          "output_type": "stream",
          "text": [
            "slope: 1.715259850957089\n",
            "intercept: 48.27076128780868\n"
          ]
        }
      ]
    },
    {
      "cell_type": "markdown",
      "metadata": {
        "id": "LkPdKXR8_Hw7"
      },
      "source": [
        "### Predicting test scores\n",
        "\n",
        "With the relationship between the hours of study and the scores that students got on a given test, you already got the parameters of a linear model, slope and intercept. With those parameters, let's predict the test score for a student who studies for 10 hours."
      ]
    },
    {
      "cell_type": "code",
      "metadata": {
        "id": "X18pYEEl_Hw7",
        "outputId": "86d1e994-823a-42b8-98aa-d44fbb0dda64"
      },
      "source": [
        "# Predict the test score for 10 hours of study using the provided parameters in slope and intercept, then print the score.\n",
        "\n",
        "# Get the predicted test score for given hours of study\n",
        "score = slope*10 + intercept\n",
        "print('score:', score)"
      ],
      "execution_count": null,
      "outputs": [
        {
          "name": "stdout",
          "output_type": "stream",
          "text": [
            "score: 65.42335979737958\n"
          ]
        }
      ]
    },
    {
      "cell_type": "code",
      "metadata": {
        "id": "rZNjAvRN_Hw7",
        "outputId": "5e307bb9-64d2-4eee-c924-c0880d86e256"
      },
      "source": [
        "# Now predict the score for 9 hours of study using the parameters in slope and intercept, then print the score.\n",
        "\n",
        "# Get the predicted test score for given hours of study\n",
        "score = slope*9 + intercept\n",
        "print('score:', score)"
      ],
      "execution_count": null,
      "outputs": [
        {
          "name": "stdout",
          "output_type": "stream",
          "text": [
            "score: 63.708099946422486\n"
          ]
        }
      ]
    },
    {
      "cell_type": "code",
      "metadata": {
        "id": "sBr3KUs4_Hw7",
        "outputId": "d590476a-2ddd-426d-c950-bac76663fcdc"
      },
      "source": [
        "# Lastly, predict the score for 12 hours of study using the same parameters, and print the score.\n",
        "\n",
        "# Get the predicted test score for given hours of study\n",
        "score = slope*12 + intercept\n",
        "print('score:', score)"
      ],
      "execution_count": null,
      "outputs": [
        {
          "name": "stdout",
          "output_type": "stream",
          "text": [
            "score: 68.85387949929375\n"
          ]
        }
      ]
    },
    {
      "cell_type": "markdown",
      "metadata": {
        "id": "NtWXaQHm_Hw7"
      },
      "source": [
        "### Studying residuals\n",
        "\n",
        "To implement a linear model you must study the residuals, which are the distances between the predicted outcomes and the data.\n",
        "\n",
        "Three conditions must be met:\n",
        "\n",
        "1. The mean should be 0.\n",
        "2. The variance must be constant.\n",
        "3. The distribution must be normal.\n",
        "\n",
        "We will work with data of test scores for two schools, A and B, on the same subject. model_A and model_B were fitted with hours_of_study_A and test_scores_A and hours_of_study_B and test_scores_B, respectively."
      ]
    },
    {
      "cell_type": "code",
      "metadata": {
        "id": "bJC8gzTF_Hw7",
        "outputId": "ccd98dda-efa3-44c6-cdfc-721cbb65ee43"
      },
      "source": [
        "# Import LinearRegression\n",
        "from sklearn.linear_model import LinearRegression\n",
        "\n",
        "hours_of_study_A = np.array([[ 4],[ 9],[ 7], [12],[ 3],[ 9], [6], [11],[13],[13],[19],[16],[17],[17],[13],[21],\n",
        "                             [23],[27],[30],[24]])\n",
        "\n",
        "hours_of_study_B = np.array([[ 4],[ 9],[ 7],[12],[ 3],[ 9],[ 6],[11],[13],[13],[19],[16],[17],[17],[13],[21],[23],[27],\n",
        "                             [30], [24],[17],[17],[19],[19], [19],[19]])\n",
        "\n",
        "test_scores_A = np.array([52, 56, 59, 60, 61, 62, 63, 73, 75, 77, 76, 79, 81, 83, 85, 87, 89,89, 89, 93])\n",
        "\n",
        "test_scores_B = np.array([58, 70, 60, 65, 57, 63, 63, 73, 65, 77, 58, 62, 62, 90, 85, 95, 97,\n",
        "                          95, 65, 65, 70, 75, 65, 75, 85, 93])\n",
        "\n",
        "# Fit the model\n",
        "model_A = LinearRegression()\n",
        "model_A.fit(hours_of_study_A, test_scores_A)\n",
        "\n",
        "model_B = LinearRegression()\n",
        "model_B.fit(hours_of_study_B, test_scores_B)"
      ],
      "execution_count": null,
      "outputs": [
        {
          "data": {
            "text/plain": [
              "LinearRegression()"
            ]
          },
          "execution_count": 202,
          "metadata": {},
          "output_type": "execute_result"
        }
      ]
    },
    {
      "cell_type": "code",
      "metadata": {
        "id": "kEkjrHmd_Hw7",
        "outputId": "1304028d-491c-408f-a84e-72c1341540e4"
      },
      "source": [
        "# Make a scatter of hours_of_study_A and test_scores_A and plot hours_of_study_values_A and the outcomes from model_A.\n",
        "\n",
        "# Test data\n",
        "hours_of_study_values_A = np.array([ 1. ,  1.5,  2. ,  2.5,  3. ,  3.5,  4. ,  4.5,  5. ,  5.5,  6. ,\n",
        "        6.5,  7. ,  7.5,  8. ,  8.5,  9. ,  9.5, 10. , 10.5, 11. , 11.5,\n",
        "       12. , 12.5, 13. , 13.5, 14. , 14.5, 15. , 15.5, 16. , 16.5, 17. ,\n",
        "       17.5, 18. , 18.5, 19. , 19.5, 20. , 20.5, 21. , 21.5, 22. , 22.5,\n",
        "       23. , 23.5, 24. , 24.5, 25. , 25.5, 26. , 26.5, 27. , 27.5, 28. ,\n",
        "       28.5, 29. , 29.5, 30. , 30.5]).reshape(-1,1)\n",
        "\n",
        "hours_of_study_values_B = np.array([ 1. ,  1.5,  2. ,  2.5,  3. ,  3.5,  4. ,  4.5,  5. ,  5.5,  6. ,\n",
        "        6.5,  7. ,  7.5,  8. ,  8.5,  9. ,  9.5, 10. , 10.5, 11. , 11.5,\n",
        "       12. , 12.5, 13. , 13.5, 14. , 14.5, 15. , 15.5, 16. , 16.5, 17. ,\n",
        "       17.5, 18. , 18.5, 19. , 19.5, 20. , 20.5, 21. , 21.5, 22. , 22.5,\n",
        "       23. , 23.5, 24. , 24.5, 25. , 25.5, 26. , 26.5, 27. , 27.5, 28. ,\n",
        "       28.5, 29. , 29.5, 30. , 30.5]).reshape(-1,1)\n",
        "\n",
        "# Scatterplot of hours of study and test scores\n",
        "plt.scatter(hours_of_study_A, test_scores_A)\n",
        "\n",
        "# Plot of hours_of_study_values_A and predicted values\n",
        "plt.plot(hours_of_study_values_A, model_A.predict(hours_of_study_values_A))\n",
        "plt.title(\"Model A\", fontsize=16)\n",
        "plt.show()"
      ],
      "execution_count": null,
      "outputs": [
        {
          "data": {
            "image/png": "[encoded data removed]",
            "text/plain": [
              "<Figure size 432x288 with 1 Axes>"
            ]
          },
          "metadata": {},
          "output_type": "display_data"
        }
      ]
    },
    {
      "cell_type": "code",
      "metadata": {
        "id": "3NET8p2d_Hw8",
        "outputId": "1575e484-670a-4adb-d3fe-781eaf754b04"
      },
      "source": [
        "# Subtract the predicted values and test_scores_A, then make a scatterplot with hours_of_study_A and residuals_A.\n",
        "\n",
        "# Calculate the residuals\n",
        "residuals_A = model_A.predict(hours_of_study_A) - test_scores_A\n",
        "\n",
        "# Make a scatterplot of residuals of model_A\n",
        "plt.scatter(hours_of_study_A, residuals_A)\n",
        "\n",
        "# Add reference line and title and show plot\n",
        "plt.hlines(0, 0, 30, colors='r', linestyles='--')\n",
        "plt.title(\"Residuals plot of Model A\", fontsize=16)\n",
        "plt.show()"
      ],
      "execution_count": null,
      "outputs": [
        {
          "data": {
            "image/png": "[encoded data removed]",
            "text/plain": [
              "<Figure size 432x288 with 1 Axes>"
            ]
          },
          "metadata": {},
          "output_type": "display_data"
        }
      ]
    },
    {
      "cell_type": "code",
      "metadata": {
        "id": "uZ92Zmnn_Hw8",
        "outputId": "84385d8a-7cd6-472c-8636-5e45e03b31c9"
      },
      "source": [
        "# Make a scatter of hours_of_study_B and test_scores_B and plot hours_of_study_values_B and the outcomes from model_B.\n",
        "\n",
        "# Scatterplot of hours of study and test scores\n",
        "plt.scatter(hours_of_study_B, test_scores_B)\n",
        "\n",
        "# Plot of hours_of_study_values_B and predicted values\n",
        "plt.plot(hours_of_study_values_B, model_B.predict(hours_of_study_values_B))\n",
        "plt.title(\"Model B\", fontsize=16)\n",
        "plt.show()"
      ],
      "execution_count": null,
      "outputs": [
        {
          "data": {
            "image/png": "[encoded data removed]",
            "text/plain": [
              "<Figure size 432x288 with 1 Axes>"
            ]
          },
          "metadata": {},
          "output_type": "display_data"
        }
      ]
    },
    {
      "cell_type": "code",
      "metadata": {
        "id": "yx_ao_F1_Hw8",
        "outputId": "55bb2889-f457-4359-8a10-2622e95701bc"
      },
      "source": [
        "# Subtract the predicted values and test_scores_B, then make a scatterplot with hours_of_study_B and residuals_B.\n",
        "\n",
        "# Calculate the residuals\n",
        "residuals_B = model_B.predict(hours_of_study_B) - test_scores_B\n",
        "\n",
        "# Make a scatterplot of residuals of model_B\n",
        "plt.scatter(hours_of_study_B, residuals_B)\n",
        "\n",
        "# Add reference line and title and show plot\n",
        "plt.hlines(0, 0, 30, colors='r', linestyles='--')\n",
        "plt.title(\"Residuals plot of Model B\", fontsize=16)\n",
        "plt.show()"
      ],
      "execution_count": null,
      "outputs": [
        {
          "data": {
            "image/png": "[encoded data removed]",
            "text/plain": [
              "<Figure size 432x288 with 1 Axes>"
            ]
          },
          "metadata": {},
          "output_type": "display_data"
        }
      ]
    },
    {
      "cell_type": "markdown",
      "metadata": {
        "id": "6EHsY8Cw_Hw8"
      },
      "source": [
        "## Logistic Regression"
      ]
    },
    {
      "cell_type": "markdown",
      "metadata": {
        "id": "4RKtasoV_Hw8"
      },
      "source": [
        "### Fitting a logistic model\n",
        "\n",
        "The university studying the relationship between hours of study and outcomes on a given test has provided you with a data set containing the number of hours the students studied and whether they failed or passed the test, and asked you to fit a model to predict future performance."
      ]
    },
    {
      "cell_type": "code",
      "metadata": {
        "id": "OpUrD-3d_Hw8",
        "outputId": "4b6a9104-875b-4663-fa73-3272249d590f"
      },
      "source": [
        "# Import LogisticRegression\n",
        "from sklearn.linear_model import LogisticRegression\n",
        "\n",
        "hours_of_study = np.array(hours_of_study).reshape(-1, 1)\n",
        "\n",
        "outcomes = np.array([False, False, False, False, False, False, False,  True,  True,\n",
        "        True,  True,  True,  True,  True,  True,  True,  True,  True,\n",
        "        True,  True]).reshape(-1,1)\n",
        "\n",
        "# sklearn logistic model\n",
        "model = LogisticRegression(C=1e9)\n",
        "model.fit(hours_of_study, outcomes)\n",
        "\n",
        "# Get parameters\n",
        "beta1 = model.coef_[0][0]\n",
        "beta0 = model.intercept_[0]\n",
        "\n",
        "# Print parameters\n",
        "print(beta1, beta0)"
      ],
      "execution_count": null,
      "outputs": [
        {
          "name": "stdout",
          "output_type": "stream",
          "text": [
            "1.2509820718463502 -14.133330643419832\n"
          ]
        }
      ]
    },
    {
      "cell_type": "markdown",
      "metadata": {
        "id": "Wl7DBVgL_Hw8"
      },
      "source": [
        "### Predicting if students will pass\n",
        "\n",
        "In the previous exercise you calculated the parameters of the logistic regression model that fits the data of hours of study and test outcomes.\n",
        "\n",
        "With those parameters you can predict the performance of students based on their hours of study. Use model.predict() to get the outcomes based on the logistic regression."
      ]
    },
    {
      "cell_type": "code",
      "metadata": {
        "id": "hSpmehEO_Hw8",
        "outputId": "4924a1a5-7a80-4732-8018-f7a5af550397"
      },
      "source": [
        "# Specify values to predict\n",
        "hours_of_study_test = [[10], [11], [12], [13], [14]]\n",
        "\n",
        "# Pass values to predict\n",
        "predicted_outcomes = model.predict(hours_of_study_test)\n",
        "print(predicted_outcomes)\n",
        "\n",
        "# Set value in array\n",
        "value = np.asarray(11).reshape(-1,1)\n",
        "\n",
        "# Probability of passing the test with 11 hours of study\n",
        "print(\"Probability of passing test \", model.predict_proba(value)[:,1])"
      ],
      "execution_count": null,
      "outputs": [
        {
          "name": "stdout",
          "output_type": "stream",
          "text": [
            "[False False  True  True  True]\n",
            "Probability of passing test  [0.40793034]\n"
          ]
        }
      ]
    },
    {
      "cell_type": "markdown",
      "metadata": {
        "id": "Sq2vwXJw_Hw8"
      },
      "source": [
        "### Passing two tests\n",
        "\n",
        "Put yourself in the shoes of one of the university students. You have two tests coming up in different subjects, and you're running out of time to study. You want to know how much time you have to study each subject to maximize the probability of passing both tests. Fortunately, there's data that you can use."
      ]
    },
    {
      "cell_type": "code",
      "metadata": {
        "id": "xXssZglf_Hw8",
        "outputId": "d6fc5a44-1d16-453a-db21-1baf8a3c1604"
      },
      "source": [
        "# Use model_A to predict if you'll pass the test with 6, 7, 8, 9, or 10 hours of study and model_B with 3, 4, 5, or 6.\n",
        "\n",
        "model_A = LogisticRegression()\n",
        "model_A.fit()\n",
        "\n",
        "# Specify values to predict\n",
        "hours_of_study_test_A = [[6], [7], [8], [9], [10]]\n",
        "\n",
        "# Pass values to predict\n",
        "predicted_outcomes_A = model_A.predict(hours_of_study_test_A)\n",
        "print(predicted_outcomes_A)\n",
        "\n",
        "# Specify values to predict\n",
        "hours_of_study_test_B = [[3], [4], [5], [6]]\n",
        "\n",
        "# Pass values to predict\n",
        "predicted_outcomes_B = model_B.predict(hours_of_study_test_B)\n",
        "print(predicted_outcomes_B)"
      ],
      "execution_count": null,
      "outputs": [
        {
          "name": "stdout",
          "output_type": "stream",
          "text": [
            "[61.42867607 62.92537997 64.42208387 65.91878777 67.41549167]\n",
            "[60.91115538 61.84462151 62.77808765 63.71155378]\n"
          ]
        }
      ]
    },
    {
      "cell_type": "code",
      "metadata": {
        "id": "d6qLMLBj_Hw9",
        "outputId": "0d2e01b1-0eb1-4e18-9aa5-5cc2c2bae4e7"
      },
      "source": [
        "# Get the probability of passing for test A with 8.6 hours of study and test B with 4.7 hours of study.\n",
        "\n",
        "# Set value in array\n",
        "value_A = np.asarray(8.6).reshape(-1,1)\n",
        "# Probability of passing test A with 8.6 hours of study\n",
        "print(\"The probability of passing test A with 8.6 hours of study is \", model_A.predict_proba(value_A)[:,1])\n",
        "\n",
        "# Set value in array\n",
        "value_B = np.asarray(4.7).reshape(-1,1)\n",
        "# Probability of passing test B with 4.7 hours of study\n",
        "print(\"The probability of passing test B with 4.7 hours of study is \", model_B.predict_proba(value_B)[:,1])"
      ],
      "execution_count": null,
      "outputs": [
        {
          "ename": "AttributeError",
          "evalue": "'LinearRegression' object has no attribute 'predict_proba'",
          "output_type": "error",
          "traceback": [
            "\u001b[0;31m---------------------------------------------------------------------------\u001b[0m",
            "\u001b[0;31mAttributeError\u001b[0m                            Traceback (most recent call last)",
            "\u001b[0;32m<ipython-input-232-6b5960f464f8>\u001b[0m in \u001b[0;36m<module>\u001b[0;34m\u001b[0m\n\u001b[1;32m      4\u001b[0m \u001b[0mvalue_A\u001b[0m \u001b[0;34m=\u001b[0m \u001b[0mnp\u001b[0m\u001b[0;34m.\u001b[0m\u001b[0masarray\u001b[0m\u001b[0;34m(\u001b[0m\u001b[0;36m8.6\u001b[0m\u001b[0;34m)\u001b[0m\u001b[0;34m.\u001b[0m\u001b[0mreshape\u001b[0m\u001b[0;34m(\u001b[0m\u001b[0;34m-\u001b[0m\u001b[0;36m1\u001b[0m\u001b[0;34m,\u001b[0m\u001b[0;36m1\u001b[0m\u001b[0;34m)\u001b[0m\u001b[0;34m\u001b[0m\u001b[0;34m\u001b[0m\u001b[0m\n\u001b[1;32m      5\u001b[0m \u001b[0;31m# Probability of passing test A with 8.6 hours of study\u001b[0m\u001b[0;34m\u001b[0m\u001b[0;34m\u001b[0m\u001b[0;34m\u001b[0m\u001b[0m\n\u001b[0;32m----> 6\u001b[0;31m \u001b[0mprint\u001b[0m\u001b[0;34m(\u001b[0m\u001b[0;34m\"The probability of passing test A with 8.6 hours of study is \"\u001b[0m\u001b[0;34m,\u001b[0m \u001b[0mmodel_A\u001b[0m\u001b[0;34m.\u001b[0m\u001b[0mpredict_proba\u001b[0m\u001b[0;34m(\u001b[0m\u001b[0mvalue_A\u001b[0m\u001b[0;34m)\u001b[0m\u001b[0;34m[\u001b[0m\u001b[0;34m:\u001b[0m\u001b[0;34m,\u001b[0m\u001b[0;36m1\u001b[0m\u001b[0;34m]\u001b[0m\u001b[0;34m)\u001b[0m\u001b[0;34m\u001b[0m\u001b[0;34m\u001b[0m\u001b[0m\n\u001b[0m\u001b[1;32m      7\u001b[0m \u001b[0;34m\u001b[0m\u001b[0m\n\u001b[1;32m      8\u001b[0m \u001b[0;31m# Set value in array\u001b[0m\u001b[0;34m\u001b[0m\u001b[0;34m\u001b[0m\u001b[0;34m\u001b[0m\u001b[0m\n",
            "\u001b[0;31mAttributeError\u001b[0m: 'LinearRegression' object has no attribute 'predict_proba'"
          ]
        }
      ]
    },
    {
      "cell_type": "code",
      "metadata": {
        "id": "0fOZS31k_Hw9"
      },
      "source": [
        ""
      ],
      "execution_count": null,
      "outputs": []
    },
    {
      "cell_type": "code",
      "metadata": {
        "id": "qv8fpZMk_Hw9"
      },
      "source": [
        ""
      ],
      "execution_count": null,
      "outputs": []
    }
  ]
}