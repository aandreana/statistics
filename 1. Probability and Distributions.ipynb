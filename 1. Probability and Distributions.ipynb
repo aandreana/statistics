{
 "cells": [
  {
   "cell_type": "code",
   "execution_count": 299,
   "metadata": {},
   "outputs": [],
   "source": [
    "import numpy as np\n",
    "import pandas as pd\n",
    "import math\n",
    "import matplotlib.pyplot as plt\n",
    "import seaborn as sns\n",
    "import plotly.express as px\n",
    "\n",
    "from scipy.stats import binom, poisson, norm\n",
    "\n",
    "sns.set_style(\"whitegrid\")"
   ]
  },
  {
   "cell_type": "markdown",
   "metadata": {},
   "source": [
    "# Probability\n",
    "## Permutations"
   ]
  },
  {
   "cell_type": "markdown",
   "metadata": {},
   "source": [
    "A permutation of a set of objects is an arrangement of the objects in a certain order.\n",
    "The possible permutations of a, b and c is:\n",
    "\n",
    "$$abc = 3 items$$\n",
    "$$n! = 3! = 3 x 2 x 1$$\n",
    "\n",
    "You can take a subset  of items in a permutation\n",
    "\n",
    "The number of permutations of a set of $n$ objects take $r$ at a time is given by the following formula:\n",
    "$$ _nP_r=\\frac{n!}{(n-r)!}$$\n",
    "\n",
    "__Example__\n",
    "A website requires a 4 character password.  Characters can either be lowercase letters or the digits 0-9.  You may not repeat a letter or number.  How many different possible passwords can there be?\n",
    "\n",
    "$n$ = total number of objects or 26 letters + 10 numbers = 36\n",
    "\n",
    "$r$ = the number of objects taken at one time\n",
    "\n",
    "$$ _36P_4=\\frac{36!}{(36-4)!} = \\frac{36 x 35x 34 33 x 32 x 31..}{32 x 31..}$$\n",
    "\n",
    "After eliminating similar numerator from 32 down you are left with:\n",
    "\n",
    "$$36 x 35 x 34 x 33 = 1,413,720 permutations$$\n",
    "\n",
    "__Note:__ Keep in mind the above is without repetitions."
   ]
  },
  {
   "cell_type": "code",
   "execution_count": 27,
   "metadata": {},
   "outputs": [
    {
     "name": "stdout",
     "output_type": "stream",
     "text": [
      "Total permutations without repetition: 1,413,720.00\n"
     ]
    }
   ],
   "source": [
    "# Permutations without repetition\n",
    "letters = 26\n",
    "numbers = 10 \n",
    "\n",
    "# function to calculate permutations\n",
    "def calculate_permutations(n, r, repetitions=False):\n",
    "    if repetitions == False:\n",
    "        permutations = math.factorial(n)/math.factorial(n - r)\n",
    "    elif repetitions == True:\n",
    "        permutations = n**r\n",
    "    return permutations\n",
    "\n",
    "permutations = calculate_permutations(n=(letters + numbers), r=4, repetitions=False)\n",
    "\n",
    "print(f\"Total permutations without repetition: {permutations:,.2f}\")"
   ]
  },
  {
   "cell_type": "markdown",
   "metadata": {},
   "source": [
    "__Example__ How many 4 digit license plates can you make using the number 0 to 9 while allowing repetition?\n",
    "\n",
    "The number of arrangements of $n$ objects taken $r$ at a time, with repetition is given by.\n",
    "$$n^r$$\n",
    "\n",
    "Recognize 10 objects taken 4 at a time\n",
    "$$n^r = 10^4 = 10,000$$"
   ]
  },
  {
   "cell_type": "code",
   "execution_count": 28,
   "metadata": {},
   "outputs": [
    {
     "name": "stdout",
     "output_type": "stream",
     "text": [
      "Total permutations with repetition: 10,000.00\n"
     ]
    }
   ],
   "source": [
    "# Permutations with repetition\n",
    "permutations = calculate_permutations(n=10, r=4, repetitions=True)\n",
    "\n",
    "print(f\"Total permutations with repetition: {permutations:,.2f}\")"
   ]
  },
  {
   "cell_type": "markdown",
   "metadata": {},
   "source": [
    "## Combinations\n",
    "- Unordered arrangements of objects are called __combinations__\n",
    "- A group of people selected for a team are the same group, no matter the order\n",
    "- A pizza that is half tomato, half spinach is the same as one half spinach, half tomato\n",
    "\n",
    "The number of combinations of a set of $n$ objects take $r$ at a time is given by:\n",
    "\n",
    "$$_nC_r=\\frac{n!}{r!(n-r)!}$$\n",
    "\n",
    "How many 3-letter combinations can be made from the letters of ABCDE?\n",
    "\n",
    "First total number of permutations:\n",
    "\n",
    "$$_5P_3=\\frac{5!}{(5-3)!} = 5 * 4 * 3 = 60$$\n",
    "\n",
    "Next the total combinations which doesn't regard the various order:\n",
    "\n",
    "$$_nC_r=\\frac{n!}{r!(n-r)!} = \\frac{5!}{3!*2!}$$\n",
    "\n",
    "3 combinations"
   ]
  },
  {
   "cell_type": "code",
   "execution_count": 30,
   "metadata": {},
   "outputs": [],
   "source": [
    "# function to calculate combinations\n",
    "def calculate_combinations(n, r):\n",
    "    r_fact = math.factorial(r)\n",
    "    n_r = n-r\n",
    "    comb = math.factorial(n)/(r_fact*math.factorial(n_r))\n",
    "    return comb"
   ]
  },
  {
   "cell_type": "code",
   "execution_count": 31,
   "metadata": {},
   "outputs": [
    {
     "name": "stdout",
     "output_type": "stream",
     "text": [
      "Total number of combinations: 10.00\n"
     ]
    }
   ],
   "source": [
    "combinations = calculate_combinations(5,3)\n",
    "print(f\"Total number of combinations: {combinations:,.2f}\")"
   ]
  },
  {
   "cell_type": "markdown",
   "metadata": {},
   "source": [
    "__Exercise__ For a study, 4 people are chose at random from a group of 10 people.  How many ways can this be done?\n",
    "\n",
    "Since there is the same group of people no matter the order they're chosen, you can set up the problem as a combination:\n",
    "\n",
    "$$_nC_r = \\frac{n!}{r!(n-r)!}= \\frac{10!}{4!(10-4)!}=210$$"
   ]
  },
  {
   "cell_type": "code",
   "execution_count": 32,
   "metadata": {},
   "outputs": [
    {
     "name": "stdout",
     "output_type": "stream",
     "text": [
      "Total number of combinations: 210.00\n"
     ]
    }
   ],
   "source": [
    "combinations = calculate_combinations(10,4)\n",
    "print(f\"Total number of combinations: {combinations:,.2f}\")"
   ]
  },
  {
   "cell_type": "markdown",
   "metadata": {},
   "source": [
    "__Exercise__ For a pizza, 4 ingredients are chosen from a total of 10 ingredients. How many different combinations of pizza can we have? (you can only use each ingredient once)\n",
    "\n",
    "The solution is the same as before, because there are 10 total ingredients.\n",
    "\n",
    "$$_nC_r = \\frac{n!}{r!(n-r)!}= \\frac{10!}{4!(10-4)!}=210$$\n",
    "\n",
    "Now what if you are able to repeat ingredients? (Use pepperoni 3 times and then add tomato once)\n",
    "\n",
    "__Combination with Repetitions__\n",
    "The number of combinations taken $r$ at a time from a set $n$ and allowing for repetition:\n",
    "\n",
    "$$_n + _r-_1C_r = \\frac{n + r - 1!}{r!(n-1)!} = \\frac{13!}{4!(9!)} = 715$$"
   ]
  },
  {
   "cell_type": "code",
   "execution_count": 42,
   "metadata": {},
   "outputs": [],
   "source": [
    "# function with repetition and without\n",
    "def calculate_combinations(n, r, repetitions=True):\n",
    "    r_fact = math.factorial(r)\n",
    "    n_r = n-r\n",
    "    if repetitions == False:\n",
    "        comb = math.factorial(n)/(r_fact*math.factorial(n_r))\n",
    "    elif repetitions == True:\n",
    "        comb = math.factorial(n+r-1)/(r_fact*math.factorial(n-1))\n",
    "    return comb"
   ]
  },
  {
   "cell_type": "code",
   "execution_count": 43,
   "metadata": {},
   "outputs": [
    {
     "data": {
      "text/plain": [
       "715.0"
      ]
     },
     "execution_count": 43,
     "metadata": {},
     "output_type": "execute_result"
    }
   ],
   "source": [
    "calculate_combinations(n=10, r=4, repetitions=True)"
   ]
  },
  {
   "cell_type": "markdown",
   "metadata": {},
   "source": [
    "### Formulas\n",
    "\n",
    "__Permutations - No Repetition__\n",
    "$$ _nP_r=\\frac{n!}{(n-r)!}$$\n",
    "Excel = PERMUT(n,r)\n",
    "\n",
    "\n",
    "__Combinations - No Repetition__\n",
    "$$_nC_r=\\frac{n!}{r!(n-r)!}$$\n",
    "Excel = COMBIN(n,r)\n",
    "\n",
    "__Permutations - With Repetition__\n",
    "$$n^r$$\n",
    "Excel = PERMUTATIONA(n,r)\n",
    "\n",
    "__Combinations - With Repetition__\n",
    "$$_nC_r = \\frac{n!}{r!(n-r)!}$$\n",
    "Excel = COMBINA(n,r)"
   ]
  },
  {
   "cell_type": "markdown",
   "metadata": {},
   "source": [
    "## Intersections, Unions and Complements"
   ]
  },
  {
   "cell_type": "markdown",
   "metadata": {},
   "source": [
    "### Intersections\n",
    "If we assign A as the event of red balls and B as the event of striped balls, the intersection of A and B is given as:\n",
    "$$A\\cap B = B\\cap A$$\n",
    "\n",
    "Order does not matter.\n",
    "\n",
    "The probability of A and B is given as:\n",
    "$$P(A\\cap B)$$\n",
    "\n",
    "Total of 3 balls overlapping and an overall total of 15 balls\n",
    "$$P(A\\cap B) = \\frac{3}{15} = 0.2$$\n",
    "\n",
    "The odds of getting a red a red-striped ball is .20 or 20%"
   ]
  },
  {
   "cell_type": "markdown",
   "metadata": {},
   "source": [
    "### Unions\n",
    "The union of two events considers if A or B occurs, and is given as:\n",
    "\n",
    "$$(A\\cup B) = (B\\cup A)$$\n",
    "\n",
    "The probability of A or B is given as:\n",
    "$$P(A\\cup B) = P(A) + P(B) - P(A\\cap B)$$\n",
    "\n",
    "In this case:\n",
    "the $P(A)$ is getting a red ball 9 and the $P(B)$ is getting a striped ball 15\n",
    "\n",
    "$$P(A\\cap B) = \\frac{9}{15}+\\frac{9}{15}-\\frac{3}{15}=\\frac{15}{15}=1$$\n",
    "\n",
    "### Complements\n",
    "The complement of an event considers everything outside of the event, given by: $\\bar{A}$\n",
    "\n",
    "The probability of not A is:\n",
    "\n",
    "$$ P\\bar{(A)} = 1 - P(A) = \\frac{15}{15} - \\frac{9}{15} = \\frac{6}{15} = 0.4 $$"
   ]
  },
  {
   "cell_type": "markdown",
   "metadata": {},
   "source": [
    "## Independent Events\n",
    "- An independent series of events occur when the outcome of one event has no effect on the outcome of another.\n",
    "- An example is flipping a fair coin twice\n",
    "\n",
    "The probability of seeing two heads with two flips of a fair coin is:\n",
    "\n",
    "$$P(H_1 H_2) = P(H_1) * P(H_2) = \\frac{1}{2} * \\frac{1}{2} = \\frac{1}{4}$$\n",
    "\n",
    "## Dependent Events\n",
    "- A dependent event occurs when the outcome of a first event __does__ affect the probability of a second event.\n",
    "- A common example is to draw colored marbles from a bag __without replacement__\n",
    "\n",
    "__Example__\n",
    "- Imagine a bag contains 2 blue marbles and 3 red marbles\n",
    "- If you take 2 marbles out of the bag, what is the probability that they are both red?\n",
    "\n",
    "_Step 1:_ The probability of drawing a first red marble:\n",
    "$$P(R_1) = \\frac{3}{5}$$\n",
    "\n",
    "_Step 2:_ The probabilty of drawing a second red marble _given that_ the first marble was red is written as:\n",
    "$$P(R_2|R_1) = \\frac{2}{4}$$\n",
    "\n",
    "The sample set now becomes 2 red and 2 blue\n",
    "\n",
    "So the probabilty of two red marbles is:\n",
    "$$P(R_1 \\cap R_2) = P(R_1) * P(R_2|R_1)$$\n",
    "\n",
    "$$\\frac{3}{5} * \\frac{2}{4} = \\frac{6}{20} = 0.3$$"
   ]
  },
  {
   "cell_type": "markdown",
   "metadata": {},
   "source": [
    "## Conditional Probability\n",
    "- The idea that we want to know the probability of event A, givent that event B has occurred, is conditional probability.\n",
    "- This is written as: $P(A|B)$\n",
    "\n",
    "- Going back to dependent events the probabilty of drawing two red marbles is (no replacement):\n",
    "$$P(R_1 \\cap R_2) = P(R_1) * P(R_2|R_1)$$\n",
    "\n",
    "- The conditional in theis equation is:\n",
    "$$P(R_2|R_1)$$\n",
    "\n",
    "- Rearranging the formula gives:\n",
    "$$P(A|B) = \\frac{P(A\\cap B}{P(B)}$$\n",
    "\n",
    "That is the probability of A given B equals the probability of A and B divided by the probability of B\n",
    "\n",
    "__Example__\n",
    "A company finds that out of every 100 projects, 48 are completed on time, 62 are completed under budget, and 16 are completed __both__ on time and under budget.\n",
    "- Given that a project is completed on time, what is the probability that it is under budget?\n",
    "\n",
    "$$P(A|B) = \\frac{P(A\\cap B}{P(B)} = \\frac{16}{48} = 0.33 $$\n",
    "\n",
    "both = 16 and on time = 48"
   ]
  },
  {
   "cell_type": "markdown",
   "metadata": {},
   "source": [
    "### Addition & Multiplication Rules\n",
    "- From the previous example, what is the probability of a project completing on time __or__ under budget?\n",
    "\n",
    "$P(A\\cup B) = P(A) + P(B) - P(A\\cap B) = \\frac{48}{100} + \\frac{62}{100} - \\frac{16}{100}$\n",
    "\n",
    "$= 0.48 + 0.62 - 0.16$\n",
    "\n",
    "$= 0.94$\n",
    "\n",
    "This is the addition rule\n",
    "\n",
    "#### Addition Rule for Mutually Exclusive Events\n",
    "- When two events cannot both happen, they are said to be __mutually exclusive__.  No overlap.\n",
    "- 32 Employees have chosen 'Plan A' and 56 employees have chosen 'Plan B' - they can only choose one or the other\n",
    "\n",
    "- in this case the addition rule becomes:\n",
    "$$P(A\\cup B) = P(A) + P(B)$$\n",
    "\n",
    "#### Multiplication Rule\n",
    "- From the section on dependent events we saw that the probability of A and B is:\n",
    "$$P(A\\cap B) = P(A) * P(B|A)$$\n",
    "\n",
    "- This is known as the __multiplication rule__\n",
    "\n",
    "__Excercise__\n",
    "Given a standard deck of 52 cards, what is the probability of drawing 4 aces? (each letter essentially represents an ace i.e. ace of hearts)\n",
    "\n",
    "$$P(A\\cap B \\cap C \\cap D) = P(A)*P(B|A)*P(C|AB)*P(D|ABC)$$\n",
    "\n",
    "$$=\\frac{4}{52} * \\frac{3}{51} * \\frac{2}{50} * \\frac{1}{49} = \\frac{24}{6,497,400} =\\frac{1}{270,725}$$"
   ]
  },
  {
   "cell_type": "code",
   "execution_count": 88,
   "metadata": {},
   "outputs": [
    {
     "name": "stdout",
     "output_type": "stream",
     "text": [
      "The probability of drawing 4 aces in a deck of 52 cards is 1/270,725\n"
     ]
    }
   ],
   "source": [
    "def multiplication_rule(aces, cards):\n",
    "    ace_fact = math.factorial(aces)\n",
    "    cards_fact = np.prod(np.arange((cards+1-aces), (cards+1), 1))\n",
    "    gcd = np.gcd(ace_fact, cards_fact)\n",
    "    print(f\"The probability of drawing {aces} aces in a deck of {cards} cards is {int(ace_fact/gcd)}/{int(cards_fact/gcd):,.0f}\")\n",
    "    \n",
    "multiplication_rule(4,52)"
   ]
  },
  {
   "cell_type": "markdown",
   "metadata": {},
   "source": [
    "## Bayes Theorem\n",
    "\n",
    "- We've already seen conditional probability\n",
    "$$P(A|B) = \\frac{P(A\\cap B}{P(B)} = provided P(B) > 0$$\n",
    "$$P(B|A) = \\frac{P(B\\cap A}{P(A)} = \\frac{P(A\\cap B}{A} = provided P(A) >0$$\n",
    "\n",
    "Has to be above zero otherwise no probability\n",
    "\n",
    "- We can then connect the two conditional probability formulas to get Baye's Theorem\n",
    "\n",
    "$$P(A|B) = \\frac{P(B|A)P(A)}{P(B)} provided P(A), P(B) > 0$$\n",
    "\n",
    "- Baye's Theorem is used to determine the probability of a parameter, given a certain event.\n",
    "- The general formula is the following:\n",
    "$$P(A|B) = \\frac{P(B|A)*P(A)}{P(B)}$$\n",
    "\n",
    "__Exercise__\n",
    "\n",
    "- A company learns that 1 out of 500 of their products are defective, or 0.2%\n",
    "- The company busy a diagnostic tool that correctly identifies a defective part 99% of the time.\n",
    "- If a part is diagnosed as defective, what is the probability that it really is defective?\n",
    "\n",
    "$P(A|B)$ = probability of being defective if testing positive = ?\n",
    "\n",
    "$P(B|A)$ = probability of testing positive if defective = 0.99\n",
    "\n",
    "$P(A)$ = probability of being defective = 0.002 or 1/500\n",
    "\n",
    "$P(B)$ = probability of testing positive = Need to calculate this\n",
    "\n",
    "_Note:_\n",
    "- True positive = Product is defective and gets classified as defective\n",
    "- False positive = Product is __not__ defective but still gets classified as defective\n",
    "\n",
    "\n",
    "__Calculate__\n",
    "$P(B)$ = probability of testing positive\n",
    "\n",
    "= P(true positive) + P(false positive)\n",
    "\n",
    "$=P(B|A) * P(A) + P(B|-A) * P(-A)$\n",
    "\n",
    "Probability of Not Testing Positive\n",
    "$=P(B|-A) = 1 - P(B|A) = 1 - 0.99 = 0.01$\n",
    "\n",
    "Probability of Not being defective\n",
    "$=P(-A) = 1 - P(A) = 1 - 0.002 = 0.998$\n",
    "\n",
    "Final formula is\n",
    "$$P(A|B) = \\frac{P(B|A*P(A)}{P(B|A)*P(A)+P(B|-A)*P(-A)}$$\n",
    "\n",
    "$$=\\frac{0.99 * 0.002}{0.99 * 0.002 + 0.01 * 0.998}$$\n",
    "\n",
    "$$=0.165$$\n",
    "\n",
    "__Answer__ Therefore a positive test has a 16.5% chance of correctly identifying a defective part.\n",
    "\n",
    "What if we perform a second test, and that also comes up positive?\n",
    "We would replace A\n",
    "\n",
    "$$P(A|B) = \\frac{P(B|A*P(A)}{P(B|A)*P(A)+P(B|-A)*P(-A)}$$\n",
    "\n",
    "$$=\\frac{0.99 * 0.165}{0.99 * 0.165 + 0.01 * 0.835}$$\n",
    "\n",
    "$$=0.951$$\n",
    "\n",
    "__Answer__ Two positive tests give us a 95.1% probability that the part is defective."
   ]
  },
  {
   "cell_type": "markdown",
   "metadata": {},
   "source": [
    "# Distributions\n",
    "- Describes all the probable outcomes of a variable.\n",
    "- In a discrete distribution, the sum of all the individual probabilities must equal 1\n",
    "- In a continuous distribution the area under the probability curve equals 1"
   ]
  },
  {
   "cell_type": "markdown",
   "metadata": {},
   "source": [
    "## Discrete Distributions\n",
    "Discrete probability distributions are also called _probability mass functions__\n",
    "\n",
    "1. Uniform Distribution\n",
    "2. Binomial Distribution\n",
    "3. Poisson Distribution"
   ]
  },
  {
   "cell_type": "markdown",
   "metadata": {},
   "source": [
    "### Uniform Distribution\n",
    "- rollling a fair die has 6 discrete, equally probable outcomes\n",
    "- You can roll a 1 or a 2, but not a 1.5"
   ]
  },
  {
   "cell_type": "code",
   "execution_count": 101,
   "metadata": {},
   "outputs": [
    {
     "data": {
      "image/png": "[encoded data removed]",
      "text/plain": [
       "<Figure size 432x288 with 1 Axes>"
      ]
     },
     "metadata": {},
     "output_type": "display_data"
    }
   ],
   "source": [
    "plt.bar(x=[1,2,3,4,5,6], height=[0.167,0.167,0.167,0.167,0.167,0.167])\n",
    "plt.ylim([0,1])\n",
    "plt.title(\"Discrete Uniform Distribution\")\n",
    "plt.xlabel(\"All height are the same and add up to 1\");"
   ]
  },
  {
   "cell_type": "markdown",
   "metadata": {},
   "source": [
    "### Binomial Distribution\n",
    "- Binomial means there are two discrete mutually exclusive outcomes of a trial.\n",
    "- i.e. heads or tails, on or off, success or failure\n",
    "\n",
    "__Bernoulli Trial__\n",
    "A Bernoulli Trial is a random experiment in which there are only two possible outcomes\n",
    "- success or failure\n",
    "- A series of trials $n$ will follow a binary distribution so long as:\n",
    "A) the probability of success $p$ is constant\n",
    "B) trials are independent of one another"
   ]
  },
  {
   "cell_type": "markdown",
   "metadata": {},
   "source": [
    "#### Binomial Probability Mass Function\n",
    "- Gives the probability of observing $x$ successes in $n$ trials\n",
    "- The probability of success on a single trial is denoted by $p$\n",
    "- Assumes that $p$ is fixed for all trials\n",
    "\n",
    "$$P(x:n:p) = \\left(^n _x \\right)(p)^x(1-p)^{(n-x)}$$\n",
    "\n",
    "indicates the probability of $x$ number successes in $n$ number of trials - $p$ is probability"
   ]
  },
  {
   "cell_type": "code",
   "execution_count": 251,
   "metadata": {
    "code_folding": [
     0
    ]
   },
   "outputs": [],
   "source": [
    "# Plot Binomial distribution\n",
    "def plot_binomial_distribution(n, p):\n",
    "    mean, var, skew, kurt = binom.stats(n, p, moments='mvsk')\n",
    "    \n",
    "    x = np.arange(0,n,1)\n",
    "    \n",
    "    df = pd.DataFrame({'successes':x,\n",
    "                       'probability':binom.pmf(x, n, p)})\n",
    "\n",
    "    fig = px.bar(data_frame=df, x='successes', y='probability', title=f\"Binomial Distribution n={n} and p={p:.3f}\",\n",
    "                 template=\"plotly_white\", width=600, height=400)\n",
    "    fig.show()"
   ]
  },
  {
   "cell_type": "code",
   "execution_count": 252,
   "metadata": {},
   "outputs": [
    {
     "data": {
      "application/vnd.plotly.v1+json": {
       "config": {
        "plotlyServerURL": "https://plot.ly"
       },
       "data": [
        {
         "alignmentgroup": "True",
         "hoverlabel": {
          "namelength": 0
         },
         "hovertemplate": "successes=%{x}<br>probability=%{y}",
         "legendgroup": "",
         "marker": {
          "color": "#636efa"
         },
         "name": "",
         "offsetgroup": "",
         "orientation": "v",
         "showlegend": false,
         "textposition": "auto",
         "type": "bar",
         "x": [
          0,
          1,
          2,
          3,
          4,
          5,
          6,
          7,
          8,
          9,
          10,
          11,
          12,
          13,
          14,
          15,
          16,
          17,
          18,
          19,
          20,
          21,
          22,
          23,
          24,
          25,
          26,
          27,
          28,
          29,
          30,
          31,
          32,
          33,
          34,
          35,
          36,
          37,
          38,
          39,
          40,
          41,
          42,
          43,
          44,
          45,
          46,
          47,
          48,
          49
         ],
         "xaxis": "x",
         "y": [
          8.881784197001244e-16,
          4.440892098500656e-14,
          1.0880185641326512e-12,
          1.7408297026121992e-11,
          2.0454749005693933e-10,
          1.8818369085237732e-09,
          1.4113776813928881e-08,
          8.87151685446952e-08,
          4.768440309277423e-07,
          2.225272144329438e-06,
          9.123615791750566e-06,
          3.3176784697275354e-05,
          0.00010782455026614331,
          0.0003151794546241225,
          0.0008329742729351492,
          0.0019991382550443837,
          0.0043731149329095925,
          0.008746229865818984,
          0.016034754754001852,
          0.027005902743581986,
          0.04185914925255192,
          0.05979878464650333,
          0.0788256706703891,
          0.09596168603351873,
          0.10795689678770784,
          0.11227517265921609,
          0.10795689678770784,
          0.09596168603351873,
          0.07882567067038895,
          0.05979878464650333,
          0.04185914925255199,
          0.027005902743581986,
          0.016034754754001825,
          0.008746229865818984,
          0.0043731149329096,
          0.0019991382550443837,
          0.0008329742729351477,
          0.0003151794546241225,
          0.0001078245502661435,
          3.3176784697275354e-05,
          9.123615791750566e-06,
          2.225272144329438e-06,
          4.768440309277423e-07,
          8.87151685446952e-08,
          1.4113776813928881e-08,
          1.88183690852378e-09,
          2.0454749005693933e-10,
          1.7408297026121992e-11,
          1.0880185641326512e-12,
          4.4408920985006716e-14
         ],
         "yaxis": "y"
        }
       ],
       "layout": {
        "barmode": "relative",
        "height": 400,
        "legend": {
         "tracegroupgap": 0
        },
        "template": {
         "data": {
          "bar": [
           {
            "error_x": {
             "color": "#2a3f5f"
            },
            "error_y": {
             "color": "#2a3f5f"
            },
            "marker": {
             "line": {
              "color": "white",
              "width": 0.5
             }
            },
            "type": "bar"
           }
          ],
          "barpolar": [
           {
            "marker": {
             "line": {
              "color": "white",
              "width": 0.5
             }
            },
            "type": "barpolar"
           }
          ],
          "carpet": [
           {
            "aaxis": {
             "endlinecolor": "#2a3f5f",
             "gridcolor": "#C8D4E3",
             "linecolor": "#C8D4E3",
             "minorgridcolor": "#C8D4E3",
             "startlinecolor": "#2a3f5f"
            },
            "baxis": {
             "endlinecolor": "#2a3f5f",
             "gridcolor": "#C8D4E3",
             "linecolor": "#C8D4E3",
             "minorgridcolor": "#C8D4E3",
             "startlinecolor": "#2a3f5f"
            },
            "type": "carpet"
           }
          ],
          "choropleth": [
           {
            "colorbar": {
             "outlinewidth": 0,
             "ticks": ""
            },
            "type": "choropleth"
           }
          ],
          "contour": [
           {
            "colorbar": {
             "outlinewidth": 0,
             "ticks": ""
            },
            "colorscale": [
             [
              0,
              "#0d0887"
             ],
             [
              0.1111111111111111,
              "#46039f"
             ],
             [
              0.2222222222222222,
              "#7201a8"
             ],
             [
              0.3333333333333333,
              "#9c179e"
             ],
             [
              0.4444444444444444,
              "#bd3786"
             ],
             [
              0.5555555555555556,
              "#d8576b"
             ],
             [
              0.6666666666666666,
              "#ed7953"
             ],
             [
              0.7777777777777778,
              "#fb9f3a"
             ],
             [
              0.8888888888888888,
              "#fdca26"
             ],
             [
              1,
              "#f0f921"
             ]
            ],
            "type": "contour"
           }
          ],
          "contourcarpet": [
           {
            "colorbar": {
             "outlinewidth": 0,
             "ticks": ""
            },
            "type": "contourcarpet"
           }
          ],
          "heatmap": [
           {
            "colorbar": {
             "outlinewidth": 0,
             "ticks": ""
            },
            "colorscale": [
             [
              0,
              "#0d0887"
             ],
             [
              0.1111111111111111,
              "#46039f"
             ],
             [
              0.2222222222222222,
              "#7201a8"
             ],
             [
              0.3333333333333333,
              "#9c179e"
             ],
             [
              0.4444444444444444,
              "#bd3786"
             ],
             [
              0.5555555555555556,
              "#d8576b"
             ],
             [
              0.6666666666666666,
              "#ed7953"
             ],
             [
              0.7777777777777778,
              "#fb9f3a"
             ],
             [
              0.8888888888888888,
              "#fdca26"
             ],
             [
              1,
              "#f0f921"
             ]
            ],
            "type": "heatmap"
           }
          ],
          "heatmapgl": [
           {
            "colorbar": {
             "outlinewidth": 0,
             "ticks": ""
            },
            "colorscale": [
             [
              0,
              "#0d0887"
             ],
             [
              0.1111111111111111,
              "#46039f"
             ],
             [
              0.2222222222222222,
              "#7201a8"
             ],
             [
              0.3333333333333333,
              "#9c179e"
             ],
             [
              0.4444444444444444,
              "#bd3786"
             ],
             [
              0.5555555555555556,
              "#d8576b"
             ],
             [
              0.6666666666666666,
              "#ed7953"
             ],
             [
              0.7777777777777778,
              "#fb9f3a"
             ],
             [
              0.8888888888888888,
              "#fdca26"
             ],
             [
              1,
              "#f0f921"
             ]
            ],
            "type": "heatmapgl"
           }
          ],
          "histogram": [
           {
            "marker": {
             "colorbar": {
              "outlinewidth": 0,
              "ticks": ""
             }
            },
            "type": "histogram"
           }
          ],
          "histogram2d": [
           {
            "colorbar": {
             "outlinewidth": 0,
             "ticks": ""
            },
            "colorscale": [
             [
              0,
              "#0d0887"
             ],
             [
              0.1111111111111111,
              "#46039f"
             ],
             [
              0.2222222222222222,
              "#7201a8"
             ],
             [
              0.3333333333333333,
              "#9c179e"
             ],
             [
              0.4444444444444444,
              "#bd3786"
             ],
             [
              0.5555555555555556,
              "#d8576b"
             ],
             [
              0.6666666666666666,
              "#ed7953"
             ],
             [
              0.7777777777777778,
              "#fb9f3a"
             ],
             [
              0.8888888888888888,
              "#fdca26"
             ],
             [
              1,
              "#f0f921"
             ]
            ],
            "type": "histogram2d"
           }
          ],
          "histogram2dcontour": [
           {
            "colorbar": {
             "outlinewidth": 0,
             "ticks": ""
            },
            "colorscale": [
             [
              0,
              "#0d0887"
             ],
             [
              0.1111111111111111,
              "#46039f"
             ],
             [
              0.2222222222222222,
              "#7201a8"
             ],
             [
              0.3333333333333333,
              "#9c179e"
             ],
             [
              0.4444444444444444,
              "#bd3786"
             ],
             [
              0.5555555555555556,
              "#d8576b"
             ],
             [
              0.6666666666666666,
              "#ed7953"
             ],
             [
              0.7777777777777778,
              "#fb9f3a"
             ],
             [
              0.8888888888888888,
              "#fdca26"
             ],
             [
              1,
              "#f0f921"
             ]
            ],
            "type": "histogram2dcontour"
           }
          ],
          "mesh3d": [
           {
            "colorbar": {
             "outlinewidth": 0,
             "ticks": ""
            },
            "type": "mesh3d"
           }
          ],
          "parcoords": [
           {
            "line": {
             "colorbar": {
              "outlinewidth": 0,
              "ticks": ""
             }
            },
            "type": "parcoords"
           }
          ],
          "scatter": [
           {
            "marker": {
             "colorbar": {
              "outlinewidth": 0,
              "ticks": ""
             }
            },
            "type": "scatter"
           }
          ],
          "scatter3d": [
           {
            "line": {
             "colorbar": {
              "outlinewidth": 0,
              "ticks": ""
             }
            },
            "marker": {
             "colorbar": {
              "outlinewidth": 0,
              "ticks": ""
             }
            },
            "type": "scatter3d"
           }
          ],
          "scattercarpet": [
           {
            "marker": {
             "colorbar": {
              "outlinewidth": 0,
              "ticks": ""
             }
            },
            "type": "scattercarpet"
           }
          ],
          "scattergeo": [
           {
            "marker": {
             "colorbar": {
              "outlinewidth": 0,
              "ticks": ""
             }
            },
            "type": "scattergeo"
           }
          ],
          "scattergl": [
           {
            "marker": {
             "colorbar": {
              "outlinewidth": 0,
              "ticks": ""
             }
            },
            "type": "scattergl"
           }
          ],
          "scattermapbox": [
           {
            "marker": {
             "colorbar": {
              "outlinewidth": 0,
              "ticks": ""
             }
            },
            "type": "scattermapbox"
           }
          ],
          "scatterpolar": [
           {
            "marker": {
             "colorbar": {
              "outlinewidth": 0,
              "ticks": ""
             }
            },
            "type": "scatterpolar"
           }
          ],
          "scatterpolargl": [
           {
            "marker": {
             "colorbar": {
              "outlinewidth": 0,
              "ticks": ""
             }
            },
            "type": "scatterpolargl"
           }
          ],
          "scatterternary": [
           {
            "marker": {
             "colorbar": {
              "outlinewidth": 0,
              "ticks": ""
             }
            },
            "type": "scatterternary"
           }
          ],
          "surface": [
           {
            "colorbar": {
             "outlinewidth": 0,
             "ticks": ""
            },
            "colorscale": [
             [
              0,
              "#0d0887"
             ],
             [
              0.1111111111111111,
              "#46039f"
             ],
             [
              0.2222222222222222,
              "#7201a8"
             ],
             [
              0.3333333333333333,
              "#9c179e"
             ],
             [
              0.4444444444444444,
              "#bd3786"
             ],
             [
              0.5555555555555556,
              "#d8576b"
             ],
             [
              0.6666666666666666,
              "#ed7953"
             ],
             [
              0.7777777777777778,
              "#fb9f3a"
             ],
             [
              0.8888888888888888,
              "#fdca26"
             ],
             [
              1,
              "#f0f921"
             ]
            ],
            "type": "surface"
           }
          ],
          "table": [
           {
            "cells": {
             "fill": {
              "color": "#EBF0F8"
             },
             "line": {
              "color": "white"
             }
            },
            "header": {
             "fill": {
              "color": "#C8D4E3"
             },
             "line": {
              "color": "white"
             }
            },
            "type": "table"
           }
          ]
         },
         "layout": {
          "annotationdefaults": {
           "arrowcolor": "#2a3f5f",
           "arrowhead": 0,
           "arrowwidth": 1
          },
          "colorscale": {
           "diverging": [
            [
             0,
             "#8e0152"
            ],
            [
             0.1,
             "#c51b7d"
            ],
            [
             0.2,
             "#de77ae"
            ],
            [
             0.3,
             "#f1b6da"
            ],
            [
             0.4,
             "#fde0ef"
            ],
            [
             0.5,
             "#f7f7f7"
            ],
            [
             0.6,
             "#e6f5d0"
            ],
            [
             0.7,
             "#b8e186"
            ],
            [
             0.8,
             "#7fbc41"
            ],
            [
             0.9,
             "#4d9221"
            ],
            [
             1,
             "#276419"
            ]
           ],
           "sequential": [
            [
             0,
             "#0d0887"
            ],
            [
             0.1111111111111111,
             "#46039f"
            ],
            [
             0.2222222222222222,
             "#7201a8"
            ],
            [
             0.3333333333333333,
             "#9c179e"
            ],
            [
             0.4444444444444444,
             "#bd3786"
            ],
            [
             0.5555555555555556,
             "#d8576b"
            ],
            [
             0.6666666666666666,
             "#ed7953"
            ],
            [
             0.7777777777777778,
             "#fb9f3a"
            ],
            [
             0.8888888888888888,
             "#fdca26"
            ],
            [
             1,
             "#f0f921"
            ]
           ],
           "sequentialminus": [
            [
             0,
             "#0d0887"
            ],
            [
             0.1111111111111111,
             "#46039f"
            ],
            [
             0.2222222222222222,
             "#7201a8"
            ],
            [
             0.3333333333333333,
             "#9c179e"
            ],
            [
             0.4444444444444444,
             "#bd3786"
            ],
            [
             0.5555555555555556,
             "#d8576b"
            ],
            [
             0.6666666666666666,
             "#ed7953"
            ],
            [
             0.7777777777777778,
             "#fb9f3a"
            ],
            [
             0.8888888888888888,
             "#fdca26"
            ],
            [
             1,
             "#f0f921"
            ]
           ]
          },
          "colorway": [
           "#636efa",
           "#EF553B",
           "#00cc96",
           "#ab63fa",
           "#FFA15A",
           "#19d3f3",
           "#FF6692",
           "#B6E880",
           "#FF97FF",
           "#FECB52"
          ],
          "font": {
           "color": "#2a3f5f"
          },
          "geo": {
           "bgcolor": "white",
           "lakecolor": "white",
           "landcolor": "white",
           "showlakes": true,
           "showland": true,
           "subunitcolor": "#C8D4E3"
          },
          "hoverlabel": {
           "align": "left"
          },
          "hovermode": "closest",
          "mapbox": {
           "style": "light"
          },
          "paper_bgcolor": "white",
          "plot_bgcolor": "white",
          "polar": {
           "angularaxis": {
            "gridcolor": "#EBF0F8",
            "linecolor": "#EBF0F8",
            "ticks": ""
           },
           "bgcolor": "white",
           "radialaxis": {
            "gridcolor": "#EBF0F8",
            "linecolor": "#EBF0F8",
            "ticks": ""
           }
          },
          "scene": {
           "xaxis": {
            "backgroundcolor": "white",
            "gridcolor": "#DFE8F3",
            "gridwidth": 2,
            "linecolor": "#EBF0F8",
            "showbackground": true,
            "ticks": "",
            "zerolinecolor": "#EBF0F8"
           },
           "yaxis": {
            "backgroundcolor": "white",
            "gridcolor": "#DFE8F3",
            "gridwidth": 2,
            "linecolor": "#EBF0F8",
            "showbackground": true,
            "ticks": "",
            "zerolinecolor": "#EBF0F8"
           },
           "zaxis": {
            "backgroundcolor": "white",
            "gridcolor": "#DFE8F3",
            "gridwidth": 2,
            "linecolor": "#EBF0F8",
            "showbackground": true,
            "ticks": "",
            "zerolinecolor": "#EBF0F8"
           }
          },
          "shapedefaults": {
           "line": {
            "color": "#2a3f5f"
           }
          },
          "ternary": {
           "aaxis": {
            "gridcolor": "#DFE8F3",
            "linecolor": "#A2B1C6",
            "ticks": ""
           },
           "baxis": {
            "gridcolor": "#DFE8F3",
            "linecolor": "#A2B1C6",
            "ticks": ""
           },
           "bgcolor": "white",
           "caxis": {
            "gridcolor": "#DFE8F3",
            "linecolor": "#A2B1C6",
            "ticks": ""
           }
          },
          "title": {
           "x": 0.05
          },
          "xaxis": {
           "automargin": true,
           "gridcolor": "#EBF0F8",
           "linecolor": "#EBF0F8",
           "ticks": "",
           "zerolinecolor": "#EBF0F8",
           "zerolinewidth": 2
          },
          "yaxis": {
           "automargin": true,
           "gridcolor": "#EBF0F8",
           "linecolor": "#EBF0F8",
           "ticks": "",
           "zerolinecolor": "#EBF0F8",
           "zerolinewidth": 2
          }
         }
        },
        "title": {
         "text": "Binomial Distribution n=50 and p=0.500"
        },
        "width": 600,
        "xaxis": {
         "anchor": "y",
         "domain": [
          0,
          0.98
         ],
         "title": {
          "text": "successes"
         }
        },
        "yaxis": {
         "anchor": "x",
         "domain": [
          0,
          1
         ],
         "title": {
          "text": "probability"
         }
        }
       }
      },
      "text/html": [
       "<div>\n",
       "        \n",
       "        \n",
       "            <div id=\"8ca1f5e6-0b59-4396-a045-40cc0285b142\" class=\"plotly-graph-div\" style=\"height:400px; width:600px;\"></div>\n",
       "            <script type=\"text/javascript\">\n",
       "                require([\"plotly\"], function(Plotly) {\n",
       "                    window.PLOTLYENV=window.PLOTLYENV || {};\n",
       "                    \n",
       "                if (document.getElementById(\"8ca1f5e6-0b59-4396-a045-40cc0285b142\")) {\n",
       "                    Plotly.newPlot(\n",
       "                        '8ca1f5e6-0b59-4396-a045-40cc0285b142',\n",
       "                        [{\"alignmentgroup\": \"True\", \"hoverlabel\": {\"namelength\": 0}, \"hovertemplate\": \"successes=%{x}<br>probability=%{y}\", \"legendgroup\": \"\", \"marker\": {\"color\": \"#636efa\"}, \"name\": \"\", \"offsetgroup\": \"\", \"orientation\": \"v\", \"showlegend\": false, \"textposition\": \"auto\", \"type\": \"bar\", \"x\": [0, 1, 2, 3, 4, 5, 6, 7, 8, 9, 10, 11, 12, 13, 14, 15, 16, 17, 18, 19, 20, 21, 22, 23, 24, 25, 26, 27, 28, 29, 30, 31, 32, 33, 34, 35, 36, 37, 38, 39, 40, 41, 42, 43, 44, 45, 46, 47, 48, 49], \"xaxis\": \"x\", \"y\": [8.881784197001244e-16, 4.440892098500656e-14, 1.0880185641326512e-12, 1.7408297026121992e-11, 2.0454749005693933e-10, 1.8818369085237732e-09, 1.4113776813928881e-08, 8.87151685446952e-08, 4.768440309277423e-07, 2.225272144329438e-06, 9.123615791750566e-06, 3.3176784697275354e-05, 0.00010782455026614331, 0.0003151794546241225, 0.0008329742729351492, 0.0019991382550443837, 0.0043731149329095925, 0.008746229865818984, 0.016034754754001852, 0.027005902743581986, 0.04185914925255192, 0.05979878464650333, 0.0788256706703891, 0.09596168603351873, 0.10795689678770784, 0.11227517265921609, 0.10795689678770784, 0.09596168603351873, 0.07882567067038895, 0.05979878464650333, 0.04185914925255199, 0.027005902743581986, 0.016034754754001825, 0.008746229865818984, 0.0043731149329096, 0.0019991382550443837, 0.0008329742729351477, 0.0003151794546241225, 0.0001078245502661435, 3.3176784697275354e-05, 9.123615791750566e-06, 2.225272144329438e-06, 4.768440309277423e-07, 8.87151685446952e-08, 1.4113776813928881e-08, 1.88183690852378e-09, 2.0454749005693933e-10, 1.7408297026121992e-11, 1.0880185641326512e-12, 4.4408920985006716e-14], \"yaxis\": \"y\"}],\n",
       "                        {\"barmode\": \"relative\", \"height\": 400, \"legend\": {\"tracegroupgap\": 0}, \"template\": {\"data\": {\"bar\": [{\"error_x\": {\"color\": \"#2a3f5f\"}, \"error_y\": {\"color\": \"#2a3f5f\"}, \"marker\": {\"line\": {\"color\": \"white\", \"width\": 0.5}}, \"type\": \"bar\"}], \"barpolar\": [{\"marker\": {\"line\": {\"color\": \"white\", \"width\": 0.5}}, \"type\": \"barpolar\"}], \"carpet\": [{\"aaxis\": {\"endlinecolor\": \"#2a3f5f\", \"gridcolor\": \"#C8D4E3\", \"linecolor\": \"#C8D4E3\", \"minorgridcolor\": \"#C8D4E3\", \"startlinecolor\": \"#2a3f5f\"}, \"baxis\": {\"endlinecolor\": \"#2a3f5f\", \"gridcolor\": \"#C8D4E3\", \"linecolor\": \"#C8D4E3\", \"minorgridcolor\": \"#C8D4E3\", \"startlinecolor\": \"#2a3f5f\"}, \"type\": \"carpet\"}], \"choropleth\": [{\"colorbar\": {\"outlinewidth\": 0, \"ticks\": \"\"}, \"type\": \"choropleth\"}], \"contour\": [{\"colorbar\": {\"outlinewidth\": 0, \"ticks\": \"\"}, \"colorscale\": [[0.0, \"#0d0887\"], [0.1111111111111111, \"#46039f\"], [0.2222222222222222, \"#7201a8\"], [0.3333333333333333, \"#9c179e\"], [0.4444444444444444, \"#bd3786\"], [0.5555555555555556, \"#d8576b\"], [0.6666666666666666, \"#ed7953\"], [0.7777777777777778, \"#fb9f3a\"], [0.8888888888888888, \"#fdca26\"], [1.0, \"#f0f921\"]], \"type\": \"contour\"}], \"contourcarpet\": [{\"colorbar\": {\"outlinewidth\": 0, \"ticks\": \"\"}, \"type\": \"contourcarpet\"}], \"heatmap\": [{\"colorbar\": {\"outlinewidth\": 0, \"ticks\": \"\"}, \"colorscale\": [[0.0, \"#0d0887\"], [0.1111111111111111, \"#46039f\"], [0.2222222222222222, \"#7201a8\"], [0.3333333333333333, \"#9c179e\"], [0.4444444444444444, \"#bd3786\"], [0.5555555555555556, \"#d8576b\"], [0.6666666666666666, \"#ed7953\"], [0.7777777777777778, \"#fb9f3a\"], [0.8888888888888888, \"#fdca26\"], [1.0, \"#f0f921\"]], \"type\": \"heatmap\"}], \"heatmapgl\": [{\"colorbar\": {\"outlinewidth\": 0, \"ticks\": \"\"}, \"colorscale\": [[0.0, \"#0d0887\"], [0.1111111111111111, \"#46039f\"], [0.2222222222222222, \"#7201a8\"], [0.3333333333333333, \"#9c179e\"], [0.4444444444444444, \"#bd3786\"], [0.5555555555555556, \"#d8576b\"], [0.6666666666666666, \"#ed7953\"], [0.7777777777777778, \"#fb9f3a\"], [0.8888888888888888, \"#fdca26\"], [1.0, \"#f0f921\"]], \"type\": \"heatmapgl\"}], \"histogram\": [{\"marker\": {\"colorbar\": {\"outlinewidth\": 0, \"ticks\": \"\"}}, \"type\": \"histogram\"}], \"histogram2d\": [{\"colorbar\": {\"outlinewidth\": 0, \"ticks\": \"\"}, \"colorscale\": [[0.0, \"#0d0887\"], [0.1111111111111111, \"#46039f\"], [0.2222222222222222, \"#7201a8\"], [0.3333333333333333, \"#9c179e\"], [0.4444444444444444, \"#bd3786\"], [0.5555555555555556, \"#d8576b\"], [0.6666666666666666, \"#ed7953\"], [0.7777777777777778, \"#fb9f3a\"], [0.8888888888888888, \"#fdca26\"], [1.0, \"#f0f921\"]], \"type\": \"histogram2d\"}], \"histogram2dcontour\": [{\"colorbar\": {\"outlinewidth\": 0, \"ticks\": \"\"}, \"colorscale\": [[0.0, \"#0d0887\"], [0.1111111111111111, \"#46039f\"], [0.2222222222222222, \"#7201a8\"], [0.3333333333333333, \"#9c179e\"], [0.4444444444444444, \"#bd3786\"], [0.5555555555555556, \"#d8576b\"], [0.6666666666666666, \"#ed7953\"], [0.7777777777777778, \"#fb9f3a\"], [0.8888888888888888, \"#fdca26\"], [1.0, \"#f0f921\"]], \"type\": \"histogram2dcontour\"}], \"mesh3d\": [{\"colorbar\": {\"outlinewidth\": 0, \"ticks\": \"\"}, \"type\": \"mesh3d\"}], \"parcoords\": [{\"line\": {\"colorbar\": {\"outlinewidth\": 0, \"ticks\": \"\"}}, \"type\": \"parcoords\"}], \"scatter\": [{\"marker\": {\"colorbar\": {\"outlinewidth\": 0, \"ticks\": \"\"}}, \"type\": \"scatter\"}], \"scatter3d\": [{\"line\": {\"colorbar\": {\"outlinewidth\": 0, \"ticks\": \"\"}}, \"marker\": {\"colorbar\": {\"outlinewidth\": 0, \"ticks\": \"\"}}, \"type\": \"scatter3d\"}], \"scattercarpet\": [{\"marker\": {\"colorbar\": {\"outlinewidth\": 0, \"ticks\": \"\"}}, \"type\": \"scattercarpet\"}], \"scattergeo\": [{\"marker\": {\"colorbar\": {\"outlinewidth\": 0, \"ticks\": \"\"}}, \"type\": \"scattergeo\"}], \"scattergl\": [{\"marker\": {\"colorbar\": {\"outlinewidth\": 0, \"ticks\": \"\"}}, \"type\": \"scattergl\"}], \"scattermapbox\": [{\"marker\": {\"colorbar\": {\"outlinewidth\": 0, \"ticks\": \"\"}}, \"type\": \"scattermapbox\"}], \"scatterpolar\": [{\"marker\": {\"colorbar\": {\"outlinewidth\": 0, \"ticks\": \"\"}}, \"type\": \"scatterpolar\"}], \"scatterpolargl\": [{\"marker\": {\"colorbar\": {\"outlinewidth\": 0, \"ticks\": \"\"}}, \"type\": \"scatterpolargl\"}], \"scatterternary\": [{\"marker\": {\"colorbar\": {\"outlinewidth\": 0, \"ticks\": \"\"}}, \"type\": \"scatterternary\"}], \"surface\": [{\"colorbar\": {\"outlinewidth\": 0, \"ticks\": \"\"}, \"colorscale\": [[0.0, \"#0d0887\"], [0.1111111111111111, \"#46039f\"], [0.2222222222222222, \"#7201a8\"], [0.3333333333333333, \"#9c179e\"], [0.4444444444444444, \"#bd3786\"], [0.5555555555555556, \"#d8576b\"], [0.6666666666666666, \"#ed7953\"], [0.7777777777777778, \"#fb9f3a\"], [0.8888888888888888, \"#fdca26\"], [1.0, \"#f0f921\"]], \"type\": \"surface\"}], \"table\": [{\"cells\": {\"fill\": {\"color\": \"#EBF0F8\"}, \"line\": {\"color\": \"white\"}}, \"header\": {\"fill\": {\"color\": \"#C8D4E3\"}, \"line\": {\"color\": \"white\"}}, \"type\": \"table\"}]}, \"layout\": {\"annotationdefaults\": {\"arrowcolor\": \"#2a3f5f\", \"arrowhead\": 0, \"arrowwidth\": 1}, \"colorscale\": {\"diverging\": [[0, \"#8e0152\"], [0.1, \"#c51b7d\"], [0.2, \"#de77ae\"], [0.3, \"#f1b6da\"], [0.4, \"#fde0ef\"], [0.5, \"#f7f7f7\"], [0.6, \"#e6f5d0\"], [0.7, \"#b8e186\"], [0.8, \"#7fbc41\"], [0.9, \"#4d9221\"], [1, \"#276419\"]], \"sequential\": [[0.0, \"#0d0887\"], [0.1111111111111111, \"#46039f\"], [0.2222222222222222, \"#7201a8\"], [0.3333333333333333, \"#9c179e\"], [0.4444444444444444, \"#bd3786\"], [0.5555555555555556, \"#d8576b\"], [0.6666666666666666, \"#ed7953\"], [0.7777777777777778, \"#fb9f3a\"], [0.8888888888888888, \"#fdca26\"], [1.0, \"#f0f921\"]], \"sequentialminus\": [[0.0, \"#0d0887\"], [0.1111111111111111, \"#46039f\"], [0.2222222222222222, \"#7201a8\"], [0.3333333333333333, \"#9c179e\"], [0.4444444444444444, \"#bd3786\"], [0.5555555555555556, \"#d8576b\"], [0.6666666666666666, \"#ed7953\"], [0.7777777777777778, \"#fb9f3a\"], [0.8888888888888888, \"#fdca26\"], [1.0, \"#f0f921\"]]}, \"colorway\": [\"#636efa\", \"#EF553B\", \"#00cc96\", \"#ab63fa\", \"#FFA15A\", \"#19d3f3\", \"#FF6692\", \"#B6E880\", \"#FF97FF\", \"#FECB52\"], \"font\": {\"color\": \"#2a3f5f\"}, \"geo\": {\"bgcolor\": \"white\", \"lakecolor\": \"white\", \"landcolor\": \"white\", \"showlakes\": true, \"showland\": true, \"subunitcolor\": \"#C8D4E3\"}, \"hoverlabel\": {\"align\": \"left\"}, \"hovermode\": \"closest\", \"mapbox\": {\"style\": \"light\"}, \"paper_bgcolor\": \"white\", \"plot_bgcolor\": \"white\", \"polar\": {\"angularaxis\": {\"gridcolor\": \"#EBF0F8\", \"linecolor\": \"#EBF0F8\", \"ticks\": \"\"}, \"bgcolor\": \"white\", \"radialaxis\": {\"gridcolor\": \"#EBF0F8\", \"linecolor\": \"#EBF0F8\", \"ticks\": \"\"}}, \"scene\": {\"xaxis\": {\"backgroundcolor\": \"white\", \"gridcolor\": \"#DFE8F3\", \"gridwidth\": 2, \"linecolor\": \"#EBF0F8\", \"showbackground\": true, \"ticks\": \"\", \"zerolinecolor\": \"#EBF0F8\"}, \"yaxis\": {\"backgroundcolor\": \"white\", \"gridcolor\": \"#DFE8F3\", \"gridwidth\": 2, \"linecolor\": \"#EBF0F8\", \"showbackground\": true, \"ticks\": \"\", \"zerolinecolor\": \"#EBF0F8\"}, \"zaxis\": {\"backgroundcolor\": \"white\", \"gridcolor\": \"#DFE8F3\", \"gridwidth\": 2, \"linecolor\": \"#EBF0F8\", \"showbackground\": true, \"ticks\": \"\", \"zerolinecolor\": \"#EBF0F8\"}}, \"shapedefaults\": {\"line\": {\"color\": \"#2a3f5f\"}}, \"ternary\": {\"aaxis\": {\"gridcolor\": \"#DFE8F3\", \"linecolor\": \"#A2B1C6\", \"ticks\": \"\"}, \"baxis\": {\"gridcolor\": \"#DFE8F3\", \"linecolor\": \"#A2B1C6\", \"ticks\": \"\"}, \"bgcolor\": \"white\", \"caxis\": {\"gridcolor\": \"#DFE8F3\", \"linecolor\": \"#A2B1C6\", \"ticks\": \"\"}}, \"title\": {\"x\": 0.05}, \"xaxis\": {\"automargin\": true, \"gridcolor\": \"#EBF0F8\", \"linecolor\": \"#EBF0F8\", \"ticks\": \"\", \"zerolinecolor\": \"#EBF0F8\", \"zerolinewidth\": 2}, \"yaxis\": {\"automargin\": true, \"gridcolor\": \"#EBF0F8\", \"linecolor\": \"#EBF0F8\", \"ticks\": \"\", \"zerolinecolor\": \"#EBF0F8\", \"zerolinewidth\": 2}}}, \"title\": {\"text\": \"Binomial Distribution n=50 and p=0.500\"}, \"width\": 600, \"xaxis\": {\"anchor\": \"y\", \"domain\": [0.0, 0.98], \"title\": {\"text\": \"successes\"}}, \"yaxis\": {\"anchor\": \"x\", \"domain\": [0.0, 1.0], \"title\": {\"text\": \"probability\"}}},\n",
       "                        {\"responsive\": true}\n",
       "                    ).then(function(){\n",
       "                            \n",
       "var gd = document.getElementById('8ca1f5e6-0b59-4396-a045-40cc0285b142');\n",
       "var x = new MutationObserver(function (mutations, observer) {{\n",
       "        var display = window.getComputedStyle(gd).display;\n",
       "        if (!display || display === 'none') {{\n",
       "            console.log([gd, 'removed!']);\n",
       "            Plotly.purge(gd);\n",
       "            observer.disconnect();\n",
       "        }}\n",
       "}});\n",
       "\n",
       "// Listen for the removal of the full notebook cells\n",
       "var notebookContainer = gd.closest('#notebook-container');\n",
       "if (notebookContainer) {{\n",
       "    x.observe(notebookContainer, {childList: true});\n",
       "}}\n",
       "\n",
       "// Listen for the clearing of the current output cell\n",
       "var outputEl = gd.closest('.output');\n",
       "if (outputEl) {{\n",
       "    x.observe(outputEl, {childList: true});\n",
       "}}\n",
       "\n",
       "                        })\n",
       "                };\n",
       "                });\n",
       "            </script>\n",
       "        </div>"
      ]
     },
     "metadata": {},
     "output_type": "display_data"
    }
   ],
   "source": [
    "# Plot 50 coins the probability of getting heads (or tails)\n",
    "plot_binomial_distribution(n=50, p=0.5)"
   ]
  },
  {
   "cell_type": "code",
   "execution_count": 253,
   "metadata": {
    "code_folding": []
   },
   "outputs": [
    {
     "data": {
      "application/vnd.plotly.v1+json": {
       "config": {
        "plotlyServerURL": "https://plot.ly"
       },
       "data": [
        {
         "alignmentgroup": "True",
         "hoverlabel": {
          "namelength": 0
         },
         "hovertemplate": "successes=%{x}<br>probability=%{y}",
         "legendgroup": "",
         "marker": {
          "color": "#636efa"
         },
         "name": "",
         "offsetgroup": "",
         "orientation": "v",
         "showlegend": false,
         "textposition": "auto",
         "type": "bar",
         "x": [
          0,
          1,
          2,
          3,
          4,
          5,
          6,
          7,
          8,
          9,
          10,
          11,
          12,
          13,
          14,
          15,
          16,
          17,
          18,
          19,
          20,
          21,
          22,
          23,
          24,
          25,
          26,
          27,
          28,
          29,
          30,
          31,
          32,
          33,
          34,
          35,
          36,
          37,
          38,
          39,
          40,
          41,
          42,
          43,
          44,
          45,
          46,
          47,
          48,
          49
         ],
         "xaxis": "x",
         "y": [
          0.00010988481911717233,
          0.0010988481911717324,
          0.005384356136741422,
          0.017229939637572158,
          0.04049035814829577,
          0.07450225899286156,
          0.11175338848929683,
          0.1404899741008288,
          0.15102672215839338,
          0.14095827401449845,
          0.11558578469188747,
          0.08406238886682847,
          0.05464055276343773,
          0.031943707769395424,
          0.016884531249536937,
          0.008104574999777838,
          0.003545751562402823,
          0.0014183006249610913,
          0.0005200435624857462,
          0.0001751725684162516,
          5.430349620903773e-05,
          1.55152846311538e-05,
          4.090393220940451e-06,
          9.959218277072606e-07,
          2.2408241123412993e-07,
          4.66091415366992e-08,
          8.96329644936521e-09,
          1.5934749243316106e-09,
          2.6178516614018814e-10,
          3.971912865575369e-11,
          5.560678011805466e-12,
          7.175068402329641e-13,
          8.52039372776645e-14,
          9.294974975745005e-15,
          9.294974975745293e-16,
          8.498262834967063e-17,
          7.081885695805826e-18,
          5.359264850880273e-19,
          3.666865424286374e-20,
          2.2565325687916502e-21,
          1.2410929128353872e-22,
          6.054111769928809e-24,
          2.5946193299695217e-25,
          9.654397506863232e-27,
          3.071853752183779e-28,
          8.191610005823108e-30,
          1.780784783874649e-31,
          3.0311230363822846e-33,
          3.7889037954779246e-35,
          3.09298269018609e-37
         ],
         "yaxis": "y"
        }
       ],
       "layout": {
        "barmode": "relative",
        "height": 400,
        "legend": {
         "tracegroupgap": 0
        },
        "template": {
         "data": {
          "bar": [
           {
            "error_x": {
             "color": "#2a3f5f"
            },
            "error_y": {
             "color": "#2a3f5f"
            },
            "marker": {
             "line": {
              "color": "white",
              "width": 0.5
             }
            },
            "type": "bar"
           }
          ],
          "barpolar": [
           {
            "marker": {
             "line": {
              "color": "white",
              "width": 0.5
             }
            },
            "type": "barpolar"
           }
          ],
          "carpet": [
           {
            "aaxis": {
             "endlinecolor": "#2a3f5f",
             "gridcolor": "#C8D4E3",
             "linecolor": "#C8D4E3",
             "minorgridcolor": "#C8D4E3",
             "startlinecolor": "#2a3f5f"
            },
            "baxis": {
             "endlinecolor": "#2a3f5f",
             "gridcolor": "#C8D4E3",
             "linecolor": "#C8D4E3",
             "minorgridcolor": "#C8D4E3",
             "startlinecolor": "#2a3f5f"
            },
            "type": "carpet"
           }
          ],
          "choropleth": [
           {
            "colorbar": {
             "outlinewidth": 0,
             "ticks": ""
            },
            "type": "choropleth"
           }
          ],
          "contour": [
           {
            "colorbar": {
             "outlinewidth": 0,
             "ticks": ""
            },
            "colorscale": [
             [
              0,
              "#0d0887"
             ],
             [
              0.1111111111111111,
              "#46039f"
             ],
             [
              0.2222222222222222,
              "#7201a8"
             ],
             [
              0.3333333333333333,
              "#9c179e"
             ],
             [
              0.4444444444444444,
              "#bd3786"
             ],
             [
              0.5555555555555556,
              "#d8576b"
             ],
             [
              0.6666666666666666,
              "#ed7953"
             ],
             [
              0.7777777777777778,
              "#fb9f3a"
             ],
             [
              0.8888888888888888,
              "#fdca26"
             ],
             [
              1,
              "#f0f921"
             ]
            ],
            "type": "contour"
           }
          ],
          "contourcarpet": [
           {
            "colorbar": {
             "outlinewidth": 0,
             "ticks": ""
            },
            "type": "contourcarpet"
           }
          ],
          "heatmap": [
           {
            "colorbar": {
             "outlinewidth": 0,
             "ticks": ""
            },
            "colorscale": [
             [
              0,
              "#0d0887"
             ],
             [
              0.1111111111111111,
              "#46039f"
             ],
             [
              0.2222222222222222,
              "#7201a8"
             ],
             [
              0.3333333333333333,
              "#9c179e"
             ],
             [
              0.4444444444444444,
              "#bd3786"
             ],
             [
              0.5555555555555556,
              "#d8576b"
             ],
             [
              0.6666666666666666,
              "#ed7953"
             ],
             [
              0.7777777777777778,
              "#fb9f3a"
             ],
             [
              0.8888888888888888,
              "#fdca26"
             ],
             [
              1,
              "#f0f921"
             ]
            ],
            "type": "heatmap"
           }
          ],
          "heatmapgl": [
           {
            "colorbar": {
             "outlinewidth": 0,
             "ticks": ""
            },
            "colorscale": [
             [
              0,
              "#0d0887"
             ],
             [
              0.1111111111111111,
              "#46039f"
             ],
             [
              0.2222222222222222,
              "#7201a8"
             ],
             [
              0.3333333333333333,
              "#9c179e"
             ],
             [
              0.4444444444444444,
              "#bd3786"
             ],
             [
              0.5555555555555556,
              "#d8576b"
             ],
             [
              0.6666666666666666,
              "#ed7953"
             ],
             [
              0.7777777777777778,
              "#fb9f3a"
             ],
             [
              0.8888888888888888,
              "#fdca26"
             ],
             [
              1,
              "#f0f921"
             ]
            ],
            "type": "heatmapgl"
           }
          ],
          "histogram": [
           {
            "marker": {
             "colorbar": {
              "outlinewidth": 0,
              "ticks": ""
             }
            },
            "type": "histogram"
           }
          ],
          "histogram2d": [
           {
            "colorbar": {
             "outlinewidth": 0,
             "ticks": ""
            },
            "colorscale": [
             [
              0,
              "#0d0887"
             ],
             [
              0.1111111111111111,
              "#46039f"
             ],
             [
              0.2222222222222222,
              "#7201a8"
             ],
             [
              0.3333333333333333,
              "#9c179e"
             ],
             [
              0.4444444444444444,
              "#bd3786"
             ],
             [
              0.5555555555555556,
              "#d8576b"
             ],
             [
              0.6666666666666666,
              "#ed7953"
             ],
             [
              0.7777777777777778,
              "#fb9f3a"
             ],
             [
              0.8888888888888888,
              "#fdca26"
             ],
             [
              1,
              "#f0f921"
             ]
            ],
            "type": "histogram2d"
           }
          ],
          "histogram2dcontour": [
           {
            "colorbar": {
             "outlinewidth": 0,
             "ticks": ""
            },
            "colorscale": [
             [
              0,
              "#0d0887"
             ],
             [
              0.1111111111111111,
              "#46039f"
             ],
             [
              0.2222222222222222,
              "#7201a8"
             ],
             [
              0.3333333333333333,
              "#9c179e"
             ],
             [
              0.4444444444444444,
              "#bd3786"
             ],
             [
              0.5555555555555556,
              "#d8576b"
             ],
             [
              0.6666666666666666,
              "#ed7953"
             ],
             [
              0.7777777777777778,
              "#fb9f3a"
             ],
             [
              0.8888888888888888,
              "#fdca26"
             ],
             [
              1,
              "#f0f921"
             ]
            ],
            "type": "histogram2dcontour"
           }
          ],
          "mesh3d": [
           {
            "colorbar": {
             "outlinewidth": 0,
             "ticks": ""
            },
            "type": "mesh3d"
           }
          ],
          "parcoords": [
           {
            "line": {
             "colorbar": {
              "outlinewidth": 0,
              "ticks": ""
             }
            },
            "type": "parcoords"
           }
          ],
          "scatter": [
           {
            "marker": {
             "colorbar": {
              "outlinewidth": 0,
              "ticks": ""
             }
            },
            "type": "scatter"
           }
          ],
          "scatter3d": [
           {
            "line": {
             "colorbar": {
              "outlinewidth": 0,
              "ticks": ""
             }
            },
            "marker": {
             "colorbar": {
              "outlinewidth": 0,
              "ticks": ""
             }
            },
            "type": "scatter3d"
           }
          ],
          "scattercarpet": [
           {
            "marker": {
             "colorbar": {
              "outlinewidth": 0,
              "ticks": ""
             }
            },
            "type": "scattercarpet"
           }
          ],
          "scattergeo": [
           {
            "marker": {
             "colorbar": {
              "outlinewidth": 0,
              "ticks": ""
             }
            },
            "type": "scattergeo"
           }
          ],
          "scattergl": [
           {
            "marker": {
             "colorbar": {
              "outlinewidth": 0,
              "ticks": ""
             }
            },
            "type": "scattergl"
           }
          ],
          "scattermapbox": [
           {
            "marker": {
             "colorbar": {
              "outlinewidth": 0,
              "ticks": ""
             }
            },
            "type": "scattermapbox"
           }
          ],
          "scatterpolar": [
           {
            "marker": {
             "colorbar": {
              "outlinewidth": 0,
              "ticks": ""
             }
            },
            "type": "scatterpolar"
           }
          ],
          "scatterpolargl": [
           {
            "marker": {
             "colorbar": {
              "outlinewidth": 0,
              "ticks": ""
             }
            },
            "type": "scatterpolargl"
           }
          ],
          "scatterternary": [
           {
            "marker": {
             "colorbar": {
              "outlinewidth": 0,
              "ticks": ""
             }
            },
            "type": "scatterternary"
           }
          ],
          "surface": [
           {
            "colorbar": {
             "outlinewidth": 0,
             "ticks": ""
            },
            "colorscale": [
             [
              0,
              "#0d0887"
             ],
             [
              0.1111111111111111,
              "#46039f"
             ],
             [
              0.2222222222222222,
              "#7201a8"
             ],
             [
              0.3333333333333333,
              "#9c179e"
             ],
             [
              0.4444444444444444,
              "#bd3786"
             ],
             [
              0.5555555555555556,
              "#d8576b"
             ],
             [
              0.6666666666666666,
              "#ed7953"
             ],
             [
              0.7777777777777778,
              "#fb9f3a"
             ],
             [
              0.8888888888888888,
              "#fdca26"
             ],
             [
              1,
              "#f0f921"
             ]
            ],
            "type": "surface"
           }
          ],
          "table": [
           {
            "cells": {
             "fill": {
              "color": "#EBF0F8"
             },
             "line": {
              "color": "white"
             }
            },
            "header": {
             "fill": {
              "color": "#C8D4E3"
             },
             "line": {
              "color": "white"
             }
            },
            "type": "table"
           }
          ]
         },
         "layout": {
          "annotationdefaults": {
           "arrowcolor": "#2a3f5f",
           "arrowhead": 0,
           "arrowwidth": 1
          },
          "colorscale": {
           "diverging": [
            [
             0,
             "#8e0152"
            ],
            [
             0.1,
             "#c51b7d"
            ],
            [
             0.2,
             "#de77ae"
            ],
            [
             0.3,
             "#f1b6da"
            ],
            [
             0.4,
             "#fde0ef"
            ],
            [
             0.5,
             "#f7f7f7"
            ],
            [
             0.6,
             "#e6f5d0"
            ],
            [
             0.7,
             "#b8e186"
            ],
            [
             0.8,
             "#7fbc41"
            ],
            [
             0.9,
             "#4d9221"
            ],
            [
             1,
             "#276419"
            ]
           ],
           "sequential": [
            [
             0,
             "#0d0887"
            ],
            [
             0.1111111111111111,
             "#46039f"
            ],
            [
             0.2222222222222222,
             "#7201a8"
            ],
            [
             0.3333333333333333,
             "#9c179e"
            ],
            [
             0.4444444444444444,
             "#bd3786"
            ],
            [
             0.5555555555555556,
             "#d8576b"
            ],
            [
             0.6666666666666666,
             "#ed7953"
            ],
            [
             0.7777777777777778,
             "#fb9f3a"
            ],
            [
             0.8888888888888888,
             "#fdca26"
            ],
            [
             1,
             "#f0f921"
            ]
           ],
           "sequentialminus": [
            [
             0,
             "#0d0887"
            ],
            [
             0.1111111111111111,
             "#46039f"
            ],
            [
             0.2222222222222222,
             "#7201a8"
            ],
            [
             0.3333333333333333,
             "#9c179e"
            ],
            [
             0.4444444444444444,
             "#bd3786"
            ],
            [
             0.5555555555555556,
             "#d8576b"
            ],
            [
             0.6666666666666666,
             "#ed7953"
            ],
            [
             0.7777777777777778,
             "#fb9f3a"
            ],
            [
             0.8888888888888888,
             "#fdca26"
            ],
            [
             1,
             "#f0f921"
            ]
           ]
          },
          "colorway": [
           "#636efa",
           "#EF553B",
           "#00cc96",
           "#ab63fa",
           "#FFA15A",
           "#19d3f3",
           "#FF6692",
           "#B6E880",
           "#FF97FF",
           "#FECB52"
          ],
          "font": {
           "color": "#2a3f5f"
          },
          "geo": {
           "bgcolor": "white",
           "lakecolor": "white",
           "landcolor": "white",
           "showlakes": true,
           "showland": true,
           "subunitcolor": "#C8D4E3"
          },
          "hoverlabel": {
           "align": "left"
          },
          "hovermode": "closest",
          "mapbox": {
           "style": "light"
          },
          "paper_bgcolor": "white",
          "plot_bgcolor": "white",
          "polar": {
           "angularaxis": {
            "gridcolor": "#EBF0F8",
            "linecolor": "#EBF0F8",
            "ticks": ""
           },
           "bgcolor": "white",
           "radialaxis": {
            "gridcolor": "#EBF0F8",
            "linecolor": "#EBF0F8",
            "ticks": ""
           }
          },
          "scene": {
           "xaxis": {
            "backgroundcolor": "white",
            "gridcolor": "#DFE8F3",
            "gridwidth": 2,
            "linecolor": "#EBF0F8",
            "showbackground": true,
            "ticks": "",
            "zerolinecolor": "#EBF0F8"
           },
           "yaxis": {
            "backgroundcolor": "white",
            "gridcolor": "#DFE8F3",
            "gridwidth": 2,
            "linecolor": "#EBF0F8",
            "showbackground": true,
            "ticks": "",
            "zerolinecolor": "#EBF0F8"
           },
           "zaxis": {
            "backgroundcolor": "white",
            "gridcolor": "#DFE8F3",
            "gridwidth": 2,
            "linecolor": "#EBF0F8",
            "showbackground": true,
            "ticks": "",
            "zerolinecolor": "#EBF0F8"
           }
          },
          "shapedefaults": {
           "line": {
            "color": "#2a3f5f"
           }
          },
          "ternary": {
           "aaxis": {
            "gridcolor": "#DFE8F3",
            "linecolor": "#A2B1C6",
            "ticks": ""
           },
           "baxis": {
            "gridcolor": "#DFE8F3",
            "linecolor": "#A2B1C6",
            "ticks": ""
           },
           "bgcolor": "white",
           "caxis": {
            "gridcolor": "#DFE8F3",
            "linecolor": "#A2B1C6",
            "ticks": ""
           }
          },
          "title": {
           "x": 0.05
          },
          "xaxis": {
           "automargin": true,
           "gridcolor": "#EBF0F8",
           "linecolor": "#EBF0F8",
           "ticks": "",
           "zerolinecolor": "#EBF0F8",
           "zerolinewidth": 2
          },
          "yaxis": {
           "automargin": true,
           "gridcolor": "#EBF0F8",
           "linecolor": "#EBF0F8",
           "ticks": "",
           "zerolinecolor": "#EBF0F8",
           "zerolinewidth": 2
          }
         }
        },
        "title": {
         "text": "Binomial Distribution n=50 and p=0.167"
        },
        "width": 600,
        "xaxis": {
         "anchor": "y",
         "domain": [
          0,
          0.98
         ],
         "title": {
          "text": "successes"
         }
        },
        "yaxis": {
         "anchor": "x",
         "domain": [
          0,
          1
         ],
         "title": {
          "text": "probability"
         }
        }
       }
      },
      "text/html": [
       "<div>\n",
       "        \n",
       "        \n",
       "            <div id=\"9faa8230-aa93-42b9-95e3-40cd16592af9\" class=\"plotly-graph-div\" style=\"height:400px; width:600px;\"></div>\n",
       "            <script type=\"text/javascript\">\n",
       "                require([\"plotly\"], function(Plotly) {\n",
       "                    window.PLOTLYENV=window.PLOTLYENV || {};\n",
       "                    \n",
       "                if (document.getElementById(\"9faa8230-aa93-42b9-95e3-40cd16592af9\")) {\n",
       "                    Plotly.newPlot(\n",
       "                        '9faa8230-aa93-42b9-95e3-40cd16592af9',\n",
       "                        [{\"alignmentgroup\": \"True\", \"hoverlabel\": {\"namelength\": 0}, \"hovertemplate\": \"successes=%{x}<br>probability=%{y}\", \"legendgroup\": \"\", \"marker\": {\"color\": \"#636efa\"}, \"name\": \"\", \"offsetgroup\": \"\", \"orientation\": \"v\", \"showlegend\": false, \"textposition\": \"auto\", \"type\": \"bar\", \"x\": [0, 1, 2, 3, 4, 5, 6, 7, 8, 9, 10, 11, 12, 13, 14, 15, 16, 17, 18, 19, 20, 21, 22, 23, 24, 25, 26, 27, 28, 29, 30, 31, 32, 33, 34, 35, 36, 37, 38, 39, 40, 41, 42, 43, 44, 45, 46, 47, 48, 49], \"xaxis\": \"x\", \"y\": [0.00010988481911717233, 0.0010988481911717324, 0.005384356136741422, 0.017229939637572158, 0.04049035814829577, 0.07450225899286156, 0.11175338848929683, 0.1404899741008288, 0.15102672215839338, 0.14095827401449845, 0.11558578469188747, 0.08406238886682847, 0.05464055276343773, 0.031943707769395424, 0.016884531249536937, 0.008104574999777838, 0.003545751562402823, 0.0014183006249610913, 0.0005200435624857462, 0.0001751725684162516, 5.430349620903773e-05, 1.55152846311538e-05, 4.090393220940451e-06, 9.959218277072606e-07, 2.2408241123412993e-07, 4.66091415366992e-08, 8.96329644936521e-09, 1.5934749243316106e-09, 2.6178516614018814e-10, 3.971912865575369e-11, 5.560678011805466e-12, 7.175068402329641e-13, 8.52039372776645e-14, 9.294974975745005e-15, 9.294974975745293e-16, 8.498262834967063e-17, 7.081885695805826e-18, 5.359264850880273e-19, 3.666865424286374e-20, 2.2565325687916502e-21, 1.2410929128353872e-22, 6.054111769928809e-24, 2.5946193299695217e-25, 9.654397506863232e-27, 3.071853752183779e-28, 8.191610005823108e-30, 1.780784783874649e-31, 3.0311230363822846e-33, 3.7889037954779246e-35, 3.09298269018609e-37], \"yaxis\": \"y\"}],\n",
       "                        {\"barmode\": \"relative\", \"height\": 400, \"legend\": {\"tracegroupgap\": 0}, \"template\": {\"data\": {\"bar\": [{\"error_x\": {\"color\": \"#2a3f5f\"}, \"error_y\": {\"color\": \"#2a3f5f\"}, \"marker\": {\"line\": {\"color\": \"white\", \"width\": 0.5}}, \"type\": \"bar\"}], \"barpolar\": [{\"marker\": {\"line\": {\"color\": \"white\", \"width\": 0.5}}, \"type\": \"barpolar\"}], \"carpet\": [{\"aaxis\": {\"endlinecolor\": \"#2a3f5f\", \"gridcolor\": \"#C8D4E3\", \"linecolor\": \"#C8D4E3\", \"minorgridcolor\": \"#C8D4E3\", \"startlinecolor\": \"#2a3f5f\"}, \"baxis\": {\"endlinecolor\": \"#2a3f5f\", \"gridcolor\": \"#C8D4E3\", \"linecolor\": \"#C8D4E3\", \"minorgridcolor\": \"#C8D4E3\", \"startlinecolor\": \"#2a3f5f\"}, \"type\": \"carpet\"}], \"choropleth\": [{\"colorbar\": {\"outlinewidth\": 0, \"ticks\": \"\"}, \"type\": \"choropleth\"}], \"contour\": [{\"colorbar\": {\"outlinewidth\": 0, \"ticks\": \"\"}, \"colorscale\": [[0.0, \"#0d0887\"], [0.1111111111111111, \"#46039f\"], [0.2222222222222222, \"#7201a8\"], [0.3333333333333333, \"#9c179e\"], [0.4444444444444444, \"#bd3786\"], [0.5555555555555556, \"#d8576b\"], [0.6666666666666666, \"#ed7953\"], [0.7777777777777778, \"#fb9f3a\"], [0.8888888888888888, \"#fdca26\"], [1.0, \"#f0f921\"]], \"type\": \"contour\"}], \"contourcarpet\": [{\"colorbar\": {\"outlinewidth\": 0, \"ticks\": \"\"}, \"type\": \"contourcarpet\"}], \"heatmap\": [{\"colorbar\": {\"outlinewidth\": 0, \"ticks\": \"\"}, \"colorscale\": [[0.0, \"#0d0887\"], [0.1111111111111111, \"#46039f\"], [0.2222222222222222, \"#7201a8\"], [0.3333333333333333, \"#9c179e\"], [0.4444444444444444, \"#bd3786\"], [0.5555555555555556, \"#d8576b\"], [0.6666666666666666, \"#ed7953\"], [0.7777777777777778, \"#fb9f3a\"], [0.8888888888888888, \"#fdca26\"], [1.0, \"#f0f921\"]], \"type\": \"heatmap\"}], \"heatmapgl\": [{\"colorbar\": {\"outlinewidth\": 0, \"ticks\": \"\"}, \"colorscale\": [[0.0, \"#0d0887\"], [0.1111111111111111, \"#46039f\"], [0.2222222222222222, \"#7201a8\"], [0.3333333333333333, \"#9c179e\"], [0.4444444444444444, \"#bd3786\"], [0.5555555555555556, \"#d8576b\"], [0.6666666666666666, \"#ed7953\"], [0.7777777777777778, \"#fb9f3a\"], [0.8888888888888888, \"#fdca26\"], [1.0, \"#f0f921\"]], \"type\": \"heatmapgl\"}], \"histogram\": [{\"marker\": {\"colorbar\": {\"outlinewidth\": 0, \"ticks\": \"\"}}, \"type\": \"histogram\"}], \"histogram2d\": [{\"colorbar\": {\"outlinewidth\": 0, \"ticks\": \"\"}, \"colorscale\": [[0.0, \"#0d0887\"], [0.1111111111111111, \"#46039f\"], [0.2222222222222222, \"#7201a8\"], [0.3333333333333333, \"#9c179e\"], [0.4444444444444444, \"#bd3786\"], [0.5555555555555556, \"#d8576b\"], [0.6666666666666666, \"#ed7953\"], [0.7777777777777778, \"#fb9f3a\"], [0.8888888888888888, \"#fdca26\"], [1.0, \"#f0f921\"]], \"type\": \"histogram2d\"}], \"histogram2dcontour\": [{\"colorbar\": {\"outlinewidth\": 0, \"ticks\": \"\"}, \"colorscale\": [[0.0, \"#0d0887\"], [0.1111111111111111, \"#46039f\"], [0.2222222222222222, \"#7201a8\"], [0.3333333333333333, \"#9c179e\"], [0.4444444444444444, \"#bd3786\"], [0.5555555555555556, \"#d8576b\"], [0.6666666666666666, \"#ed7953\"], [0.7777777777777778, \"#fb9f3a\"], [0.8888888888888888, \"#fdca26\"], [1.0, \"#f0f921\"]], \"type\": \"histogram2dcontour\"}], \"mesh3d\": [{\"colorbar\": {\"outlinewidth\": 0, \"ticks\": \"\"}, \"type\": \"mesh3d\"}], \"parcoords\": [{\"line\": {\"colorbar\": {\"outlinewidth\": 0, \"ticks\": \"\"}}, \"type\": \"parcoords\"}], \"scatter\": [{\"marker\": {\"colorbar\": {\"outlinewidth\": 0, \"ticks\": \"\"}}, \"type\": \"scatter\"}], \"scatter3d\": [{\"line\": {\"colorbar\": {\"outlinewidth\": 0, \"ticks\": \"\"}}, \"marker\": {\"colorbar\": {\"outlinewidth\": 0, \"ticks\": \"\"}}, \"type\": \"scatter3d\"}], \"scattercarpet\": [{\"marker\": {\"colorbar\": {\"outlinewidth\": 0, \"ticks\": \"\"}}, \"type\": \"scattercarpet\"}], \"scattergeo\": [{\"marker\": {\"colorbar\": {\"outlinewidth\": 0, \"ticks\": \"\"}}, \"type\": \"scattergeo\"}], \"scattergl\": [{\"marker\": {\"colorbar\": {\"outlinewidth\": 0, \"ticks\": \"\"}}, \"type\": \"scattergl\"}], \"scattermapbox\": [{\"marker\": {\"colorbar\": {\"outlinewidth\": 0, \"ticks\": \"\"}}, \"type\": \"scattermapbox\"}], \"scatterpolar\": [{\"marker\": {\"colorbar\": {\"outlinewidth\": 0, \"ticks\": \"\"}}, \"type\": \"scatterpolar\"}], \"scatterpolargl\": [{\"marker\": {\"colorbar\": {\"outlinewidth\": 0, \"ticks\": \"\"}}, \"type\": \"scatterpolargl\"}], \"scatterternary\": [{\"marker\": {\"colorbar\": {\"outlinewidth\": 0, \"ticks\": \"\"}}, \"type\": \"scatterternary\"}], \"surface\": [{\"colorbar\": {\"outlinewidth\": 0, \"ticks\": \"\"}, \"colorscale\": [[0.0, \"#0d0887\"], [0.1111111111111111, \"#46039f\"], [0.2222222222222222, \"#7201a8\"], [0.3333333333333333, \"#9c179e\"], [0.4444444444444444, \"#bd3786\"], [0.5555555555555556, \"#d8576b\"], [0.6666666666666666, \"#ed7953\"], [0.7777777777777778, \"#fb9f3a\"], [0.8888888888888888, \"#fdca26\"], [1.0, \"#f0f921\"]], \"type\": \"surface\"}], \"table\": [{\"cells\": {\"fill\": {\"color\": \"#EBF0F8\"}, \"line\": {\"color\": \"white\"}}, \"header\": {\"fill\": {\"color\": \"#C8D4E3\"}, \"line\": {\"color\": \"white\"}}, \"type\": \"table\"}]}, \"layout\": {\"annotationdefaults\": {\"arrowcolor\": \"#2a3f5f\", \"arrowhead\": 0, \"arrowwidth\": 1}, \"colorscale\": {\"diverging\": [[0, \"#8e0152\"], [0.1, \"#c51b7d\"], [0.2, \"#de77ae\"], [0.3, \"#f1b6da\"], [0.4, \"#fde0ef\"], [0.5, \"#f7f7f7\"], [0.6, \"#e6f5d0\"], [0.7, \"#b8e186\"], [0.8, \"#7fbc41\"], [0.9, \"#4d9221\"], [1, \"#276419\"]], \"sequential\": [[0.0, \"#0d0887\"], [0.1111111111111111, \"#46039f\"], [0.2222222222222222, \"#7201a8\"], [0.3333333333333333, \"#9c179e\"], [0.4444444444444444, \"#bd3786\"], [0.5555555555555556, \"#d8576b\"], [0.6666666666666666, \"#ed7953\"], [0.7777777777777778, \"#fb9f3a\"], [0.8888888888888888, \"#fdca26\"], [1.0, \"#f0f921\"]], \"sequentialminus\": [[0.0, \"#0d0887\"], [0.1111111111111111, \"#46039f\"], [0.2222222222222222, \"#7201a8\"], [0.3333333333333333, \"#9c179e\"], [0.4444444444444444, \"#bd3786\"], [0.5555555555555556, \"#d8576b\"], [0.6666666666666666, \"#ed7953\"], [0.7777777777777778, \"#fb9f3a\"], [0.8888888888888888, \"#fdca26\"], [1.0, \"#f0f921\"]]}, \"colorway\": [\"#636efa\", \"#EF553B\", \"#00cc96\", \"#ab63fa\", \"#FFA15A\", \"#19d3f3\", \"#FF6692\", \"#B6E880\", \"#FF97FF\", \"#FECB52\"], \"font\": {\"color\": \"#2a3f5f\"}, \"geo\": {\"bgcolor\": \"white\", \"lakecolor\": \"white\", \"landcolor\": \"white\", \"showlakes\": true, \"showland\": true, \"subunitcolor\": \"#C8D4E3\"}, \"hoverlabel\": {\"align\": \"left\"}, \"hovermode\": \"closest\", \"mapbox\": {\"style\": \"light\"}, \"paper_bgcolor\": \"white\", \"plot_bgcolor\": \"white\", \"polar\": {\"angularaxis\": {\"gridcolor\": \"#EBF0F8\", \"linecolor\": \"#EBF0F8\", \"ticks\": \"\"}, \"bgcolor\": \"white\", \"radialaxis\": {\"gridcolor\": \"#EBF0F8\", \"linecolor\": \"#EBF0F8\", \"ticks\": \"\"}}, \"scene\": {\"xaxis\": {\"backgroundcolor\": \"white\", \"gridcolor\": \"#DFE8F3\", \"gridwidth\": 2, \"linecolor\": \"#EBF0F8\", \"showbackground\": true, \"ticks\": \"\", \"zerolinecolor\": \"#EBF0F8\"}, \"yaxis\": {\"backgroundcolor\": \"white\", \"gridcolor\": \"#DFE8F3\", \"gridwidth\": 2, \"linecolor\": \"#EBF0F8\", \"showbackground\": true, \"ticks\": \"\", \"zerolinecolor\": \"#EBF0F8\"}, \"zaxis\": {\"backgroundcolor\": \"white\", \"gridcolor\": \"#DFE8F3\", \"gridwidth\": 2, \"linecolor\": \"#EBF0F8\", \"showbackground\": true, \"ticks\": \"\", \"zerolinecolor\": \"#EBF0F8\"}}, \"shapedefaults\": {\"line\": {\"color\": \"#2a3f5f\"}}, \"ternary\": {\"aaxis\": {\"gridcolor\": \"#DFE8F3\", \"linecolor\": \"#A2B1C6\", \"ticks\": \"\"}, \"baxis\": {\"gridcolor\": \"#DFE8F3\", \"linecolor\": \"#A2B1C6\", \"ticks\": \"\"}, \"bgcolor\": \"white\", \"caxis\": {\"gridcolor\": \"#DFE8F3\", \"linecolor\": \"#A2B1C6\", \"ticks\": \"\"}}, \"title\": {\"x\": 0.05}, \"xaxis\": {\"automargin\": true, \"gridcolor\": \"#EBF0F8\", \"linecolor\": \"#EBF0F8\", \"ticks\": \"\", \"zerolinecolor\": \"#EBF0F8\", \"zerolinewidth\": 2}, \"yaxis\": {\"automargin\": true, \"gridcolor\": \"#EBF0F8\", \"linecolor\": \"#EBF0F8\", \"ticks\": \"\", \"zerolinecolor\": \"#EBF0F8\", \"zerolinewidth\": 2}}}, \"title\": {\"text\": \"Binomial Distribution n=50 and p=0.167\"}, \"width\": 600, \"xaxis\": {\"anchor\": \"y\", \"domain\": [0.0, 0.98], \"title\": {\"text\": \"successes\"}}, \"yaxis\": {\"anchor\": \"x\", \"domain\": [0.0, 1.0], \"title\": {\"text\": \"probability\"}}},\n",
       "                        {\"responsive\": true}\n",
       "                    ).then(function(){\n",
       "                            \n",
       "var gd = document.getElementById('9faa8230-aa93-42b9-95e3-40cd16592af9');\n",
       "var x = new MutationObserver(function (mutations, observer) {{\n",
       "        var display = window.getComputedStyle(gd).display;\n",
       "        if (!display || display === 'none') {{\n",
       "            console.log([gd, 'removed!']);\n",
       "            Plotly.purge(gd);\n",
       "            observer.disconnect();\n",
       "        }}\n",
       "}});\n",
       "\n",
       "// Listen for the removal of the full notebook cells\n",
       "var notebookContainer = gd.closest('#notebook-container');\n",
       "if (notebookContainer) {{\n",
       "    x.observe(notebookContainer, {childList: true});\n",
       "}}\n",
       "\n",
       "// Listen for the clearing of the current output cell\n",
       "var outputEl = gd.closest('.output');\n",
       "if (outputEl) {{\n",
       "    x.observe(outputEl, {childList: true});\n",
       "}}\n",
       "\n",
       "                        })\n",
       "                };\n",
       "                });\n",
       "            </script>\n",
       "        </div>"
      ]
     },
     "metadata": {},
     "output_type": "display_data"
    }
   ],
   "source": [
    "# Rolling a dice 50 times and rolling a number\n",
    "plot_binomial_distribution(n=50, p=1/6)"
   ]
  },
  {
   "cell_type": "markdown",
   "metadata": {},
   "source": [
    "__Excercise__ If you roll a die 16 times, what is the probability that 5 comes up 3 times?\n",
    "- based on the chart it would be just shy of 0.25\n",
    "\n",
    "$$x = 3, n = 16, p = 1/6$$\n",
    "\n",
    "$$P(x:n:p) = \\left(^n _x \\right)(p)^x(1-p)^{(n-x)}$$\n",
    "\n",
    "Expanded\n",
    "$$P(x:n:p) = \\frac{n!}{x!(n-x)!}(p)^x(1-p)^{(n-x)}$$\n",
    "\n",
    "$$P(x:n:p) = \\frac{16!}{3!(13)!}(1/6)^3(5/6)^{(13)}$$\n",
    "\n",
    "$$P(x:n:p) = \\frac{16*15*14}{3*2}(\\frac{1^3}{6^3})(\\frac{5^13}{6^13}) = 0.242$$\n",
    "\n",
    "__Excel__\n",
    "= BINOM.DIST(3,16,1/6, FALSE)\n",
    "False means it has to be exact match\n",
    "\n",
    "```python\n",
    "from scipy.stats import binom\n",
    "binom.pmf(3, 16, 1/6)\n",
    "```"
   ]
  },
  {
   "cell_type": "code",
   "execution_count": 254,
   "metadata": {},
   "outputs": [
    {
     "data": {
      "text/plain": [
       "0.2423137603371325"
      ]
     },
     "execution_count": 254,
     "metadata": {},
     "output_type": "execute_result"
    }
   ],
   "source": [
    "# Binomial Calculator\n",
    "x = 3    # number of successes\n",
    "n = 16   # number of trials\n",
    "p = 1/6  # probability\n",
    "\n",
    "binom.pmf(x, n, p)"
   ]
  },
  {
   "cell_type": "markdown",
   "metadata": {},
   "source": [
    "#### Poisson Distribution\n",
    "- a binomial distribution consiers the number of successes out of $n$ trials\n",
    "- A Poisson Distribution considers the number of successes _per unit of time_ over the course of many units\n",
    "- or any other continuous unit e.g _distance_\n",
    "\n",
    "##### Probability Mass Function\n",
    "- Calculation of the Poisson probability mass function starts with a mean expected value\n",
    "$$E(X) = \\mu$$\n",
    "\n",
    "- it is then assigned to \"lambda\"\n",
    "\n",
    "$$\\lambda = \\frac{no. of occurrences}{interval} = \\mu$$\n",
    "\n",
    "i.e. number of cars passing by for every hour - here you can do any continuous unit i.e. 1.5, 2.3\n",
    "\n",
    "- The equation becomes\n",
    "\n",
    "$$P(x) = \\frac {\\lambda^{x}e^{-\\lambda}}{x!}$$\n",
    "\n",
    "where _e_ = Euler's number = 2.71828"
   ]
  },
  {
   "cell_type": "markdown",
   "metadata": {},
   "source": [
    "__Excercise__\n",
    "- A warehouse typically receives 8 (average) deliveries between 4 and 5pm on Friday.\n",
    "- What is the probability that only 4 deliveries will arrive between 4 and 5pm on Friday?\n",
    "\n",
    "$$x = 4, \\lambda = 8$$\n",
    "\n",
    "$$P(x) = \\frac {\\lambda^{x}e^{-\\lambda}}{x!} =  \\frac {8^{4}2.71828^{-8}}{4!}$$\n",
    "\n",
    "$$=  \\frac {4096*(\\frac {1}{2980.96})}{24}$$\n",
    "\n",
    "$$=  0.0572$$\n",
    "\n",
    "__Excel__\n",
    "=POISSON.DIST(4,8,FALSE) returns 0.057252\n",
    "\n",
    "__Python__\n",
    "```python\n",
    "pass x and lambda values\n",
    "poisson.pmf(4,8)\n",
    "0.05252288\n",
    "```\n",
    "\n",
    "\n",
    "##### Cumulative Mass Function\n",
    "- The cumulative mass function is simply the sum of all the discrete probabilities\n",
    "- The probability of seeing __fewer__ than 4 events in a Poisson Distribution is:\n",
    "\n",
    "$$P(X:x<4)=\\sum_{i=0}^{3} \\frac {\\lambda^{i}e^{-\\lambda}}{i!}$$\n",
    "\n",
    "Just sum up all of the probabilities of seeing 1, 2, 3, 4\n",
    "\n",
    "$$P(X:x<4)=\\frac {\\lambda^{i}e^{-\\lambda}}{0!} + \\frac {\\lambda^{i}e^{-\\lambda}}{1!} + \\frac {\\lambda^{i}e^{-\\lambda}}{2!} + \\frac {\\lambda^{i}e^{-\\lambda}}{3!}$$\n",
    "\n",
    "\n",
    "__Remember__ that the sum of all possibiilities equals 1 - This is the probability of seeing at least 1 event.\n",
    "- the probability of seeing at least 1 event is one minus the probability of seeing 0\n",
    "\n",
    "$$P(X:x\\ge 1) = 1-P(X:x=0)$$\n",
    "\n",
    "$$P(X:x\\ge 1) = 1-\\frac {\\lambda^{0}e^{-\\lambda}}{0!} = 1 - e^{-\\lambda}$$\n"
   ]
  },
  {
   "cell_type": "markdown",
   "metadata": {},
   "source": [
    "__Exercise__\n",
    "- A warehouse typically receives 8 deliveries between 4 and 5pm on Friday\n",
    "- What is the probability that fewer than 3 will arrive between 4 and 5pm this Friday?\n",
    "\n",
    "$$P(X:x<3)=\\sum_{i=0}^{2} \\frac {\\lambda^{i}e^{-\\lambda}}{i!} \\frac {\\lambda^{i}e^{-\\lambda}}{0!} + \\frac {\\lambda^{i}e^{-\\lambda}}{1!} + \\frac {\\lambda^{i}e^{-\\lambda}}{2!}$$\n",
    "\n",
    "$$P(X:x<3)=\\sum_{i=0}^{2} \\frac {8^{0}2.71828^{-8}}{0!} + \\frac {8^{1}2.71828^{-8}}{1!} + \\frac {8^{2}2.71828^{-8}}{2!} + \\frac {8^{3}2.71828^{-8}}{3!} $$\n",
    "\n",
    "$$P(X:x<3)=\\frac{1\\frac{1}{2980.92}}{1} + \\frac{8\\frac{1}{2980.92}}{1} + \\frac{64\\frac{1}{2980.92}}{2}$$\n",
    "\n",
    "$$= 0.0137$$\n",
    "\n",
    "__Excel__\n",
    "\n",
    "3-1 = 2\n",
    "\n",
    "=POISSON.DIST(2,8,TRUE) returns 0.013754\n",
    "\n",
    "__Python__\n",
    "\n",
    "```python\n",
    "# Note Cumulative Density Function\n",
    "poisson.cdf(2,8)\n",
    "0.013\n",
    "```\n",
    "\n",
    "\n",
    "__Important__\n",
    "The Poisson Distribution assumes that the probability of success during a small time interval is proportional to the entire length of the interval.\n",
    "- If you know the expected value $\\lambda$ over an hour, then the expected value over one minute of the that hour is \n",
    "\n",
    "$$\\lambda_{minute} = \\frac{\\lambda_{hour}}{60}$$\n",
    "\n",
    "The actual probability of success does not change for that time period and happen regularly.  If they are uneven then Poisson will not apply."
   ]
  },
  {
   "cell_type": "markdown",
   "metadata": {},
   "source": [
    "__Exercise__\n",
    "- A warehouse typically receives 8 deliveries between 4 and 5pm on Friday.\n",
    "- What is the probability that no deliveries arrive between 4 and 4:05pm this Friday?\n",
    "- this will work for any 5 minute interval of time regardless of when (i.e.4:55 and 5)\n",
    "\n",
    "$$x=0, \\lambda_{1 hour}=8$$\n",
    "\n",
    "$$\\lambda_{5 minutes} = \\frac{\\lambda_{1 hour}}{60/5} = \\frac{8}{12} = 0.6667$$\n",
    "\n",
    "$$P(x) = \\frac{\\lambda_ x e^{-\\lambda}}{x!} = \\frac{0.67^0*2.71828^{0.6667}}{0!}$$\n",
    "\n",
    "$$= 0.5134$$\n",
    "\n",
    "__Excel__\n",
    "=POISSON.DIST(0,8/12, FALSE) returns 0.513417\n",
    "\n",
    "__Python__\n",
    "```python\n",
    "from scipy.stats import poisson\n",
    "# expected value\n",
    "x = 0\n",
    "# time interval\n",
    "lmbda = 0.6667\n",
    "\n",
    "poisson.pmf(x, lmbda)\n",
    "= 0.5134\n",
    "```"
   ]
  },
  {
   "cell_type": "markdown",
   "metadata": {},
   "source": [
    "# Continuous Probability Distributions\n",
    "Continuous Probability Distributions are also called _probability density functions_:\n",
    "1. Normal Distribution\n",
    "2. Exponential Distribution\n",
    "3. Beta Distribution"
   ]
  },
  {
   "cell_type": "markdown",
   "metadata": {},
   "source": [
    "### Normal Distributions\n",
    "Many real life data points follow a normal distribution:\n",
    "- people heights and weights\n",
    "- population blood pressure\n",
    "- test scores\n",
    "- measurement errors\n",
    "\n",
    "These data sources tend to be around a central value with no bias left or right and it gets close to a \"Normal Distribution\" like this:\n",
    "[Normal Distribution Wikipedia](https://en.wikipedia.org/wiki/Normal_distribution#/media/File:Standard_deviation_diagram.svg)\n",
    "\n",
    "- We can use a continuous distribution to model the behaviour of these data sources\n",
    "- Notice the continuous line and area in this PDF.\n",
    "- Unlike discrete distributions, where the sum of all the bars equals one, in a normal distribution the _area under the curve_ equals one\n",
    "- Also called a \"Bell Curve\" or a \"Gaussian Distribution\"\n",
    "- always symmetrical\n",
    "- probabilty of a specific outcome is zero\n",
    "\n",
    "\n",
    "We can only find probabilities over a specified interval or range of outcomes\n",
    "\n",
    "##### Z Distribution\n",
    "$$\\mu = 0$$\n",
    "$$\\sigma = 1$$\n",
    "\n",
    "##### Standard Normal Distribution\n",
    "__68.27%__ of values within 1 standard deviation\n",
    "\n",
    "__95.45%__ of values within 2 standard deviations\n",
    "\n",
    "__99.73%__ of values within 3 standard deviations\n",
    "\n",
    "\n",
    "- The mean odes not have to be zero and sigma does not have to equal one\n",
    "- If we determine that a population approximates a normal distribution then we can make some powerful inferences about it onces we know the mean and standard deviation."
   ]
  },
  {
   "cell_type": "code",
   "execution_count": 377,
   "metadata": {
    "code_folding": [
     0
    ]
   },
   "outputs": [],
   "source": [
    "def plot_normal(x_range, mu=0, sigma=1, cdf=False, **kwargs):\n",
    "    '''\n",
    "    Plots the normal distribution function for a given x range\n",
    "    If mu and sigma are not provided, standard normal is plotted\n",
    "    If cdf=True cumulative distribution is plotted\n",
    "    Passes any keyword arguments to matplotlib plot function\n",
    "    '''\n",
    "    x = x_range\n",
    "    if cdf:\n",
    "        y = norm.cdf(x, mu, sigma)\n",
    "    else:\n",
    "        y = norm.pdf(x, mu, sigma)\n",
    "           \n",
    "#     plt.plot(x, y, **kwargs)\n",
    "    df = pd.DataFrame({'x':x,\n",
    "                       'y':y})\n",
    "\n",
    "    fig = px.area(data_frame=df, x='x', y='y', title=f\"Normal Distribution mu={mu} and sigma={sigma}\",\n",
    "                 template=\"plotly_white\", width=600, height=400,)\n",
    "        \n",
    "    fig.show()"
   ]
  },
  {
   "cell_type": "code",
   "execution_count": 378,
   "metadata": {
    "code_folding": []
   },
   "outputs": [
    {
     "data": {
      "application/vnd.plotly.v1+json": {
       "config": {
        "plotlyServerURL": "https://plot.ly"
       },
       "data": [
        {
         "hoverlabel": {
          "namelength": 0
         },
         "hovertemplate": "x=%{x}<br>y=%{y}",
         "legendgroup": "",
         "line": {
          "color": "#636efa"
         },
         "mode": "lines",
         "name": "",
         "orientation": "v",
         "showlegend": false,
         "stackgroup": "1",
         "type": "scatter",
         "x": [
          -5,
          -4.98998998998999,
          -4.97997997997998,
          -4.96996996996997,
          -4.95995995995996,
          -4.94994994994995,
          -4.93993993993994,
          -4.92992992992993,
          -4.91991991991992,
          -4.90990990990991,
          -4.8998998998999,
          -4.88988988988989,
          -4.87987987987988,
          -4.86986986986987,
          -4.85985985985986,
          -4.84984984984985,
          -4.83983983983984,
          -4.82982982982983,
          -4.81981981981982,
          -4.80980980980981,
          -4.7997997997998,
          -4.78978978978979,
          -4.77977977977978,
          -4.76976976976977,
          -4.75975975975976,
          -4.74974974974975,
          -4.73973973973974,
          -4.72972972972973,
          -4.71971971971972,
          -4.70970970970971,
          -4.6996996996997,
          -4.68968968968969,
          -4.67967967967968,
          -4.66966966966967,
          -4.65965965965966,
          -4.64964964964965,
          -4.63963963963964,
          -4.62962962962963,
          -4.61961961961962,
          -4.60960960960961,
          -4.5995995995996,
          -4.58958958958959,
          -4.57957957957958,
          -4.56956956956957,
          -4.55955955955956,
          -4.54954954954955,
          -4.53953953953954,
          -4.52952952952953,
          -4.51951951951952,
          -4.50950950950951,
          -4.4994994994995,
          -4.48948948948949,
          -4.47947947947948,
          -4.46946946946947,
          -4.45945945945946,
          -4.44944944944945,
          -4.43943943943944,
          -4.42942942942943,
          -4.41941941941942,
          -4.40940940940941,
          -4.3993993993994,
          -4.38938938938939,
          -4.37937937937938,
          -4.36936936936937,
          -4.35935935935936,
          -4.34934934934935,
          -4.33933933933934,
          -4.32932932932933,
          -4.31931931931932,
          -4.3093093093093096,
          -4.2992992992992995,
          -4.2892892892892895,
          -4.2792792792792795,
          -4.2692692692692695,
          -4.2592592592592595,
          -4.2492492492492495,
          -4.2392392392392395,
          -4.2292292292292295,
          -4.2192192192192195,
          -4.2092092092092095,
          -4.1991991991991995,
          -4.1891891891891895,
          -4.1791791791791795,
          -4.1691691691691695,
          -4.1591591591591595,
          -4.1491491491491495,
          -4.1391391391391394,
          -4.129129129129129,
          -4.119119119119119,
          -4.109109109109109,
          -4.099099099099099,
          -4.089089089089089,
          -4.079079079079079,
          -4.069069069069069,
          -4.059059059059059,
          -4.049049049049049,
          -4.039039039039039,
          -4.029029029029029,
          -4.019019019019019,
          -4.009009009009009,
          -3.998998998998999,
          -3.988988988988989,
          -3.978978978978979,
          -3.968968968968969,
          -3.958958958958959,
          -3.948948948948949,
          -3.938938938938939,
          -3.928928928928929,
          -3.918918918918919,
          -3.908908908908909,
          -3.898898898898899,
          -3.888888888888889,
          -3.878878878878879,
          -3.868868868868869,
          -3.858858858858859,
          -3.848848848848849,
          -3.838838838838839,
          -3.828828828828829,
          -3.818818818818819,
          -3.808808808808809,
          -3.798798798798799,
          -3.7887887887887888,
          -3.7787787787787788,
          -3.7687687687687688,
          -3.7587587587587588,
          -3.7487487487487487,
          -3.7387387387387387,
          -3.7287287287287287,
          -3.7187187187187187,
          -3.7087087087087087,
          -3.6986986986986987,
          -3.6886886886886887,
          -3.6786786786786787,
          -3.6686686686686687,
          -3.6586586586586587,
          -3.6486486486486487,
          -3.6386386386386387,
          -3.6286286286286287,
          -3.6186186186186187,
          -3.6086086086086087,
          -3.5985985985985987,
          -3.5885885885885886,
          -3.5785785785785786,
          -3.5685685685685686,
          -3.5585585585585586,
          -3.5485485485485486,
          -3.5385385385385386,
          -3.5285285285285286,
          -3.5185185185185186,
          -3.5085085085085086,
          -3.4984984984984986,
          -3.4884884884884886,
          -3.4784784784784786,
          -3.4684684684684686,
          -3.4584584584584586,
          -3.4484484484484486,
          -3.4384384384384385,
          -3.4284284284284285,
          -3.4184184184184185,
          -3.4084084084084085,
          -3.3983983983983985,
          -3.388388388388388,
          -3.378378378378378,
          -3.368368368368368,
          -3.358358358358358,
          -3.348348348348348,
          -3.338338338338338,
          -3.328328328328328,
          -3.318318318318318,
          -3.308308308308308,
          -3.298298298298298,
          -3.288288288288288,
          -3.278278278278278,
          -3.268268268268268,
          -3.258258258258258,
          -3.248248248248248,
          -3.238238238238238,
          -3.228228228228228,
          -3.218218218218218,
          -3.208208208208208,
          -3.198198198198198,
          -3.188188188188188,
          -3.178178178178178,
          -3.168168168168168,
          -3.158158158158158,
          -3.148148148148148,
          -3.138138138138138,
          -3.128128128128128,
          -3.118118118118118,
          -3.108108108108108,
          -3.098098098098098,
          -3.088088088088088,
          -3.078078078078078,
          -3.068068068068068,
          -3.058058058058058,
          -3.048048048048048,
          -3.038038038038038,
          -3.028028028028028,
          -3.018018018018018,
          -3.008008008008008,
          -2.997997997997998,
          -2.987987987987988,
          -2.977977977977978,
          -2.967967967967968,
          -2.957957957957958,
          -2.947947947947948,
          -2.937937937937938,
          -2.9279279279279278,
          -2.9179179179179178,
          -2.9079079079079078,
          -2.8978978978978978,
          -2.8878878878878878,
          -2.8778778778778777,
          -2.8678678678678677,
          -2.8578578578578577,
          -2.8478478478478477,
          -2.8378378378378377,
          -2.8278278278278277,
          -2.8178178178178177,
          -2.8078078078078077,
          -2.7977977977977977,
          -2.7877877877877877,
          -2.7777777777777777,
          -2.7677677677677677,
          -2.7577577577577577,
          -2.7477477477477477,
          -2.7377377377377377,
          -2.7277277277277276,
          -2.7177177177177176,
          -2.7077077077077076,
          -2.6976976976976976,
          -2.6876876876876876,
          -2.6776776776776776,
          -2.6676676676676676,
          -2.6576576576576576,
          -2.6476476476476476,
          -2.6376376376376376,
          -2.6276276276276276,
          -2.6176176176176176,
          -2.6076076076076076,
          -2.5975975975975976,
          -2.5875875875875876,
          -2.5775775775775776,
          -2.5675675675675675,
          -2.5575575575575575,
          -2.5475475475475475,
          -2.5375375375375375,
          -2.5275275275275275,
          -2.5175175175175175,
          -2.5075075075075075,
          -2.4974974974974975,
          -2.4874874874874875,
          -2.4774774774774775,
          -2.4674674674674675,
          -2.4574574574574575,
          -2.4474474474474475,
          -2.4374374374374375,
          -2.4274274274274275,
          -2.4174174174174174,
          -2.4074074074074074,
          -2.3973973973973974,
          -2.3873873873873874,
          -2.3773773773773774,
          -2.3673673673673674,
          -2.3573573573573574,
          -2.3473473473473474,
          -2.3373373373373374,
          -2.3273273273273274,
          -2.3173173173173174,
          -2.3073073073073074,
          -2.2972972972972974,
          -2.2872872872872874,
          -2.2772772772772774,
          -2.2672672672672673,
          -2.2572572572572573,
          -2.2472472472472473,
          -2.2372372372372373,
          -2.2272272272272273,
          -2.2172172172172173,
          -2.2072072072072073,
          -2.1971971971971973,
          -2.1871871871871873,
          -2.1771771771771773,
          -2.1671671671671673,
          -2.1571571571571573,
          -2.1471471471471473,
          -2.1371371371371373,
          -2.1271271271271273,
          -2.1171171171171173,
          -2.1071071071071072,
          -2.0970970970970972,
          -2.0870870870870872,
          -2.0770770770770772,
          -2.067067067067067,
          -2.057057057057057,
          -2.047047047047047,
          -2.037037037037037,
          -2.027027027027027,
          -2.017017017017017,
          -2.007007007007007,
          -1.9969969969969972,
          -1.9869869869869872,
          -1.9769769769769772,
          -1.9669669669669672,
          -1.9569569569569571,
          -1.9469469469469471,
          -1.9369369369369371,
          -1.9269269269269271,
          -1.9169169169169171,
          -1.9069069069069071,
          -1.8968968968968971,
          -1.886886886886887,
          -1.876876876876877,
          -1.866866866866867,
          -1.856856856856857,
          -1.846846846846847,
          -1.836836836836837,
          -1.826826826826827,
          -1.816816816816817,
          -1.806806806806807,
          -1.796796796796797,
          -1.7867867867867866,
          -1.7767767767767766,
          -1.7667667667667666,
          -1.7567567567567566,
          -1.7467467467467466,
          -1.7367367367367366,
          -1.7267267267267266,
          -1.7167167167167166,
          -1.7067067067067065,
          -1.6966966966966965,
          -1.6866866866866865,
          -1.6766766766766765,
          -1.6666666666666665,
          -1.6566566566566565,
          -1.6466466466466465,
          -1.6366366366366365,
          -1.6266266266266265,
          -1.6166166166166165,
          -1.6066066066066065,
          -1.5965965965965965,
          -1.5865865865865865,
          -1.5765765765765765,
          -1.5665665665665665,
          -1.5565565565565564,
          -1.5465465465465464,
          -1.5365365365365364,
          -1.5265265265265264,
          -1.5165165165165164,
          -1.5065065065065064,
          -1.4964964964964964,
          -1.4864864864864864,
          -1.4764764764764764,
          -1.4664664664664664,
          -1.4564564564564564,
          -1.4464464464464464,
          -1.4364364364364364,
          -1.4264264264264264,
          -1.4164164164164164,
          -1.4064064064064064,
          -1.3963963963963963,
          -1.3863863863863863,
          -1.3763763763763763,
          -1.3663663663663663,
          -1.3563563563563563,
          -1.3463463463463463,
          -1.3363363363363363,
          -1.3263263263263263,
          -1.3163163163163163,
          -1.3063063063063063,
          -1.2962962962962963,
          -1.2862862862862863,
          -1.2762762762762763,
          -1.2662662662662663,
          -1.2562562562562563,
          -1.2462462462462462,
          -1.2362362362362362,
          -1.2262262262262262,
          -1.2162162162162162,
          -1.2062062062062062,
          -1.1961961961961962,
          -1.1861861861861862,
          -1.1761761761761762,
          -1.1661661661661662,
          -1.1561561561561562,
          -1.1461461461461462,
          -1.1361361361361362,
          -1.1261261261261262,
          -1.1161161161161162,
          -1.1061061061061062,
          -1.0960960960960962,
          -1.0860860860860861,
          -1.0760760760760761,
          -1.0660660660660661,
          -1.0560560560560561,
          -1.0460460460460461,
          -1.0360360360360361,
          -1.026026026026026,
          -1.016016016016016,
          -1.006006006006006,
          -0.9959959959959956,
          -0.9859859859859856,
          -0.9759759759759756,
          -0.9659659659659656,
          -0.9559559559559556,
          -0.9459459459459456,
          -0.9359359359359356,
          -0.9259259259259256,
          -0.9159159159159156,
          -0.9059059059059056,
          -0.8958958958958956,
          -0.8858858858858856,
          -0.8758758758758756,
          -0.8658658658658656,
          -0.8558558558558556,
          -0.8458458458458455,
          -0.8358358358358355,
          -0.8258258258258255,
          -0.8158158158158155,
          -0.8058058058058055,
          -0.7957957957957955,
          -0.7857857857857855,
          -0.7757757757757755,
          -0.7657657657657655,
          -0.7557557557557555,
          -0.7457457457457455,
          -0.7357357357357355,
          -0.7257257257257255,
          -0.7157157157157155,
          -0.7057057057057055,
          -0.6956956956956954,
          -0.6856856856856854,
          -0.6756756756756754,
          -0.6656656656656654,
          -0.6556556556556554,
          -0.6456456456456454,
          -0.6356356356356354,
          -0.6256256256256254,
          -0.6156156156156154,
          -0.6056056056056054,
          -0.5955955955955954,
          -0.5855855855855854,
          -0.5755755755755754,
          -0.5655655655655654,
          -0.5555555555555554,
          -0.5455455455455454,
          -0.5355355355355353,
          -0.5255255255255253,
          -0.5155155155155153,
          -0.5055055055055053,
          -0.4954954954954953,
          -0.4854854854854853,
          -0.4754754754754753,
          -0.4654654654654653,
          -0.4554554554554553,
          -0.4454454454454453,
          -0.4354354354354353,
          -0.4254254254254253,
          -0.41541541541541527,
          -0.40540540540540526,
          -0.39539539539539525,
          -0.38538538538538525,
          -0.37537537537537524,
          -0.36536536536536524,
          -0.35535535535535523,
          -0.3453453453453452,
          -0.3353353353353352,
          -0.3253253253253252,
          -0.3153153153153152,
          -0.3053053053053052,
          -0.2952952952952952,
          -0.2852852852852852,
          -0.2752752752752752,
          -0.26526526526526517,
          -0.25525525525525516,
          -0.24524524524524516,
          -0.23523523523523515,
          -0.22522522522522515,
          -0.21521521521521514,
          -0.20520520520520513,
          -0.19519519519519513,
          -0.18518518518518512,
          -0.1751751751751751,
          -0.1651651651651651,
          -0.1551551551551551,
          -0.1451451451451451,
          -0.1351351351351351,
          -0.12512512512512508,
          -0.11511511511511507,
          -0.10510510510510507,
          -0.09509509509509506,
          -0.08508508508508505,
          -0.07507507507507505,
          -0.06506506506506504,
          -0.055055055055055035,
          -0.04504504504504503,
          -0.03503503503503502,
          -0.025025025025025016,
          -0.01501501501501501,
          -0.005005005005005003,
          0.005005005005005003,
          0.01501501501501501,
          0.025025025025025016,
          0.03503503503503502,
          0.04504504504504503,
          0.055055055055055035,
          0.06506506506506504,
          0.07507507507507505,
          0.08508508508508505,
          0.09509509509509506,
          0.10510510510510507,
          0.11511511511511507,
          0.12512512512512508,
          0.1351351351351351,
          0.1451451451451451,
          0.1551551551551551,
          0.1651651651651651,
          0.1751751751751751,
          0.18518518518518512,
          0.19519519519519513,
          0.20520520520520513,
          0.21521521521521514,
          0.22522522522522515,
          0.23523523523523515,
          0.24524524524524516,
          0.25525525525525516,
          0.26526526526526517,
          0.2752752752752752,
          0.2852852852852852,
          0.2952952952952952,
          0.3053053053053052,
          0.3153153153153152,
          0.3253253253253252,
          0.3353353353353352,
          0.3453453453453452,
          0.35535535535535523,
          0.36536536536536524,
          0.37537537537537524,
          0.38538538538538525,
          0.39539539539539525,
          0.40540540540540526,
          0.41541541541541527,
          0.4254254254254253,
          0.4354354354354353,
          0.4454454454454453,
          0.4554554554554553,
          0.4654654654654653,
          0.4754754754754753,
          0.4854854854854853,
          0.4954954954954953,
          0.5055055055055053,
          0.5155155155155153,
          0.5255255255255253,
          0.5355355355355353,
          0.5455455455455454,
          0.5555555555555554,
          0.5655655655655654,
          0.5755755755755754,
          0.5855855855855854,
          0.5955955955955954,
          0.6056056056056054,
          0.6156156156156154,
          0.6256256256256254,
          0.6356356356356354,
          0.6456456456456454,
          0.6556556556556554,
          0.6656656656656654,
          0.6756756756756754,
          0.6856856856856854,
          0.6956956956956954,
          0.7057057057057055,
          0.7157157157157155,
          0.7257257257257255,
          0.7357357357357355,
          0.7457457457457455,
          0.7557557557557555,
          0.7657657657657655,
          0.7757757757757755,
          0.7857857857857855,
          0.7957957957957955,
          0.8058058058058055,
          0.8158158158158155,
          0.8258258258258255,
          0.8358358358358355,
          0.8458458458458455,
          0.8558558558558556,
          0.8658658658658656,
          0.8758758758758756,
          0.8858858858858856,
          0.8958958958958956,
          0.9059059059059056,
          0.9159159159159156,
          0.9259259259259256,
          0.9359359359359356,
          0.9459459459459456,
          0.9559559559559556,
          0.9659659659659656,
          0.9759759759759756,
          0.9859859859859856,
          0.9959959959959956,
          1.0060060060060056,
          1.0160160160160157,
          1.0260260260260257,
          1.0360360360360357,
          1.0460460460460457,
          1.0560560560560557,
          1.0660660660660657,
          1.0760760760760757,
          1.0860860860860857,
          1.0960960960960957,
          1.1061061061061057,
          1.1161161161161157,
          1.1261261261261257,
          1.1361361361361357,
          1.1461461461461457,
          1.1561561561561557,
          1.1661661661661658,
          1.1761761761761758,
          1.1861861861861858,
          1.1961961961961958,
          1.2062062062062058,
          1.2162162162162158,
          1.2262262262262258,
          1.2362362362362358,
          1.2462462462462458,
          1.2562562562562558,
          1.2662662662662658,
          1.2762762762762758,
          1.2862862862862858,
          1.2962962962962958,
          1.3063063063063058,
          1.3163163163163158,
          1.3263263263263259,
          1.3363363363363359,
          1.3463463463463459,
          1.3563563563563559,
          1.3663663663663659,
          1.3763763763763759,
          1.386386386386386,
          1.396396396396396,
          1.406406406406406,
          1.4164164164164168,
          1.4264264264264268,
          1.4364364364364368,
          1.4464464464464468,
          1.4564564564564568,
          1.4664664664664668,
          1.4764764764764768,
          1.4864864864864868,
          1.4964964964964969,
          1.5065065065065069,
          1.5165165165165169,
          1.5265265265265269,
          1.5365365365365369,
          1.5465465465465469,
          1.556556556556557,
          1.566566566566567,
          1.576576576576577,
          1.586586586586587,
          1.596596596596597,
          1.606606606606607,
          1.616616616616617,
          1.626626626626627,
          1.636636636636637,
          1.646646646646647,
          1.656656656656657,
          1.666666666666667,
          1.676676676676677,
          1.686686686686687,
          1.696696696696697,
          1.706706706706707,
          1.716716716716717,
          1.726726726726727,
          1.736736736736737,
          1.746746746746747,
          1.756756756756757,
          1.766766766766767,
          1.776776776776777,
          1.786786786786787,
          1.796796796796797,
          1.806806806806807,
          1.816816816816817,
          1.826826826826827,
          1.836836836836837,
          1.846846846846847,
          1.856856856856857,
          1.866866866866867,
          1.876876876876877,
          1.886886886886887,
          1.8968968968968971,
          1.9069069069069071,
          1.9169169169169171,
          1.9269269269269271,
          1.9369369369369371,
          1.9469469469469471,
          1.9569569569569571,
          1.9669669669669672,
          1.9769769769769772,
          1.9869869869869872,
          1.9969969969969972,
          2.007007007007007,
          2.017017017017017,
          2.027027027027027,
          2.037037037037037,
          2.047047047047047,
          2.057057057057057,
          2.067067067067067,
          2.0770770770770772,
          2.0870870870870872,
          2.0970970970970972,
          2.1071071071071072,
          2.1171171171171173,
          2.1271271271271273,
          2.1371371371371373,
          2.1471471471471473,
          2.1571571571571573,
          2.1671671671671673,
          2.1771771771771773,
          2.1871871871871873,
          2.1971971971971973,
          2.2072072072072073,
          2.2172172172172173,
          2.2272272272272273,
          2.2372372372372373,
          2.2472472472472473,
          2.2572572572572573,
          2.2672672672672673,
          2.2772772772772774,
          2.2872872872872874,
          2.2972972972972974,
          2.3073073073073074,
          2.3173173173173174,
          2.3273273273273274,
          2.3373373373373374,
          2.3473473473473474,
          2.3573573573573574,
          2.3673673673673674,
          2.3773773773773774,
          2.3873873873873874,
          2.3973973973973974,
          2.4074074074074074,
          2.4174174174174174,
          2.4274274274274275,
          2.4374374374374375,
          2.4474474474474475,
          2.4574574574574575,
          2.4674674674674675,
          2.4774774774774775,
          2.4874874874874875,
          2.4974974974974975,
          2.5075075075075075,
          2.5175175175175175,
          2.5275275275275275,
          2.5375375375375375,
          2.5475475475475475,
          2.5575575575575575,
          2.5675675675675675,
          2.5775775775775776,
          2.5875875875875876,
          2.5975975975975976,
          2.6076076076076076,
          2.6176176176176176,
          2.6276276276276276,
          2.6376376376376376,
          2.6476476476476476,
          2.6576576576576576,
          2.6676676676676676,
          2.6776776776776776,
          2.6876876876876876,
          2.6976976976976976,
          2.7077077077077076,
          2.7177177177177176,
          2.7277277277277276,
          2.7377377377377377,
          2.7477477477477477,
          2.7577577577577577,
          2.7677677677677677,
          2.7777777777777777,
          2.7877877877877877,
          2.7977977977977977,
          2.8078078078078077,
          2.8178178178178177,
          2.8278278278278277,
          2.8378378378378377,
          2.8478478478478477,
          2.8578578578578577,
          2.8678678678678677,
          2.8778778778778777,
          2.8878878878878878,
          2.8978978978978978,
          2.9079079079079078,
          2.9179179179179178,
          2.9279279279279278,
          2.937937937937938,
          2.947947947947948,
          2.957957957957958,
          2.967967967967968,
          2.977977977977978,
          2.987987987987988,
          2.997997997997998,
          3.0080080080080087,
          3.0180180180180187,
          3.0280280280280287,
          3.0380380380380387,
          3.0480480480480487,
          3.0580580580580587,
          3.0680680680680688,
          3.0780780780780788,
          3.0880880880880888,
          3.0980980980980988,
          3.108108108108109,
          3.118118118118119,
          3.128128128128129,
          3.138138138138139,
          3.148148148148149,
          3.158158158158159,
          3.168168168168169,
          3.178178178178179,
          3.188188188188189,
          3.198198198198199,
          3.208208208208209,
          3.218218218218219,
          3.228228228228229,
          3.238238238238239,
          3.248248248248249,
          3.258258258258259,
          3.268268268268269,
          3.278278278278279,
          3.288288288288289,
          3.298298298298299,
          3.308308308308309,
          3.318318318318319,
          3.328328328328329,
          3.338338338338339,
          3.348348348348349,
          3.358358358358359,
          3.368368368368369,
          3.378378378378379,
          3.388388388388389,
          3.398398398398399,
          3.408408408408409,
          3.418418418418419,
          3.428428428428429,
          3.438438438438439,
          3.448448448448449,
          3.458458458458459,
          3.468468468468469,
          3.478478478478479,
          3.488488488488489,
          3.498498498498499,
          3.508508508508509,
          3.518518518518519,
          3.528528528528529,
          3.538538538538539,
          3.548548548548549,
          3.558558558558559,
          3.568568568568569,
          3.578578578578579,
          3.588588588588589,
          3.598598598598599,
          3.608608608608609,
          3.618618618618619,
          3.628628628628629,
          3.638638638638639,
          3.648648648648649,
          3.658658658658659,
          3.668668668668669,
          3.678678678678679,
          3.688688688688689,
          3.698698698698699,
          3.708708708708709,
          3.718718718718719,
          3.728728728728729,
          3.738738738738739,
          3.748748748748749,
          3.758758758758759,
          3.768768768768769,
          3.778778778778779,
          3.788788788788789,
          3.7987987987987992,
          3.8088088088088092,
          3.8188188188188192,
          3.8288288288288292,
          3.8388388388388393,
          3.8488488488488493,
          3.8588588588588593,
          3.8688688688688693,
          3.8788788788788793,
          3.8888888888888893,
          3.8988988988988993,
          3.9089089089089093,
          3.9189189189189193,
          3.9289289289289293,
          3.9389389389389393,
          3.9489489489489493,
          3.9589589589589593,
          3.9689689689689693,
          3.9789789789789793,
          3.9889889889889893,
          3.9989989989989994,
          4.009009009009009,
          4.019019019019019,
          4.029029029029029,
          4.039039039039039,
          4.049049049049049,
          4.059059059059059,
          4.069069069069069,
          4.079079079079079,
          4.089089089089089,
          4.099099099099099,
          4.109109109109109,
          4.119119119119119,
          4.129129129129129,
          4.1391391391391394,
          4.1491491491491495,
          4.1591591591591595,
          4.1691691691691695,
          4.1791791791791795,
          4.1891891891891895,
          4.1991991991991995,
          4.2092092092092095,
          4.2192192192192195,
          4.2292292292292295,
          4.2392392392392395,
          4.2492492492492495,
          4.2592592592592595,
          4.2692692692692695,
          4.2792792792792795,
          4.2892892892892895,
          4.2992992992992995,
          4.3093093093093096,
          4.31931931931932,
          4.32932932932933,
          4.33933933933934,
          4.34934934934935,
          4.35935935935936,
          4.36936936936937,
          4.37937937937938,
          4.38938938938939,
          4.3993993993994,
          4.40940940940941,
          4.41941941941942,
          4.42942942942943,
          4.43943943943944,
          4.44944944944945,
          4.45945945945946,
          4.46946946946947,
          4.47947947947948,
          4.48948948948949,
          4.4994994994995,
          4.50950950950951,
          4.51951951951952,
          4.52952952952953,
          4.53953953953954,
          4.54954954954955,
          4.55955955955956,
          4.56956956956957,
          4.57957957957958,
          4.58958958958959,
          4.5995995995996,
          4.60960960960961,
          4.61961961961962,
          4.62962962962963,
          4.63963963963964,
          4.64964964964965,
          4.65965965965966,
          4.66966966966967,
          4.67967967967968,
          4.68968968968969,
          4.6996996996997,
          4.70970970970971,
          4.71971971971972,
          4.72972972972973,
          4.73973973973974,
          4.74974974974975,
          4.75975975975976,
          4.76976976976977,
          4.77977977977978,
          4.78978978978979,
          4.7997997997998,
          4.80980980980981,
          4.81981981981982,
          4.82982982982983,
          4.83983983983984,
          4.84984984984985,
          4.85985985985986,
          4.86986986986987,
          4.87987987987988,
          4.88988988988989,
          4.8998998998999,
          4.90990990990991,
          4.91991991991992,
          4.92992992992993,
          4.93993993993994,
          4.94994994994995,
          4.95995995995996,
          4.96996996996997,
          4.97997997997998,
          4.98998998998999,
          5
         ],
         "xaxis": "x",
         "y": [
          1.4867195147342979e-06,
          1.5629451759545646e-06,
          1.6429143776209077e-06,
          1.726802225602747e-06,
          1.8147915680031394e-06,
          1.9070733153312075e-06,
          2.0038467728640893e-06,
          2.1053199856146367e-06,
          2.211710096333239e-06,
          2.3232437169845257e-06,
          2.440157314152359e-06,
          2.5626976088394264e-06,
          2.691121991140962e-06,
          2.825698950285607e-06,
          2.9667085205500707e-06,
          3.1144427435683705e-06,
          3.269206147570631e-06,
          3.4313162441010406e-06,
          3.6011040427793162e-06,
          3.778914584685238e-06,
          3.9651074949611e-06,
          4.160057555242689e-06,
          4.3641552965451725e-06,
          4.577807613246672e-06,
          4.801438398828609e-06,
          5.0354892040487905e-06,
          5.280419918240034e-06,
          5.536709474444599e-06,
          5.804856579112089e-06,
          6.085380467106363e-06,
          6.378821682784907e-06,
          6.685742887932589e-06,
          7.006729697350161e-06,
          7.342391542916562e-06,
          7.693362566963276e-06,
          8.060302545818064e-06,
          8.44389784439499e-06,
          8.844862402727114e-06,
          9.263938755358373e-06,
          9.701899084530991e-06,
          1.0159546308125239e-05,
          1.0637715203328493e-05,
          1.113727356703151e-05,
          1.1659123413970254e-05,
          1.2204202213652822e-05,
          1.2773484167131629e-05,
          1.3367981524702597e-05,
          1.398874594563419e-05,
          1.4636869901050072e-05,
          1.5313488121111463e-05,
          1.6019779087665834e-05,
          1.6756966573550372e-05,
          1.752632122976078e-05,
          1.832916222171639e-05,
          1.9166858915875072e-05,
          2.0040832617972474e-05,
          2.095255836418134e-05,
          2.1903566766508593e-05,
          2.289544591376843e-05,
          2.3929843329491493e-05,
          2.5008467988150235e-05,
          2.6133092391102312e-05,
          2.7305554703673704e-05,
          2.8527760954824143e-05,
          2.9801687300856742e-05,
          3.1129382354654245e-05,
          3.2512969581943714e-05,
          3.3954649766109245e-05,
          3.5456703543093535e-05,
          3.7021494007944656e-05,
          3.8651469394583444e-05,
          4.034916583038524e-05,
          4.2117210167183925e-05,
          4.395832289032471e-05,
          4.587532110740675e-05,
          4.787112161837096e-05,
          4.99487440686039e-05,
          5.2111314186740755e-05,
          5.43620671088645e-05,
          5.6704350790808075e-05,
          5.9141629510279606e-05,
          6.167748746053908e-05,
          6.4315632437365e-05,
          6.705989962105581e-05,
          6.99142554552202e-05,
          7.288280162411435e-05,
          7.596977913028805e-05,
          7.917957247430858e-05,
          8.251671393832852e-05,
          8.598588797526645e-05,
          8.959193570537117e-05,
          9.333985952193218e-05,
          9.723482780790063e-05,
          0.00010128217976517728,
          0.00010548743035831564,
          0.00010985627537438261,
          0.00011439459660070622,
          0.00011910846712222867,
          0.00012400415674016654,
          0.00012908813751366692,
          0.00013436708942612824,
          0.00013984790617782924,
          0.0001455377011065006,
          0.00015144381323742916,
          0.00015757381346467414,
          0.00016393551086493665,
          0.00017053695914559365,
          0.00017738646322837252,
          0.00018449258597010444,
          0.00019186415502195722,
          0.00019951026982850125,
          0.0002074403087679207,
          0.0002156639364346313,
          0.00022419111106551526,
          0.0002330320921109275,
          0.00024219744795157455,
          0.00025169806376230003,
          0.00026154514952375245,
          0.00027175024818284024,
          0.0002823252439628067,
          0.00029328237082369214,
          0.0003046342210738576,
          0.00031639375413317745,
          0.00032857430544841714,
          0.0003411895955612209,
          0.00035425373932904656,
          0.000367781255299286,
          0.0003817870752367106,
          0.00039628655380427423,
          0.0004112954783971994,
          0.0004268300791301641,
          0.00044290703897728015,
          0.00045954350406444603,
          0.00047675709411351973,
          0.0004945659130376398,
          0.0005129885596868777,
          0.0005320441387432778,
          0.0005517522717641892,
          0.0005721331083726575,
          0.0005932073375934786,
          0.0006149961993333824,
          0.0006375214960036303,
          0.0006608056042831642,
          0.0006848714870202665,
          0.0007097427052705217,
          0.0007354434304686872,
          0.0007619984567318983,
          0.0007894332132914555,
          0.0008177737770502323,
          0.0008470468852625594,
          0.000877279948333244,
          0.0009085010627321479,
          0.0009407390240205852,
          0.0009740233399855442,
          0.0010083842438775403,
          0.0010438527077476732,
          0.0010804604558792596,
          0.0011182399783091301,
          0.0011572245444335034,
          0.0011974482166930646,
          0.0012389458643316516,
          0.001281753177222709,
          0.0013259066797573897,
          0.0013714437447879778,
          0.0014184026076199921,
          0.0014668223800460996,
          0.0015167430644147,
          0.0015682055677257716,
          0.0016212517157462637,
          0.0016759242671371118,
          0.0017322669275836072,
          0.0017903243639206,
          0.0018501422182437392,
          0.0019117671219976511,
          0.001975246710031653,
          0.0020406296346133796,
          0.0021079655793902865,
          0.002177305273288828,
          0.002248700504340727,
          0.0023222041334254808,
          0.0023978701079179635,
          0.002475753475229671,
          0.00255591039623185,
          0.0026383981585484757,
          0.002723275189706741,
          0.002810601070132361,
          0.002900436545976823,
          0.002992843541763282,
          0.0030878851728375787,
          0.003185625757610571,
          0.003286130829577616,
          0.003389467149100827,
          0.0034957027149393576,
          0.00360490677551278,
          0.003717149839882224,
          0.0038325036884337875,
          0.003951041383248351,
          0.004072837278141724,
          0.004197967028358754,
          0.0043265075999048015,
          0.0044585372784976774,
          0.004594135678122931,
          0.004733383749175122,
          0.004876363786167496,
          0.005023159434992195,
          0.005173855699712969,
          0.005328538948872136,
          0.0054872969212932925,
          0.005650218731361137,
          0.005817394873759522,
          0.005988917227648743,
          0.0061648790602628085,
          0.0063453750299074215,
          0.0065305011883390685,
          0.006720354982505699,
          0.0069150352556291384,
          0.007114642247609438,
          0.007319277594731159,
          0.0075290443286516184,
          0.007744046874650881,
          0.007964391049123446,
          0.008190184056291318,
          0.008421534484118354,
          0.008658552299405506,
          0.008901348842046868,
          0.00915003681842624,
          0.009404730293934078,
          0.0096655446845847,
          0.00993259674771377,
          0.010206004571736068,
          0.010485887564943792,
          0.010772366443325673,
          0.01106556321738733,
          0.011365601177953662,
          0.0116726048809339,
          0.01198670013103057,
          0.012308013964373518,
          0.012636674630060626,
          0.012972811570587004,
          0.01331655540114479,
          0.013668037887776041,
          0.014027391924361457,
          0.014394751508428205,
          0.014770251715760263,
          0.015154028673795415,
          0.01554621953379326,
          0.01594696244175904,
          0.016356396508108887,
          0.01677466177606209,
          0.01720189918874712,
          0.017638250555008176,
          0.018083858513899972,
          0.018538866497858925,
          0.019003418694539607,
          0.01947766000730597,
          0.0199617360143675,
          0.02045579292655133,
          0.02095997754370181,
          0.021474437209700162,
          0.021999319766097206,
          0.022534773504353393,
          0.023080947116680968,
          0.023637989645483852,
          0.024206050431392147,
          0.024785279059888653,
          0.0253758253065258,
          0.025977839080732753,
          0.02659147036821275,
          0.0272168691719325,
          0.027854185451705826,
          0.028503569062375243,
          0.029165169690596154,
          0.02983913679022924,
          0.030525619516347916,
          0.031224766657869024,
          0.03193672656881556,
          0.0326616470982222,
          0.033399675518694695,
          0.03415095845363627,
          0.03491564180315482,
          0.03569387066866606,
          0.03648578927620941,
          0.037291540898494055,
          0.038111267775694575,
          0.03894511103501628,
          0.03979321060905222,
          0.04065570515295472,
          0.04153273196044583,
          0.04242442687869271,
          0.043330924222074796,
          0.04425235668487123,
          0.04518885525289872,
          0.04614054911413078,
          0.04710756556833103,
          0.04809002993573484,
          0.049088065464814395,
          0.05010179323916421,
          0.05113133208354541,
          0.052176798469127934,
          0.05323830641797227,
          0.05431596740679254,
          0.05540989027004515,
          0.056520181102387664,
          0.057646943160554784,
          0.05879027676469915,
          0.0599502791992459,
          0.06112704461331196,
          0.06232066392074136,
          0.06353122469981017,
          0.06475881109265505,
          0.0660035037044813,
          0.06726537950260728,
          0.0685445117154032,
          0.06984096973118366,
          0.07115481899711447,
          0.07248612091819526,
          0.07383493275638064,
          0.07520130752990378,
          0.07658529391286721,
          0.07798693613516686,
          0.07940627388281588,
          0.08084334219873679,
          0.08229817138408954,
          0.08377078690020653,
          0.0852612092712038,
          0.08676945398734028,
          0.08829553140919703,
          0.08983944667274893,
          0.09140119959540251,
          0.09298078458307366,
          0.0945781905383797,
          0.09619340077002113,
          0.09782639290342825,
          0.09947713879274872,
          0.10114560443425236,
          0.10283174988122963,
          0.1045355291604605,
          0.10625689019033108,
          0.10799577470067444,
          0.10975211815441364,
          0.1115258496710833,
          0.1133168919523072,
          0.11512516120930899,
          0.1169505670925326,
          0.11879301262344882,
          0.1206523941286244,
          0.12252860117612956,
          0.12442151651435886,
          0.126331016013341,
          0.128256968608611,
          0.13019923624771876,
          0.1321576738394471,
          0.13413212920581072,
          0.1361224430369078,
          0.13812844884869413,
          0.14014997294374953,
          0.1421868343751037,
          0.14423884491318997,
          0.14630580901599116,
          0.14838752380244327,
          0.15048377902915933,
          0.1525943570705355,
          0.1547190329022995,
          0.15685757408855958,
          0.1590097407724118,
          0.1611752856701599,
          0.16335395406920178,
          0.16554548382963402,
          0.16774960538962413,
          0.16996604177459823,
          0.17219450861028948,
          0.1744347141396912,
          0.17668635924395598,
          0.17894913746727942,
          0.1812227350458057,
          0.18350683094058926,
          0.18580109687464483,
          0.1881051973741146,
          0.19041878981358074,
          0.19274152446554615,
          0.1950730445541071,
          0.19741298631283447,
          0.19976097904688248,
          0.2021166451993364,
          0.20447960042181124,
          0.20684945364930843,
          0.20922580717933642,
          0.2116082567552962,
          0.2139963916541312,
          0.21638979477823775,
          0.2187880427516289,
          0.22119070602034088,
          0.22359734895707042,
          0.22600752997002474,
          0.228420801615966,
          0.23083671071742728,
          0.23325479848407354,
          0.23567460063817933,
          0.23809564754419044,
          0.24051746434233434,
          0.2429395710862403,
          0.24536148288452692,
          0.24778271004631364,
          0.25020275823060517,
          0.25262112859949937,
          0.25503731797516277,
          0.2574508190005157,
          0.25986112030356634,
          0.2622677066653288,
          0.264670059191258,
          0.2670676554861305,
          0.2694599698322982,
          0.2718464733712372,
          0.27422663428831273,
          0.2765999180006773,
          0.27896578734821625,
          0.28132370278745195,
          0.2836731225883156,
          0.28601350303369194,
          0.2883442986216399,
          0.2906649622701903,
          0.2929749455246162,
          0.29527369876707404,
          0.2975606714285047,
          0.29983531220268705,
          0.30209706926233104,
          0.304345390477095,
          0.3065797236334111,
          0.3087995166559998,
          0.31100421783095195,
          0.3131932760302554,
          0.3153661409376423,
          0.31752226327562794,
          0.31966109503361495,
          0.3217820896969312,
          0.32388470247667,
          0.32596839054019994,
          0.32803261324220845,
          0.33007683235614477,
          0.33210051230592436,
          0.33410312039775664,
          0.33608412705195784,
          0.33804300603460824,
          0.3399792346889136,
          0.34189229416612926,
          0.34378166965590573,
          0.34564685061591277,
          0.34748733100060025,
          0.3493026094889525,
          0.35109218971109374,
          0.352855580473602,
          0.35459229598338865,
          0.35630185607000125,
          0.3579837864062085,
          0.3596376187267251,
          0.36126289104493575,
          0.3628591478674795,
          0.3644259404065533,
          0.3659628267897982,
          0.3674693722676304,
          0.3689451494178811,
          0.3703897383476108,
          0.3718027268919647,
          0.3731837108099374,
          0.37453229397691773,
          0.3758480885738838,
          0.37713071527312375,
          0.37837980342035654,
          0.3795949912131308,
          0.38077592587538184,
          0.38192226382802885,
          0.3830336708554967,
          0.3841098222680496,
          0.38515040305982606,
          0.3861551080624679,
          0.3871236420942381,
          0.38805572010452566,
          0.3889510673136381,
          0.3898094193477865,
          0.39063052236916934,
          0.3914141332010658,
          0.39216001944785267,
          0.39286795960986176,
          0.3935377431929976,
          0.3941691708130405,
          0.39476205429456246,
          0.39531621676438644,
          0.39583149273952484,
          0.39630772820953614,
          0.3967447807132408,
          0.3971425194097454,
          0.3975008251437226,
          0.3978195905049041,
          0.39809871988174317,
          0.39833812950920905,
          0.39853774751068194,
          0.3986975139339164,
          0.3988173807810503,
          0.3988973120326366,
          0.3989372836656826,
          0.3989372836656826,
          0.3988973120326366,
          0.3988173807810503,
          0.3986975139339164,
          0.39853774751068194,
          0.39833812950920905,
          0.39809871988174317,
          0.3978195905049041,
          0.3975008251437226,
          0.3971425194097454,
          0.3967447807132408,
          0.39630772820953614,
          0.39583149273952484,
          0.39531621676438644,
          0.39476205429456246,
          0.3941691708130405,
          0.3935377431929976,
          0.39286795960986176,
          0.39216001944785267,
          0.3914141332010658,
          0.39063052236916934,
          0.3898094193477865,
          0.3889510673136381,
          0.38805572010452566,
          0.3871236420942381,
          0.3861551080624679,
          0.38515040305982606,
          0.3841098222680496,
          0.3830336708554967,
          0.38192226382802885,
          0.38077592587538184,
          0.3795949912131308,
          0.37837980342035654,
          0.37713071527312375,
          0.3758480885738838,
          0.37453229397691773,
          0.3731837108099374,
          0.3718027268919647,
          0.3703897383476108,
          0.3689451494178811,
          0.3674693722676304,
          0.3659628267897982,
          0.3644259404065533,
          0.3628591478674795,
          0.36126289104493575,
          0.3596376187267251,
          0.3579837864062085,
          0.35630185607000125,
          0.35459229598338865,
          0.352855580473602,
          0.35109218971109374,
          0.3493026094889525,
          0.34748733100060025,
          0.34564685061591277,
          0.34378166965590573,
          0.34189229416612926,
          0.3399792346889136,
          0.33804300603460824,
          0.33608412705195784,
          0.33410312039775664,
          0.33210051230592436,
          0.33007683235614477,
          0.32803261324220845,
          0.32596839054019994,
          0.32388470247667,
          0.3217820896969312,
          0.31966109503361495,
          0.31752226327562794,
          0.3153661409376423,
          0.3131932760302554,
          0.31100421783095195,
          0.3087995166559998,
          0.3065797236334111,
          0.304345390477095,
          0.30209706926233104,
          0.29983531220268705,
          0.2975606714285047,
          0.29527369876707404,
          0.2929749455246162,
          0.2906649622701903,
          0.2883442986216399,
          0.28601350303369194,
          0.2836731225883156,
          0.28132370278745195,
          0.27896578734821625,
          0.2765999180006773,
          0.27422663428831273,
          0.2718464733712372,
          0.2694599698322982,
          0.2670676554861305,
          0.264670059191258,
          0.2622677066653288,
          0.25986112030356634,
          0.2574508190005157,
          0.25503731797516277,
          0.25262112859949937,
          0.25020275823060517,
          0.24778271004631364,
          0.24536148288452692,
          0.2429395710862403,
          0.24051746434233448,
          0.23809564754419058,
          0.2356746006381794,
          0.23325479848407366,
          0.23083671071742742,
          0.2284208016159661,
          0.22600752997002482,
          0.2235973489570705,
          0.22119070602034097,
          0.21878804275162897,
          0.2163897947782379,
          0.21399639165413128,
          0.21160825675529632,
          0.20922580717933653,
          0.2068494536493085,
          0.20447960042181132,
          0.20211664519933653,
          0.19976097904688261,
          0.19741298631283458,
          0.1950730445541072,
          0.19274152446554627,
          0.19041878981358082,
          0.1881051973741147,
          0.18580109687464494,
          0.18350683094058937,
          0.18122273504580577,
          0.17894913746727953,
          0.1766863592439561,
          0.17443471413969128,
          0.17219450861028957,
          0.16996604177459834,
          0.16774960538962422,
          0.1655454838296341,
          0.16335395406920186,
          0.16117528567015998,
          0.1590097407724119,
          0.15685757408855966,
          0.15471903290229957,
          0.1525943570705356,
          0.1504837790291594,
          0.14838752380244338,
          0.14630580901599105,
          0.14423884491318986,
          0.1421868343751036,
          0.14014997294374945,
          0.13812844884869405,
          0.1361224430369077,
          0.13413212920581064,
          0.13215767383944702,
          0.13019923624771867,
          0.12825696860861088,
          0.12633101601334093,
          0.12442151651435879,
          0.12252860117612945,
          0.12065239412862433,
          0.11879301262344874,
          0.11695056709253251,
          0.11512516120930891,
          0.11331689195230711,
          0.11152584967108323,
          0.10975211815441357,
          0.10799577470067437,
          0.10625689019033098,
          0.10453552916046042,
          0.10283174988122956,
          0.10114560443425229,
          0.09947713879274865,
          0.09782639290342818,
          0.09619340077002107,
          0.09457819053837964,
          0.09298078458307359,
          0.09140119959540245,
          0.08983944667274886,
          0.08829553140919696,
          0.08676945398734023,
          0.08526120927120373,
          0.08377078690020646,
          0.08229817138408949,
          0.08084334219873675,
          0.07940627388281588,
          0.07798693613516686,
          0.07658529391286721,
          0.07520130752990378,
          0.07383493275638064,
          0.07248612091819526,
          0.07115481899711447,
          0.06984096973118366,
          0.0685445117154032,
          0.06726537950260728,
          0.0660035037044813,
          0.06475881109265505,
          0.06353122469981017,
          0.06232066392074136,
          0.06112704461331196,
          0.0599502791992459,
          0.05879027676469915,
          0.057646943160554784,
          0.056520181102387664,
          0.05540989027004515,
          0.05431596740679254,
          0.05323830641797227,
          0.052176798469127934,
          0.05113133208354541,
          0.05010179323916421,
          0.049088065464814395,
          0.04809002993573484,
          0.04710756556833103,
          0.04614054911413078,
          0.04518885525289872,
          0.04425235668487123,
          0.043330924222074796,
          0.04242442687869271,
          0.04153273196044583,
          0.04065570515295472,
          0.03979321060905222,
          0.03894511103501628,
          0.038111267775694575,
          0.037291540898494055,
          0.03648578927620941,
          0.03569387066866606,
          0.03491564180315482,
          0.03415095845363627,
          0.033399675518694695,
          0.0326616470982222,
          0.03193672656881556,
          0.031224766657869024,
          0.030525619516347916,
          0.02983913679022924,
          0.029165169690596154,
          0.028503569062375243,
          0.027854185451705826,
          0.0272168691719325,
          0.02659147036821275,
          0.025977839080732753,
          0.0253758253065258,
          0.024785279059888653,
          0.024206050431392147,
          0.023637989645483852,
          0.023080947116680968,
          0.022534773504353393,
          0.021999319766097206,
          0.021474437209700162,
          0.02095997754370181,
          0.02045579292655133,
          0.0199617360143675,
          0.01947766000730597,
          0.019003418694539607,
          0.018538866497858925,
          0.018083858513899972,
          0.017638250555008176,
          0.01720189918874712,
          0.01677466177606209,
          0.016356396508108887,
          0.01594696244175904,
          0.01554621953379326,
          0.015154028673795415,
          0.014770251715760263,
          0.014394751508428205,
          0.014027391924361457,
          0.013668037887776041,
          0.01331655540114479,
          0.012972811570587004,
          0.012636674630060626,
          0.012308013964373518,
          0.01198670013103057,
          0.0116726048809339,
          0.011365601177953662,
          0.01106556321738733,
          0.010772366443325673,
          0.010485887564943792,
          0.010206004571736068,
          0.00993259674771377,
          0.0096655446845847,
          0.009404730293934078,
          0.00915003681842624,
          0.008901348842046868,
          0.008658552299405506,
          0.008421534484118354,
          0.008190184056291318,
          0.007964391049123446,
          0.007744046874650881,
          0.0075290443286516184,
          0.007319277594731159,
          0.007114642247609438,
          0.0069150352556291384,
          0.006720354982505699,
          0.0065305011883390685,
          0.0063453750299074215,
          0.0061648790602628085,
          0.005988917227648743,
          0.005817394873759522,
          0.005650218731361137,
          0.0054872969212932925,
          0.005328538948872136,
          0.005173855699712969,
          0.005023159434992195,
          0.004876363786167496,
          0.004733383749175122,
          0.004594135678122931,
          0.0044585372784976774,
          0.00432650759990479,
          0.004197967028358743,
          0.004072837278141713,
          0.003951041383248341,
          0.003832503688433777,
          0.0037171498398822144,
          0.003604906775512767,
          0.003495702714939348,
          0.003389467149100818,
          0.003286130829577608,
          0.003185625757610563,
          0.00308788517283757,
          0.002992843541763274,
          0.0029004365459768156,
          0.0028106010701323537,
          0.0027232751897067337,
          0.0026383981585484688,
          0.002555910396231841,
          0.002475753475229664,
          0.002397870107917957,
          0.0023222041334254725,
          0.002248700504340719,
          0.002177305273288822,
          0.002107965579390281,
          0.0020406296346133744,
          0.001975246710031648,
          0.0019117671219976442,
          0.0018501422182437342,
          0.0017903243639205953,
          0.0017322669275836014,
          0.0016759242671371072,
          0.0016212517157462576,
          0.001568205567725766,
          0.0015167430644146959,
          0.0014668223800460944,
          0.0014184026076199882,
          0.001371443744787974,
          0.0013259066797573849,
          0.0012817531772227047,
          0.0012389458643316494,
          0.0011974482166930624,
          0.0011572245444335014,
          0.0011182399783091284,
          0.0010804604558792585,
          0.0010438527077476724,
          0.0010083842438775384,
          0.0009740233399855434,
          0.0009407390240205837,
          0.0009085010627321461,
          0.0008772799483332424,
          0.0008470468852625585,
          0.0008177737770502308,
          0.0007894332132914549,
          0.0007619984567318977,
          0.0007354434304686859,
          0.0007097427052705204,
          0.0006848714870202652,
          0.000660805604283163,
          0.0006375214960036292,
          0.0006149961993333812,
          0.0005932073375934776,
          0.0005721331083726564,
          0.0005517522717641884,
          0.0005320441387432768,
          0.0005129885596868767,
          0.000494565913037639,
          0.00047675709411351886,
          0.00045954350406444516,
          0.0004429070389772794,
          0.0004268300791301634,
          0.0004112954783971987,
          0.0003962865538042735,
          0.00038178707523670995,
          0.00036778125529928537,
          0.0003542537393290459,
          0.00034118959556122023,
          0.00032857430544841655,
          0.0003163937541331769,
          0.00030463422107385705,
          0.00029328237082369165,
          0.0002823252439628062,
          0.00027175024818283975,
          0.00026154514952375196,
          0.0002516980637622996,
          0.00024219744795157412,
          0.0002330320921109271,
          0.00022419111106551488,
          0.00021566393643463093,
          0.00020744030876792028,
          0.00019951026982850093,
          0.0001918641550219569,
          0.00018449258597010427,
          0.00017738646322837222,
          0.00017053695914559335,
          0.00016393551086493638,
          0.00015757381346467387,
          0.0001514438132374289,
          0.00014553770110650033,
          0.000139847906177829,
          0.000134367089426128,
          0.00012908813751366692,
          0.00012400415674016654,
          0.00011910846712222867,
          0.00011439459660070622,
          0.00010985627537438261,
          0.00010548743035831564,
          0.00010128217976517728,
          9.723482780790063e-05,
          9.333985952193218e-05,
          8.959193570537117e-05,
          8.598588797526645e-05,
          8.251671393832852e-05,
          7.917957247430858e-05,
          7.596977913028805e-05,
          7.288280162411435e-05,
          6.99142554552202e-05,
          6.705989962105581e-05,
          6.4315632437365e-05,
          6.167748746053908e-05,
          5.9141629510279606e-05,
          5.6704350790808075e-05,
          5.43620671088645e-05,
          5.2111314186740755e-05,
          4.99487440686039e-05,
          4.787112161837096e-05,
          4.587532110740675e-05,
          4.395832289032471e-05,
          4.2117210167183925e-05,
          4.034916583038524e-05,
          3.8651469394583444e-05,
          3.7021494007944656e-05,
          3.5456703543093535e-05,
          3.3954649766109245e-05,
          3.2512969581943714e-05,
          3.1129382354654245e-05,
          2.9801687300856742e-05,
          2.8527760954824143e-05,
          2.7305554703673704e-05,
          2.6133092391102312e-05,
          2.5008467988150235e-05,
          2.3929843329491493e-05,
          2.289544591376843e-05,
          2.1903566766508593e-05,
          2.095255836418134e-05,
          2.0040832617972474e-05,
          1.9166858915875072e-05,
          1.832916222171639e-05,
          1.752632122976078e-05,
          1.6756966573550372e-05,
          1.6019779087665834e-05,
          1.5313488121111463e-05,
          1.4636869901050072e-05,
          1.398874594563419e-05,
          1.3367981524702597e-05,
          1.2773484167131629e-05,
          1.2204202213652822e-05,
          1.1659123413970254e-05,
          1.113727356703151e-05,
          1.0637715203328493e-05,
          1.0159546308125239e-05,
          9.701899084530991e-06,
          9.263938755358373e-06,
          8.844862402727114e-06,
          8.44389784439499e-06,
          8.060302545818064e-06,
          7.693362566963276e-06,
          7.342391542916562e-06,
          7.006729697350161e-06,
          6.685742887932589e-06,
          6.378821682784907e-06,
          6.085380467106363e-06,
          5.804856579112089e-06,
          5.536709474444599e-06,
          5.280419918240034e-06,
          5.0354892040487905e-06,
          4.801438398828609e-06,
          4.577807613246672e-06,
          4.3641552965451725e-06,
          4.160057555242689e-06,
          3.9651074949611e-06,
          3.778914584685238e-06,
          3.6011040427793162e-06,
          3.4313162441010406e-06,
          3.269206147570631e-06,
          3.1144427435683705e-06,
          2.9667085205500707e-06,
          2.825698950285607e-06,
          2.691121991140962e-06,
          2.5626976088394264e-06,
          2.440157314152359e-06,
          2.3232437169845257e-06,
          2.211710096333239e-06,
          2.1053199856146367e-06,
          2.0038467728640893e-06,
          1.9070733153312075e-06,
          1.8147915680031394e-06,
          1.726802225602747e-06,
          1.6429143776209077e-06,
          1.5629451759545646e-06,
          1.4867195147342979e-06
         ],
         "yaxis": "y"
        }
       ],
       "layout": {
        "height": 400,
        "legend": {
         "tracegroupgap": 0
        },
        "template": {
         "data": {
          "bar": [
           {
            "error_x": {
             "color": "#2a3f5f"
            },
            "error_y": {
             "color": "#2a3f5f"
            },
            "marker": {
             "line": {
              "color": "white",
              "width": 0.5
             }
            },
            "type": "bar"
           }
          ],
          "barpolar": [
           {
            "marker": {
             "line": {
              "color": "white",
              "width": 0.5
             }
            },
            "type": "barpolar"
           }
          ],
          "carpet": [
           {
            "aaxis": {
             "endlinecolor": "#2a3f5f",
             "gridcolor": "#C8D4E3",
             "linecolor": "#C8D4E3",
             "minorgridcolor": "#C8D4E3",
             "startlinecolor": "#2a3f5f"
            },
            "baxis": {
             "endlinecolor": "#2a3f5f",
             "gridcolor": "#C8D4E3",
             "linecolor": "#C8D4E3",
             "minorgridcolor": "#C8D4E3",
             "startlinecolor": "#2a3f5f"
            },
            "type": "carpet"
           }
          ],
          "choropleth": [
           {
            "colorbar": {
             "outlinewidth": 0,
             "ticks": ""
            },
            "type": "choropleth"
           }
          ],
          "contour": [
           {
            "colorbar": {
             "outlinewidth": 0,
             "ticks": ""
            },
            "colorscale": [
             [
              0,
              "#0d0887"
             ],
             [
              0.1111111111111111,
              "#46039f"
             ],
             [
              0.2222222222222222,
              "#7201a8"
             ],
             [
              0.3333333333333333,
              "#9c179e"
             ],
             [
              0.4444444444444444,
              "#bd3786"
             ],
             [
              0.5555555555555556,
              "#d8576b"
             ],
             [
              0.6666666666666666,
              "#ed7953"
             ],
             [
              0.7777777777777778,
              "#fb9f3a"
             ],
             [
              0.8888888888888888,
              "#fdca26"
             ],
             [
              1,
              "#f0f921"
             ]
            ],
            "type": "contour"
           }
          ],
          "contourcarpet": [
           {
            "colorbar": {
             "outlinewidth": 0,
             "ticks": ""
            },
            "type": "contourcarpet"
           }
          ],
          "heatmap": [
           {
            "colorbar": {
             "outlinewidth": 0,
             "ticks": ""
            },
            "colorscale": [
             [
              0,
              "#0d0887"
             ],
             [
              0.1111111111111111,
              "#46039f"
             ],
             [
              0.2222222222222222,
              "#7201a8"
             ],
             [
              0.3333333333333333,
              "#9c179e"
             ],
             [
              0.4444444444444444,
              "#bd3786"
             ],
             [
              0.5555555555555556,
              "#d8576b"
             ],
             [
              0.6666666666666666,
              "#ed7953"
             ],
             [
              0.7777777777777778,
              "#fb9f3a"
             ],
             [
              0.8888888888888888,
              "#fdca26"
             ],
             [
              1,
              "#f0f921"
             ]
            ],
            "type": "heatmap"
           }
          ],
          "heatmapgl": [
           {
            "colorbar": {
             "outlinewidth": 0,
             "ticks": ""
            },
            "colorscale": [
             [
              0,
              "#0d0887"
             ],
             [
              0.1111111111111111,
              "#46039f"
             ],
             [
              0.2222222222222222,
              "#7201a8"
             ],
             [
              0.3333333333333333,
              "#9c179e"
             ],
             [
              0.4444444444444444,
              "#bd3786"
             ],
             [
              0.5555555555555556,
              "#d8576b"
             ],
             [
              0.6666666666666666,
              "#ed7953"
             ],
             [
              0.7777777777777778,
              "#fb9f3a"
             ],
             [
              0.8888888888888888,
              "#fdca26"
             ],
             [
              1,
              "#f0f921"
             ]
            ],
            "type": "heatmapgl"
           }
          ],
          "histogram": [
           {
            "marker": {
             "colorbar": {
              "outlinewidth": 0,
              "ticks": ""
             }
            },
            "type": "histogram"
           }
          ],
          "histogram2d": [
           {
            "colorbar": {
             "outlinewidth": 0,
             "ticks": ""
            },
            "colorscale": [
             [
              0,
              "#0d0887"
             ],
             [
              0.1111111111111111,
              "#46039f"
             ],
             [
              0.2222222222222222,
              "#7201a8"
             ],
             [
              0.3333333333333333,
              "#9c179e"
             ],
             [
              0.4444444444444444,
              "#bd3786"
             ],
             [
              0.5555555555555556,
              "#d8576b"
             ],
             [
              0.6666666666666666,
              "#ed7953"
             ],
             [
              0.7777777777777778,
              "#fb9f3a"
             ],
             [
              0.8888888888888888,
              "#fdca26"
             ],
             [
              1,
              "#f0f921"
             ]
            ],
            "type": "histogram2d"
           }
          ],
          "histogram2dcontour": [
           {
            "colorbar": {
             "outlinewidth": 0,
             "ticks": ""
            },
            "colorscale": [
             [
              0,
              "#0d0887"
             ],
             [
              0.1111111111111111,
              "#46039f"
             ],
             [
              0.2222222222222222,
              "#7201a8"
             ],
             [
              0.3333333333333333,
              "#9c179e"
             ],
             [
              0.4444444444444444,
              "#bd3786"
             ],
             [
              0.5555555555555556,
              "#d8576b"
             ],
             [
              0.6666666666666666,
              "#ed7953"
             ],
             [
              0.7777777777777778,
              "#fb9f3a"
             ],
             [
              0.8888888888888888,
              "#fdca26"
             ],
             [
              1,
              "#f0f921"
             ]
            ],
            "type": "histogram2dcontour"
           }
          ],
          "mesh3d": [
           {
            "colorbar": {
             "outlinewidth": 0,
             "ticks": ""
            },
            "type": "mesh3d"
           }
          ],
          "parcoords": [
           {
            "line": {
             "colorbar": {
              "outlinewidth": 0,
              "ticks": ""
             }
            },
            "type": "parcoords"
           }
          ],
          "scatter": [
           {
            "marker": {
             "colorbar": {
              "outlinewidth": 0,
              "ticks": ""
             }
            },
            "type": "scatter"
           }
          ],
          "scatter3d": [
           {
            "line": {
             "colorbar": {
              "outlinewidth": 0,
              "ticks": ""
             }
            },
            "marker": {
             "colorbar": {
              "outlinewidth": 0,
              "ticks": ""
             }
            },
            "type": "scatter3d"
           }
          ],
          "scattercarpet": [
           {
            "marker": {
             "colorbar": {
              "outlinewidth": 0,
              "ticks": ""
             }
            },
            "type": "scattercarpet"
           }
          ],
          "scattergeo": [
           {
            "marker": {
             "colorbar": {
              "outlinewidth": 0,
              "ticks": ""
             }
            },
            "type": "scattergeo"
           }
          ],
          "scattergl": [
           {
            "marker": {
             "colorbar": {
              "outlinewidth": 0,
              "ticks": ""
             }
            },
            "type": "scattergl"
           }
          ],
          "scattermapbox": [
           {
            "marker": {
             "colorbar": {
              "outlinewidth": 0,
              "ticks": ""
             }
            },
            "type": "scattermapbox"
           }
          ],
          "scatterpolar": [
           {
            "marker": {
             "colorbar": {
              "outlinewidth": 0,
              "ticks": ""
             }
            },
            "type": "scatterpolar"
           }
          ],
          "scatterpolargl": [
           {
            "marker": {
             "colorbar": {
              "outlinewidth": 0,
              "ticks": ""
             }
            },
            "type": "scatterpolargl"
           }
          ],
          "scatterternary": [
           {
            "marker": {
             "colorbar": {
              "outlinewidth": 0,
              "ticks": ""
             }
            },
            "type": "scatterternary"
           }
          ],
          "surface": [
           {
            "colorbar": {
             "outlinewidth": 0,
             "ticks": ""
            },
            "colorscale": [
             [
              0,
              "#0d0887"
             ],
             [
              0.1111111111111111,
              "#46039f"
             ],
             [
              0.2222222222222222,
              "#7201a8"
             ],
             [
              0.3333333333333333,
              "#9c179e"
             ],
             [
              0.4444444444444444,
              "#bd3786"
             ],
             [
              0.5555555555555556,
              "#d8576b"
             ],
             [
              0.6666666666666666,
              "#ed7953"
             ],
             [
              0.7777777777777778,
              "#fb9f3a"
             ],
             [
              0.8888888888888888,
              "#fdca26"
             ],
             [
              1,
              "#f0f921"
             ]
            ],
            "type": "surface"
           }
          ],
          "table": [
           {
            "cells": {
             "fill": {
              "color": "#EBF0F8"
             },
             "line": {
              "color": "white"
             }
            },
            "header": {
             "fill": {
              "color": "#C8D4E3"
             },
             "line": {
              "color": "white"
             }
            },
            "type": "table"
           }
          ]
         },
         "layout": {
          "annotationdefaults": {
           "arrowcolor": "#2a3f5f",
           "arrowhead": 0,
           "arrowwidth": 1
          },
          "colorscale": {
           "diverging": [
            [
             0,
             "#8e0152"
            ],
            [
             0.1,
             "#c51b7d"
            ],
            [
             0.2,
             "#de77ae"
            ],
            [
             0.3,
             "#f1b6da"
            ],
            [
             0.4,
             "#fde0ef"
            ],
            [
             0.5,
             "#f7f7f7"
            ],
            [
             0.6,
             "#e6f5d0"
            ],
            [
             0.7,
             "#b8e186"
            ],
            [
             0.8,
             "#7fbc41"
            ],
            [
             0.9,
             "#4d9221"
            ],
            [
             1,
             "#276419"
            ]
           ],
           "sequential": [
            [
             0,
             "#0d0887"
            ],
            [
             0.1111111111111111,
             "#46039f"
            ],
            [
             0.2222222222222222,
             "#7201a8"
            ],
            [
             0.3333333333333333,
             "#9c179e"
            ],
            [
             0.4444444444444444,
             "#bd3786"
            ],
            [
             0.5555555555555556,
             "#d8576b"
            ],
            [
             0.6666666666666666,
             "#ed7953"
            ],
            [
             0.7777777777777778,
             "#fb9f3a"
            ],
            [
             0.8888888888888888,
             "#fdca26"
            ],
            [
             1,
             "#f0f921"
            ]
           ],
           "sequentialminus": [
            [
             0,
             "#0d0887"
            ],
            [
             0.1111111111111111,
             "#46039f"
            ],
            [
             0.2222222222222222,
             "#7201a8"
            ],
            [
             0.3333333333333333,
             "#9c179e"
            ],
            [
             0.4444444444444444,
             "#bd3786"
            ],
            [
             0.5555555555555556,
             "#d8576b"
            ],
            [
             0.6666666666666666,
             "#ed7953"
            ],
            [
             0.7777777777777778,
             "#fb9f3a"
            ],
            [
             0.8888888888888888,
             "#fdca26"
            ],
            [
             1,
             "#f0f921"
            ]
           ]
          },
          "colorway": [
           "#636efa",
           "#EF553B",
           "#00cc96",
           "#ab63fa",
           "#FFA15A",
           "#19d3f3",
           "#FF6692",
           "#B6E880",
           "#FF97FF",
           "#FECB52"
          ],
          "font": {
           "color": "#2a3f5f"
          },
          "geo": {
           "bgcolor": "white",
           "lakecolor": "white",
           "landcolor": "white",
           "showlakes": true,
           "showland": true,
           "subunitcolor": "#C8D4E3"
          },
          "hoverlabel": {
           "align": "left"
          },
          "hovermode": "closest",
          "mapbox": {
           "style": "light"
          },
          "paper_bgcolor": "white",
          "plot_bgcolor": "white",
          "polar": {
           "angularaxis": {
            "gridcolor": "#EBF0F8",
            "linecolor": "#EBF0F8",
            "ticks": ""
           },
           "bgcolor": "white",
           "radialaxis": {
            "gridcolor": "#EBF0F8",
            "linecolor": "#EBF0F8",
            "ticks": ""
           }
          },
          "scene": {
           "xaxis": {
            "backgroundcolor": "white",
            "gridcolor": "#DFE8F3",
            "gridwidth": 2,
            "linecolor": "#EBF0F8",
            "showbackground": true,
            "ticks": "",
            "zerolinecolor": "#EBF0F8"
           },
           "yaxis": {
            "backgroundcolor": "white",
            "gridcolor": "#DFE8F3",
            "gridwidth": 2,
            "linecolor": "#EBF0F8",
            "showbackground": true,
            "ticks": "",
            "zerolinecolor": "#EBF0F8"
           },
           "zaxis": {
            "backgroundcolor": "white",
            "gridcolor": "#DFE8F3",
            "gridwidth": 2,
            "linecolor": "#EBF0F8",
            "showbackground": true,
            "ticks": "",
            "zerolinecolor": "#EBF0F8"
           }
          },
          "shapedefaults": {
           "line": {
            "color": "#2a3f5f"
           }
          },
          "ternary": {
           "aaxis": {
            "gridcolor": "#DFE8F3",
            "linecolor": "#A2B1C6",
            "ticks": ""
           },
           "baxis": {
            "gridcolor": "#DFE8F3",
            "linecolor": "#A2B1C6",
            "ticks": ""
           },
           "bgcolor": "white",
           "caxis": {
            "gridcolor": "#DFE8F3",
            "linecolor": "#A2B1C6",
            "ticks": ""
           }
          },
          "title": {
           "x": 0.05
          },
          "xaxis": {
           "automargin": true,
           "gridcolor": "#EBF0F8",
           "linecolor": "#EBF0F8",
           "ticks": "",
           "zerolinecolor": "#EBF0F8",
           "zerolinewidth": 2
          },
          "yaxis": {
           "automargin": true,
           "gridcolor": "#EBF0F8",
           "linecolor": "#EBF0F8",
           "ticks": "",
           "zerolinecolor": "#EBF0F8",
           "zerolinewidth": 2
          }
         }
        },
        "title": {
         "text": "Normal Distribution mu=0 and sigma=1"
        },
        "width": 600,
        "xaxis": {
         "anchor": "y",
         "domain": [
          0,
          0.98
         ],
         "title": {
          "text": "x"
         }
        },
        "yaxis": {
         "anchor": "x",
         "domain": [
          0,
          1
         ],
         "title": {
          "text": "y"
         }
        }
       }
      },
      "text/html": [
       "<div>\n",
       "        \n",
       "        \n",
       "            <div id=\"f39e8c30-5cfb-4e2a-8da1-8b7749c6d564\" class=\"plotly-graph-div\" style=\"height:400px; width:600px;\"></div>\n",
       "            <script type=\"text/javascript\">\n",
       "                require([\"plotly\"], function(Plotly) {\n",
       "                    window.PLOTLYENV=window.PLOTLYENV || {};\n",
       "                    \n",
       "                if (document.getElementById(\"f39e8c30-5cfb-4e2a-8da1-8b7749c6d564\")) {\n",
       "                    Plotly.newPlot(\n",
       "                        'f39e8c30-5cfb-4e2a-8da1-8b7749c6d564',\n",
       "                        [{\"hoverlabel\": {\"namelength\": 0}, \"hovertemplate\": \"x=%{x}<br>y=%{y}\", \"legendgroup\": \"\", \"line\": {\"color\": \"#636efa\"}, \"mode\": \"lines\", \"name\": \"\", \"orientation\": \"v\", \"showlegend\": false, \"stackgroup\": \"1\", \"type\": \"scatter\", \"x\": [-5.0, -4.98998998998999, -4.97997997997998, -4.96996996996997, -4.95995995995996, -4.94994994994995, -4.93993993993994, -4.92992992992993, -4.91991991991992, -4.90990990990991, -4.8998998998999, -4.88988988988989, -4.87987987987988, -4.86986986986987, -4.85985985985986, -4.84984984984985, -4.83983983983984, -4.82982982982983, -4.81981981981982, -4.80980980980981, -4.7997997997998, -4.78978978978979, -4.77977977977978, -4.76976976976977, -4.75975975975976, -4.74974974974975, -4.73973973973974, -4.72972972972973, -4.71971971971972, -4.70970970970971, -4.6996996996997, -4.68968968968969, -4.67967967967968, -4.66966966966967, -4.65965965965966, -4.64964964964965, -4.63963963963964, -4.62962962962963, -4.61961961961962, -4.60960960960961, -4.5995995995996, -4.58958958958959, -4.57957957957958, -4.56956956956957, -4.55955955955956, -4.54954954954955, -4.53953953953954, -4.52952952952953, -4.51951951951952, -4.50950950950951, -4.4994994994995, -4.48948948948949, -4.47947947947948, -4.46946946946947, -4.45945945945946, -4.44944944944945, -4.43943943943944, -4.42942942942943, -4.41941941941942, -4.40940940940941, -4.3993993993994, -4.38938938938939, -4.37937937937938, -4.36936936936937, -4.35935935935936, -4.34934934934935, -4.33933933933934, -4.32932932932933, -4.31931931931932, -4.3093093093093096, -4.2992992992992995, -4.2892892892892895, -4.2792792792792795, -4.2692692692692695, -4.2592592592592595, -4.2492492492492495, -4.2392392392392395, -4.2292292292292295, -4.2192192192192195, -4.2092092092092095, -4.1991991991991995, -4.1891891891891895, -4.1791791791791795, -4.1691691691691695, -4.1591591591591595, -4.1491491491491495, -4.1391391391391394, -4.129129129129129, -4.119119119119119, -4.109109109109109, -4.099099099099099, -4.089089089089089, -4.079079079079079, -4.069069069069069, -4.059059059059059, -4.049049049049049, -4.039039039039039, -4.029029029029029, -4.019019019019019, -4.009009009009009, -3.998998998998999, -3.988988988988989, -3.978978978978979, -3.968968968968969, -3.958958958958959, -3.948948948948949, -3.938938938938939, -3.928928928928929, -3.918918918918919, -3.908908908908909, -3.898898898898899, -3.888888888888889, -3.878878878878879, -3.868868868868869, -3.858858858858859, -3.848848848848849, -3.838838838838839, -3.828828828828829, -3.818818818818819, -3.808808808808809, -3.798798798798799, -3.7887887887887888, -3.7787787787787788, -3.7687687687687688, -3.7587587587587588, -3.7487487487487487, -3.7387387387387387, -3.7287287287287287, -3.7187187187187187, -3.7087087087087087, -3.6986986986986987, -3.6886886886886887, -3.6786786786786787, -3.6686686686686687, -3.6586586586586587, -3.6486486486486487, -3.6386386386386387, -3.6286286286286287, -3.6186186186186187, -3.6086086086086087, -3.5985985985985987, -3.5885885885885886, -3.5785785785785786, -3.5685685685685686, -3.5585585585585586, -3.5485485485485486, -3.5385385385385386, -3.5285285285285286, -3.5185185185185186, -3.5085085085085086, -3.4984984984984986, -3.4884884884884886, -3.4784784784784786, -3.4684684684684686, -3.4584584584584586, -3.4484484484484486, -3.4384384384384385, -3.4284284284284285, -3.4184184184184185, -3.4084084084084085, -3.3983983983983985, -3.388388388388388, -3.378378378378378, -3.368368368368368, -3.358358358358358, -3.348348348348348, -3.338338338338338, -3.328328328328328, -3.318318318318318, -3.308308308308308, -3.298298298298298, -3.288288288288288, -3.278278278278278, -3.268268268268268, -3.258258258258258, -3.248248248248248, -3.238238238238238, -3.228228228228228, -3.218218218218218, -3.208208208208208, -3.198198198198198, -3.188188188188188, -3.178178178178178, -3.168168168168168, -3.158158158158158, -3.148148148148148, -3.138138138138138, -3.128128128128128, -3.118118118118118, -3.108108108108108, -3.098098098098098, -3.088088088088088, -3.078078078078078, -3.068068068068068, -3.058058058058058, -3.048048048048048, -3.038038038038038, -3.028028028028028, -3.018018018018018, -3.008008008008008, -2.997997997997998, -2.987987987987988, -2.977977977977978, -2.967967967967968, -2.957957957957958, -2.947947947947948, -2.937937937937938, -2.9279279279279278, -2.9179179179179178, -2.9079079079079078, -2.8978978978978978, -2.8878878878878878, -2.8778778778778777, -2.8678678678678677, -2.8578578578578577, -2.8478478478478477, -2.8378378378378377, -2.8278278278278277, -2.8178178178178177, -2.8078078078078077, -2.7977977977977977, -2.7877877877877877, -2.7777777777777777, -2.7677677677677677, -2.7577577577577577, -2.7477477477477477, -2.7377377377377377, -2.7277277277277276, -2.7177177177177176, -2.7077077077077076, -2.6976976976976976, -2.6876876876876876, -2.6776776776776776, -2.6676676676676676, -2.6576576576576576, -2.6476476476476476, -2.6376376376376376, -2.6276276276276276, -2.6176176176176176, -2.6076076076076076, -2.5975975975975976, -2.5875875875875876, -2.5775775775775776, -2.5675675675675675, -2.5575575575575575, -2.5475475475475475, -2.5375375375375375, -2.5275275275275275, -2.5175175175175175, -2.5075075075075075, -2.4974974974974975, -2.4874874874874875, -2.4774774774774775, -2.4674674674674675, -2.4574574574574575, -2.4474474474474475, -2.4374374374374375, -2.4274274274274275, -2.4174174174174174, -2.4074074074074074, -2.3973973973973974, -2.3873873873873874, -2.3773773773773774, -2.3673673673673674, -2.3573573573573574, -2.3473473473473474, -2.3373373373373374, -2.3273273273273274, -2.3173173173173174, -2.3073073073073074, -2.2972972972972974, -2.2872872872872874, -2.2772772772772774, -2.2672672672672673, -2.2572572572572573, -2.2472472472472473, -2.2372372372372373, -2.2272272272272273, -2.2172172172172173, -2.2072072072072073, -2.1971971971971973, -2.1871871871871873, -2.1771771771771773, -2.1671671671671673, -2.1571571571571573, -2.1471471471471473, -2.1371371371371373, -2.1271271271271273, -2.1171171171171173, -2.1071071071071072, -2.0970970970970972, -2.0870870870870872, -2.0770770770770772, -2.067067067067067, -2.057057057057057, -2.047047047047047, -2.037037037037037, -2.027027027027027, -2.017017017017017, -2.007007007007007, -1.9969969969969972, -1.9869869869869872, -1.9769769769769772, -1.9669669669669672, -1.9569569569569571, -1.9469469469469471, -1.9369369369369371, -1.9269269269269271, -1.9169169169169171, -1.9069069069069071, -1.8968968968968971, -1.886886886886887, -1.876876876876877, -1.866866866866867, -1.856856856856857, -1.846846846846847, -1.836836836836837, -1.826826826826827, -1.816816816816817, -1.806806806806807, -1.796796796796797, -1.7867867867867866, -1.7767767767767766, -1.7667667667667666, -1.7567567567567566, -1.7467467467467466, -1.7367367367367366, -1.7267267267267266, -1.7167167167167166, -1.7067067067067065, -1.6966966966966965, -1.6866866866866865, -1.6766766766766765, -1.6666666666666665, -1.6566566566566565, -1.6466466466466465, -1.6366366366366365, -1.6266266266266265, -1.6166166166166165, -1.6066066066066065, -1.5965965965965965, -1.5865865865865865, -1.5765765765765765, -1.5665665665665665, -1.5565565565565564, -1.5465465465465464, -1.5365365365365364, -1.5265265265265264, -1.5165165165165164, -1.5065065065065064, -1.4964964964964964, -1.4864864864864864, -1.4764764764764764, -1.4664664664664664, -1.4564564564564564, -1.4464464464464464, -1.4364364364364364, -1.4264264264264264, -1.4164164164164164, -1.4064064064064064, -1.3963963963963963, -1.3863863863863863, -1.3763763763763763, -1.3663663663663663, -1.3563563563563563, -1.3463463463463463, -1.3363363363363363, -1.3263263263263263, -1.3163163163163163, -1.3063063063063063, -1.2962962962962963, -1.2862862862862863, -1.2762762762762763, -1.2662662662662663, -1.2562562562562563, -1.2462462462462462, -1.2362362362362362, -1.2262262262262262, -1.2162162162162162, -1.2062062062062062, -1.1961961961961962, -1.1861861861861862, -1.1761761761761762, -1.1661661661661662, -1.1561561561561562, -1.1461461461461462, -1.1361361361361362, -1.1261261261261262, -1.1161161161161162, -1.1061061061061062, -1.0960960960960962, -1.0860860860860861, -1.0760760760760761, -1.0660660660660661, -1.0560560560560561, -1.0460460460460461, -1.0360360360360361, -1.026026026026026, -1.016016016016016, -1.006006006006006, -0.9959959959959956, -0.9859859859859856, -0.9759759759759756, -0.9659659659659656, -0.9559559559559556, -0.9459459459459456, -0.9359359359359356, -0.9259259259259256, -0.9159159159159156, -0.9059059059059056, -0.8958958958958956, -0.8858858858858856, -0.8758758758758756, -0.8658658658658656, -0.8558558558558556, -0.8458458458458455, -0.8358358358358355, -0.8258258258258255, -0.8158158158158155, -0.8058058058058055, -0.7957957957957955, -0.7857857857857855, -0.7757757757757755, -0.7657657657657655, -0.7557557557557555, -0.7457457457457455, -0.7357357357357355, -0.7257257257257255, -0.7157157157157155, -0.7057057057057055, -0.6956956956956954, -0.6856856856856854, -0.6756756756756754, -0.6656656656656654, -0.6556556556556554, -0.6456456456456454, -0.6356356356356354, -0.6256256256256254, -0.6156156156156154, -0.6056056056056054, -0.5955955955955954, -0.5855855855855854, -0.5755755755755754, -0.5655655655655654, -0.5555555555555554, -0.5455455455455454, -0.5355355355355353, -0.5255255255255253, -0.5155155155155153, -0.5055055055055053, -0.4954954954954953, -0.4854854854854853, -0.4754754754754753, -0.4654654654654653, -0.4554554554554553, -0.4454454454454453, -0.4354354354354353, -0.4254254254254253, -0.41541541541541527, -0.40540540540540526, -0.39539539539539525, -0.38538538538538525, -0.37537537537537524, -0.36536536536536524, -0.35535535535535523, -0.3453453453453452, -0.3353353353353352, -0.3253253253253252, -0.3153153153153152, -0.3053053053053052, -0.2952952952952952, -0.2852852852852852, -0.2752752752752752, -0.26526526526526517, -0.25525525525525516, -0.24524524524524516, -0.23523523523523515, -0.22522522522522515, -0.21521521521521514, -0.20520520520520513, -0.19519519519519513, -0.18518518518518512, -0.1751751751751751, -0.1651651651651651, -0.1551551551551551, -0.1451451451451451, -0.1351351351351351, -0.12512512512512508, -0.11511511511511507, -0.10510510510510507, -0.09509509509509506, -0.08508508508508505, -0.07507507507507505, -0.06506506506506504, -0.055055055055055035, -0.04504504504504503, -0.03503503503503502, -0.025025025025025016, -0.01501501501501501, -0.005005005005005003, 0.005005005005005003, 0.01501501501501501, 0.025025025025025016, 0.03503503503503502, 0.04504504504504503, 0.055055055055055035, 0.06506506506506504, 0.07507507507507505, 0.08508508508508505, 0.09509509509509506, 0.10510510510510507, 0.11511511511511507, 0.12512512512512508, 0.1351351351351351, 0.1451451451451451, 0.1551551551551551, 0.1651651651651651, 0.1751751751751751, 0.18518518518518512, 0.19519519519519513, 0.20520520520520513, 0.21521521521521514, 0.22522522522522515, 0.23523523523523515, 0.24524524524524516, 0.25525525525525516, 0.26526526526526517, 0.2752752752752752, 0.2852852852852852, 0.2952952952952952, 0.3053053053053052, 0.3153153153153152, 0.3253253253253252, 0.3353353353353352, 0.3453453453453452, 0.35535535535535523, 0.36536536536536524, 0.37537537537537524, 0.38538538538538525, 0.39539539539539525, 0.40540540540540526, 0.41541541541541527, 0.4254254254254253, 0.4354354354354353, 0.4454454454454453, 0.4554554554554553, 0.4654654654654653, 0.4754754754754753, 0.4854854854854853, 0.4954954954954953, 0.5055055055055053, 0.5155155155155153, 0.5255255255255253, 0.5355355355355353, 0.5455455455455454, 0.5555555555555554, 0.5655655655655654, 0.5755755755755754, 0.5855855855855854, 0.5955955955955954, 0.6056056056056054, 0.6156156156156154, 0.6256256256256254, 0.6356356356356354, 0.6456456456456454, 0.6556556556556554, 0.6656656656656654, 0.6756756756756754, 0.6856856856856854, 0.6956956956956954, 0.7057057057057055, 0.7157157157157155, 0.7257257257257255, 0.7357357357357355, 0.7457457457457455, 0.7557557557557555, 0.7657657657657655, 0.7757757757757755, 0.7857857857857855, 0.7957957957957955, 0.8058058058058055, 0.8158158158158155, 0.8258258258258255, 0.8358358358358355, 0.8458458458458455, 0.8558558558558556, 0.8658658658658656, 0.8758758758758756, 0.8858858858858856, 0.8958958958958956, 0.9059059059059056, 0.9159159159159156, 0.9259259259259256, 0.9359359359359356, 0.9459459459459456, 0.9559559559559556, 0.9659659659659656, 0.9759759759759756, 0.9859859859859856, 0.9959959959959956, 1.0060060060060056, 1.0160160160160157, 1.0260260260260257, 1.0360360360360357, 1.0460460460460457, 1.0560560560560557, 1.0660660660660657, 1.0760760760760757, 1.0860860860860857, 1.0960960960960957, 1.1061061061061057, 1.1161161161161157, 1.1261261261261257, 1.1361361361361357, 1.1461461461461457, 1.1561561561561557, 1.1661661661661658, 1.1761761761761758, 1.1861861861861858, 1.1961961961961958, 1.2062062062062058, 1.2162162162162158, 1.2262262262262258, 1.2362362362362358, 1.2462462462462458, 1.2562562562562558, 1.2662662662662658, 1.2762762762762758, 1.2862862862862858, 1.2962962962962958, 1.3063063063063058, 1.3163163163163158, 1.3263263263263259, 1.3363363363363359, 1.3463463463463459, 1.3563563563563559, 1.3663663663663659, 1.3763763763763759, 1.386386386386386, 1.396396396396396, 1.406406406406406, 1.4164164164164168, 1.4264264264264268, 1.4364364364364368, 1.4464464464464468, 1.4564564564564568, 1.4664664664664668, 1.4764764764764768, 1.4864864864864868, 1.4964964964964969, 1.5065065065065069, 1.5165165165165169, 1.5265265265265269, 1.5365365365365369, 1.5465465465465469, 1.556556556556557, 1.566566566566567, 1.576576576576577, 1.586586586586587, 1.596596596596597, 1.606606606606607, 1.616616616616617, 1.626626626626627, 1.636636636636637, 1.646646646646647, 1.656656656656657, 1.666666666666667, 1.676676676676677, 1.686686686686687, 1.696696696696697, 1.706706706706707, 1.716716716716717, 1.726726726726727, 1.736736736736737, 1.746746746746747, 1.756756756756757, 1.766766766766767, 1.776776776776777, 1.786786786786787, 1.796796796796797, 1.806806806806807, 1.816816816816817, 1.826826826826827, 1.836836836836837, 1.846846846846847, 1.856856856856857, 1.866866866866867, 1.876876876876877, 1.886886886886887, 1.8968968968968971, 1.9069069069069071, 1.9169169169169171, 1.9269269269269271, 1.9369369369369371, 1.9469469469469471, 1.9569569569569571, 1.9669669669669672, 1.9769769769769772, 1.9869869869869872, 1.9969969969969972, 2.007007007007007, 2.017017017017017, 2.027027027027027, 2.037037037037037, 2.047047047047047, 2.057057057057057, 2.067067067067067, 2.0770770770770772, 2.0870870870870872, 2.0970970970970972, 2.1071071071071072, 2.1171171171171173, 2.1271271271271273, 2.1371371371371373, 2.1471471471471473, 2.1571571571571573, 2.1671671671671673, 2.1771771771771773, 2.1871871871871873, 2.1971971971971973, 2.2072072072072073, 2.2172172172172173, 2.2272272272272273, 2.2372372372372373, 2.2472472472472473, 2.2572572572572573, 2.2672672672672673, 2.2772772772772774, 2.2872872872872874, 2.2972972972972974, 2.3073073073073074, 2.3173173173173174, 2.3273273273273274, 2.3373373373373374, 2.3473473473473474, 2.3573573573573574, 2.3673673673673674, 2.3773773773773774, 2.3873873873873874, 2.3973973973973974, 2.4074074074074074, 2.4174174174174174, 2.4274274274274275, 2.4374374374374375, 2.4474474474474475, 2.4574574574574575, 2.4674674674674675, 2.4774774774774775, 2.4874874874874875, 2.4974974974974975, 2.5075075075075075, 2.5175175175175175, 2.5275275275275275, 2.5375375375375375, 2.5475475475475475, 2.5575575575575575, 2.5675675675675675, 2.5775775775775776, 2.5875875875875876, 2.5975975975975976, 2.6076076076076076, 2.6176176176176176, 2.6276276276276276, 2.6376376376376376, 2.6476476476476476, 2.6576576576576576, 2.6676676676676676, 2.6776776776776776, 2.6876876876876876, 2.6976976976976976, 2.7077077077077076, 2.7177177177177176, 2.7277277277277276, 2.7377377377377377, 2.7477477477477477, 2.7577577577577577, 2.7677677677677677, 2.7777777777777777, 2.7877877877877877, 2.7977977977977977, 2.8078078078078077, 2.8178178178178177, 2.8278278278278277, 2.8378378378378377, 2.8478478478478477, 2.8578578578578577, 2.8678678678678677, 2.8778778778778777, 2.8878878878878878, 2.8978978978978978, 2.9079079079079078, 2.9179179179179178, 2.9279279279279278, 2.937937937937938, 2.947947947947948, 2.957957957957958, 2.967967967967968, 2.977977977977978, 2.987987987987988, 2.997997997997998, 3.0080080080080087, 3.0180180180180187, 3.0280280280280287, 3.0380380380380387, 3.0480480480480487, 3.0580580580580587, 3.0680680680680688, 3.0780780780780788, 3.0880880880880888, 3.0980980980980988, 3.108108108108109, 3.118118118118119, 3.128128128128129, 3.138138138138139, 3.148148148148149, 3.158158158158159, 3.168168168168169, 3.178178178178179, 3.188188188188189, 3.198198198198199, 3.208208208208209, 3.218218218218219, 3.228228228228229, 3.238238238238239, 3.248248248248249, 3.258258258258259, 3.268268268268269, 3.278278278278279, 3.288288288288289, 3.298298298298299, 3.308308308308309, 3.318318318318319, 3.328328328328329, 3.338338338338339, 3.348348348348349, 3.358358358358359, 3.368368368368369, 3.378378378378379, 3.388388388388389, 3.398398398398399, 3.408408408408409, 3.418418418418419, 3.428428428428429, 3.438438438438439, 3.448448448448449, 3.458458458458459, 3.468468468468469, 3.478478478478479, 3.488488488488489, 3.498498498498499, 3.508508508508509, 3.518518518518519, 3.528528528528529, 3.538538538538539, 3.548548548548549, 3.558558558558559, 3.568568568568569, 3.578578578578579, 3.588588588588589, 3.598598598598599, 3.608608608608609, 3.618618618618619, 3.628628628628629, 3.638638638638639, 3.648648648648649, 3.658658658658659, 3.668668668668669, 3.678678678678679, 3.688688688688689, 3.698698698698699, 3.708708708708709, 3.718718718718719, 3.728728728728729, 3.738738738738739, 3.748748748748749, 3.758758758758759, 3.768768768768769, 3.778778778778779, 3.788788788788789, 3.7987987987987992, 3.8088088088088092, 3.8188188188188192, 3.8288288288288292, 3.8388388388388393, 3.8488488488488493, 3.8588588588588593, 3.8688688688688693, 3.8788788788788793, 3.8888888888888893, 3.8988988988988993, 3.9089089089089093, 3.9189189189189193, 3.9289289289289293, 3.9389389389389393, 3.9489489489489493, 3.9589589589589593, 3.9689689689689693, 3.9789789789789793, 3.9889889889889893, 3.9989989989989994, 4.009009009009009, 4.019019019019019, 4.029029029029029, 4.039039039039039, 4.049049049049049, 4.059059059059059, 4.069069069069069, 4.079079079079079, 4.089089089089089, 4.099099099099099, 4.109109109109109, 4.119119119119119, 4.129129129129129, 4.1391391391391394, 4.1491491491491495, 4.1591591591591595, 4.1691691691691695, 4.1791791791791795, 4.1891891891891895, 4.1991991991991995, 4.2092092092092095, 4.2192192192192195, 4.2292292292292295, 4.2392392392392395, 4.2492492492492495, 4.2592592592592595, 4.2692692692692695, 4.2792792792792795, 4.2892892892892895, 4.2992992992992995, 4.3093093093093096, 4.31931931931932, 4.32932932932933, 4.33933933933934, 4.34934934934935, 4.35935935935936, 4.36936936936937, 4.37937937937938, 4.38938938938939, 4.3993993993994, 4.40940940940941, 4.41941941941942, 4.42942942942943, 4.43943943943944, 4.44944944944945, 4.45945945945946, 4.46946946946947, 4.47947947947948, 4.48948948948949, 4.4994994994995, 4.50950950950951, 4.51951951951952, 4.52952952952953, 4.53953953953954, 4.54954954954955, 4.55955955955956, 4.56956956956957, 4.57957957957958, 4.58958958958959, 4.5995995995996, 4.60960960960961, 4.61961961961962, 4.62962962962963, 4.63963963963964, 4.64964964964965, 4.65965965965966, 4.66966966966967, 4.67967967967968, 4.68968968968969, 4.6996996996997, 4.70970970970971, 4.71971971971972, 4.72972972972973, 4.73973973973974, 4.74974974974975, 4.75975975975976, 4.76976976976977, 4.77977977977978, 4.78978978978979, 4.7997997997998, 4.80980980980981, 4.81981981981982, 4.82982982982983, 4.83983983983984, 4.84984984984985, 4.85985985985986, 4.86986986986987, 4.87987987987988, 4.88988988988989, 4.8998998998999, 4.90990990990991, 4.91991991991992, 4.92992992992993, 4.93993993993994, 4.94994994994995, 4.95995995995996, 4.96996996996997, 4.97997997997998, 4.98998998998999, 5.0], \"xaxis\": \"x\", \"y\": [1.4867195147342979e-06, 1.5629451759545646e-06, 1.6429143776209077e-06, 1.726802225602747e-06, 1.8147915680031394e-06, 1.9070733153312075e-06, 2.0038467728640893e-06, 2.1053199856146367e-06, 2.211710096333239e-06, 2.3232437169845257e-06, 2.440157314152359e-06, 2.5626976088394264e-06, 2.691121991140962e-06, 2.825698950285607e-06, 2.9667085205500707e-06, 3.1144427435683705e-06, 3.269206147570631e-06, 3.4313162441010406e-06, 3.6011040427793162e-06, 3.778914584685238e-06, 3.9651074949611e-06, 4.160057555242689e-06, 4.3641552965451725e-06, 4.577807613246672e-06, 4.801438398828609e-06, 5.0354892040487905e-06, 5.280419918240034e-06, 5.536709474444599e-06, 5.804856579112089e-06, 6.085380467106363e-06, 6.378821682784907e-06, 6.685742887932589e-06, 7.006729697350161e-06, 7.342391542916562e-06, 7.693362566963276e-06, 8.060302545818064e-06, 8.44389784439499e-06, 8.844862402727114e-06, 9.263938755358373e-06, 9.701899084530991e-06, 1.0159546308125239e-05, 1.0637715203328493e-05, 1.113727356703151e-05, 1.1659123413970254e-05, 1.2204202213652822e-05, 1.2773484167131629e-05, 1.3367981524702597e-05, 1.398874594563419e-05, 1.4636869901050072e-05, 1.5313488121111463e-05, 1.6019779087665834e-05, 1.6756966573550372e-05, 1.752632122976078e-05, 1.832916222171639e-05, 1.9166858915875072e-05, 2.0040832617972474e-05, 2.095255836418134e-05, 2.1903566766508593e-05, 2.289544591376843e-05, 2.3929843329491493e-05, 2.5008467988150235e-05, 2.6133092391102312e-05, 2.7305554703673704e-05, 2.8527760954824143e-05, 2.9801687300856742e-05, 3.1129382354654245e-05, 3.2512969581943714e-05, 3.3954649766109245e-05, 3.5456703543093535e-05, 3.7021494007944656e-05, 3.8651469394583444e-05, 4.034916583038524e-05, 4.2117210167183925e-05, 4.395832289032471e-05, 4.587532110740675e-05, 4.787112161837096e-05, 4.99487440686039e-05, 5.2111314186740755e-05, 5.43620671088645e-05, 5.6704350790808075e-05, 5.9141629510279606e-05, 6.167748746053908e-05, 6.4315632437365e-05, 6.705989962105581e-05, 6.99142554552202e-05, 7.288280162411435e-05, 7.596977913028805e-05, 7.917957247430858e-05, 8.251671393832852e-05, 8.598588797526645e-05, 8.959193570537117e-05, 9.333985952193218e-05, 9.723482780790063e-05, 0.00010128217976517728, 0.00010548743035831564, 0.00010985627537438261, 0.00011439459660070622, 0.00011910846712222867, 0.00012400415674016654, 0.00012908813751366692, 0.00013436708942612824, 0.00013984790617782924, 0.0001455377011065006, 0.00015144381323742916, 0.00015757381346467414, 0.00016393551086493665, 0.00017053695914559365, 0.00017738646322837252, 0.00018449258597010444, 0.00019186415502195722, 0.00019951026982850125, 0.0002074403087679207, 0.0002156639364346313, 0.00022419111106551526, 0.0002330320921109275, 0.00024219744795157455, 0.00025169806376230003, 0.00026154514952375245, 0.00027175024818284024, 0.0002823252439628067, 0.00029328237082369214, 0.0003046342210738576, 0.00031639375413317745, 0.00032857430544841714, 0.0003411895955612209, 0.00035425373932904656, 0.000367781255299286, 0.0003817870752367106, 0.00039628655380427423, 0.0004112954783971994, 0.0004268300791301641, 0.00044290703897728015, 0.00045954350406444603, 0.00047675709411351973, 0.0004945659130376398, 0.0005129885596868777, 0.0005320441387432778, 0.0005517522717641892, 0.0005721331083726575, 0.0005932073375934786, 0.0006149961993333824, 0.0006375214960036303, 0.0006608056042831642, 0.0006848714870202665, 0.0007097427052705217, 0.0007354434304686872, 0.0007619984567318983, 0.0007894332132914555, 0.0008177737770502323, 0.0008470468852625594, 0.000877279948333244, 0.0009085010627321479, 0.0009407390240205852, 0.0009740233399855442, 0.0010083842438775403, 0.0010438527077476732, 0.0010804604558792596, 0.0011182399783091301, 0.0011572245444335034, 0.0011974482166930646, 0.0012389458643316516, 0.001281753177222709, 0.0013259066797573897, 0.0013714437447879778, 0.0014184026076199921, 0.0014668223800460996, 0.0015167430644147, 0.0015682055677257716, 0.0016212517157462637, 0.0016759242671371118, 0.0017322669275836072, 0.0017903243639206, 0.0018501422182437392, 0.0019117671219976511, 0.001975246710031653, 0.0020406296346133796, 0.0021079655793902865, 0.002177305273288828, 0.002248700504340727, 0.0023222041334254808, 0.0023978701079179635, 0.002475753475229671, 0.00255591039623185, 0.0026383981585484757, 0.002723275189706741, 0.002810601070132361, 0.002900436545976823, 0.002992843541763282, 0.0030878851728375787, 0.003185625757610571, 0.003286130829577616, 0.003389467149100827, 0.0034957027149393576, 0.00360490677551278, 0.003717149839882224, 0.0038325036884337875, 0.003951041383248351, 0.004072837278141724, 0.004197967028358754, 0.0043265075999048015, 0.0044585372784976774, 0.004594135678122931, 0.004733383749175122, 0.004876363786167496, 0.005023159434992195, 0.005173855699712969, 0.005328538948872136, 0.0054872969212932925, 0.005650218731361137, 0.005817394873759522, 0.005988917227648743, 0.0061648790602628085, 0.0063453750299074215, 0.0065305011883390685, 0.006720354982505699, 0.0069150352556291384, 0.007114642247609438, 0.007319277594731159, 0.0075290443286516184, 0.007744046874650881, 0.007964391049123446, 0.008190184056291318, 0.008421534484118354, 0.008658552299405506, 0.008901348842046868, 0.00915003681842624, 0.009404730293934078, 0.0096655446845847, 0.00993259674771377, 0.010206004571736068, 0.010485887564943792, 0.010772366443325673, 0.01106556321738733, 0.011365601177953662, 0.0116726048809339, 0.01198670013103057, 0.012308013964373518, 0.012636674630060626, 0.012972811570587004, 0.01331655540114479, 0.013668037887776041, 0.014027391924361457, 0.014394751508428205, 0.014770251715760263, 0.015154028673795415, 0.01554621953379326, 0.01594696244175904, 0.016356396508108887, 0.01677466177606209, 0.01720189918874712, 0.017638250555008176, 0.018083858513899972, 0.018538866497858925, 0.019003418694539607, 0.01947766000730597, 0.0199617360143675, 0.02045579292655133, 0.02095997754370181, 0.021474437209700162, 0.021999319766097206, 0.022534773504353393, 0.023080947116680968, 0.023637989645483852, 0.024206050431392147, 0.024785279059888653, 0.0253758253065258, 0.025977839080732753, 0.02659147036821275, 0.0272168691719325, 0.027854185451705826, 0.028503569062375243, 0.029165169690596154, 0.02983913679022924, 0.030525619516347916, 0.031224766657869024, 0.03193672656881556, 0.0326616470982222, 0.033399675518694695, 0.03415095845363627, 0.03491564180315482, 0.03569387066866606, 0.03648578927620941, 0.037291540898494055, 0.038111267775694575, 0.03894511103501628, 0.03979321060905222, 0.04065570515295472, 0.04153273196044583, 0.04242442687869271, 0.043330924222074796, 0.04425235668487123, 0.04518885525289872, 0.04614054911413078, 0.04710756556833103, 0.04809002993573484, 0.049088065464814395, 0.05010179323916421, 0.05113133208354541, 0.052176798469127934, 0.05323830641797227, 0.05431596740679254, 0.05540989027004515, 0.056520181102387664, 0.057646943160554784, 0.05879027676469915, 0.0599502791992459, 0.06112704461331196, 0.06232066392074136, 0.06353122469981017, 0.06475881109265505, 0.0660035037044813, 0.06726537950260728, 0.0685445117154032, 0.06984096973118366, 0.07115481899711447, 0.07248612091819526, 0.07383493275638064, 0.07520130752990378, 0.07658529391286721, 0.07798693613516686, 0.07940627388281588, 0.08084334219873679, 0.08229817138408954, 0.08377078690020653, 0.0852612092712038, 0.08676945398734028, 0.08829553140919703, 0.08983944667274893, 0.09140119959540251, 0.09298078458307366, 0.0945781905383797, 0.09619340077002113, 0.09782639290342825, 0.09947713879274872, 0.10114560443425236, 0.10283174988122963, 0.1045355291604605, 0.10625689019033108, 0.10799577470067444, 0.10975211815441364, 0.1115258496710833, 0.1133168919523072, 0.11512516120930899, 0.1169505670925326, 0.11879301262344882, 0.1206523941286244, 0.12252860117612956, 0.12442151651435886, 0.126331016013341, 0.128256968608611, 0.13019923624771876, 0.1321576738394471, 0.13413212920581072, 0.1361224430369078, 0.13812844884869413, 0.14014997294374953, 0.1421868343751037, 0.14423884491318997, 0.14630580901599116, 0.14838752380244327, 0.15048377902915933, 0.1525943570705355, 0.1547190329022995, 0.15685757408855958, 0.1590097407724118, 0.1611752856701599, 0.16335395406920178, 0.16554548382963402, 0.16774960538962413, 0.16996604177459823, 0.17219450861028948, 0.1744347141396912, 0.17668635924395598, 0.17894913746727942, 0.1812227350458057, 0.18350683094058926, 0.18580109687464483, 0.1881051973741146, 0.19041878981358074, 0.19274152446554615, 0.1950730445541071, 0.19741298631283447, 0.19976097904688248, 0.2021166451993364, 0.20447960042181124, 0.20684945364930843, 0.20922580717933642, 0.2116082567552962, 0.2139963916541312, 0.21638979477823775, 0.2187880427516289, 0.22119070602034088, 0.22359734895707042, 0.22600752997002474, 0.228420801615966, 0.23083671071742728, 0.23325479848407354, 0.23567460063817933, 0.23809564754419044, 0.24051746434233434, 0.2429395710862403, 0.24536148288452692, 0.24778271004631364, 0.25020275823060517, 0.25262112859949937, 0.25503731797516277, 0.2574508190005157, 0.25986112030356634, 0.2622677066653288, 0.264670059191258, 0.2670676554861305, 0.2694599698322982, 0.2718464733712372, 0.27422663428831273, 0.2765999180006773, 0.27896578734821625, 0.28132370278745195, 0.2836731225883156, 0.28601350303369194, 0.2883442986216399, 0.2906649622701903, 0.2929749455246162, 0.29527369876707404, 0.2975606714285047, 0.29983531220268705, 0.30209706926233104, 0.304345390477095, 0.3065797236334111, 0.3087995166559998, 0.31100421783095195, 0.3131932760302554, 0.3153661409376423, 0.31752226327562794, 0.31966109503361495, 0.3217820896969312, 0.32388470247667, 0.32596839054019994, 0.32803261324220845, 0.33007683235614477, 0.33210051230592436, 0.33410312039775664, 0.33608412705195784, 0.33804300603460824, 0.3399792346889136, 0.34189229416612926, 0.34378166965590573, 0.34564685061591277, 0.34748733100060025, 0.3493026094889525, 0.35109218971109374, 0.352855580473602, 0.35459229598338865, 0.35630185607000125, 0.3579837864062085, 0.3596376187267251, 0.36126289104493575, 0.3628591478674795, 0.3644259404065533, 0.3659628267897982, 0.3674693722676304, 0.3689451494178811, 0.3703897383476108, 0.3718027268919647, 0.3731837108099374, 0.37453229397691773, 0.3758480885738838, 0.37713071527312375, 0.37837980342035654, 0.3795949912131308, 0.38077592587538184, 0.38192226382802885, 0.3830336708554967, 0.3841098222680496, 0.38515040305982606, 0.3861551080624679, 0.3871236420942381, 0.38805572010452566, 0.3889510673136381, 0.3898094193477865, 0.39063052236916934, 0.3914141332010658, 0.39216001944785267, 0.39286795960986176, 0.3935377431929976, 0.3941691708130405, 0.39476205429456246, 0.39531621676438644, 0.39583149273952484, 0.39630772820953614, 0.3967447807132408, 0.3971425194097454, 0.3975008251437226, 0.3978195905049041, 0.39809871988174317, 0.39833812950920905, 0.39853774751068194, 0.3986975139339164, 0.3988173807810503, 0.3988973120326366, 0.3989372836656826, 0.3989372836656826, 0.3988973120326366, 0.3988173807810503, 0.3986975139339164, 0.39853774751068194, 0.39833812950920905, 0.39809871988174317, 0.3978195905049041, 0.3975008251437226, 0.3971425194097454, 0.3967447807132408, 0.39630772820953614, 0.39583149273952484, 0.39531621676438644, 0.39476205429456246, 0.3941691708130405, 0.3935377431929976, 0.39286795960986176, 0.39216001944785267, 0.3914141332010658, 0.39063052236916934, 0.3898094193477865, 0.3889510673136381, 0.38805572010452566, 0.3871236420942381, 0.3861551080624679, 0.38515040305982606, 0.3841098222680496, 0.3830336708554967, 0.38192226382802885, 0.38077592587538184, 0.3795949912131308, 0.37837980342035654, 0.37713071527312375, 0.3758480885738838, 0.37453229397691773, 0.3731837108099374, 0.3718027268919647, 0.3703897383476108, 0.3689451494178811, 0.3674693722676304, 0.3659628267897982, 0.3644259404065533, 0.3628591478674795, 0.36126289104493575, 0.3596376187267251, 0.3579837864062085, 0.35630185607000125, 0.35459229598338865, 0.352855580473602, 0.35109218971109374, 0.3493026094889525, 0.34748733100060025, 0.34564685061591277, 0.34378166965590573, 0.34189229416612926, 0.3399792346889136, 0.33804300603460824, 0.33608412705195784, 0.33410312039775664, 0.33210051230592436, 0.33007683235614477, 0.32803261324220845, 0.32596839054019994, 0.32388470247667, 0.3217820896969312, 0.31966109503361495, 0.31752226327562794, 0.3153661409376423, 0.3131932760302554, 0.31100421783095195, 0.3087995166559998, 0.3065797236334111, 0.304345390477095, 0.30209706926233104, 0.29983531220268705, 0.2975606714285047, 0.29527369876707404, 0.2929749455246162, 0.2906649622701903, 0.2883442986216399, 0.28601350303369194, 0.2836731225883156, 0.28132370278745195, 0.27896578734821625, 0.2765999180006773, 0.27422663428831273, 0.2718464733712372, 0.2694599698322982, 0.2670676554861305, 0.264670059191258, 0.2622677066653288, 0.25986112030356634, 0.2574508190005157, 0.25503731797516277, 0.25262112859949937, 0.25020275823060517, 0.24778271004631364, 0.24536148288452692, 0.2429395710862403, 0.24051746434233448, 0.23809564754419058, 0.2356746006381794, 0.23325479848407366, 0.23083671071742742, 0.2284208016159661, 0.22600752997002482, 0.2235973489570705, 0.22119070602034097, 0.21878804275162897, 0.2163897947782379, 0.21399639165413128, 0.21160825675529632, 0.20922580717933653, 0.2068494536493085, 0.20447960042181132, 0.20211664519933653, 0.19976097904688261, 0.19741298631283458, 0.1950730445541072, 0.19274152446554627, 0.19041878981358082, 0.1881051973741147, 0.18580109687464494, 0.18350683094058937, 0.18122273504580577, 0.17894913746727953, 0.1766863592439561, 0.17443471413969128, 0.17219450861028957, 0.16996604177459834, 0.16774960538962422, 0.1655454838296341, 0.16335395406920186, 0.16117528567015998, 0.1590097407724119, 0.15685757408855966, 0.15471903290229957, 0.1525943570705356, 0.1504837790291594, 0.14838752380244338, 0.14630580901599105, 0.14423884491318986, 0.1421868343751036, 0.14014997294374945, 0.13812844884869405, 0.1361224430369077, 0.13413212920581064, 0.13215767383944702, 0.13019923624771867, 0.12825696860861088, 0.12633101601334093, 0.12442151651435879, 0.12252860117612945, 0.12065239412862433, 0.11879301262344874, 0.11695056709253251, 0.11512516120930891, 0.11331689195230711, 0.11152584967108323, 0.10975211815441357, 0.10799577470067437, 0.10625689019033098, 0.10453552916046042, 0.10283174988122956, 0.10114560443425229, 0.09947713879274865, 0.09782639290342818, 0.09619340077002107, 0.09457819053837964, 0.09298078458307359, 0.09140119959540245, 0.08983944667274886, 0.08829553140919696, 0.08676945398734023, 0.08526120927120373, 0.08377078690020646, 0.08229817138408949, 0.08084334219873675, 0.07940627388281588, 0.07798693613516686, 0.07658529391286721, 0.07520130752990378, 0.07383493275638064, 0.07248612091819526, 0.07115481899711447, 0.06984096973118366, 0.0685445117154032, 0.06726537950260728, 0.0660035037044813, 0.06475881109265505, 0.06353122469981017, 0.06232066392074136, 0.06112704461331196, 0.0599502791992459, 0.05879027676469915, 0.057646943160554784, 0.056520181102387664, 0.05540989027004515, 0.05431596740679254, 0.05323830641797227, 0.052176798469127934, 0.05113133208354541, 0.05010179323916421, 0.049088065464814395, 0.04809002993573484, 0.04710756556833103, 0.04614054911413078, 0.04518885525289872, 0.04425235668487123, 0.043330924222074796, 0.04242442687869271, 0.04153273196044583, 0.04065570515295472, 0.03979321060905222, 0.03894511103501628, 0.038111267775694575, 0.037291540898494055, 0.03648578927620941, 0.03569387066866606, 0.03491564180315482, 0.03415095845363627, 0.033399675518694695, 0.0326616470982222, 0.03193672656881556, 0.031224766657869024, 0.030525619516347916, 0.02983913679022924, 0.029165169690596154, 0.028503569062375243, 0.027854185451705826, 0.0272168691719325, 0.02659147036821275, 0.025977839080732753, 0.0253758253065258, 0.024785279059888653, 0.024206050431392147, 0.023637989645483852, 0.023080947116680968, 0.022534773504353393, 0.021999319766097206, 0.021474437209700162, 0.02095997754370181, 0.02045579292655133, 0.0199617360143675, 0.01947766000730597, 0.019003418694539607, 0.018538866497858925, 0.018083858513899972, 0.017638250555008176, 0.01720189918874712, 0.01677466177606209, 0.016356396508108887, 0.01594696244175904, 0.01554621953379326, 0.015154028673795415, 0.014770251715760263, 0.014394751508428205, 0.014027391924361457, 0.013668037887776041, 0.01331655540114479, 0.012972811570587004, 0.012636674630060626, 0.012308013964373518, 0.01198670013103057, 0.0116726048809339, 0.011365601177953662, 0.01106556321738733, 0.010772366443325673, 0.010485887564943792, 0.010206004571736068, 0.00993259674771377, 0.0096655446845847, 0.009404730293934078, 0.00915003681842624, 0.008901348842046868, 0.008658552299405506, 0.008421534484118354, 0.008190184056291318, 0.007964391049123446, 0.007744046874650881, 0.0075290443286516184, 0.007319277594731159, 0.007114642247609438, 0.0069150352556291384, 0.006720354982505699, 0.0065305011883390685, 0.0063453750299074215, 0.0061648790602628085, 0.005988917227648743, 0.005817394873759522, 0.005650218731361137, 0.0054872969212932925, 0.005328538948872136, 0.005173855699712969, 0.005023159434992195, 0.004876363786167496, 0.004733383749175122, 0.004594135678122931, 0.0044585372784976774, 0.00432650759990479, 0.004197967028358743, 0.004072837278141713, 0.003951041383248341, 0.003832503688433777, 0.0037171498398822144, 0.003604906775512767, 0.003495702714939348, 0.003389467149100818, 0.003286130829577608, 0.003185625757610563, 0.00308788517283757, 0.002992843541763274, 0.0029004365459768156, 0.0028106010701323537, 0.0027232751897067337, 0.0026383981585484688, 0.002555910396231841, 0.002475753475229664, 0.002397870107917957, 0.0023222041334254725, 0.002248700504340719, 0.002177305273288822, 0.002107965579390281, 0.0020406296346133744, 0.001975246710031648, 0.0019117671219976442, 0.0018501422182437342, 0.0017903243639205953, 0.0017322669275836014, 0.0016759242671371072, 0.0016212517157462576, 0.001568205567725766, 0.0015167430644146959, 0.0014668223800460944, 0.0014184026076199882, 0.001371443744787974, 0.0013259066797573849, 0.0012817531772227047, 0.0012389458643316494, 0.0011974482166930624, 0.0011572245444335014, 0.0011182399783091284, 0.0010804604558792585, 0.0010438527077476724, 0.0010083842438775384, 0.0009740233399855434, 0.0009407390240205837, 0.0009085010627321461, 0.0008772799483332424, 0.0008470468852625585, 0.0008177737770502308, 0.0007894332132914549, 0.0007619984567318977, 0.0007354434304686859, 0.0007097427052705204, 0.0006848714870202652, 0.000660805604283163, 0.0006375214960036292, 0.0006149961993333812, 0.0005932073375934776, 0.0005721331083726564, 0.0005517522717641884, 0.0005320441387432768, 0.0005129885596868767, 0.000494565913037639, 0.00047675709411351886, 0.00045954350406444516, 0.0004429070389772794, 0.0004268300791301634, 0.0004112954783971987, 0.0003962865538042735, 0.00038178707523670995, 0.00036778125529928537, 0.0003542537393290459, 0.00034118959556122023, 0.00032857430544841655, 0.0003163937541331769, 0.00030463422107385705, 0.00029328237082369165, 0.0002823252439628062, 0.00027175024818283975, 0.00026154514952375196, 0.0002516980637622996, 0.00024219744795157412, 0.0002330320921109271, 0.00022419111106551488, 0.00021566393643463093, 0.00020744030876792028, 0.00019951026982850093, 0.0001918641550219569, 0.00018449258597010427, 0.00017738646322837222, 0.00017053695914559335, 0.00016393551086493638, 0.00015757381346467387, 0.0001514438132374289, 0.00014553770110650033, 0.000139847906177829, 0.000134367089426128, 0.00012908813751366692, 0.00012400415674016654, 0.00011910846712222867, 0.00011439459660070622, 0.00010985627537438261, 0.00010548743035831564, 0.00010128217976517728, 9.723482780790063e-05, 9.333985952193218e-05, 8.959193570537117e-05, 8.598588797526645e-05, 8.251671393832852e-05, 7.917957247430858e-05, 7.596977913028805e-05, 7.288280162411435e-05, 6.99142554552202e-05, 6.705989962105581e-05, 6.4315632437365e-05, 6.167748746053908e-05, 5.9141629510279606e-05, 5.6704350790808075e-05, 5.43620671088645e-05, 5.2111314186740755e-05, 4.99487440686039e-05, 4.787112161837096e-05, 4.587532110740675e-05, 4.395832289032471e-05, 4.2117210167183925e-05, 4.034916583038524e-05, 3.8651469394583444e-05, 3.7021494007944656e-05, 3.5456703543093535e-05, 3.3954649766109245e-05, 3.2512969581943714e-05, 3.1129382354654245e-05, 2.9801687300856742e-05, 2.8527760954824143e-05, 2.7305554703673704e-05, 2.6133092391102312e-05, 2.5008467988150235e-05, 2.3929843329491493e-05, 2.289544591376843e-05, 2.1903566766508593e-05, 2.095255836418134e-05, 2.0040832617972474e-05, 1.9166858915875072e-05, 1.832916222171639e-05, 1.752632122976078e-05, 1.6756966573550372e-05, 1.6019779087665834e-05, 1.5313488121111463e-05, 1.4636869901050072e-05, 1.398874594563419e-05, 1.3367981524702597e-05, 1.2773484167131629e-05, 1.2204202213652822e-05, 1.1659123413970254e-05, 1.113727356703151e-05, 1.0637715203328493e-05, 1.0159546308125239e-05, 9.701899084530991e-06, 9.263938755358373e-06, 8.844862402727114e-06, 8.44389784439499e-06, 8.060302545818064e-06, 7.693362566963276e-06, 7.342391542916562e-06, 7.006729697350161e-06, 6.685742887932589e-06, 6.378821682784907e-06, 6.085380467106363e-06, 5.804856579112089e-06, 5.536709474444599e-06, 5.280419918240034e-06, 5.0354892040487905e-06, 4.801438398828609e-06, 4.577807613246672e-06, 4.3641552965451725e-06, 4.160057555242689e-06, 3.9651074949611e-06, 3.778914584685238e-06, 3.6011040427793162e-06, 3.4313162441010406e-06, 3.269206147570631e-06, 3.1144427435683705e-06, 2.9667085205500707e-06, 2.825698950285607e-06, 2.691121991140962e-06, 2.5626976088394264e-06, 2.440157314152359e-06, 2.3232437169845257e-06, 2.211710096333239e-06, 2.1053199856146367e-06, 2.0038467728640893e-06, 1.9070733153312075e-06, 1.8147915680031394e-06, 1.726802225602747e-06, 1.6429143776209077e-06, 1.5629451759545646e-06, 1.4867195147342979e-06], \"yaxis\": \"y\"}],\n",
       "                        {\"height\": 400, \"legend\": {\"tracegroupgap\": 0}, \"template\": {\"data\": {\"bar\": [{\"error_x\": {\"color\": \"#2a3f5f\"}, \"error_y\": {\"color\": \"#2a3f5f\"}, \"marker\": {\"line\": {\"color\": \"white\", \"width\": 0.5}}, \"type\": \"bar\"}], \"barpolar\": [{\"marker\": {\"line\": {\"color\": \"white\", \"width\": 0.5}}, \"type\": \"barpolar\"}], \"carpet\": [{\"aaxis\": {\"endlinecolor\": \"#2a3f5f\", \"gridcolor\": \"#C8D4E3\", \"linecolor\": \"#C8D4E3\", \"minorgridcolor\": \"#C8D4E3\", \"startlinecolor\": \"#2a3f5f\"}, \"baxis\": {\"endlinecolor\": \"#2a3f5f\", \"gridcolor\": \"#C8D4E3\", \"linecolor\": \"#C8D4E3\", \"minorgridcolor\": \"#C8D4E3\", \"startlinecolor\": \"#2a3f5f\"}, \"type\": \"carpet\"}], \"choropleth\": [{\"colorbar\": {\"outlinewidth\": 0, \"ticks\": \"\"}, \"type\": \"choropleth\"}], \"contour\": [{\"colorbar\": {\"outlinewidth\": 0, \"ticks\": \"\"}, \"colorscale\": [[0.0, \"#0d0887\"], [0.1111111111111111, \"#46039f\"], [0.2222222222222222, \"#7201a8\"], [0.3333333333333333, \"#9c179e\"], [0.4444444444444444, \"#bd3786\"], [0.5555555555555556, \"#d8576b\"], [0.6666666666666666, \"#ed7953\"], [0.7777777777777778, \"#fb9f3a\"], [0.8888888888888888, \"#fdca26\"], [1.0, \"#f0f921\"]], \"type\": \"contour\"}], \"contourcarpet\": [{\"colorbar\": {\"outlinewidth\": 0, \"ticks\": \"\"}, \"type\": \"contourcarpet\"}], \"heatmap\": [{\"colorbar\": {\"outlinewidth\": 0, \"ticks\": \"\"}, \"colorscale\": [[0.0, \"#0d0887\"], [0.1111111111111111, \"#46039f\"], [0.2222222222222222, \"#7201a8\"], [0.3333333333333333, \"#9c179e\"], [0.4444444444444444, \"#bd3786\"], [0.5555555555555556, \"#d8576b\"], [0.6666666666666666, \"#ed7953\"], [0.7777777777777778, \"#fb9f3a\"], [0.8888888888888888, \"#fdca26\"], [1.0, \"#f0f921\"]], \"type\": \"heatmap\"}], \"heatmapgl\": [{\"colorbar\": {\"outlinewidth\": 0, \"ticks\": \"\"}, \"colorscale\": [[0.0, \"#0d0887\"], [0.1111111111111111, \"#46039f\"], [0.2222222222222222, \"#7201a8\"], [0.3333333333333333, \"#9c179e\"], [0.4444444444444444, \"#bd3786\"], [0.5555555555555556, \"#d8576b\"], [0.6666666666666666, \"#ed7953\"], [0.7777777777777778, \"#fb9f3a\"], [0.8888888888888888, \"#fdca26\"], [1.0, \"#f0f921\"]], \"type\": \"heatmapgl\"}], \"histogram\": [{\"marker\": {\"colorbar\": {\"outlinewidth\": 0, \"ticks\": \"\"}}, \"type\": \"histogram\"}], \"histogram2d\": [{\"colorbar\": {\"outlinewidth\": 0, \"ticks\": \"\"}, \"colorscale\": [[0.0, \"#0d0887\"], [0.1111111111111111, \"#46039f\"], [0.2222222222222222, \"#7201a8\"], [0.3333333333333333, \"#9c179e\"], [0.4444444444444444, \"#bd3786\"], [0.5555555555555556, \"#d8576b\"], [0.6666666666666666, \"#ed7953\"], [0.7777777777777778, \"#fb9f3a\"], [0.8888888888888888, \"#fdca26\"], [1.0, \"#f0f921\"]], \"type\": \"histogram2d\"}], \"histogram2dcontour\": [{\"colorbar\": {\"outlinewidth\": 0, \"ticks\": \"\"}, \"colorscale\": [[0.0, \"#0d0887\"], [0.1111111111111111, \"#46039f\"], [0.2222222222222222, \"#7201a8\"], [0.3333333333333333, \"#9c179e\"], [0.4444444444444444, \"#bd3786\"], [0.5555555555555556, \"#d8576b\"], [0.6666666666666666, \"#ed7953\"], [0.7777777777777778, \"#fb9f3a\"], [0.8888888888888888, \"#fdca26\"], [1.0, \"#f0f921\"]], \"type\": \"histogram2dcontour\"}], \"mesh3d\": [{\"colorbar\": {\"outlinewidth\": 0, \"ticks\": \"\"}, \"type\": \"mesh3d\"}], \"parcoords\": [{\"line\": {\"colorbar\": {\"outlinewidth\": 0, \"ticks\": \"\"}}, \"type\": \"parcoords\"}], \"scatter\": [{\"marker\": {\"colorbar\": {\"outlinewidth\": 0, \"ticks\": \"\"}}, \"type\": \"scatter\"}], \"scatter3d\": [{\"line\": {\"colorbar\": {\"outlinewidth\": 0, \"ticks\": \"\"}}, \"marker\": {\"colorbar\": {\"outlinewidth\": 0, \"ticks\": \"\"}}, \"type\": \"scatter3d\"}], \"scattercarpet\": [{\"marker\": {\"colorbar\": {\"outlinewidth\": 0, \"ticks\": \"\"}}, \"type\": \"scattercarpet\"}], \"scattergeo\": [{\"marker\": {\"colorbar\": {\"outlinewidth\": 0, \"ticks\": \"\"}}, \"type\": \"scattergeo\"}], \"scattergl\": [{\"marker\": {\"colorbar\": {\"outlinewidth\": 0, \"ticks\": \"\"}}, \"type\": \"scattergl\"}], \"scattermapbox\": [{\"marker\": {\"colorbar\": {\"outlinewidth\": 0, \"ticks\": \"\"}}, \"type\": \"scattermapbox\"}], \"scatterpolar\": [{\"marker\": {\"colorbar\": {\"outlinewidth\": 0, \"ticks\": \"\"}}, \"type\": \"scatterpolar\"}], \"scatterpolargl\": [{\"marker\": {\"colorbar\": {\"outlinewidth\": 0, \"ticks\": \"\"}}, \"type\": \"scatterpolargl\"}], \"scatterternary\": [{\"marker\": {\"colorbar\": {\"outlinewidth\": 0, \"ticks\": \"\"}}, \"type\": \"scatterternary\"}], \"surface\": [{\"colorbar\": {\"outlinewidth\": 0, \"ticks\": \"\"}, \"colorscale\": [[0.0, \"#0d0887\"], [0.1111111111111111, \"#46039f\"], [0.2222222222222222, \"#7201a8\"], [0.3333333333333333, \"#9c179e\"], [0.4444444444444444, \"#bd3786\"], [0.5555555555555556, \"#d8576b\"], [0.6666666666666666, \"#ed7953\"], [0.7777777777777778, \"#fb9f3a\"], [0.8888888888888888, \"#fdca26\"], [1.0, \"#f0f921\"]], \"type\": \"surface\"}], \"table\": [{\"cells\": {\"fill\": {\"color\": \"#EBF0F8\"}, \"line\": {\"color\": \"white\"}}, \"header\": {\"fill\": {\"color\": \"#C8D4E3\"}, \"line\": {\"color\": \"white\"}}, \"type\": \"table\"}]}, \"layout\": {\"annotationdefaults\": {\"arrowcolor\": \"#2a3f5f\", \"arrowhead\": 0, \"arrowwidth\": 1}, \"colorscale\": {\"diverging\": [[0, \"#8e0152\"], [0.1, \"#c51b7d\"], [0.2, \"#de77ae\"], [0.3, \"#f1b6da\"], [0.4, \"#fde0ef\"], [0.5, \"#f7f7f7\"], [0.6, \"#e6f5d0\"], [0.7, \"#b8e186\"], [0.8, \"#7fbc41\"], [0.9, \"#4d9221\"], [1, \"#276419\"]], \"sequential\": [[0.0, \"#0d0887\"], [0.1111111111111111, \"#46039f\"], [0.2222222222222222, \"#7201a8\"], [0.3333333333333333, \"#9c179e\"], [0.4444444444444444, \"#bd3786\"], [0.5555555555555556, \"#d8576b\"], [0.6666666666666666, \"#ed7953\"], [0.7777777777777778, \"#fb9f3a\"], [0.8888888888888888, \"#fdca26\"], [1.0, \"#f0f921\"]], \"sequentialminus\": [[0.0, \"#0d0887\"], [0.1111111111111111, \"#46039f\"], [0.2222222222222222, \"#7201a8\"], [0.3333333333333333, \"#9c179e\"], [0.4444444444444444, \"#bd3786\"], [0.5555555555555556, \"#d8576b\"], [0.6666666666666666, \"#ed7953\"], [0.7777777777777778, \"#fb9f3a\"], [0.8888888888888888, \"#fdca26\"], [1.0, \"#f0f921\"]]}, \"colorway\": [\"#636efa\", \"#EF553B\", \"#00cc96\", \"#ab63fa\", \"#FFA15A\", \"#19d3f3\", \"#FF6692\", \"#B6E880\", \"#FF97FF\", \"#FECB52\"], \"font\": {\"color\": \"#2a3f5f\"}, \"geo\": {\"bgcolor\": \"white\", \"lakecolor\": \"white\", \"landcolor\": \"white\", \"showlakes\": true, \"showland\": true, \"subunitcolor\": \"#C8D4E3\"}, \"hoverlabel\": {\"align\": \"left\"}, \"hovermode\": \"closest\", \"mapbox\": {\"style\": \"light\"}, \"paper_bgcolor\": \"white\", \"plot_bgcolor\": \"white\", \"polar\": {\"angularaxis\": {\"gridcolor\": \"#EBF0F8\", \"linecolor\": \"#EBF0F8\", \"ticks\": \"\"}, \"bgcolor\": \"white\", \"radialaxis\": {\"gridcolor\": \"#EBF0F8\", \"linecolor\": \"#EBF0F8\", \"ticks\": \"\"}}, \"scene\": {\"xaxis\": {\"backgroundcolor\": \"white\", \"gridcolor\": \"#DFE8F3\", \"gridwidth\": 2, \"linecolor\": \"#EBF0F8\", \"showbackground\": true, \"ticks\": \"\", \"zerolinecolor\": \"#EBF0F8\"}, \"yaxis\": {\"backgroundcolor\": \"white\", \"gridcolor\": \"#DFE8F3\", \"gridwidth\": 2, \"linecolor\": \"#EBF0F8\", \"showbackground\": true, \"ticks\": \"\", \"zerolinecolor\": \"#EBF0F8\"}, \"zaxis\": {\"backgroundcolor\": \"white\", \"gridcolor\": \"#DFE8F3\", \"gridwidth\": 2, \"linecolor\": \"#EBF0F8\", \"showbackground\": true, \"ticks\": \"\", \"zerolinecolor\": \"#EBF0F8\"}}, \"shapedefaults\": {\"line\": {\"color\": \"#2a3f5f\"}}, \"ternary\": {\"aaxis\": {\"gridcolor\": \"#DFE8F3\", \"linecolor\": \"#A2B1C6\", \"ticks\": \"\"}, \"baxis\": {\"gridcolor\": \"#DFE8F3\", \"linecolor\": \"#A2B1C6\", \"ticks\": \"\"}, \"bgcolor\": \"white\", \"caxis\": {\"gridcolor\": \"#DFE8F3\", \"linecolor\": \"#A2B1C6\", \"ticks\": \"\"}}, \"title\": {\"x\": 0.05}, \"xaxis\": {\"automargin\": true, \"gridcolor\": \"#EBF0F8\", \"linecolor\": \"#EBF0F8\", \"ticks\": \"\", \"zerolinecolor\": \"#EBF0F8\", \"zerolinewidth\": 2}, \"yaxis\": {\"automargin\": true, \"gridcolor\": \"#EBF0F8\", \"linecolor\": \"#EBF0F8\", \"ticks\": \"\", \"zerolinecolor\": \"#EBF0F8\", \"zerolinewidth\": 2}}}, \"title\": {\"text\": \"Normal Distribution mu=0 and sigma=1\"}, \"width\": 600, \"xaxis\": {\"anchor\": \"y\", \"domain\": [0.0, 0.98], \"title\": {\"text\": \"x\"}}, \"yaxis\": {\"anchor\": \"x\", \"domain\": [0.0, 1.0], \"title\": {\"text\": \"y\"}}},\n",
       "                        {\"responsive\": true}\n",
       "                    ).then(function(){\n",
       "                            \n",
       "var gd = document.getElementById('f39e8c30-5cfb-4e2a-8da1-8b7749c6d564');\n",
       "var x = new MutationObserver(function (mutations, observer) {{\n",
       "        var display = window.getComputedStyle(gd).display;\n",
       "        if (!display || display === 'none') {{\n",
       "            console.log([gd, 'removed!']);\n",
       "            Plotly.purge(gd);\n",
       "            observer.disconnect();\n",
       "        }}\n",
       "}});\n",
       "\n",
       "// Listen for the removal of the full notebook cells\n",
       "var notebookContainer = gd.closest('#notebook-container');\n",
       "if (notebookContainer) {{\n",
       "    x.observe(notebookContainer, {childList: true});\n",
       "}}\n",
       "\n",
       "// Listen for the clearing of the current output cell\n",
       "var outputEl = gd.closest('.output');\n",
       "if (outputEl) {{\n",
       "    x.observe(outputEl, {childList: true});\n",
       "}}\n",
       "\n",
       "                        })\n",
       "                };\n",
       "                });\n",
       "            </script>\n",
       "        </div>"
      ]
     },
     "metadata": {},
     "output_type": "display_data"
    }
   ],
   "source": [
    "# Normal CDF or PMF\n",
    "x = np.linspace(-5, 5, 1000)\n",
    "plot_normal(x_range=x, cdf=False, mu=0, sigma=1)"
   ]
  },
  {
   "cell_type": "markdown",
   "metadata": {},
   "source": [
    "#### Normal Distribution Formulas and Z-scores\n",
    "- in the statistics section of the course, we will be using sampling, standard error and hypothesis testing to evaluate experiments.\n",
    "- A large part of this process is understanding how to \"standardize\" a normal distribution\n",
    "- we can take any normal distribution and standardize it to a standard normal distribution\n",
    "\n",
    "__Formula__\n",
    "\n",
    "$$f(x) = \\frac{1}{\\sqrt{2\\pi\\sigma^2}}e^{\\frac{-(x-\\mu)^2}{2\\sigma^2}}$$\n",
    "\n",
    "Where:\n",
    "\n",
    "$\\mu = mean$\n",
    "\n",
    "$\\sigma = standard deviation$\n",
    "\n",
    "$e = 2.71828$\n",
    "\n",
    "$\\pi = 3.14159$"
   ]
  },
  {
   "cell_type": "markdown",
   "metadata": {},
   "source": [
    "##### Z-Scores and Z-Table\n",
    "To gain insight about a specific value $x$ in other normal populations, we _standardize_ $x$ by calculating a z-score:\n",
    "\n",
    "$$Z = \\frac{x-\\mu}{\\sigma}$$\n",
    "\n",
    "We can then determine a x's percentile by looking at the z-table\n",
    "\n",
    "A Z-table of Standard Normal Probabilities maps a particular z-score to the area under a normal distribution curve o the left of the score.\n",
    "\n",
    "- Different tables serve different purposes\n",
    "\n",
    "__Excel__\n",
    "\n",
    "In Excel the following functions return z-scores and probabilities:"
   ]
  },
  {
   "cell_type": "code",
   "execution_count": 368,
   "metadata": {
    "code_folding": [
     0
    ]
   },
   "outputs": [
    {
     "data": {
      "text/html": [
       "<div>\n",
       "<style scoped>\n",
       "    .dataframe tbody tr th:only-of-type {\n",
       "        vertical-align: middle;\n",
       "    }\n",
       "\n",
       "    .dataframe tbody tr th {\n",
       "        vertical-align: top;\n",
       "    }\n",
       "\n",
       "    .dataframe thead th {\n",
       "        text-align: right;\n",
       "    }\n",
       "</style>\n",
       "<table border=\"1\" class=\"dataframe\">\n",
       "  <thead>\n",
       "    <tr style=\"text-align: right;\">\n",
       "      <th></th>\n",
       "      <th>Input</th>\n",
       "      <th>Input Value</th>\n",
       "      <th>Formula</th>\n",
       "      <th>Output</th>\n",
       "      <th>Output Value</th>\n",
       "    </tr>\n",
       "  </thead>\n",
       "  <tbody>\n",
       "    <tr>\n",
       "      <th>0</th>\n",
       "      <td>z</td>\n",
       "      <td>0.70</td>\n",
       "      <td>=NORMSDIST(B2)</td>\n",
       "      <td>p</td>\n",
       "      <td>0.758036</td>\n",
       "    </tr>\n",
       "    <tr>\n",
       "      <th>1</th>\n",
       "      <td>p</td>\n",
       "      <td>0.95</td>\n",
       "      <td>=NORMSINV(B3)</td>\n",
       "      <td>z</td>\n",
       "      <td>1.644854</td>\n",
       "    </tr>\n",
       "  </tbody>\n",
       "</table>\n",
       "</div>"
      ],
      "text/plain": [
       "  Input  Input Value         Formula Output  Output Value\n",
       "0     z         0.70  =NORMSDIST(B2)      p      0.758036\n",
       "1     p         0.95   =NORMSINV(B3)      z      1.644854"
      ]
     },
     "execution_count": 368,
     "metadata": {},
     "output_type": "execute_result"
    }
   ],
   "source": [
    "pd.DataFrame({'Input':['z', 'p'],\n",
    "              'Input Value':[0.70,0.95],\n",
    "              'Formula':['=NORMSDIST(B2)', \"=NORMSINV(B3)\"],\n",
    "              'Output': ['p', 'z'],\n",
    "              'Output Value': [0.758036, 1.644854]})"
   ]
  },
  {
   "cell_type": "markdown",
   "metadata": {},
   "source": [
    "__Python__\n",
    "\n",
    "```python\n",
    "from scipy import stats\n",
    "z = 0.70\n",
    "\n",
    "# i.e. This is my score what's my percentile?\n",
    "stats.norm.cdf(z)\n",
    "0.758036\n",
    "\n",
    "# i.e. what's the minimum score needed to meet 95 percentile?\n",
    "p = 0.95\n",
    "stats.norm.ppf(p)\n",
    "1.6448536\n",
    "```\n",
    "\n",
    "__Exercise__\n",
    "\n",
    "- A company is looking to hire a new database administrator\n",
    "- They give a standardized test to applicants to measure their technical knowledge\n",
    "- The first applicant, Amy, scores an 87\n",
    "- Based on her score is Amy exceptionally qualified?\n",
    "\n",
    "- To decide howe well an applicant scored, we need to understand the population.\n",
    "- Based on thousands of previous tests we know that the mean score is 75 out of 100, with a standard deviation of 7 points.\n",
    "\n",
    "1. First convert Amy's score to a standardized z-score using the formula?\n",
    "$$z = \\frac{x-\\mu}{\\sigma}$$\n",
    "\n",
    "$$z = \\frac{87-75}{7} = 1.7143$$\n",
    "\n",
    "```python\n",
    "# Review a z-table or use scipy stats\n",
    "stats.norm.cdf(1.71)\n",
    "0.95636\n",
    "```\n",
    "\n",
    "- This represents the area to the left of Amy's score\n",
    "- This means that Amy outscored 95.64% of others who took the same test"
   ]
  },
  {
   "cell_type": "code",
   "execution_count": null,
   "metadata": {},
   "outputs": [],
   "source": []
  }
 ],
 "metadata": {
  "hide_input": false,
  "kernelspec": {
   "display_name": "Python 3",
   "language": "python",
   "name": "python3"
  },
  "language_info": {
   "codemirror_mode": {
    "name": "ipython",
    "version": 3
   },
   "file_extension": ".py",
   "mimetype": "text/x-python",
   "name": "python",
   "nbconvert_exporter": "python",
   "pygments_lexer": "ipython3",
   "version": "3.6.8"
  },
  "toc": {
   "nav_menu": {},
   "number_sections": true,
   "sideBar": true,
   "skip_h1_title": false,
   "toc_cell": false,
   "toc_position": {
    "height": "814.716px",
    "left": "0px",
    "right": "1600.28px",
    "top": "110.284px",
    "width": "261.534px"
   },
   "toc_section_display": "block",
   "toc_window_display": true
  }
 },
 "nbformat": 4,
 "nbformat_minor": 2
}
